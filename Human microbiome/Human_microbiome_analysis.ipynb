{
 "cells": [
  {
   "cell_type": "markdown",
   "metadata": {},
   "source": [
    "## Libraries"
   ]
  },
  {
   "cell_type": "code",
   "execution_count": 3,
   "metadata": {},
   "outputs": [
    {
     "name": "stderr",
     "output_type": "stream",
     "text": [
      "/Users/villons/opt/anaconda3/envs/final_project_bio/lib/python3.6/site-packages/skbio/util/_testing.py:15: FutureWarning: pandas.util.testing is deprecated. Use the functions in the public API at pandas.testing instead.\n",
      "  import pandas.util.testing as pdt\n"
     ]
    }
   ],
   "source": [
    "import qiime2\n",
    "from tempfile import mkdtemp\n",
    "from qiime2.plugins import demux, deblur, quality_filter, \\\n",
    "                           metadata, feature_table, alignment, \\\n",
    "                           phylogeny, diversity, emperor, feature_classifier, \\\n",
    "                           taxa, composition\n",
    "import pandas as pd\n",
    "import os\n",
    "import numpy as np\n",
    "import random\n",
    "import logging\n",
    "from datetime import datetime\n",
    "from Bio import Entrez\n",
    "from pprint import pprint\n",
    "from sklearn.utils import shuffle\n",
    "import xml.etree.ElementTree as ET\n",
    "import os\n",
    "from tqdm.notebook import tqdm\n",
    "from Bio import SeqIO\n",
    "import ast"
   ]
  },
  {
   "cell_type": "markdown",
   "metadata": {},
   "source": [
    "#### Studies\n",
    "* exercise_frequency\n",
    "* flossing_frequency\n",
    "* vitamin_d_supplement_frequency\n",
    "* weight_change\n",
    "* fruit_frequency"
   ]
  },
  {
   "cell_type": "markdown",
   "metadata": {},
   "source": [
    "## Functions"
   ]
  },
  {
   "cell_type": "markdown",
   "metadata": {},
   "source": [
    "### Pipeline cleaning"
   ]
  },
  {
   "cell_type": "code",
   "execution_count": 4,
   "metadata": {},
   "outputs": [],
   "source": [
    "# Puliscel a working directory (result_extraction), elimina tutti i file e le cartelle fatta eccezione per il logfile\n",
    "# il quale viene solo svuotato\n",
    "def clean_workspace():\n",
    "    \n",
    "    # ci spostiamo nella working directory\n",
    "    starting_path = os.getcwd()\n",
    "    path = os.path.join(os.getcwd(), f'result_extraction')\n",
    "    os.chdir(path)\n",
    "    \n",
    "    # prendiamo tutti i file contenuti nella working directory e eliminiamo a meno che non sia il log file\n",
    "    files = os.listdir()\n",
    "    for file in files:\n",
    "        if file != 'sra_querying.log':\n",
    "            delete_command = f'rm -r {file}'\n",
    "            os.system(delete_command)\n",
    "            \n",
    "    # puliamo il log file\n",
    "    delete_old_log = 'cat > sra_querying.log'\n",
    "    os.system(delete_old_log)  \n",
    "    \n",
    "    # torniamo nella starting directory ./Human microbiome\n",
    "    os.chdir(starting_path)"
   ]
  },
  {
   "cell_type": "markdown",
   "metadata": {},
   "source": [
    "### NCBI utilities"
   ]
  },
  {
   "cell_type": "code",
   "execution_count": 5,
   "metadata": {},
   "outputs": [],
   "source": [
    "# Funzioni per semplificare l'interrogazioen di NCBI\n",
    "Entrez.email = \"giacomo.villa.mi@gmail.com\"\n",
    "\n",
    "def good_print(text):\n",
    "    print(pprint(text))\n",
    "\n",
    "def esearch(db, query, num_max = 20):\n",
    "    handle = Entrez.esearch(db = db, term = query, retmax = num_max)\n",
    "    record = Entrez.read(handle, validate = True)\n",
    "    return record\n",
    "\n",
    "def esummary(db, id_val):\n",
    "    handle = Entrez.esummary(db = db, id = id_val)\n",
    "    record = Entrez.read(handle, validate = True)\n",
    "    return record"
   ]
  },
  {
   "cell_type": "markdown",
   "metadata": {},
   "source": [
    "### Final Sample generation"
   ]
  },
  {
   "cell_type": "code",
   "execution_count": 6,
   "metadata": {},
   "outputs": [],
   "source": [
    "# Prende in input il dataset completo, data la query, \n",
    "def write_age_mean(total, typology, experiment):\n",
    "    \n",
    "    man = total.query('sex == \"male\"')\n",
    "    woman = total.query('sex == \"female\"')\n",
    "    \n",
    "    mean_age_total = round(np.mean(total['age_years']), 4)\n",
    "    mean_age_man = round(np.mean(man['age_years']), 4)\n",
    "    mean_age_woman = round(np.mean(woman['age_years']), 4)\n",
    "    not_valid_sex = total.query(\"sex != 'female' and sex != 'male'\")\n",
    "    \n",
    "    if typology != 'sample':\n",
    "        logging.info(f'--------------------{typology.upper()}--------------------')\n",
    "    logging.info(f'Total number of {typology} people: {len(total)}')\n",
    "    logging.info(f'Total number of {typology} man: {len(man)}')\n",
    "    logging.info(f'Total number of {typology} woman: {len(woman)}')\n",
    "    logging.info(f'Total number of non valid sex {len(not_valid_sex)}')\n",
    "    \n",
    "    logging.info(f'Mean Age for total: {mean_age_total}')\n",
    "    logging.info(f'Mean Age for man: {mean_age_man}')\n",
    "    logging.info(f'Mean Age for woman: {mean_age_woman}')\n",
    "    logging.info(f'\\n')\n",
    "    \n",
    "    print(f'--------------------{typology.upper()}--------------------')\n",
    "    print(f'Total number of {typology} people: {len(total)}')\n",
    "    print(f'Total number of {typology} man: {len(man)}')\n",
    "    print(f'Total number of {typology} woman: {len(woman)}')\n",
    "    print(f'Total number of non valid sex {len(not_valid_sex)}')\n",
    "    \n",
    "    print(f'Mean Age for total: {mean_age_total}')\n",
    "    print(f'Mean Age for man: {mean_age_man}')\n",
    "    print(f'Mean Age for woman: {mean_age_woman}')\n",
    "    \n",
    "    starting_path = os.getcwd()\n",
    "    path = os.path.join(os.getcwd(), f'result_extraction/')\n",
    "    os.chdir(path)\n",
    "    directories = os.listdir()\n",
    "    if f'{experiment}' not in directories:\n",
    "        os.mkdir(f'{experiment}')\n",
    "        \n",
    "    os.chdir(f'{experiment}')\n",
    "    if typology != 'sample':\n",
    "        total.to_csv(f\"./dataset_query_result_{typology}.csv\", index=False, encoding='utf-8')\n",
    "    \n",
    "    os.chdir(starting_path)\n",
    "\n",
    "# Prende in input il dataset da cui campionare e gli index degli element già presi, finché non campiona qualcosa di \n",
    "# nuovo non termina\n",
    "def generate_single_sample(already_taken, from_df):\n",
    "    element = random.randint(0, len(from_df) - 1)\n",
    "    while (element in already_taken):\n",
    "        element = random.randint(0, len(from_df) - 1)\n",
    "    return element\n",
    "\n",
    "# Dato il dataset di partenza contenente solo elementi effettivamente presenti su NCBI\n",
    "# genera un nuovo dataset composto da n_samples elementi\n",
    "def get_final_sample(started_dataset, n_samples):\n",
    "    taken = set()\n",
    "    final_sample = pd.DataFrame(columns=started_dataset.columns)\n",
    "    for i in tqdm(range(n_samples), desc='Sampling data'):\n",
    "        new_sample = generate_single_sample(taken, started_dataset)\n",
    "        taken.add(new_sample)\n",
    "        final_sample = final_sample.append(started_dataset.iloc[new_sample], ignore_index=True)\n",
    "    return final_sample\n",
    "\n",
    "def write_not_valid_ids(not_valid_names):\n",
    "    files = os.listdir(f'./result_extraction')\n",
    "    \n",
    "    if 'not_valid_sample_names.csv' in files:\n",
    "        all_not_valid_names = pd.read_csv(\"./result_extraction/not_valid_sample_names.csv\", header=0, dtype=str)\n",
    "        elements = [all_not_valid_names, not_valid_names]\n",
    "        final_not_valid = pd.concat(elements, ignore_index=False, sort=False)\n",
    "        final_not_valid.to_csv(f\"./result_extraction/not_valid_sample_names.csv\", index=False)\n",
    "    else:\n",
    "        not_valid_names.to_csv(f\"./result_extraction/not_valid_sample_names.csv\", index=False)\n",
    "    \n",
    "# Dato il dataset di partenza con tutti gli elementi che rispettano la query posta al gut, tiene in considraz\n",
    "def sampling_data(start_dataset, typology, n_samples, experiment):\n",
    "    write_age_mean(start_dataset, typology, experiment)\n",
    "    valid_id = list()\n",
    "    not_valid_id = list()\n",
    "    for try_id in tqdm(start_dataset['sample_name'], desc='NCBI ids validation'):\n",
    "        handleSce = esearch('biosample', try_id)\n",
    "        if len(handleSce['IdList']) != 0:\n",
    "            valid_id.append(try_id)\n",
    "        else:\n",
    "            not_valid_id.append(str(try_id))\n",
    "            print(try_id)\n",
    "            \n",
    "    print(f'Total rows: {len(start_dataset)}')\n",
    "    print(f'Valid rows: {len(valid_id)}')\n",
    "    \n",
    "    not_valid_names = pd.DataFrame(data={\"not_valid_sample_name\": not_valid_id, \"typology\": [typology]*len(not_valid_id)})\n",
    "    print(len(not_valid_names))\n",
    "    write_not_valid_ids(not_valid_names)\n",
    "    \n",
    "    logging.info(f'Total rows: {len(start_dataset)}')\n",
    "    logging.info(f'Valid rows: {len(valid_id)}')\n",
    "            \n",
    "    valid_start_dataset = pd.DataFrame(columns=start_dataset.columns)\n",
    "    index = 0\n",
    "    for _, row in start_dataset.iterrows():\n",
    "        if row['sample_name'] in valid_id:\n",
    "            valid_start_dataset.loc[index] = row\n",
    "            index += 1\n",
    "            \n",
    "    valid_start_dataset = shuffle(valid_start_dataset)\n",
    "    final_sample = get_final_sample(valid_start_dataset, n_samples)\n",
    "    write_sample_info(final_sample, typology, experiment)\n",
    "\n",
    "# Funzione richiamata sul sample finale, traduce in csv il campione finale creando un csv di due colonne: sample_name,\n",
    "# typology (e.g. healthy/not_healthy), richiama write_age_mean per scrivere sul log file l'età media dei soggetti\n",
    "def write_sample_info(sample, typology, experiment):\n",
    "    man = sample.query(\"sex == 'male'\")\n",
    "    woman = sample.query(\"sex == 'female'\")\n",
    "    write_age_mean(sample, 'sample', experiment)\n",
    "    \n",
    "    sample = sample[['sample_name']]\n",
    "    sample['typology'] = [typology]*len(sample)\n",
    "    \n",
    "    files = os.listdir(f'./result_extraction/{experiment}')\n",
    "    \n",
    "    if f'final_sample_{experiment}.csv' in files:\n",
    "        final_sample = pd.read_csv(f\"./result_extraction/{experiment}/final_sample_{experiment}.csv\", header=0, dtype=str)\n",
    "        final_sample = final_sample[['sample_name', 'typology']]\n",
    "        elements = [final_sample, sample]\n",
    "        final_sample = pd.concat(elements, ignore_index=False, sort=False)\n",
    "        final_sample.to_csv(f\"./result_extraction/{experiment}/final_sample_{experiment}.csv\", index=False)\n",
    "    else:\n",
    "        sample.to_csv(f\"./result_extraction/{experiment}/final_sample_{experiment}.csv\", index=False)\n",
    "        \n",
    "    close_dashes = '-'*len(typology.upper())\n",
    "    logging.info(f'--------------------{close_dashes}--------------------')"
   ]
  },
  {
   "cell_type": "markdown",
   "metadata": {},
   "source": [
    "### SRA operation"
   ]
  },
  {
   "cell_type": "code",
   "execution_count": 7,
   "metadata": {},
   "outputs": [],
   "source": [
    "# Funzione controller, prende in input il nome dell'esperimento (eg. healthy vs not_healthy) e le tipologie di campione\n",
    "# (e.g. healthy e not_healty), chiama la funzione che interroga SRA di NCBI, in seguito richiama la funzione per \n",
    "# concatenare i file fasta e infine la funzione per prendere le sequenze che ricorrono più spesso. Infine salva su un\n",
    "# file csv i fasta delle sequenze più popolose aggiungendo il campo che si rifà all'id di Biosample.\n",
    "# Il file csv delle frequenze più popole è l'input per blast\n",
    "def sra_querying(experiment, types):\n",
    "    \n",
    "    # Legge il csv contente i 30 campioni di una tipologia e i 30 campioni dell'altra tipologia dato l'esperimento\n",
    "    # (e.g. esperimento: healthy vs not_healthy estrare il csv che contiene i 30 sample_name degli healthy e i \n",
    "    # 30 sample_name dei not_healthy)\n",
    "    final_sample = pd.read_csv(f\"./result_extraction/{experiment}/final_sample_{experiment}.csv\", header=0, dtype=str)\n",
    "    \n",
    "    # crea una lista che conterrà, dati i record, il corrispettivo id di Biosample\n",
    "    bio_sample_id = list()\n",
    "    \n",
    "    sra_ids = list()\n",
    "    \n",
    "    # per ogni riga del csv dei 30 campioni di una tipologia e i 30 dell'altra tipologia dato l'esperimento\n",
    "    for index, row in final_sample.iterrows():\n",
    "        print(f'File number: {index+1}')\n",
    "        \n",
    "        # Gestione del problema sulla lettura di un sample_name con la concatenazione della stringa '001'\n",
    "        # in generale estrae l'input per la funzione che farà la query su SRA\n",
    "        record_id = str(row[0])[0:15]\n",
    "        record_typology = row[1]\n",
    "        \n",
    "        # data la singola interrogazione, aggiunge alla lista degli id di bio_sample l'id.\n",
    "        query_result = get_sequences(record_id, record_typology, experiment)\n",
    "        bio_sample_id.append(query_result[0])\n",
    "        sra_ids.append(query_result[1])\n",
    "        \n",
    "    # una volta scaricate tutti i file fasta data l'esperimento, per ogni tipologia (e.g healthy/not_healthy) \n",
    "    # crea un unico file con tutte le sequenze e poi prende, da questo file, solo quelle più popolose\n",
    "    for typology in types:\n",
    "        concatenate_fast_file(typology, 'fasta', experiment)\n",
    "        get_top_sequences(typology, experiment)\n",
    "        \n",
    "    # crea una nuova colonna dove, per ogni sample_name, vi sarà l'id di biosample associato e salva il nuovo csv\n",
    "    final_sample['bio_sample_id'] = bio_sample_id\n",
    "    final_sample['runId'] = sra_ids\n",
    "    final_sample.to_csv(f\"./result_extraction/{experiment}/final_sample_{experiment}.csv\", index=False)\n",
    "    \n",
    "# Funzione che interroga SRA, dato il sample_name. Richiede anche la tipologia del campione (e.g. healthy o not_healthy)\n",
    "# e il nome dell'esperimento (e.g. healthy_vs_not_healthy), per andare a salvare correttamente nelle cartelle facenti\n",
    "# riferimento all'esperimento\n",
    "def get_sequences(sample_name, typology, experiment):\n",
    "    \n",
    "    # in funzione della tipologia del campione (e.g. healthy o not_healthy) e dell'esperimento (e.g. healthy_vs_not_healthy)\n",
    "    # definisce il path corretto dove andare a salvare il risultato\n",
    "    path = f'\"./result_extraction/{experiment}/SRA_{typology}\" '\n",
    "    command1 = f'fastq-dump --fasta --readids --outdir {path}'\n",
    "    command2 = f'fastq-dump --readids --outdir {path}'\n",
    "        \n",
    "    # Query su SRA e print utili\n",
    "    print(f'Sample id: {sample_name}')\n",
    "    handleSce = esearch('biosample', sample_name)\n",
    "    biosampleId = handleSce['IdList'][0]\n",
    "    print(f'Biosample ID {biosampleId}')\n",
    "    print(f'Typology: {typology}')\n",
    "    handleSra = Entrez.efetch(db='biosample', id=biosampleId, retmode='xml')\n",
    "    root = ET.fromstring(handleSra.read())\n",
    "    identifier = root.findall('.//BioSample//Ids//Id')\n",
    "    for i in identifier:\n",
    "        if i.attrib['db'] == 'SRA':\n",
    "            sraId = i.text\n",
    "    handleSra = Entrez.esearch(db='sra', term=sraId)\n",
    "    resultsSra = Entrez.read(handleSra)['IdList']\n",
    "    run_ids = list()\n",
    "    for s in resultsSra:\n",
    "        handlesngSraId = Entrez.efetch(db='sra', id=s, retmode='xml')\n",
    "        root = ET.fromstring(handlesngSraId.read())\n",
    "        identifier = root.find('.//EXPERIMENT_PACKAGE//RUN_SET//RUN')\n",
    "        runId = identifier.attrib['accession']\n",
    "        os.system(f'{command1}{runId}')\n",
    "        os.system(f'{command2}{runId}') \n",
    "        print(f'Run ID: {runId}')\n",
    "        run_ids.append(runId)\n",
    "    print()\n",
    "    return [biosampleId, run_ids]\n",
    "        \n",
    "\n",
    "# Dato il risultato delle query su SRA, concatena i file fasta facenti riferimento a una certa tipologia di record\n",
    "# (e.g. healthy o not_healthy) dato un certo esperimento (e.g. healthy_vs_not_healthy)\n",
    "def concatenate_fast_file(typology, file_format, experiment):\n",
    "    \n",
    "    # Prende tutti i file data la tipologia del record (e.g. healthy o not_healthy) contenuti nella cartella dove,\n",
    "    # dato l'esperimento (e.g. healthy_vs_not_healthy), la query su SRA ha riposto i risultati\n",
    "    files = os.listdir(f'./result_extraction/{experiment}/SRA_{typology}')\n",
    "    \n",
    "    # concatenazione file fasta\n",
    "    compact_files = list()\n",
    "    for file in files:\n",
    "        if file_format in file:\n",
    "            f = open(f'./result_extraction/{experiment}/SRA_{typology}/{file}', \"r\")\n",
    "            compact_files.append(f.read())\n",
    "            f.close()\n",
    "    f = open(f'./result_extraction/{experiment}/SRA_{typology}/final_{file_format}_{typology}.{file_format}', 'w')\n",
    "    for file in compact_files:\n",
    "        f.write(file)\n",
    "    f.close()\n",
    "    \n",
    "    # Eliminazione dei \n",
    "    starting_path = os.getcwd()\n",
    "    path = os.path.join(os.getcwd(), f'result_extraction/{experiment}/SRA_{typology}')\n",
    "    os.chdir(path)\n",
    "    command = 'rm *[0-9].fasta'\n",
    "    #os.system(command) \n",
    "    os.chdir(starting_path)\n",
    "        \n",
    "def get_top_sequences(typology, experiment):\n",
    "    records = list(SeqIO.parse(f\"./result_extraction/{experiment}/SRA_{typology}/final_fasta_{typology}.fasta\", format=\"fasta\"))\n",
    "    print(f'Number of sequences for {typology}: {len(records)}')\n",
    "    logging.info(f'Number of sequences for {typology}: {len(records)}')\n",
    "    \n",
    "    sequences = dict()\n",
    "    for record in tqdm(records, desc='Compacting fasta'):\n",
    "        if record.seq in sequences:\n",
    "            sequences[record.seq][0] += 1\n",
    "        else:\n",
    "            sequences[record.seq] = [1, f'>{record.description}']\n",
    "    \n",
    "    print(f'Number of grouped sequences: {len(sequences)}')\n",
    "    logging.info(f'Number of grouped sequences: {len(sequences)}')\n",
    "    \n",
    "    sequences_ord = {k: v for k, v in sorted(sequences.items(), key=lambda item: item[1], reverse=True)}\n",
    "    \n",
    "    cont = 0\n",
    "    f = open(f'./result_extraction/{experiment}/SRA_{typology}/top_sequences_{typology}.fasta', 'w')\n",
    "    \n",
    "    for element in sequences_ord:\n",
    "        if sequences_ord[element][0] >= 100:\n",
    "            f.write(f'{sequences_ord[element][1]} number of reps {sequences_ord[element][0]}')\n",
    "            f.write('\\n')\n",
    "            f.write(str(element))\n",
    "            f.write('\\n')\n",
    "            cont += 1\n",
    "    f.close()\n",
    "    \n",
    "    print(f'Number of taken sequences: {cont}')\n",
    "    logging.info(f'Number of taken sequences: {cont}')\n",
    "    print()\n",
    "    logging.info('\\n')"
   ]
  },
  {
   "cell_type": "markdown",
   "metadata": {},
   "source": [
    "### Not placed function"
   ]
  },
  {
   "cell_type": "code",
   "execution_count": 13,
   "metadata": {},
   "outputs": [],
   "source": [
    "def get_sample_top_sequences_count(experiment, typology):\n",
    "    top_sequences = list(SeqIO.parse(f\"./result_extraction/{experiment}/SRA_{typology}/top_sequences_{typology}.fasta\", format=\"fasta\"))\n",
    "    \n",
    "    columns = ['sample_name']\n",
    "    for i in range(len(top_sequences)):\n",
    "        columns.append(f'seq {i+1}')\n",
    "    final_summary = pd.DataFrame(columns = columns)\n",
    "    \n",
    "    final_sample = pd.read_csv(f\"./result_extraction/{experiment}/final_sample_{experiment}.csv\", dtype=str)\n",
    "    target_sample = final_sample.query(f\"typology == '{typology}'\")\n",
    "\n",
    "    for index, row in target_sample.iterrows():\n",
    "\n",
    "        print(f'Sample number: {index+1}')\n",
    "        run_ids = ast.literal_eval(row['runId'])\n",
    "        typology = row['typology']\n",
    "        sample_name = row['sample_name']\n",
    "        compact_files = list()\n",
    "\n",
    "        for run_id in run_ids:\n",
    "            f = open(f'./result_extraction/{experiment}/SRA_{typology}/{run_id}.fasta', \"r\")\n",
    "            compact_files.append(f.read())\n",
    "            f.close()\n",
    "\n",
    "            f = open(f'./result_extraction/{experiment}/SRA_{typology}/tmp/{sample_name}.fasta', 'w')\n",
    "            for file in compact_files:\n",
    "                f.write(file)\n",
    "            f.close()\n",
    "\n",
    "        sample_sequences = list(SeqIO.parse(f\"./result_extraction/{experiment}/SRA_{typology}/tmp/{sample_name}.fasta\", format=\"fasta\"))\n",
    "\n",
    "        top_sequences_in_sample = dict()\n",
    "        for top_sequence in tqdm(top_sequences):\n",
    "            top_sequences_in_sample[top_sequence.description] = 0\n",
    "            for sample_sequence in sample_sequences:\n",
    "                if top_sequence.seq == sample_sequence.seq:\n",
    "                    top_sequences_in_sample[top_sequence.description] += 1\n",
    "        numbers = [sample_name]\n",
    "        for seq in top_sequences_in_sample:\n",
    "            numbers.append(top_sequences_in_sample[seq])\n",
    "        final_summary.loc[len(final_summary)] = numbers\n",
    "\n",
    "    index = 0\n",
    "    for column in final_summary.columns:\n",
    "        if column != 'sample_name':\n",
    "            sum_column = final_summary[column].sum()\n",
    "            real_value = int(top_sequences[index].description.split('number of reps')[1].strip())\n",
    "            if sum_column != real_value:\n",
    "                print(f'Problem to column: {column}')\n",
    "\n",
    "            index += 1    \n",
    "\n",
    "    final_summary.to_csv(f\"./result_extraction/{experiment}/{typology}_top_sequences_distribution.csv\", index=False)"
   ]
  },
  {
   "cell_type": "markdown",
   "metadata": {},
   "source": [
    "## Main"
   ]
  },
  {
   "cell_type": "code",
   "execution_count": null,
   "metadata": {},
   "outputs": [],
   "source": [
    "# Carica il dataset gut\n",
    "df = pd.read_csv(\"./data/american_gut.txt\", delimiter=\"\\t\", dtype=str)\n",
    "\n",
    "# Sostituisce con NAN valori non validi\n",
    "df.replace(' ', np.nan, inplace=True)\n",
    "df.replace('Not provided', np.nan, inplace=True)\n",
    "df.replace('Unspecified', np.nan, inplace=True)\n",
    "\n",
    "# Elimina dalla working directory tutti i risultati dello scorso esperimento, ripulisce il logfile\n",
    "clean_workspace()"
   ]
  },
  {
   "cell_type": "code",
   "execution_count": null,
   "metadata": {},
   "outputs": [],
   "source": [
    "# Inizializza il log file\n",
    "logging.basicConfig(filename='./result_extraction/sra_querying.log', level=logging.INFO, format='%(message)s')\n",
    "today = datetime.now().strftime(\"%d/%m/%Y %H:%M:%S\")\n",
    "logging.info(f'RUN TIME: {today}')"
   ]
  },
  {
   "cell_type": "markdown",
   "metadata": {},
   "source": [
    "## All columns"
   ]
  },
  {
   "cell_type": "code",
   "execution_count": null,
   "metadata": {},
   "outputs": [],
   "source": [
    "for column in df.columns:\n",
    "    print(column, end = ', ')"
   ]
  },
  {
   "cell_type": "markdown",
   "metadata": {},
   "source": [
    "## Healthy vs not healthy study\n",
    "### Healthy extraction"
   ]
  },
  {
   "cell_type": "code",
   "execution_count": null,
   "metadata": {},
   "outputs": [],
   "source": [
    "# Estraiamo dal dataset i dati di interesse\n",
    "healthy = df.query(\"smoking_frequency == 'Never' and alcohol_frequency == 'Never'\")\n",
    "\n",
    "healthy = healthy.query(\"cancer == 'I do not have this condition'\")\n",
    "\n",
    "healthy['bmi'] = healthy['bmi'].apply(lambda x: float(x))\n",
    "healthy = healthy.query(\"bmi >= 18.5 and bmi <= 24.99\")\n",
    "\n",
    "healthy['age_years'] = healthy['age_years'].apply(lambda x: float(x))\n",
    "healthy = healthy.query(\"age_years >= 20 and age_years <= 50\")\n",
    "\n",
    "healthy = healthy.query(\"body_site == 'UBERON:feces'\")"
   ]
  },
  {
   "cell_type": "code",
   "execution_count": null,
   "metadata": {
    "scrolled": true
   },
   "outputs": [],
   "source": [
    "sampling_data(healthy, 'healthy', 30, 'healthy_vs_not_healthy')"
   ]
  },
  {
   "cell_type": "markdown",
   "metadata": {},
   "source": [
    "### Not healthy extraction"
   ]
  },
  {
   "cell_type": "code",
   "execution_count": null,
   "metadata": {},
   "outputs": [],
   "source": [
    "not_healthy = df.query(\"smoking_frequency == 'Occasionally (1-2 times/week)' or smoking_frequency == 'Daily' or smoking_frequency == 'Regularly (3-5 times/week)'\")\n",
    "not_healthy = not_healthy.query(\"alcohol_frequency == 'Occasionally (1-2 times/week)' or alcohol_frequency == 'Daily' or alcohol_frequency == 'Regularly (3-5 times/week)'\")\n",
    "\n",
    "not_healthy = not_healthy.query(\"cancer == 'I do not have this condition'\")\n",
    "\n",
    "not_healthy['bmi'] = not_healthy['bmi'].apply(lambda x: float(x))\n",
    "not_healthy = not_healthy.query(\"bmi < 18.5 or bmi > 24.99\")\n",
    "\n",
    "not_healthy['age_years'] = not_healthy['age_years'].apply(lambda x: float(x))\n",
    "not_healthy = not_healthy.query(\"age_years >= 20 and age_years <= 50\")\n",
    "\n",
    "not_healthy = not_healthy.query(\"body_site == 'UBERON:feces'\")"
   ]
  },
  {
   "cell_type": "code",
   "execution_count": null,
   "metadata": {},
   "outputs": [],
   "source": [
    "sampling_data(not_healthy, 'not_healthy', 30, 'healthy_vs_not_healthy')"
   ]
  },
  {
   "cell_type": "markdown",
   "metadata": {},
   "source": [
    "## Mental illness vs food disorders\n",
    "### Mental illness"
   ]
  },
  {
   "cell_type": "code",
   "execution_count": null,
   "metadata": {},
   "outputs": [],
   "source": [
    "mental_illness = df.query(\"country_residence == 'United States'\")\n",
    "\n",
    "mental_illness = mental_illness.query(\"body_site == 'UBERON:feces'\")\n",
    "\n",
    "mental_illness = mental_illness.query(\"mental_illness == 'true' or mental_illness == 'Yes'\")\n",
    "\n",
    "mental_illness['age_years'] = mental_illness['age_years'].apply(lambda x: float(x))"
   ]
  },
  {
   "cell_type": "code",
   "execution_count": null,
   "metadata": {},
   "outputs": [],
   "source": [
    "sampling_data(mental_illness, 'mental_illness', 30, 'mental_ill_vs_food_dis')"
   ]
  },
  {
   "cell_type": "markdown",
   "metadata": {},
   "source": [
    "### Food disorders"
   ]
  },
  {
   "cell_type": "code",
   "execution_count": null,
   "metadata": {},
   "outputs": [],
   "source": [
    "food_disorders = df.query(\"country_residence == 'United States'\")\n",
    "\n",
    "food_disorders = food_disorders.query(\"body_site == 'UBERON:feces'\")\n",
    "\n",
    "food_disorders = food_disorders.query(\"mental_illness == 'false' or mental_illness == 'No'\")\n",
    "\n",
    "food_disorders['bmi'] =  food_disorders['bmi'].apply(lambda x : float(x))\n",
    "food_disorders = food_disorders.query(\"bmi < 18.5 or bmi > 24.99\")\n",
    "\n",
    "food_disorders = food_disorders.query(\"(fruit_frequency == 'Never' or fruit_frequency == 'Rarely (less than once/week)')\")\n",
    "\n",
    "food_disorders = food_disorders.query(\"exercise_frequency=='Rarely (a few times/month)' or exercise_frequency=='Never'\")\n",
    "\n",
    "food_disorders['age_years'] = food_disorders['age_years'].apply(lambda x: float(x))"
   ]
  },
  {
   "cell_type": "code",
   "execution_count": null,
   "metadata": {},
   "outputs": [],
   "source": [
    "sampling_data(food_disorders, 'food_disorders', 30, 'mental_ill_vs_food_dis')"
   ]
  },
  {
   "cell_type": "markdown",
   "metadata": {},
   "source": [
    "## NCBI Quering"
   ]
  },
  {
   "cell_type": "code",
   "execution_count": null,
   "metadata": {
    "scrolled": true
   },
   "outputs": [],
   "source": [
    "sra_querying('mental_ill_vs_food_dis', ['mental_illness', 'food_disorders'])\n",
    "\n",
    "# 10317.000067678,mental_illness,7497069,['ERR2092251']\n",
    "# 10317.000040411,mental_illness,4565263,\"['ERR1389919', 'ERR1316175']\"\n",
    "# 10317.000050338,food_disorders,14618671,['ERR4019182']"
   ]
  },
  {
   "cell_type": "code",
   "execution_count": null,
   "metadata": {
    "scrolled": true
   },
   "outputs": [],
   "source": [
    "sra_querying('healthy_vs_not_healthy', ['healthy', 'not_healthy'])"
   ]
  },
  {
   "cell_type": "code",
   "execution_count": 7,
   "metadata": {
    "scrolled": true
   },
   "outputs": [
    {
     "name": "stdout",
     "output_type": "stream",
     "text": [
      "Sample number: 1\n",
      "Sample name: 10317.000093022\n",
      "Run id: ERR2696639\n"
     ]
    },
    {
     "data": {
      "application/vnd.jupyter.widget-view+json": {
       "model_id": "895ae65848b0473a9911e5607e7f60e8",
       "version_major": 2,
       "version_minor": 0
      },
      "text/plain": [
       "HBox(children=(FloatProgress(value=0.0, max=547.0), HTML(value='')))"
      ]
     },
     "metadata": {},
     "output_type": "display_data"
    },
    {
     "name": "stdout",
     "output_type": "stream",
     "text": [
      "\n",
      "Sample number: 2\n",
      "Sample name: 10317.000058340\n",
      "Run id: ERR1846087\n"
     ]
    },
    {
     "data": {
      "application/vnd.jupyter.widget-view+json": {
       "model_id": "02ad496519684a708f509f49d40225e3",
       "version_major": 2,
       "version_minor": 0
      },
      "text/plain": [
       "HBox(children=(FloatProgress(value=0.0, max=547.0), HTML(value='')))"
      ]
     },
     "metadata": {},
     "output_type": "display_data"
    },
    {
     "name": "stdout",
     "output_type": "stream",
     "text": [
      "\n",
      "Sample number: 3\n",
      "Sample name: 10317.000107254\n",
      "Run id: ERR4019307\n"
     ]
    },
    {
     "data": {
      "application/vnd.jupyter.widget-view+json": {
       "model_id": "933b397598c24c4498a61a9cd4d2f0c4",
       "version_major": 2,
       "version_minor": 0
      },
      "text/plain": [
       "HBox(children=(FloatProgress(value=0.0, max=547.0), HTML(value='')))"
      ]
     },
     "metadata": {},
     "output_type": "display_data"
    },
    {
     "name": "stdout",
     "output_type": "stream",
     "text": [
      "\n",
      "Sample number: 4\n",
      "Sample name: 10317.000032796\n",
      "Run id: ERR2239612\n",
      "Run id: ERR1417466\n"
     ]
    },
    {
     "data": {
      "application/vnd.jupyter.widget-view+json": {
       "model_id": "422ac4c1455645d7b7e9c4cd6bfe7bbf",
       "version_major": 2,
       "version_minor": 0
      },
      "text/plain": [
       "HBox(children=(FloatProgress(value=0.0, max=547.0), HTML(value='')))"
      ]
     },
     "metadata": {},
     "output_type": "display_data"
    },
    {
     "name": "stdout",
     "output_type": "stream",
     "text": [
      "\n",
      "Sample number: 5\n",
      "Sample name: 10317.000046476\n",
      "Run id: ERR2032691\n"
     ]
    },
    {
     "data": {
      "application/vnd.jupyter.widget-view+json": {
       "model_id": "9a17c3759b674b6c9d29b6e7470e2dd7",
       "version_major": 2,
       "version_minor": 0
      },
      "text/plain": [
       "HBox(children=(FloatProgress(value=0.0, max=547.0), HTML(value='')))"
      ]
     },
     "metadata": {},
     "output_type": "display_data"
    },
    {
     "name": "stdout",
     "output_type": "stream",
     "text": [
      "\n",
      "Sample number: 6\n",
      "Sample name: 10317.000079781\n",
      "Run id: ERR2304091\n"
     ]
    },
    {
     "data": {
      "application/vnd.jupyter.widget-view+json": {
       "model_id": "ad22a5eb7add4db1863a67ceab83b77c",
       "version_major": 2,
       "version_minor": 0
      },
      "text/plain": [
       "HBox(children=(FloatProgress(value=0.0, max=547.0), HTML(value='')))"
      ]
     },
     "metadata": {},
     "output_type": "display_data"
    },
    {
     "name": "stdout",
     "output_type": "stream",
     "text": [
      "\n",
      "Sample number: 7\n",
      "Sample name: 10317.000040396\n",
      "Run id: ERR1841615\n",
      "Run id: ERR1843602\n"
     ]
    },
    {
     "data": {
      "application/vnd.jupyter.widget-view+json": {
       "model_id": "6a9a046694584f1cb82f337683b6a644",
       "version_major": 2,
       "version_minor": 0
      },
      "text/plain": [
       "HBox(children=(FloatProgress(value=0.0, max=547.0), HTML(value='')))"
      ]
     },
     "metadata": {},
     "output_type": "display_data"
    },
    {
     "name": "stdout",
     "output_type": "stream",
     "text": [
      "\n",
      "Sample number: 8\n",
      "Sample name: 10317.000069615\n",
      "Run id: ERR2319529\n"
     ]
    },
    {
     "data": {
      "application/vnd.jupyter.widget-view+json": {
       "model_id": "4b7096090a4d41b29116bac3fe17d1d0",
       "version_major": 2,
       "version_minor": 0
      },
      "text/plain": [
       "HBox(children=(FloatProgress(value=0.0, max=547.0), HTML(value='')))"
      ]
     },
     "metadata": {},
     "output_type": "display_data"
    },
    {
     "name": "stdout",
     "output_type": "stream",
     "text": [
      "\n",
      "Sample number: 9\n",
      "Sample name: 10317.000050243\n",
      "Run id: ERR1841757\n",
      "Run id: ERR1843760\n"
     ]
    },
    {
     "data": {
      "application/vnd.jupyter.widget-view+json": {
       "model_id": "1bf8b445c664487ab610855dee032b91",
       "version_major": 2,
       "version_minor": 0
      },
      "text/plain": [
       "HBox(children=(FloatProgress(value=0.0, max=547.0), HTML(value='')))"
      ]
     },
     "metadata": {},
     "output_type": "display_data"
    },
    {
     "name": "stdout",
     "output_type": "stream",
     "text": [
      "\n",
      "Sample number: 10\n",
      "Sample name: 10317.000092617\n",
      "Run id: ERR2696987\n"
     ]
    },
    {
     "data": {
      "application/vnd.jupyter.widget-view+json": {
       "model_id": "61d086fa41234192bc2f31daeeb0beb5",
       "version_major": 2,
       "version_minor": 0
      },
      "text/plain": [
       "HBox(children=(FloatProgress(value=0.0, max=547.0), HTML(value='')))"
      ]
     },
     "metadata": {},
     "output_type": "display_data"
    },
    {
     "name": "stdout",
     "output_type": "stream",
     "text": [
      "\n",
      "Sample number: 11\n",
      "Sample name: 10317.000043083\n",
      "Run id: ERR1389989\n"
     ]
    },
    {
     "data": {
      "application/vnd.jupyter.widget-view+json": {
       "model_id": "2a7661d28b584348a6393c1260947966",
       "version_major": 2,
       "version_minor": 0
      },
      "text/plain": [
       "HBox(children=(FloatProgress(value=0.0, max=547.0), HTML(value='')))"
      ]
     },
     "metadata": {},
     "output_type": "display_data"
    },
    {
     "name": "stdout",
     "output_type": "stream",
     "text": [
      "\n",
      "Sample number: 12\n",
      "Sample name: 10317.000058882\n",
      "Run id: ERR2318042\n"
     ]
    },
    {
     "data": {
      "application/vnd.jupyter.widget-view+json": {
       "model_id": "76e9b1e2ea1040bcb47234187ee3f79d",
       "version_major": 2,
       "version_minor": 0
      },
      "text/plain": [
       "HBox(children=(FloatProgress(value=0.0, max=547.0), HTML(value='')))"
      ]
     },
     "metadata": {},
     "output_type": "display_data"
    },
    {
     "name": "stdout",
     "output_type": "stream",
     "text": [
      "\n",
      "Sample number: 13\n",
      "Sample name: 10317.000039907\n",
      "Run id: ERR1316071\n"
     ]
    },
    {
     "data": {
      "application/vnd.jupyter.widget-view+json": {
       "model_id": "1fc8d4240a4c48df80b70c19f8d59649",
       "version_major": 2,
       "version_minor": 0
      },
      "text/plain": [
       "HBox(children=(FloatProgress(value=0.0, max=547.0), HTML(value='')))"
      ]
     },
     "metadata": {},
     "output_type": "display_data"
    },
    {
     "name": "stdout",
     "output_type": "stream",
     "text": [
      "\n",
      "Sample number: 14\n",
      "Sample name: 10317.000029546\n",
      "Run id: ERR1417421\n"
     ]
    },
    {
     "data": {
      "application/vnd.jupyter.widget-view+json": {
       "model_id": "43d78a258e3148308efb737614c5afc0",
       "version_major": 2,
       "version_minor": 0
      },
      "text/plain": [
       "HBox(children=(FloatProgress(value=0.0, max=547.0), HTML(value='')))"
      ]
     },
     "metadata": {},
     "output_type": "display_data"
    },
    {
     "name": "stdout",
     "output_type": "stream",
     "text": [
      "\n",
      "Sample number: 15\n",
      "Sample name: 10317.000068197\n",
      "Run id: ERR2319486\n"
     ]
    },
    {
     "data": {
      "application/vnd.jupyter.widget-view+json": {
       "model_id": "651dc2e489764c5d92cf64a6b20141c8",
       "version_major": 2,
       "version_minor": 0
      },
      "text/plain": [
       "HBox(children=(FloatProgress(value=0.0, max=547.0), HTML(value='')))"
      ]
     },
     "metadata": {},
     "output_type": "display_data"
    },
    {
     "name": "stdout",
     "output_type": "stream",
     "text": [
      "\n",
      "Sample number: 16\n",
      "Sample name: 10317.000072168\n",
      "Run id: ERR2579904\n"
     ]
    },
    {
     "data": {
      "application/vnd.jupyter.widget-view+json": {
       "model_id": "925c86f9e24d4cf78dd6cd36871867a9",
       "version_major": 2,
       "version_minor": 0
      },
      "text/plain": [
       "HBox(children=(FloatProgress(value=0.0, max=547.0), HTML(value='')))"
      ]
     },
     "metadata": {},
     "output_type": "display_data"
    },
    {
     "name": "stdout",
     "output_type": "stream",
     "text": [
      "\n",
      "Sample number: 17\n",
      "Sample name: 10317.000072038\n",
      "Run id: ERR2523900\n"
     ]
    },
    {
     "data": {
      "application/vnd.jupyter.widget-view+json": {
       "model_id": "00c811f8ecd2490a9c88b23189384a14",
       "version_major": 2,
       "version_minor": 0
      },
      "text/plain": [
       "HBox(children=(FloatProgress(value=0.0, max=547.0), HTML(value='')))"
      ]
     },
     "metadata": {},
     "output_type": "display_data"
    },
    {
     "name": "stdout",
     "output_type": "stream",
     "text": [
      "\n",
      "Sample number: 18\n",
      "Sample name: 10317.000065690\n",
      "Run id: ERR2032849\n"
     ]
    },
    {
     "data": {
      "application/vnd.jupyter.widget-view+json": {
       "model_id": "686eb3acef4f4abc9454af159d2a36d1",
       "version_major": 2,
       "version_minor": 0
      },
      "text/plain": [
       "HBox(children=(FloatProgress(value=0.0, max=547.0), HTML(value='')))"
      ]
     },
     "metadata": {},
     "output_type": "display_data"
    },
    {
     "name": "stdout",
     "output_type": "stream",
     "text": [
      "\n",
      "Sample number: 19\n",
      "Sample name: 10317.000067863\n",
      "Run id: ERR2032373\n"
     ]
    },
    {
     "data": {
      "application/vnd.jupyter.widget-view+json": {
       "model_id": "ec7f3d3a044f455f84222a46f2867430",
       "version_major": 2,
       "version_minor": 0
      },
      "text/plain": [
       "HBox(children=(FloatProgress(value=0.0, max=547.0), HTML(value='')))"
      ]
     },
     "metadata": {},
     "output_type": "display_data"
    },
    {
     "name": "stdout",
     "output_type": "stream",
     "text": [
      "\n",
      "Sample number: 20\n",
      "Sample name: 10317.000046475\n",
      "Run id: ERR2032690\n"
     ]
    },
    {
     "data": {
      "application/vnd.jupyter.widget-view+json": {
       "model_id": "0355be07a14a4c14bd9e8d417c3a53db",
       "version_major": 2,
       "version_minor": 0
      },
      "text/plain": [
       "HBox(children=(FloatProgress(value=0.0, max=547.0), HTML(value='')))"
      ]
     },
     "metadata": {},
     "output_type": "display_data"
    },
    {
     "name": "stdout",
     "output_type": "stream",
     "text": [
      "\n",
      "Sample number: 21\n",
      "Sample name: 10317.000058379\n",
      "Run id: ERR1846096\n"
     ]
    },
    {
     "data": {
      "application/vnd.jupyter.widget-view+json": {
       "model_id": "82b1614e2dbf4a8599d64adc52dab93c",
       "version_major": 2,
       "version_minor": 0
      },
      "text/plain": [
       "HBox(children=(FloatProgress(value=0.0, max=547.0), HTML(value='')))"
      ]
     },
     "metadata": {},
     "output_type": "display_data"
    },
    {
     "name": "stdout",
     "output_type": "stream",
     "text": [
      "\n",
      "Sample number: 22\n",
      "Sample name: 10317.000068199\n",
      "Run id: ERR2033474\n"
     ]
    },
    {
     "data": {
      "application/vnd.jupyter.widget-view+json": {
       "model_id": "c29b68c2e4054ab7bb8414b57b8c3497",
       "version_major": 2,
       "version_minor": 0
      },
      "text/plain": [
       "HBox(children=(FloatProgress(value=0.0, max=547.0), HTML(value='')))"
      ]
     },
     "metadata": {},
     "output_type": "display_data"
    },
    {
     "name": "stdout",
     "output_type": "stream",
     "text": [
      "\n",
      "Sample number: 23\n",
      "Sample name: 10317.000087274\n",
      "Run id: ERR2579440\n"
     ]
    },
    {
     "data": {
      "application/vnd.jupyter.widget-view+json": {
       "model_id": "58e88d1026744d2faafe95c0fd54a5d6",
       "version_major": 2,
       "version_minor": 0
      },
      "text/plain": [
       "HBox(children=(FloatProgress(value=0.0, max=547.0), HTML(value='')))"
      ]
     },
     "metadata": {},
     "output_type": "display_data"
    },
    {
     "name": "stdout",
     "output_type": "stream",
     "text": [
      "\n",
      "Sample number: 24\n",
      "Sample name: 10317.000074433\n",
      "Run id: ERR2580084\n"
     ]
    },
    {
     "data": {
      "application/vnd.jupyter.widget-view+json": {
       "model_id": "683c7cb3307f42b3888ba3a924c8d3d3",
       "version_major": 2,
       "version_minor": 0
      },
      "text/plain": [
       "HBox(children=(FloatProgress(value=0.0, max=547.0), HTML(value='')))"
      ]
     },
     "metadata": {},
     "output_type": "display_data"
    },
    {
     "name": "stdout",
     "output_type": "stream",
     "text": [
      "\n",
      "Sample number: 25\n",
      "Sample name: 10317.000041681\n",
      "Run id: ERR1458999\n"
     ]
    },
    {
     "data": {
      "application/vnd.jupyter.widget-view+json": {
       "model_id": "8e4fd50e2bc9444bb73dc3dfea8c87d2",
       "version_major": 2,
       "version_minor": 0
      },
      "text/plain": [
       "HBox(children=(FloatProgress(value=0.0, max=547.0), HTML(value='')))"
      ]
     },
     "metadata": {},
     "output_type": "display_data"
    },
    {
     "name": "stdout",
     "output_type": "stream",
     "text": [
      "\n",
      "Sample number: 26\n",
      "Sample name: 10317.000097633\n",
      "Run id: ERR2697896\n"
     ]
    },
    {
     "data": {
      "application/vnd.jupyter.widget-view+json": {
       "model_id": "6adaabd1fe1c4e898746558735ce425b",
       "version_major": 2,
       "version_minor": 0
      },
      "text/plain": [
       "HBox(children=(FloatProgress(value=0.0, max=547.0), HTML(value='')))"
      ]
     },
     "metadata": {},
     "output_type": "display_data"
    },
    {
     "name": "stdout",
     "output_type": "stream",
     "text": [
      "\n",
      "Sample number: 27\n",
      "Sample name: 10317.000100377\n",
      "Run id: ERR2696765\n"
     ]
    },
    {
     "data": {
      "application/vnd.jupyter.widget-view+json": {
       "model_id": "74156d69bf454483b5ee816dc2bb73d4",
       "version_major": 2,
       "version_minor": 0
      },
      "text/plain": [
       "HBox(children=(FloatProgress(value=0.0, max=547.0), HTML(value='')))"
      ]
     },
     "metadata": {},
     "output_type": "display_data"
    },
    {
     "name": "stdout",
     "output_type": "stream",
     "text": [
      "\n",
      "Sample number: 28\n",
      "Sample name: 10317.000097102\n",
      "Run id: ERR2697076\n"
     ]
    },
    {
     "data": {
      "application/vnd.jupyter.widget-view+json": {
       "model_id": "e7b63cb6fc294059a8c6bf58abd64db8",
       "version_major": 2,
       "version_minor": 0
      },
      "text/plain": [
       "HBox(children=(FloatProgress(value=0.0, max=547.0), HTML(value='')))"
      ]
     },
     "metadata": {},
     "output_type": "display_data"
    },
    {
     "name": "stdout",
     "output_type": "stream",
     "text": [
      "\n",
      "Sample number: 29\n",
      "Sample name: 10317.000065672\n",
      "Run id: ERR2032836\n"
     ]
    },
    {
     "data": {
      "application/vnd.jupyter.widget-view+json": {
       "model_id": "0c310bea902248149a9d152d4e4a9dbf",
       "version_major": 2,
       "version_minor": 0
      },
      "text/plain": [
       "HBox(children=(FloatProgress(value=0.0, max=547.0), HTML(value='')))"
      ]
     },
     "metadata": {},
     "output_type": "display_data"
    },
    {
     "name": "stdout",
     "output_type": "stream",
     "text": [
      "\n",
      "Sample number: 30\n",
      "Sample name: 10317.000058955\n",
      "Run id: ERR1854738\n"
     ]
    },
    {
     "data": {
      "application/vnd.jupyter.widget-view+json": {
       "model_id": "accf1c7e10424fdcb906bacf6fe8840b",
       "version_major": 2,
       "version_minor": 0
      },
      "text/plain": [
       "HBox(children=(FloatProgress(value=0.0, max=547.0), HTML(value='')))"
      ]
     },
     "metadata": {},
     "output_type": "display_data"
    },
    {
     "name": "stdout",
     "output_type": "stream",
     "text": [
      "\n"
     ]
    }
   ],
   "source": [
    "get_sample_top_sequences_count('healthy_vs_not_healthy', 'healthy')"
   ]
  },
  {
   "cell_type": "code",
   "execution_count": 8,
   "metadata": {
    "scrolled": true
   },
   "outputs": [
    {
     "name": "stdout",
     "output_type": "stream",
     "text": [
      "Sample number: 31\n",
      "Sample name: 10317.000054208\n",
      "Run id: ERR1842587\n"
     ]
    },
    {
     "data": {
      "application/vnd.jupyter.widget-view+json": {
       "model_id": "5d9d11b32cba4498a7e8ec262d8eb8ae",
       "version_major": 2,
       "version_minor": 0
      },
      "text/plain": [
       "HBox(children=(FloatProgress(value=0.0, max=464.0), HTML(value='')))"
      ]
     },
     "metadata": {},
     "output_type": "display_data"
    },
    {
     "name": "stdout",
     "output_type": "stream",
     "text": [
      "\n",
      "Sample number: 32\n",
      "Sample name: 10317.000070659\n",
      "Run id: ERR2318188\n"
     ]
    },
    {
     "data": {
      "application/vnd.jupyter.widget-view+json": {
       "model_id": "ef1e3e0e513248c48986b4126c311d4a",
       "version_major": 2,
       "version_minor": 0
      },
      "text/plain": [
       "HBox(children=(FloatProgress(value=0.0, max=464.0), HTML(value='')))"
      ]
     },
     "metadata": {},
     "output_type": "display_data"
    },
    {
     "name": "stdout",
     "output_type": "stream",
     "text": [
      "\n",
      "Sample number: 33\n",
      "Sample name: 10317.000050274\n",
      "Run id: ERR1842802\n"
     ]
    },
    {
     "data": {
      "application/vnd.jupyter.widget-view+json": {
       "model_id": "a04c9ea335754137b13daeb8649b7dc0",
       "version_major": 2,
       "version_minor": 0
      },
      "text/plain": [
       "HBox(children=(FloatProgress(value=0.0, max=464.0), HTML(value='')))"
      ]
     },
     "metadata": {},
     "output_type": "display_data"
    },
    {
     "name": "stdout",
     "output_type": "stream",
     "text": [
      "\n",
      "Sample number: 34\n",
      "Sample name: 10317.000042630\n",
      "Run id: ERR1597056\n"
     ]
    },
    {
     "data": {
      "application/vnd.jupyter.widget-view+json": {
       "model_id": "f1beec311ab14c64b4d4be396451231c",
       "version_major": 2,
       "version_minor": 0
      },
      "text/plain": [
       "HBox(children=(FloatProgress(value=0.0, max=464.0), HTML(value='')))"
      ]
     },
     "metadata": {},
     "output_type": "display_data"
    },
    {
     "name": "stdout",
     "output_type": "stream",
     "text": [
      "\n",
      "Sample number: 35\n",
      "Sample name: 10317.000093103\n",
      "Run id: ERR2696999\n"
     ]
    },
    {
     "data": {
      "application/vnd.jupyter.widget-view+json": {
       "model_id": "580425ea90bd49d1b25493647c0549bf",
       "version_major": 2,
       "version_minor": 0
      },
      "text/plain": [
       "HBox(children=(FloatProgress(value=0.0, max=464.0), HTML(value='')))"
      ]
     },
     "metadata": {},
     "output_type": "display_data"
    },
    {
     "name": "stdout",
     "output_type": "stream",
     "text": [
      "\n",
      "Sample number: 36\n",
      "Sample name: 10317.000059040\n",
      "Run id: ERR1842899\n"
     ]
    },
    {
     "data": {
      "application/vnd.jupyter.widget-view+json": {
       "model_id": "a241177efe984816b5b12fbf2811410f",
       "version_major": 2,
       "version_minor": 0
      },
      "text/plain": [
       "HBox(children=(FloatProgress(value=0.0, max=464.0), HTML(value='')))"
      ]
     },
     "metadata": {},
     "output_type": "display_data"
    },
    {
     "name": "stdout",
     "output_type": "stream",
     "text": [
      "\n",
      "Sample number: 37\n",
      "Sample name: 10317.000068175\n",
      "Run id: ERR2033470\n"
     ]
    },
    {
     "data": {
      "application/vnd.jupyter.widget-view+json": {
       "model_id": "42b6329aa35c438c8ff6f5e43b02ad02",
       "version_major": 2,
       "version_minor": 0
      },
      "text/plain": [
       "HBox(children=(FloatProgress(value=0.0, max=464.0), HTML(value='')))"
      ]
     },
     "metadata": {},
     "output_type": "display_data"
    },
    {
     "name": "stdout",
     "output_type": "stream",
     "text": [
      "\n",
      "Sample number: 38\n",
      "Sample name: 10317.000047222\n",
      "Run id: ERR1842761\n"
     ]
    },
    {
     "data": {
      "application/vnd.jupyter.widget-view+json": {
       "model_id": "59c8807db39847fe95aa92df8ca9388c",
       "version_major": 2,
       "version_minor": 0
      },
      "text/plain": [
       "HBox(children=(FloatProgress(value=0.0, max=464.0), HTML(value='')))"
      ]
     },
     "metadata": {},
     "output_type": "display_data"
    },
    {
     "name": "stdout",
     "output_type": "stream",
     "text": [
      "\n",
      "Sample number: 39\n",
      "Sample name: 10317.000093400\n",
      "Run id: ERR2579553\n"
     ]
    },
    {
     "data": {
      "application/vnd.jupyter.widget-view+json": {
       "model_id": "6c0a84ab35674f359edc434f52a73190",
       "version_major": 2,
       "version_minor": 0
      },
      "text/plain": [
       "HBox(children=(FloatProgress(value=0.0, max=464.0), HTML(value='')))"
      ]
     },
     "metadata": {},
     "output_type": "display_data"
    },
    {
     "name": "stdout",
     "output_type": "stream",
     "text": [
      "\n",
      "Sample number: 40\n",
      "Sample name: 10317.000075909\n",
      "Run id: ERR2523933\n"
     ]
    },
    {
     "data": {
      "application/vnd.jupyter.widget-view+json": {
       "model_id": "bca1679845aa4c8d95c080d0551c7735",
       "version_major": 2,
       "version_minor": 0
      },
      "text/plain": [
       "HBox(children=(FloatProgress(value=0.0, max=464.0), HTML(value='')))"
      ]
     },
     "metadata": {},
     "output_type": "display_data"
    },
    {
     "name": "stdout",
     "output_type": "stream",
     "text": [
      "\n",
      "Sample number: 41\n",
      "Sample name: 10317.000037933\n",
      "Run id: ERR1842199\n",
      "Run id: ERR2056801\n"
     ]
    },
    {
     "data": {
      "application/vnd.jupyter.widget-view+json": {
       "model_id": "d238a0d0e9cc499ab3ab55ad949bfe85",
       "version_major": 2,
       "version_minor": 0
      },
      "text/plain": [
       "HBox(children=(FloatProgress(value=0.0, max=464.0), HTML(value='')))"
      ]
     },
     "metadata": {},
     "output_type": "display_data"
    },
    {
     "name": "stdout",
     "output_type": "stream",
     "text": [
      "\n",
      "Sample number: 42\n",
      "Sample name: 10317.000038160\n",
      "Run id: ERR2313969\n"
     ]
    },
    {
     "data": {
      "application/vnd.jupyter.widget-view+json": {
       "model_id": "547073f688e442358bf97597765d60d0",
       "version_major": 2,
       "version_minor": 0
      },
      "text/plain": [
       "HBox(children=(FloatProgress(value=0.0, max=464.0), HTML(value='')))"
      ]
     },
     "metadata": {},
     "output_type": "display_data"
    },
    {
     "name": "stdout",
     "output_type": "stream",
     "text": [
      "\n",
      "Sample number: 43\n",
      "Sample name: 10317.000058971\n",
      "Run id: ERR2696443\n"
     ]
    },
    {
     "data": {
      "application/vnd.jupyter.widget-view+json": {
       "model_id": "e701bea2839947459dab1a3fb3ba9b5e",
       "version_major": 2,
       "version_minor": 0
      },
      "text/plain": [
       "HBox(children=(FloatProgress(value=0.0, max=464.0), HTML(value='')))"
      ]
     },
     "metadata": {},
     "output_type": "display_data"
    },
    {
     "name": "stdout",
     "output_type": "stream",
     "text": [
      "\n",
      "Sample number: 44\n",
      "Sample name: 10317.000105372\n",
      "Run id: ERR4019280\n"
     ]
    },
    {
     "data": {
      "application/vnd.jupyter.widget-view+json": {
       "model_id": "552b12a90f8e4bf189bc074720b3cfc1",
       "version_major": 2,
       "version_minor": 0
      },
      "text/plain": [
       "HBox(children=(FloatProgress(value=0.0, max=464.0), HTML(value='')))"
      ]
     },
     "metadata": {},
     "output_type": "display_data"
    },
    {
     "name": "stdout",
     "output_type": "stream",
     "text": [
      "\n",
      "Sample number: 45\n",
      "Sample name: 10317.000047151\n",
      "Run id: ERR1842295\n"
     ]
    },
    {
     "data": {
      "application/vnd.jupyter.widget-view+json": {
       "model_id": "30d033f005ef4a34a32903568fc59289",
       "version_major": 2,
       "version_minor": 0
      },
      "text/plain": [
       "HBox(children=(FloatProgress(value=0.0, max=464.0), HTML(value='')))"
      ]
     },
     "metadata": {},
     "output_type": "display_data"
    },
    {
     "name": "stdout",
     "output_type": "stream",
     "text": [
      "\n",
      "Sample number: 46\n",
      "Sample name: 10317.000070708\n",
      "Run id: ERR2404950\n"
     ]
    },
    {
     "data": {
      "application/vnd.jupyter.widget-view+json": {
       "model_id": "a649d6cf2b12404d953d195762712d20",
       "version_major": 2,
       "version_minor": 0
      },
      "text/plain": [
       "HBox(children=(FloatProgress(value=0.0, max=464.0), HTML(value='')))"
      ]
     },
     "metadata": {},
     "output_type": "display_data"
    },
    {
     "name": "stdout",
     "output_type": "stream",
     "text": [
      "\n",
      "Sample number: 47\n",
      "Sample name: 10317.000107269\n",
      "Run id: ERR4019312\n"
     ]
    },
    {
     "data": {
      "application/vnd.jupyter.widget-view+json": {
       "model_id": "26b70480af754779811cb594cec3b8fc",
       "version_major": 2,
       "version_minor": 0
      },
      "text/plain": [
       "HBox(children=(FloatProgress(value=0.0, max=464.0), HTML(value='')))"
      ]
     },
     "metadata": {},
     "output_type": "display_data"
    },
    {
     "name": "stdout",
     "output_type": "stream",
     "text": [
      "\n",
      "Sample number: 48\n",
      "Sample name: 10317.000068174\n",
      "Run id: ERR2033469\n"
     ]
    },
    {
     "data": {
      "application/vnd.jupyter.widget-view+json": {
       "model_id": "0a4e2653ebbf4cf2aaf5f9ffaeb034e6",
       "version_major": 2,
       "version_minor": 0
      },
      "text/plain": [
       "HBox(children=(FloatProgress(value=0.0, max=464.0), HTML(value='')))"
      ]
     },
     "metadata": {},
     "output_type": "display_data"
    },
    {
     "name": "stdout",
     "output_type": "stream",
     "text": [
      "\n",
      "Sample number: 49\n",
      "Sample name: 10317.000041832\n",
      "Run id: ERR1842728\n"
     ]
    },
    {
     "data": {
      "application/vnd.jupyter.widget-view+json": {
       "model_id": "af655553e560403eb3e8773dbfab3018",
       "version_major": 2,
       "version_minor": 0
      },
      "text/plain": [
       "HBox(children=(FloatProgress(value=0.0, max=464.0), HTML(value='')))"
      ]
     },
     "metadata": {},
     "output_type": "display_data"
    },
    {
     "name": "stdout",
     "output_type": "stream",
     "text": [
      "\n",
      "Sample number: 50\n",
      "Sample name: 10317.000065320\n",
      "Run id: ERR1854752\n"
     ]
    },
    {
     "data": {
      "application/vnd.jupyter.widget-view+json": {
       "model_id": "a4e0ef31e56a4596849b96baf9bcc251",
       "version_major": 2,
       "version_minor": 0
      },
      "text/plain": [
       "HBox(children=(FloatProgress(value=0.0, max=464.0), HTML(value='')))"
      ]
     },
     "metadata": {},
     "output_type": "display_data"
    },
    {
     "name": "stdout",
     "output_type": "stream",
     "text": [
      "\n",
      "Sample number: 51\n",
      "Sample name: 10317.000047463\n",
      "Run id: ERR2032698\n"
     ]
    },
    {
     "data": {
      "application/vnd.jupyter.widget-view+json": {
       "model_id": "713f47f2423048daa50ed91221c0106b",
       "version_major": 2,
       "version_minor": 0
      },
      "text/plain": [
       "HBox(children=(FloatProgress(value=0.0, max=464.0), HTML(value='')))"
      ]
     },
     "metadata": {},
     "output_type": "display_data"
    },
    {
     "name": "stdout",
     "output_type": "stream",
     "text": [
      "\n",
      "Sample number: 52\n",
      "Sample name: 10317.000093404\n",
      "Run id: ERR2579554\n"
     ]
    },
    {
     "data": {
      "application/vnd.jupyter.widget-view+json": {
       "model_id": "36e1f632a1c84fa2a7416633c05ffea8",
       "version_major": 2,
       "version_minor": 0
      },
      "text/plain": [
       "HBox(children=(FloatProgress(value=0.0, max=464.0), HTML(value='')))"
      ]
     },
     "metadata": {},
     "output_type": "display_data"
    },
    {
     "name": "stdout",
     "output_type": "stream",
     "text": [
      "\n",
      "Sample number: 53\n",
      "Sample name: 10317.000060228\n",
      "Run id: ERR2319389\n"
     ]
    },
    {
     "data": {
      "application/vnd.jupyter.widget-view+json": {
       "model_id": "205a2e7b1a9740ed8dce8253807c92f8",
       "version_major": 2,
       "version_minor": 0
      },
      "text/plain": [
       "HBox(children=(FloatProgress(value=0.0, max=464.0), HTML(value='')))"
      ]
     },
     "metadata": {},
     "output_type": "display_data"
    },
    {
     "name": "stdout",
     "output_type": "stream",
     "text": [
      "\n",
      "Sample number: 54\n",
      "Sample name: 10317.000069197\n",
      "Run id: ERR4018975\n"
     ]
    },
    {
     "data": {
      "application/vnd.jupyter.widget-view+json": {
       "model_id": "3da8a010cd8746f4bfccf09360d7a3bb",
       "version_major": 2,
       "version_minor": 0
      },
      "text/plain": [
       "HBox(children=(FloatProgress(value=0.0, max=464.0), HTML(value='')))"
      ]
     },
     "metadata": {},
     "output_type": "display_data"
    },
    {
     "name": "stdout",
     "output_type": "stream",
     "text": [
      "\n",
      "Sample number: 55\n",
      "Sample name: 10317.000068657\n",
      "Run id: ERR2306142\n"
     ]
    },
    {
     "data": {
      "application/vnd.jupyter.widget-view+json": {
       "model_id": "a8331a490f7d4278860121cbdfbf9561",
       "version_major": 2,
       "version_minor": 0
      },
      "text/plain": [
       "HBox(children=(FloatProgress(value=0.0, max=464.0), HTML(value='')))"
      ]
     },
     "metadata": {},
     "output_type": "display_data"
    },
    {
     "name": "stdout",
     "output_type": "stream",
     "text": [
      "\n",
      "Sample number: 56\n",
      "Sample name: 10317.000105371\n",
      "Run id: ERR4019279\n"
     ]
    },
    {
     "data": {
      "application/vnd.jupyter.widget-view+json": {
       "model_id": "73a6751dd9ec47f6a564c140200601a2",
       "version_major": 2,
       "version_minor": 0
      },
      "text/plain": [
       "HBox(children=(FloatProgress(value=0.0, max=464.0), HTML(value='')))"
      ]
     },
     "metadata": {},
     "output_type": "display_data"
    },
    {
     "name": "stdout",
     "output_type": "stream",
     "text": [
      "\n",
      "Sample number: 57\n",
      "Sample name: 10317.000075933\n",
      "Run id: ERR2696475\n"
     ]
    },
    {
     "data": {
      "application/vnd.jupyter.widget-view+json": {
       "model_id": "9aee76844613481f9ab549d1c48604b2",
       "version_major": 2,
       "version_minor": 0
      },
      "text/plain": [
       "HBox(children=(FloatProgress(value=0.0, max=464.0), HTML(value='')))"
      ]
     },
     "metadata": {},
     "output_type": "display_data"
    },
    {
     "name": "stdout",
     "output_type": "stream",
     "text": [
      "\n",
      "Sample number: 58\n",
      "Sample name: 10317.000062086\n",
      "Run id: ERR1842637\n"
     ]
    },
    {
     "data": {
      "application/vnd.jupyter.widget-view+json": {
       "model_id": "4383de2447dc4a34b0e8956c69e63dbe",
       "version_major": 2,
       "version_minor": 0
      },
      "text/plain": [
       "HBox(children=(FloatProgress(value=0.0, max=464.0), HTML(value='')))"
      ]
     },
     "metadata": {},
     "output_type": "display_data"
    },
    {
     "name": "stdout",
     "output_type": "stream",
     "text": [
      "\n",
      "Sample number: 59\n",
      "Sample name: 10317.000101067\n",
      "Run id: ERR4020553\n"
     ]
    },
    {
     "data": {
      "application/vnd.jupyter.widget-view+json": {
       "model_id": "aeafe1222c7545d0a0c41aa2f393e0bb",
       "version_major": 2,
       "version_minor": 0
      },
      "text/plain": [
       "HBox(children=(FloatProgress(value=0.0, max=464.0), HTML(value='')))"
      ]
     },
     "metadata": {},
     "output_type": "display_data"
    },
    {
     "name": "stdout",
     "output_type": "stream",
     "text": [
      "\n",
      "Sample number: 60\n",
      "Sample name: 10317.000038305\n",
      "Run id: ERR1389836\n"
     ]
    },
    {
     "data": {
      "application/vnd.jupyter.widget-view+json": {
       "model_id": "cde29316704a4f959ea595d3a90d7be1",
       "version_major": 2,
       "version_minor": 0
      },
      "text/plain": [
       "HBox(children=(FloatProgress(value=0.0, max=464.0), HTML(value='')))"
      ]
     },
     "metadata": {},
     "output_type": "display_data"
    },
    {
     "name": "stdout",
     "output_type": "stream",
     "text": [
      "\n"
     ]
    }
   ],
   "source": [
    "get_sample_top_sequences_count('healthy_vs_not_healthy', 'not_healthy')"
   ]
  },
  {
   "cell_type": "code",
   "execution_count": 14,
   "metadata": {
    "scrolled": true
   },
   "outputs": [
    {
     "name": "stdout",
     "output_type": "stream",
     "text": [
      "Sample number: 1\n"
     ]
    },
    {
     "ename": "FileNotFoundError",
     "evalue": "[Errno 2] No such file or directory: './result_extraction/mental_ill_vs_food_dis/SRA_mental_illness/tmp/10317.000067678.fasta'",
     "output_type": "error",
     "traceback": [
      "\u001b[0;31m---------------------------------------------------------------------------\u001b[0m",
      "\u001b[0;31mFileNotFoundError\u001b[0m                         Traceback (most recent call last)",
      "\u001b[0;32m<ipython-input-14-d4938a2a507b>\u001b[0m in \u001b[0;36m<module>\u001b[0;34m\u001b[0m\n\u001b[0;32m----> 1\u001b[0;31m \u001b[0mget_sample_top_sequences_count\u001b[0m\u001b[0;34m(\u001b[0m\u001b[0;34m'mental_ill_vs_food_dis'\u001b[0m\u001b[0;34m,\u001b[0m \u001b[0;34m'mental_illness'\u001b[0m\u001b[0;34m)\u001b[0m\u001b[0;34m\u001b[0m\u001b[0;34m\u001b[0m\u001b[0m\n\u001b[0m",
      "\u001b[0;32m<ipython-input-13-9e608696f952>\u001b[0m in \u001b[0;36mget_sample_top_sequences_count\u001b[0;34m(experiment, typology)\u001b[0m\n\u001b[1;32m     23\u001b[0m             \u001b[0mf\u001b[0m\u001b[0;34m.\u001b[0m\u001b[0mclose\u001b[0m\u001b[0;34m(\u001b[0m\u001b[0;34m)\u001b[0m\u001b[0;34m\u001b[0m\u001b[0;34m\u001b[0m\u001b[0m\n\u001b[1;32m     24\u001b[0m \u001b[0;34m\u001b[0m\u001b[0m\n\u001b[0;32m---> 25\u001b[0;31m             \u001b[0mf\u001b[0m \u001b[0;34m=\u001b[0m \u001b[0mopen\u001b[0m\u001b[0;34m(\u001b[0m\u001b[0;34mf'./result_extraction/{experiment}/SRA_{typology}/tmp/{sample_name}.fasta'\u001b[0m\u001b[0;34m,\u001b[0m \u001b[0;34m'w'\u001b[0m\u001b[0;34m)\u001b[0m\u001b[0;34m\u001b[0m\u001b[0;34m\u001b[0m\u001b[0m\n\u001b[0m\u001b[1;32m     26\u001b[0m             \u001b[0;32mfor\u001b[0m \u001b[0mfile\u001b[0m \u001b[0;32min\u001b[0m \u001b[0mcompact_files\u001b[0m\u001b[0;34m:\u001b[0m\u001b[0;34m\u001b[0m\u001b[0;34m\u001b[0m\u001b[0m\n\u001b[1;32m     27\u001b[0m                 \u001b[0mf\u001b[0m\u001b[0;34m.\u001b[0m\u001b[0mwrite\u001b[0m\u001b[0;34m(\u001b[0m\u001b[0mfile\u001b[0m\u001b[0;34m)\u001b[0m\u001b[0;34m\u001b[0m\u001b[0;34m\u001b[0m\u001b[0m\n",
      "\u001b[0;31mFileNotFoundError\u001b[0m: [Errno 2] No such file or directory: './result_extraction/mental_ill_vs_food_dis/SRA_mental_illness/tmp/10317.000067678.fasta'"
     ]
    }
   ],
   "source": [
    "get_sample_top_sequences_count('mental_ill_vs_food_dis', 'mental_illness')"
   ]
  },
  {
   "cell_type": "code",
   "execution_count": null,
   "metadata": {},
   "outputs": [
    {
     "name": "stdout",
     "output_type": "stream",
     "text": [
      "Sample number: 31\n",
      "Sample name: 10317.000101190\n",
      "Run id: ERR4020648\n"
     ]
    },
    {
     "data": {
      "application/vnd.jupyter.widget-view+json": {
       "model_id": "ab93bc1ff27c446682c12c0cf9c2ddad",
       "version_major": 2,
       "version_minor": 0
      },
      "text/plain": [
       "HBox(children=(FloatProgress(value=0.0, max=564.0), HTML(value='')))"
      ]
     },
     "metadata": {},
     "output_type": "display_data"
    },
    {
     "name": "stdout",
     "output_type": "stream",
     "text": [
      "\n",
      "Sample number: 32\n",
      "Sample name: 10317.000067892\n",
      "Run id: ERR2319445\n"
     ]
    },
    {
     "data": {
      "application/vnd.jupyter.widget-view+json": {
       "model_id": "c2a8a5131aad4ac482b1199c339639c6",
       "version_major": 2,
       "version_minor": 0
      },
      "text/plain": [
       "HBox(children=(FloatProgress(value=0.0, max=564.0), HTML(value='')))"
      ]
     },
     "metadata": {},
     "output_type": "display_data"
    },
    {
     "name": "stdout",
     "output_type": "stream",
     "text": [
      "\n",
      "Sample number: 33\n",
      "Sample name: 10317.000072842\n",
      "Run id: ERR2314353\n"
     ]
    },
    {
     "data": {
      "application/vnd.jupyter.widget-view+json": {
       "model_id": "67a1173e234f4783bc8930044c561e76",
       "version_major": 2,
       "version_minor": 0
      },
      "text/plain": [
       "HBox(children=(FloatProgress(value=0.0, max=564.0), HTML(value='')))"
      ]
     },
     "metadata": {},
     "output_type": "display_data"
    },
    {
     "name": "stdout",
     "output_type": "stream",
     "text": [
      "\n",
      "Sample number: 34\n",
      "Sample name: 10317.000100334\n",
      "Run id: ERR2696756\n"
     ]
    },
    {
     "data": {
      "application/vnd.jupyter.widget-view+json": {
       "model_id": "a4f66d40863a4bf2b754c5568e8dcaa0",
       "version_major": 2,
       "version_minor": 0
      },
      "text/plain": [
       "HBox(children=(FloatProgress(value=0.0, max=564.0), HTML(value='')))"
      ]
     },
     "metadata": {},
     "output_type": "display_data"
    },
    {
     "name": "stdout",
     "output_type": "stream",
     "text": [
      "\n",
      "Sample number: 35\n",
      "Sample name: 10317.000047573\n",
      "Run id: ERR2579676\n",
      "Run id: ERR1854702\n"
     ]
    },
    {
     "data": {
      "application/vnd.jupyter.widget-view+json": {
       "model_id": "6968118bdc134c36a7ecc2eeb8e2bc13",
       "version_major": 2,
       "version_minor": 0
      },
      "text/plain": [
       "HBox(children=(FloatProgress(value=0.0, max=564.0), HTML(value='')))"
      ]
     },
     "metadata": {},
     "output_type": "display_data"
    },
    {
     "name": "stdout",
     "output_type": "stream",
     "text": [
      "\n",
      "Sample number: 36\n",
      "Sample name: 10317.000054345\n",
      "Run id: ERR1846078\n"
     ]
    },
    {
     "data": {
      "application/vnd.jupyter.widget-view+json": {
       "model_id": "b79b2527a7054b53b6ef3ccca18cb98f",
       "version_major": 2,
       "version_minor": 0
      },
      "text/plain": [
       "HBox(children=(FloatProgress(value=0.0, max=564.0), HTML(value='')))"
      ]
     },
     "metadata": {},
     "output_type": "display_data"
    },
    {
     "name": "stdout",
     "output_type": "stream",
     "text": [
      "\n",
      "Sample number: 37\n",
      "Sample name: 10317.000093606\n",
      "Run id: ERR2696650\n"
     ]
    },
    {
     "data": {
      "application/vnd.jupyter.widget-view+json": {
       "model_id": "64aa9013f58b46c6a2686f23d720e978",
       "version_major": 2,
       "version_minor": 0
      },
      "text/plain": [
       "HBox(children=(FloatProgress(value=0.0, max=564.0), HTML(value='')))"
      ]
     },
     "metadata": {},
     "output_type": "display_data"
    },
    {
     "name": "stdout",
     "output_type": "stream",
     "text": [
      "\n",
      "Sample number: 38\n",
      "Sample name: 10317.000067987\n",
      "Run id: ERR2092387\n"
     ]
    },
    {
     "data": {
      "application/vnd.jupyter.widget-view+json": {
       "model_id": "fdc15910522a4c9aaaf59bd32d5e11b8",
       "version_major": 2,
       "version_minor": 0
      },
      "text/plain": [
       "HBox(children=(FloatProgress(value=0.0, max=564.0), HTML(value='')))"
      ]
     },
     "metadata": {},
     "output_type": "display_data"
    },
    {
     "name": "stdout",
     "output_type": "stream",
     "text": [
      "\n",
      "Sample number: 39\n",
      "Sample name: 10317.000039516\n",
      "Run id: ERR1845928\n"
     ]
    },
    {
     "data": {
      "application/vnd.jupyter.widget-view+json": {
       "model_id": "be649c9c88c44dd6bb322c2ec0aac675",
       "version_major": 2,
       "version_minor": 0
      },
      "text/plain": [
       "HBox(children=(FloatProgress(value=0.0, max=564.0), HTML(value='')))"
      ]
     },
     "metadata": {},
     "output_type": "display_data"
    },
    {
     "name": "stdout",
     "output_type": "stream",
     "text": [
      "\n",
      "Sample number: 40\n",
      "Sample name: 10317.000044319\n",
      "Run id: ERR2239784\n",
      "Run id: ERR1459116\n"
     ]
    },
    {
     "data": {
      "application/vnd.jupyter.widget-view+json": {
       "model_id": "c5966b3e395241bbbe8252b322641746",
       "version_major": 2,
       "version_minor": 0
      },
      "text/plain": [
       "HBox(children=(FloatProgress(value=0.0, max=564.0), HTML(value='')))"
      ]
     },
     "metadata": {},
     "output_type": "display_data"
    },
    {
     "name": "stdout",
     "output_type": "stream",
     "text": [
      "\n",
      "Sample number: 41\n",
      "Sample name: 10317.000068279\n",
      "Run id: ERR2032945\n"
     ]
    },
    {
     "data": {
      "application/vnd.jupyter.widget-view+json": {
       "model_id": "44608d12712d4a4f8512844d9493a5b2",
       "version_major": 2,
       "version_minor": 0
      },
      "text/plain": [
       "HBox(children=(FloatProgress(value=0.0, max=564.0), HTML(value='')))"
      ]
     },
     "metadata": {},
     "output_type": "display_data"
    },
    {
     "name": "stdout",
     "output_type": "stream",
     "text": [
      "\n",
      "Sample number: 42\n",
      "Sample name: 10317.000094641\n",
      "Run id: ERR2697054\n"
     ]
    },
    {
     "data": {
      "application/vnd.jupyter.widget-view+json": {
       "model_id": "707b6814c1ab476faf607bba9c7a09c0",
       "version_major": 2,
       "version_minor": 0
      },
      "text/plain": [
       "HBox(children=(FloatProgress(value=0.0, max=564.0), HTML(value='')))"
      ]
     },
     "metadata": {},
     "output_type": "display_data"
    },
    {
     "name": "stdout",
     "output_type": "stream",
     "text": [
      "\n",
      "Sample number: 43\n",
      "Sample name: 10317.000090080\n",
      "Run id: ERR2524177\n"
     ]
    },
    {
     "data": {
      "application/vnd.jupyter.widget-view+json": {
       "model_id": "606e2be5e31447e69519e044bcad766f",
       "version_major": 2,
       "version_minor": 0
      },
      "text/plain": [
       "HBox(children=(FloatProgress(value=0.0, max=564.0), HTML(value='')))"
      ]
     },
     "metadata": {},
     "output_type": "display_data"
    },
    {
     "name": "stdout",
     "output_type": "stream",
     "text": [
      "\n",
      "Sample number: 44\n",
      "Sample name: 10317.000079461\n",
      "Run id: ERR2306263\n"
     ]
    },
    {
     "data": {
      "application/vnd.jupyter.widget-view+json": {
       "model_id": "0fc28408b89542989ee4a56c7d7afa8b",
       "version_major": 2,
       "version_minor": 0
      },
      "text/plain": [
       "HBox(children=(FloatProgress(value=0.0, max=564.0), HTML(value='')))"
      ]
     },
     "metadata": {},
     "output_type": "display_data"
    }
   ],
   "source": [
    "get_sample_top_sequences_count('mental_ill_vs_food_dis', 'food_disorders')"
   ]
  },
  {
   "cell_type": "code",
   "execution_count": null,
   "metadata": {},
   "outputs": [],
   "source": []
  }
 ],
 "metadata": {
  "kernelspec": {
   "display_name": "final_project_bio",
   "language": "python",
   "name": "final_project_bio"
  },
  "language_info": {
   "codemirror_mode": {
    "name": "ipython",
    "version": 3
   },
   "file_extension": ".py",
   "mimetype": "text/x-python",
   "name": "python",
   "nbconvert_exporter": "python",
   "pygments_lexer": "ipython3",
   "version": "3.6.7"
  }
 },
 "nbformat": 4,
 "nbformat_minor": 4
}
