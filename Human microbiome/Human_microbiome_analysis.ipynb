{
 "cells": [
  {
   "cell_type": "markdown",
   "metadata": {},
   "source": [
    "## Libraries"
   ]
  },
  {
   "cell_type": "code",
   "execution_count": 210,
   "metadata": {},
   "outputs": [],
   "source": [
    "import qiime2\n",
    "from tempfile import mkdtemp\n",
    "from qiime2.plugins import demux, deblur, quality_filter, \\\n",
    "                           metadata, feature_table, alignment, \\\n",
    "                           phylogeny, diversity, emperor, feature_classifier, \\\n",
    "                           taxa, composition\n",
    "import pandas as pd\n",
    "import os\n",
    "import numpy as np\n",
    "import random\n",
    "import logging\n",
    "from datetime import datetime\n",
    "from Bio import Entrez\n",
    "from pprint import pprint\n",
    "from sklearn.utils import shuffle\n",
    "import xml.etree.ElementTree as ET\n",
    "import os\n",
    "from tqdm.notebook import tqdm"
   ]
  },
  {
   "cell_type": "markdown",
   "metadata": {},
   "source": [
    "#### Studies\n",
    "* exercise_frequency\n",
    "* flossing_frequency\n",
    "* vitamin_d_supplement_frequency\n",
    "* weight_change\n",
    "* fruit_frequency"
   ]
  },
  {
   "cell_type": "markdown",
   "metadata": {},
   "source": [
    "## Functions"
   ]
  },
  {
   "cell_type": "code",
   "execution_count": 4,
   "metadata": {},
   "outputs": [],
   "source": [
    "def generate_single_sample(already_taken, from_df):\n",
    "    element = random.randint(0, len(from_df) - 1)\n",
    "    while element in already_taken or from_df.iloc[element]['sample_name'] == '10317':\n",
    "        element = random.randint(0, len(from_df) - 1)\n",
    "    return element\n",
    "\n",
    "def get_final_sample(n_samples, starter_dataset_man, starter_dataset_woman):\n",
    "    sample_man = set()\n",
    "    sample_woman = set()\n",
    "    final_sample = pd.DataFrame(columns=starter_dataset_man.columns)\n",
    "    \n",
    "    for i in range(n_samples):\n",
    "        new_sample_man = generate_single_sample(sample_man, starter_dataset_man)\n",
    "        new_sample_woman = generate_single_sample(sample_woman, starter_dataset_woman)\n",
    "        \n",
    "        sample_man.add(new_sample_man)\n",
    "        sample_woman.add(new_sample_woman)\n",
    "\n",
    "        final_sample = final_sample.append(starter_dataset_man.iloc[new_sample_man], ignore_index=True)\n",
    "        final_sample = final_sample.append(starter_dataset_woman.iloc[new_sample_woman], ignore_index=True)\n",
    "        \n",
    "    return final_sample\n",
    "\n",
    "def write_age_mean(total, man, woman, typology):\n",
    "    mean_age_total = round(np.mean(total['age_years']), 4)\n",
    "    mean_age_man = round(np.mean(man['age_years']), 4)\n",
    "    mean_age_woman = round(np.mean(woman['age_years']), 4)\n",
    "    if typology != 'sample':\n",
    "        logging.info(f'--------------------{typology.upper()}--------------------')\n",
    "    logging.info(f'Total number of {typology} people: {len(total)}')\n",
    "    logging.info(f'Total number of {typology} man: {len(man)}')\n",
    "    logging.info(f'Total number of {typology} woman: {len(woman)}')\n",
    "    \n",
    "    logging.info(f'Mean Age for total: {mean_age_total}')\n",
    "    logging.info(f'Mean Age for man: {mean_age_man}')\n",
    "    logging.info(f'Mean Age for woman: {mean_age_woman}')\n",
    "    logging.info(f'\\n\\n')\n",
    "    \n",
    "    print(f'--------------------{typology.upper()}--------------------')\n",
    "    print(f'Total number of {typology} people: {len(total)}')\n",
    "    print(f'Total number of {typology} man: {len(man)}')\n",
    "    print(f'Total number of {typology} woman: {len(woman)}')\n",
    "    \n",
    "    print(f'Mean Age for total: {mean_age_total}')\n",
    "    print(f'Mean Age for man: {mean_age_man}')\n",
    "    print(f'Mean Age for woman: {mean_age_woman}')\n",
    "\n",
    "def write_sample_info(sample, typology):\n",
    "    man = sample.query(\"sex == 'male'\")\n",
    "    woman = sample.query(\"sex == 'female'\")\n",
    "    write_age_mean(sample, man, woman, 'sample')\n",
    "    sample.to_csv(f'./result_extraction/{typology}_sample.csv')\n",
    "    \n",
    "def get_sequences(sample_name):\n",
    "    handleSce = esearch('biosample', sample_name)\n",
    "    biosampleId = handleSce['IdList'][0]\n",
    "    print(f'Biosample ID {biosampleId}')\n",
    "    handleSra = Entrez.efetch(db='biosample', id=biosampleId, retmode='xml')\n",
    "    root = ET.fromstring(handleSra.read())\n",
    "    identifier = root.findall('.//BioSample//Ids//Id')\n",
    "    for i in identifier:\n",
    "        if i.attrib['db'] == 'SRA':\n",
    "            sraId = i.text\n",
    "    print(f'SRA ID: {sraId}')\n",
    "    handleSra = Entrez.esearch(db='sra', term=sraId)\n",
    "    resultsSra = Entrez.read(handleSra)['IdList']\n",
    "    for s in resultsSra:\n",
    "        handlesngSraId = Entrez.efetch(db='sra', id=s, retmode='xml')\n",
    "        root = ET.fromstring(handlesngSraId.read())\n",
    "        identifier = root.find('.//EXPERIMENT_PACKAGE//RUN_SET//RUN')\n",
    "        runId = identifier.attrib['accession']\n",
    "        command1 = 'fastq-dump --fasta --readids --outdir \"./rawData\" ' + runId\n",
    "        os.system(command1)\n",
    "        command2 = 'fastq-dump --readids --outdir \"./rawData\" ' + runId\n",
    "        os.system(command2) "
   ]
  },
  {
   "cell_type": "markdown",
   "metadata": {},
   "source": [
    "## Main"
   ]
  },
  {
   "cell_type": "code",
   "execution_count": 5,
   "metadata": {},
   "outputs": [
    {
     "name": "stderr",
     "output_type": "stream",
     "text": [
      "/Users/villons/opt/anaconda3/envs/final_project_bio/lib/python3.6/site-packages/IPython/core/interactiveshell.py:3063: DtypeWarning: Columns (0,26,27,28,29,30,31,56,64,76,78,84,93,94,95,96,97,98,99,100,101,102,103,104,105,106,107,108,109,110,111,112,113,114,115,116,117,118,120,121,122,123,124,125,126,127,128,129,130,131,132,133,134,135,136,137,138,139,140,141,142,143,144,145,146,147,148,149,150,151,152,153,154,155,156,157,158,159,160,161,162,163,164,165,168,169,170,171,172,173,174,175,176,177,188,191,192,193,202,205,207,226,236,239,241,243,244,245,246,247,248,249,250,251,252,253,254,255,256,257,258,259,260,261,262,263,264,265,266,267,268,269,270,271,272,273,274,275,276,277,278,279,280,281,282,283,284,285,286,287,288,289,290,291,292,293,294,295,296,297,298,299,300,301,302,303,304,305,306,312,327,348,350,351,352,353,354,355,358,359,360,361,362,363,364,365,366,367,368,369,371,375,382,386,398,404,431,432,433,445,462,497,548,567,571,574,581,582,599,601,602,614,621,633,647,655) have mixed types. Specify dtype option on import or set low_memory=False.\n",
      "  interactivity=interactivity, compiler=compiler, result=result)\n"
     ]
    }
   ],
   "source": [
    "df = pd.read_csv(\"./data/american_gut.txt\", delimiter=\"\\t\", header=0)\n",
    "df.replace(' ', np.nan, inplace=True)\n",
    "df.replace('Not provided', np.nan, inplace=True)\n",
    "df.replace('Unspecified', np.nan, inplace=True)"
   ]
  },
  {
   "cell_type": "code",
   "execution_count": 6,
   "metadata": {},
   "outputs": [],
   "source": [
    "logging.basicConfig(filename='./result_extraction/sampling.log', level=logging.INFO, format='%(message)s')\n",
    "today = datetime.now().strftime(\"%d/%m/%Y %H:%M:%S\")\n",
    "logging.info(f'RUN TIME: {today}')"
   ]
  },
  {
   "cell_type": "markdown",
   "metadata": {},
   "source": [
    "## All columns"
   ]
  },
  {
   "cell_type": "code",
   "execution_count": 7,
   "metadata": {},
   "outputs": [
    {
     "name": "stdout",
     "output_type": "stream",
     "text": [
      "sample_name, acid_reflux, acne_medication, acne_medication_otc, add_adhd, age_cat, age_corrected, age_years, alcohol_consumption, alcohol_frequency, alcohol_types, alcohol_types_beercider, alcohol_types_red_wine, alcohol_types_sour_beers, alcohol_types_spiritshard_alcohol, alcohol_types_unspecified, alcohol_types_white_wine, allergic_to, allergic_to_i_have_no_food_allergies_that_i_know_of, allergic_to_other, allergic_to_peanuts, allergic_to_shellfish, allergic_to_tree_nuts, allergic_to_unspecified, altitude, alzheimers, animal_age, animal_free_text, animal_gender, animal_origin, animal_type, anonymized_name, antibiotic_history, appendix_removed, artificial_sweeteners, asd, assigned_from_geo, autoimmune, birth_year, bmi, bmi_cat, bmi_corrected, body_habitat, body_product, body_site, bowel_movement_frequency, bowel_movement_quality, breastmilk_formula_ensure, cancer, cancer_treatment, cardiovascular_disease, cat, cdiff, census_region, chickenpox, clinical_condition, collection_date, collection_date_only, collection_month, collection_season, collection_time, collection_timestamp, consume_animal_products_abx, contraceptive, coprophage, cosmetics_frequency, country, country_of_birth, country_residence, csection, deodorant_use, depression_bipolar_schizophrenia, depth, description, diabetes, diabetes_type, diet, diet_type, dna_extracted, dog, dominant_hand, drinking_water_source, drinks_per_session, economic_region, elevation, env_biome, env_feature, env_material, env_package, epilepsy_or_seizure_disorder, exercise_frequency, exercise_location, fed_as_infant, fermented_consumed, fermented_consumed_beer, fermented_consumed_chicha, fermented_consumed_cider, fermented_consumed_cottage_cheese, fermented_consumed_fermented_beansmisonatto, fermented_consumed_fermented_breadsourdoughinjera, fermented_consumed_fermented_fish, fermented_consumed_fermented_tofu, fermented_consumed_fish_sauce, fermented_consumed_kefir_milk, fermented_consumed_kefir_water, fermented_consumed_kimchi, fermented_consumed_kombucha, fermented_consumed_mead, fermented_consumed_other, fermented_consumed_pickled_vegetables, fermented_consumed_sauerkraut, fermented_consumed_sour_creamcreme_fraiche, fermented_consumed_tempeh, fermented_consumed_unspecified, fermented_consumed_wine, fermented_consumed_yogurtlassi, fermented_frequency, fermented_increased, fermented_other, fermented_plant_frequency, fermented_produce_commercial, fermented_produce_commercial_beer, fermented_produce_commercial_chicha, fermented_produce_commercial_cider, fermented_produce_commercial_cottage_cheese, fermented_produce_commercial_fermented_beansmisonatto, fermented_produce_commercial_fermented_breadsourdoughinjera, fermented_produce_commercial_fermented_fish, fermented_produce_commercial_fermented_tofu, fermented_produce_commercial_fish_sauce, fermented_produce_commercial_kefir_milk, fermented_produce_commercial_kefir_water, fermented_produce_commercial_kimchi, fermented_produce_commercial_kombucha, fermented_produce_commercial_mead, fermented_produce_commercial_other, fermented_produce_commercial_pickled_vegetables, fermented_produce_commercial_sauerkraut, fermented_produce_commercial_sour_creamcreme_fraiche, fermented_produce_commercial_tempeh, fermented_produce_commercial_unspecified, fermented_produce_commercial_wine, fermented_produce_commercial_yogurtlassi, fermented_produce_personal, fermented_produce_personal_beer, fermented_produce_personal_chicha, fermented_produce_personal_cider, fermented_produce_personal_cottage_cheese, fermented_produce_personal_fermented_beansmisonatto, fermented_produce_personal_fermented_breadsourdoughinjera, fermented_produce_personal_fermented_fish, fermented_produce_personal_fermented_tofu, fermented_produce_personal_fish_sauce, fermented_produce_personal_kefir_milk, fermented_produce_personal_kefir_water, fermented_produce_personal_kimchi, fermented_produce_personal_kombucha, fermented_produce_personal_mead, fermented_produce_personal_other, fermented_produce_personal_pickled_vegetables, fermented_produce_personal_sauerkraut, fermented_produce_personal_sour_creamcreme_fraiche, fermented_produce_personal_tempeh, fermented_produce_personal_unspecified, fermented_produce_personal_wine, fermented_produce_personal_yogurtlassi, flossing_frequency, flu_vaccine_date, food_source, food_source_human_food, food_source_pet_store_food, food_source_unspecified, food_source_wild_food, food_special, food_special_grain_free, food_special_organic, food_special_unspecified, food_type, frozen_dessert_frequency, fruit_frequency, fungal_overgrowth, geo_loc_name, gluten, has_physical_specimen, height_cm, height_units, high_fat_red_meat_frequency, homecooked_meals_frequency, host, host_common_name, host_subject_id, host_taxid, hours_outside, humans_free_text, ibd, ibd_diagnosis, ibd_diagnosis_refined, ibs, kidney_disease, lactose, last_move, last_travel, latitude, level_of_education, liver_disease, living_status, livingwith, longitude, lowgrain_diet_type, lung_disease, meat_eggs_frequency, mental_illness, mental_illness_type, mental_illness_type_anorexia_nervosa, mental_illness_type_bipolar_disorder, mental_illness_type_bulimia_nervosa, mental_illness_type_depression, mental_illness_type_ptsd_posttraumatic_stress_disorder, mental_illness_type_schizophrenia, mental_illness_type_substance_abuse, mental_illness_type_unspecified, migraine, milk_cheese_frequency, milk_substitute_frequency, multivitamin, nail_biter, name, non_food_allergies, non_food_allergies_beestings, non_food_allergies_drug_eg_penicillin, non_food_allergies_pet_dander, non_food_allergies_poison_ivyoak, non_food_allergies_sun, non_food_allergies_unspecified, olive_oil, one_liter_of_water_a_day_frequency, other_animals_free_text, other_supplement_frequency, pets_other, pets_other_freetext, physical_specimen_location, physical_specimen_remaining, pku, pm_age, pm_concern, pm_education, pm_email, pm_ethnicity, pm_experience_worth_it, pm_gastro_problems, pm_gastro_problems_crohns_disease_or_ulcerative_colitis, pm_gastro_problems_frequent_more_than_once_a_week_constipation, pm_gastro_problems_frequent_more_than_once_a_week_diarrhea, pm_gastro_problems_gastrointestinal_cancer, pm_gastro_problems_i_have_had_surgery_on_my_intestines, pm_gastro_problems_irritable_bowel_syndrome_ibs, pm_gastro_problems_other, pm_gastro_problems_unspecified, pm_gender, pm_health, pm_lifestyle_change, pm_lifestyle_change_how, pm_lifestyle_change_how_change_in_alcohol_or_tobacco_use_ie_starting_stopping_or_changing_amount_consumed, pm_lifestyle_change_how_change_in_diet_ie_taking_a_probiotic, pm_lifestyle_change_how_change_in_exercise, pm_lifestyle_change_how_change_in_physical_environment_ie_adopting_or_getting_rid_of_a_pet_cleaning_more_or_less_often, pm_lifestyle_change_how_change_in_use_of_nutritional_supplements_or_vitamins, pm_lifestyle_change_how_other, pm_lifestyle_change_how_unspecified, pm_name, pm_participation_reason, pm_participation_reason_desire_to_improve_my_health, pm_participation_reason_general_curiosityinterest_in_learning_about_my_microbiome, pm_participation_reason_i_have_gastrointestinal_problems, pm_participation_reason_i_have_other_microbiomerelevant_health_problems, pm_participation_reason_interest_in_contributing_to_science, pm_participation_reason_other, pm_participation_reason_people_in_my_family_or_social_network_have_done_it, pm_participation_reason_professional_interest_in_the_microbiome, pm_participation_reason_the_study_seemed_fun_and_entertaining, pm_participation_reason_unspecified, pm_recontact, pm_shared, pm_shared_pcp, pm_shared_pcp_changes, pm_shared_pcp_changes_what, pm_shared_pcp_changes_what_change_in_behaviorallifestyle_recommendations_eg_start_probiotic, pm_shared_pcp_changes_what_change_in_medication_ie_starting_stopping_or_changing_the_dose_of_a_prescription, pm_shared_pcp_changes_what_ordered_additional_labs_tests_or_procedures, pm_shared_pcp_changes_what_other, pm_shared_pcp_changes_what_referral_to_a_specialist_eg_gastroenterologist, pm_shared_pcp_changes_what_unspecified, pm_shared_who, pm_shared_who_colleagues, pm_shared_who_family_members, pm_shared_who_friends, pm_shared_who_nutritionistdietician, pm_shared_who_other, pm_shared_who_other_medical_or_health_professional, pm_shared_who_posteddiscussed_on_an_online_patienthealth_platform_ie_patientslikeme, pm_shared_who_posteddiscussed_on_data_sharing_platform_ie_open_humans, pm_shared_who_posteddiscussed_on_social_networking_site_ie_facebook, pm_shared_who_primary_care_physician, pm_shared_who_specialty_physician_eg_gastroenterologist, pm_shared_who_unspecified, pm_understand_results, pm_useful, pool_frequency, poultry_frequency, pregnant, prepared_meals_frequency, probiotic_frequency, public, qiita_empo_1, qiita_empo_2, qiita_empo_3, qiita_study_id, race, ready_to_eat_meals_frequency, red_meat_frequency, roommates, roommates_in_study, salted_snacks_frequency, sample_type, scientific_name, seafood_frequency, seasonal_allergies, setting, sex, sibo, skin_condition, sleep_duration, smoking_frequency, softener, specialized_diet, specialized_diet_exclude_dairy, specialized_diet_exclude_nightshades, specialized_diet_exclude_refined_sugars, specialized_diet_fodmap, specialized_diet_halaal, specialized_diet_i_do_not_eat_a_specialized_diet, specialized_diet_kosher, specialized_diet_modified_paleo_diet, specialized_diet_other_restrictions_not_described_here, specialized_diet_paleodiet_or_primal_diet, specialized_diet_raw_food_diet, specialized_diet_unspecified, specialized_diet_westenprice_or_other_lowgrain_low_processed_fo, specialized_diet_westenprice_or_other_lowgrain_low_processed_food_diet, state, subset_age, subset_antibiotic_history, subset_bmi, subset_diabetes, subset_healthy, subset_ibd, sugar_sweetened_drink_frequency, sugary_sweets_frequency, surf_board_type, surf_frequency, surf_loal_break_frequency, surf_local_break, surf_shower_frequency, surf_stance, surf_sunscreen, surf_sunscreen_frequency, surf_travel_distance, surf_travel_frequency, surf_wax, surf_weetsuit, survey_id, taxon_id, teethbrushing_frequency, thyroid, title, toilet_water_access, tonsils_removed, types_of_plants, vegetable_frequency, vioscreen_a_bev, vioscreen_a_cal, vioscreen_acesupot, vioscreen_activity_level, vioscreen_add_sug, vioscreen_addsugar, vioscreen_adsugtot, vioscreen_age, vioscreen_alanine, vioscreen_alcohol, vioscreen_alcohol_servings, vioscreen_alphacar, vioscreen_alphtoce, vioscreen_alphtoco, vioscreen_arginine, vioscreen_ash, vioscreen_aspartam, vioscreen_aspartic, vioscreen_avcarb, vioscreen_bcodeid, vioscreen_betacar, vioscreen_betacryp, vioscreen_betaine, vioscreen_betatoco, vioscreen_biochana, vioscreen_bmi, vioscreen_caffeine, vioscreen_calcium, vioscreen_calcium_avg, vioscreen_calcium_dose, vioscreen_calcium_freq, vioscreen_calcium_from_dairy_servings, vioscreen_calcium_servings, vioscreen_calories, vioscreen_carbo, vioscreen_cholest, vioscreen_choline, vioscreen_clac9t11, vioscreen_clat10c12, vioscreen_copper, vioscreen_coumest, vioscreen_cystine, vioscreen_d_cheese, vioscreen_d_milk, vioscreen_d_tot_soym, vioscreen_d_total, vioscreen_d_yogurt, vioscreen_daidzein, vioscreen_database, vioscreen_delttoco, vioscreen_discfat_oil, vioscreen_discfat_sol, vioscreen_dob, vioscreen_eer, vioscreen_email, vioscreen_erythr, vioscreen_f_citmlb, vioscreen_f_nj_citmlb, vioscreen_f_nj_other, vioscreen_f_nj_total, vioscreen_f_other, vioscreen_f_total, vioscreen_fat, vioscreen_fiber, vioscreen_fibh2o, vioscreen_fibinso, vioscreen_finished, vioscreen_fish_servings, vioscreen_fol_deqv, vioscreen_fol_nat, vioscreen_fol_syn, vioscreen_formontn, vioscreen_fried_fish_servings, vioscreen_fried_food_servings, vioscreen_frt5_day, vioscreen_frtsumm, vioscreen_fructose, vioscreen_fruit_servings, vioscreen_g_nwhl, vioscreen_g_total, vioscreen_g_whl, vioscreen_galactos, vioscreen_gammtoco, vioscreen_gender, vioscreen_genistn, vioscreen_glac, vioscreen_gltc, vioscreen_glucose, vioscreen_glutamic, vioscreen_glycine, vioscreen_glycitn, vioscreen_grams, vioscreen_hei2010_dairy, vioscreen_hei2010_empty_calories, vioscreen_hei2010_fatty_acids, vioscreen_hei2010_fruit, vioscreen_hei2010_greens_beans, vioscreen_hei2010_protien_foods, vioscreen_hei2010_refined_grains, vioscreen_hei2010_score, vioscreen_hei2010_sea_foods_plant_protiens, vioscreen_hei2010_sodium, vioscreen_hei2010_veg, vioscreen_hei2010_whole_fruit, vioscreen_hei2010_whole_grains, vioscreen_hei_drk_g_org_veg_leg, vioscreen_hei_fruit, vioscreen_hei_grains, vioscreen_hei_meat_beans, vioscreen_hei_milk, vioscreen_hei_non_juice_frt, vioscreen_hei_oils, vioscreen_hei_sat_fat, vioscreen_hei_score, vioscreen_hei_sodium, vioscreen_hei_sol_fat_alc_add_sug, vioscreen_hei_veg, vioscreen_hei_whl_grains, vioscreen_height, vioscreen_histidin, vioscreen_inositol, vioscreen_iron, vioscreen_isoleuc, vioscreen_isomalt, vioscreen_joules, vioscreen_juice_servings, vioscreen_lactitol, vioscreen_lactose, vioscreen_legumes, vioscreen_leucine, vioscreen_line_gi, vioscreen_low_fat_dairy_serving, vioscreen_lutzeax, vioscreen_lycopene, vioscreen_lysine, vioscreen_m_egg, vioscreen_m_fish_hi, vioscreen_m_fish_lo, vioscreen_m_frank, vioscreen_m_meat, vioscreen_m_mpf, vioscreen_m_nutsd, vioscreen_m_organ, vioscreen_m_poult, vioscreen_m_soy, vioscreen_magnes, vioscreen_maltitol, vioscreen_maltose, vioscreen_mangan, vioscreen_mannitol, vioscreen_methhis3, vioscreen_methion, vioscreen_mfa141, vioscreen_mfa161, vioscreen_mfa181, vioscreen_mfa201, vioscreen_mfa221, vioscreen_mfatot, vioscreen_multi_calcium_avg, vioscreen_multi_calcium_dose, vioscreen_multivitamin, vioscreen_multivitamin_freq, vioscreen_natoco, vioscreen_nccglbr, vioscreen_nccglgr, vioscreen_niacin, vioscreen_niacineq, vioscreen_nitrogen, vioscreen_non_fried_fish_servings, vioscreen_nutrient_recommendation, vioscreen_omega3, vioscreen_oxalic, vioscreen_oxalicm, vioscreen_pantothe, vioscreen_pectins, vioscreen_pfa182, vioscreen_pfa183, vioscreen_pfa184, vioscreen_pfa204, vioscreen_pfa205, vioscreen_pfa225, vioscreen_pfa226, vioscreen_pfatot, vioscreen_phenylal, vioscreen_phosphor, vioscreen_phytic, vioscreen_pinitol, vioscreen_potass, vioscreen_procdate, vioscreen_proline, vioscreen_protanim, vioscreen_protein, vioscreen_protocol, vioscreen_protveg, vioscreen_questionnaire, vioscreen_recno, vioscreen_retinol, vioscreen_rgrain, vioscreen_ribofla, vioscreen_sacchar, vioscreen_salad_vegetable_servings, vioscreen_satoco, vioscreen_scf, vioscreen_scfv, vioscreen_selenium, vioscreen_serine, vioscreen_sfa100, vioscreen_sfa120, vioscreen_sfa140, vioscreen_sfa160, vioscreen_sfa170, vioscreen_sfa180, vioscreen_sfa200, vioscreen_sfa220, vioscreen_sfa40, vioscreen_sfa60, vioscreen_sfa80, vioscreen_sfatot, vioscreen_sodium, vioscreen_sorbitol, vioscreen_srvid, vioscreen_starch, vioscreen_started, vioscreen_subject_id, vioscreen_sucpoly, vioscreen_sucrlose, vioscreen_sucrose, vioscreen_sweet_servings, vioscreen_tagatose, vioscreen_tfa161t, vioscreen_tfa181t, vioscreen_tfa182t, vioscreen_tgrain, vioscreen_thiamin, vioscreen_threonin, vioscreen_time, vioscreen_totaltfa, vioscreen_totcla, vioscreen_totfolat, vioscreen_totsugar, vioscreen_tryptoph, vioscreen_tyrosine, vioscreen_user_id, vioscreen_v_drkgr, vioscreen_v_orange, vioscreen_v_other, vioscreen_v_potato, vioscreen_v_starcy, vioscreen_v_tomato, vioscreen_v_total, vioscreen_valine, vioscreen_veg5_day, vioscreen_vegetable_servings, vioscreen_vegsumm, vioscreen_visit, vioscreen_vita_iu, vioscreen_vita_rae, vioscreen_vita_re, vioscreen_vitb12, vioscreen_vitb6, vioscreen_vitc, vioscreen_vitd, vioscreen_vitd2, vioscreen_vitd3, vioscreen_vitd_iu, vioscreen_vite_iu, vioscreen_vitk, vioscreen_water, vioscreen_weight, vioscreen_wgrain, vioscreen_whole_grain_servings, vioscreen_xylitol, vioscreen_zinc, vitamin_b_supplement_frequency, vitamin_d_supplement_frequency, vivid_dreams, weight_cat, weight_change, weight_kg, weight_units, whole_eggs, whole_grain_frequency, "
     ]
    }
   ],
   "source": [
    "for column in df.columns:\n",
    "    print(column, end = ', ')"
   ]
  },
  {
   "cell_type": "markdown",
   "metadata": {},
   "source": [
    "## Healthy extraction"
   ]
  },
  {
   "cell_type": "code",
   "execution_count": 44,
   "metadata": {},
   "outputs": [],
   "source": [
    "healthy = df.query(\"smoking_frequency == 'Never' and alcohol_frequency == 'Never'\")\n",
    "\n",
    "healthy = healthy.query(\"cancer == 'I do not have this condition'\")\n",
    "\n",
    "healthy['bmi'] = healthy['bmi'].apply(lambda x: float(x))\n",
    "healthy = healthy.query(\"bmi >= 18.5 and bmi <= 24.99\")\n",
    "\n",
    "healthy['age_years'] = healthy['age_years'].apply(lambda x: float(x))\n",
    "healthy = healthy.query(\"age_years >= 20 and age_years <= 50\")\n",
    "\n",
    "healthy = healthy.query(\"body_site == 'UBERON:feces'\")\n",
    "\n",
    "healthy_man = healthy.query(\"sex == 'male'\")\n",
    "healthy_woman = healthy.query(\"sex == 'female'\")"
   ]
  },
  {
   "cell_type": "code",
   "execution_count": 36,
   "metadata": {},
   "outputs": [
    {
     "name": "stdout",
     "output_type": "stream",
     "text": [
      "--------------------HEALTHY--------------------\n",
      "Total number of healthy people: 615\n",
      "Total number of healthy man: 244\n",
      "Total number of healthy woman: 371\n",
      "Mean Age for total: 36.9545\n",
      "Mean Age for man: 37.0984\n",
      "Mean Age for woman: 36.8598\n"
     ]
    }
   ],
   "source": [
    "write_age_mean(healthy, healthy_man, healthy_woman, 'healthy')"
   ]
  },
  {
   "cell_type": "code",
   "execution_count": 229,
   "metadata": {},
   "outputs": [
    {
     "data": {
      "application/vnd.jupyter.widget-view+json": {
       "model_id": "0fc91e11636f44bebc7b8c035c3e41fe",
       "version_major": 2,
       "version_minor": 0
      },
      "text/plain": [
       "HBox(children=(FloatProgress(value=0.0, max=615.0), HTML(value='')))"
      ]
     },
     "metadata": {},
     "output_type": "display_data"
    },
    {
     "name": "stdout",
     "output_type": "stream",
     "text": [
      "\n"
     ]
    }
   ],
   "source": [
    "valid_id = list()\n",
    "for try_id in tqdm(healthy['sample_name']):\n",
    "    handleSce = esearch('biosample', try_id)\n",
    "    if handleSce['IdList'] != []:\n",
    "        valid_id.append(try_id)"
   ]
  },
  {
   "cell_type": "code",
   "execution_count": 231,
   "metadata": {},
   "outputs": [
    {
     "data": {
      "application/vnd.jupyter.widget-view+json": {
       "model_id": "18572075d55a4b8c9b10585c92301c55",
       "version_major": 2,
       "version_minor": 0
      },
      "text/plain": [
       "HBox(children=(FloatProgress(value=1.0, bar_style='info', max=1.0), HTML(value='')))"
      ]
     },
     "metadata": {},
     "output_type": "display_data"
    },
    {
     "name": "stdout",
     "output_type": "stream",
     "text": [
      "\n"
     ]
    }
   ],
   "source": [
    "valid_healthy = pd.DataFrame(columns=healthy.columns)\n",
    "index = 0\n",
    "for _, row in tqdm(healthy.iterrows()):\n",
    "    if row['sample_name'] in valid_id:\n",
    "        valid_healthy.loc[index] = row\n",
    "        index += 1"
   ]
  },
  {
   "cell_type": "code",
   "execution_count": 233,
   "metadata": {},
   "outputs": [
    {
     "data": {
      "text/plain": [
       "female    209\n",
       "male      134\n",
       "Name: sex, dtype: int64"
      ]
     },
     "execution_count": 233,
     "metadata": {},
     "output_type": "execute_result"
    }
   ],
   "source": [
    "valid_healthy['sex'].value_counts()"
   ]
  },
  {
   "cell_type": "markdown",
   "metadata": {},
   "source": [
    "## Not healthy extraction"
   ]
  },
  {
   "cell_type": "code",
   "execution_count": 248,
   "metadata": {},
   "outputs": [],
   "source": [
    "not_healthy = df.query(\"smoking_frequency == 'Occasionally (1-2 times/week)' or smoking_frequency == 'Daily' or smoking_frequency == 'Regularly (3-5 times/week)'\")\n",
    "not_healthy = not_healthy.query(\"alcohol_frequency == 'Occasionally (1-2 times/week)' or alcohol_frequency == 'Daily' or alcohol_frequency == 'Regularly (3-5 times/week)'\")\n",
    "\n",
    "not_healthy = not_healthy.query(\"cancer == 'I do not have this condition'\")\n",
    "\n",
    "not_healthy['bmi'] = not_healthy['bmi'].apply(lambda x: float(x))\n",
    "not_healthy = not_healthy.query(\"bmi < 18.5 or bmi > 24.99\")\n",
    "\n",
    "not_healthy['age_years'] = not_healthy['age_years'].apply(lambda x: float(x))\n",
    "not_healthy = not_healthy.query(\"age_years >= 20 and age_years <= 50\")\n",
    "\n",
    "not_healty = not_healthy.query(\"body_site == 'UBERON:feces'\")\n",
    "\n",
    "not_healthy_man = not_healthy.query(\"sex == 'male'\")\n",
    "not_healthy_woman = not_healthy.query(\"sex == 'female'\")"
   ]
  },
  {
   "cell_type": "code",
   "execution_count": 249,
   "metadata": {},
   "outputs": [
    {
     "name": "stdout",
     "output_type": "stream",
     "text": [
      "--------------------NOT HEALTHY--------------------\n",
      "Total number of not healthy people: 81\n",
      "Total number of not healthy man: 44\n",
      "Total number of not healthy woman: 26\n",
      "Mean Age for total: 35.642\n",
      "Mean Age for man: 37.1136\n",
      "Mean Age for woman: 36.0\n"
     ]
    }
   ],
   "source": [
    "write_age_mean(not_healthy, not_healthy_man, not_healthy_woman, 'not healthy')"
   ]
  },
  {
   "cell_type": "code",
   "execution_count": 244,
   "metadata": {},
   "outputs": [
    {
     "data": {
      "application/vnd.jupyter.widget-view+json": {
       "model_id": "b203df36c3634d8f994ca4ebf7d20150",
       "version_major": 2,
       "version_minor": 0
      },
      "text/plain": [
       "HBox(children=(FloatProgress(value=0.0, max=91.0), HTML(value='')))"
      ]
     },
     "metadata": {},
     "output_type": "display_data"
    },
    {
     "name": "stdout",
     "output_type": "stream",
     "text": [
      "\n"
     ]
    }
   ],
   "source": [
    "valid_id = list()\n",
    "for try_id in tqdm(not_healthy['sample_name']):\n",
    "    handleSce = esearch('biosample', try_id)\n",
    "    if handleSce['IdList'] != []:\n",
    "        valid_id.append(try_id)"
   ]
  },
  {
   "cell_type": "code",
   "execution_count": 245,
   "metadata": {},
   "outputs": [
    {
     "data": {
      "application/vnd.jupyter.widget-view+json": {
       "model_id": "81dc8d077c7b475895cab63a1bb3e301",
       "version_major": 2,
       "version_minor": 0
      },
      "text/plain": [
       "HBox(children=(FloatProgress(value=1.0, bar_style='info', max=1.0), HTML(value='')))"
      ]
     },
     "metadata": {},
     "output_type": "display_data"
    },
    {
     "name": "stdout",
     "output_type": "stream",
     "text": [
      "\n"
     ]
    }
   ],
   "source": [
    "valid_not_healthy = pd.DataFrame(columns=healthy.columns)\n",
    "index = 0\n",
    "for _, row in tqdm(not_healthy.iterrows()):\n",
    "    if row['sample_name'] in valid_id:\n",
    "        valid_not_healthy.loc[index] = row\n",
    "        index += 1"
   ]
  },
  {
   "cell_type": "code",
   "execution_count": 246,
   "metadata": {},
   "outputs": [
    {
     "data": {
      "text/plain": [
       "male      28\n",
       "female    17\n",
       "Name: sex, dtype: int64"
      ]
     },
     "execution_count": 246,
     "metadata": {},
     "output_type": "execute_result"
    }
   ],
   "source": [
    "valid_not_healthy['sex'].value_counts()"
   ]
  },
  {
   "cell_type": "markdown",
   "metadata": {},
   "source": [
    "## NCBI Quering"
   ]
  },
  {
   "cell_type": "code",
   "execution_count": 103,
   "metadata": {},
   "outputs": [],
   "source": [
    "Entrez.email = \"giacomo.villa.mi@gmail.com\"\n",
    "\n",
    "def good_print(text):\n",
    "    print(pprint(text))\n",
    "\n",
    "def esearch(db, query, num_max = 20):\n",
    "    handle = Entrez.esearch(db = db, term = query, retmax = num_max)\n",
    "    record = Entrez.read(handle, validate = True)\n",
    "    return record\n",
    "\n",
    "def esummary(db, id_val):\n",
    "    handle = Entrez.esummary(db = db, id = id_val)\n",
    "    record = Entrez.read(handle, validate = True)\n",
    "    return record\n",
    "\n"
   ]
  },
  {
   "cell_type": "code",
   "execution_count": null,
   "metadata": {},
   "outputs": [],
   "source": [
    "healty_sample = pd.read_csv(\"./result_extraction/not_healthy_sample.csv\", header=0)"
   ]
  },
  {
   "cell_type": "code",
   "execution_count": null,
   "metadata": {},
   "outputs": [],
   "source": [
    "id_ncbi = healty_sample.iloc[0]['sample_name']"
   ]
  },
  {
   "cell_type": "code",
   "execution_count": null,
   "metadata": {},
   "outputs": [],
   "source": [
    "not_healthy_man.head()"
   ]
  },
  {
   "cell_type": "code",
   "execution_count": null,
   "metadata": {},
   "outputs": [],
   "source": [
    "for i in healthy_woman['sample_name']:\n",
    "    if i != 10317:\n",
    "        print(i)"
   ]
  },
  {
   "cell_type": "code",
   "execution_count": null,
   "metadata": {},
   "outputs": [],
   "source": [
    "esummary('sra', 10317.000001179)"
   ]
  },
  {
   "cell_type": "code",
   "execution_count": null,
   "metadata": {},
   "outputs": [],
   "source": [
    "esummary('sra', 'SRR004230')"
   ]
  },
  {
   "cell_type": "code",
   "execution_count": null,
   "metadata": {},
   "outputs": [],
   "source": []
  }
 ],
 "metadata": {
  "kernelspec": {
   "display_name": "final_project_bio",
   "language": "python",
   "name": "final_project_bio"
  },
  "language_info": {
   "codemirror_mode": {
    "name": "ipython",
    "version": 3
   },
   "file_extension": ".py",
   "mimetype": "text/x-python",
   "name": "python",
   "nbconvert_exporter": "python",
   "pygments_lexer": "ipython3",
   "version": "3.6.7"
  }
 },
 "nbformat": 4,
 "nbformat_minor": 4
}
