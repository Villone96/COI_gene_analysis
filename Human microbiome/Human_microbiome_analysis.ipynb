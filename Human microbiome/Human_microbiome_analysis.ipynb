{
 "cells": [
  {
   "cell_type": "markdown",
   "metadata": {},
   "source": [
    "## Libraries"
   ]
  },
  {
   "cell_type": "code",
   "execution_count": 229,
   "metadata": {},
   "outputs": [],
   "source": [
    "import qiime2\n",
    "from tempfile import mkdtemp\n",
    "from qiime2.plugins import demux, deblur, quality_filter, \\\n",
    "                           metadata, feature_table, alignment, \\\n",
    "                           phylogeny, diversity, emperor, feature_classifier, \\\n",
    "                           taxa, composition\n",
    "import pandas as pd\n",
    "import os\n",
    "import numpy as np\n",
    "import random"
   ]
  },
  {
   "cell_type": "markdown",
   "metadata": {},
   "source": [
    "## Functions"
   ]
  },
  {
   "cell_type": "code",
   "execution_count": 176,
   "metadata": {},
   "outputs": [],
   "source": [
    "def lorenz_formula(row, opt):\n",
    "    try:\n",
    "        if opt == 'Male':\n",
    "            lorenz_weight = int(row['height_cm']) - 100 - ((int(row['height_cm']) - 150)/4)\n",
    "        else:\n",
    "            lorenz_weight = int(row['height_cm']) - 100 - ((int(row['height_cm']) - 150)/2)\n",
    "    except:\n",
    "        lorenz_weight = -1\n",
    "    return lorenz_weight\n",
    "\n",
    "def compute_ideal_weight(dataset):\n",
    "    normal = list()\n",
    "    cont = 0\n",
    "    for _, row in dataset.iterrows():\n",
    "        cont += 1\n",
    "        if row['sex'] == 'male':\n",
    "            ideal_weight = lorenz_formula(row, 'Male')\n",
    "            value = 1\n",
    "        elif row['sex'] == 'female':\n",
    "            ideal_weight = lorenz_formula(row, 'female')\n",
    "            value = 1\n",
    "        else:\n",
    "            value = -1\n",
    "\n",
    "        if value != -1:\n",
    "            try:\n",
    "                if int(row['weight_kg']) <= ideal_weight + 5 and int(row['weight_kg']) >= ideal_weight -5:\n",
    "                    value = 1\n",
    "                else:\n",
    "                    value = -1\n",
    "            except:\n",
    "                value = -1\n",
    "        normal.append(value)\n",
    "    return normal"
   ]
  },
  {
   "cell_type": "markdown",
   "metadata": {},
   "source": [
    "## Main"
   ]
  },
  {
   "cell_type": "code",
   "execution_count": 238,
   "metadata": {},
   "outputs": [
    {
     "name": "stderr",
     "output_type": "stream",
     "text": [
      "/Users/villons/opt/anaconda3/envs/final_project_bio/lib/python3.6/site-packages/IPython/core/interactiveshell.py:3063: DtypeWarning: Columns (0,26,27,28,29,30,31,56,64,76,78,84,93,94,95,96,97,98,99,100,101,102,103,104,105,106,107,108,109,110,111,112,113,114,115,116,117,118,120,121,122,123,124,125,126,127,128,129,130,131,132,133,134,135,136,137,138,139,140,141,142,143,144,145,146,147,148,149,150,151,152,153,154,155,156,157,158,159,160,161,162,163,164,165,168,169,170,171,172,173,174,175,176,177,188,191,192,193,202,205,207,226,236,239,241,243,244,245,246,247,248,249,250,251,252,253,254,255,256,257,258,259,260,261,262,263,264,265,266,267,268,269,270,271,272,273,274,275,276,277,278,279,280,281,282,283,284,285,286,287,288,289,290,291,292,293,294,295,296,297,298,299,300,301,302,303,304,305,306,312,327,348,350,351,352,353,354,355,358,359,360,361,362,363,364,365,366,367,368,369,371,375,382,386,398,404,431,432,433,445,462,497,548,567,571,574,581,582,599,601,602,614,621,633,647,655) have mixed types. Specify dtype option on import or set low_memory=False.\n",
      "  interactivity=interactivity, compiler=compiler, result=result)\n"
     ]
    }
   ],
   "source": [
    "df = pd.read_csv(\"./data/american_gut.txt\", delimiter=\"\\t\", header=0)\n",
    "df.replace(' ', np.nan, inplace=True)"
   ]
  },
  {
   "cell_type": "code",
   "execution_count": 136,
   "metadata": {},
   "outputs": [
    {
     "name": "stdout",
     "output_type": "stream",
     "text": [
      "sample_name, acid_reflux, acne_medication, acne_medication_otc, add_adhd, age_cat, age_corrected, age_years, alcohol_consumption, alcohol_frequency, alcohol_types, alcohol_types_beercider, alcohol_types_red_wine, alcohol_types_sour_beers, alcohol_types_spiritshard_alcohol, alcohol_types_unspecified, alcohol_types_white_wine, allergic_to, allergic_to_i_have_no_food_allergies_that_i_know_of, allergic_to_other, allergic_to_peanuts, allergic_to_shellfish, allergic_to_tree_nuts, allergic_to_unspecified, altitude, alzheimers, animal_age, animal_free_text, animal_gender, animal_origin, animal_type, anonymized_name, antibiotic_history, appendix_removed, artificial_sweeteners, asd, assigned_from_geo, autoimmune, birth_year, bmi, bmi_cat, bmi_corrected, body_habitat, body_product, body_site, bowel_movement_frequency, bowel_movement_quality, breastmilk_formula_ensure, cancer, cancer_treatment, cardiovascular_disease, cat, cdiff, census_region, chickenpox, clinical_condition, collection_date, collection_date_only, collection_month, collection_season, collection_time, collection_timestamp, consume_animal_products_abx, contraceptive, coprophage, cosmetics_frequency, country, country_of_birth, country_residence, csection, deodorant_use, depression_bipolar_schizophrenia, depth, description, diabetes, diabetes_type, diet, diet_type, dna_extracted, dog, dominant_hand, drinking_water_source, drinks_per_session, economic_region, elevation, env_biome, env_feature, env_material, env_package, epilepsy_or_seizure_disorder, exercise_frequency, exercise_location, fed_as_infant, fermented_consumed, fermented_consumed_beer, fermented_consumed_chicha, fermented_consumed_cider, fermented_consumed_cottage_cheese, fermented_consumed_fermented_beansmisonatto, fermented_consumed_fermented_breadsourdoughinjera, fermented_consumed_fermented_fish, fermented_consumed_fermented_tofu, fermented_consumed_fish_sauce, fermented_consumed_kefir_milk, fermented_consumed_kefir_water, fermented_consumed_kimchi, fermented_consumed_kombucha, fermented_consumed_mead, fermented_consumed_other, fermented_consumed_pickled_vegetables, fermented_consumed_sauerkraut, fermented_consumed_sour_creamcreme_fraiche, fermented_consumed_tempeh, fermented_consumed_unspecified, fermented_consumed_wine, fermented_consumed_yogurtlassi, fermented_frequency, fermented_increased, fermented_other, fermented_plant_frequency, fermented_produce_commercial, fermented_produce_commercial_beer, fermented_produce_commercial_chicha, fermented_produce_commercial_cider, fermented_produce_commercial_cottage_cheese, fermented_produce_commercial_fermented_beansmisonatto, fermented_produce_commercial_fermented_breadsourdoughinjera, fermented_produce_commercial_fermented_fish, fermented_produce_commercial_fermented_tofu, fermented_produce_commercial_fish_sauce, fermented_produce_commercial_kefir_milk, fermented_produce_commercial_kefir_water, fermented_produce_commercial_kimchi, fermented_produce_commercial_kombucha, fermented_produce_commercial_mead, fermented_produce_commercial_other, fermented_produce_commercial_pickled_vegetables, fermented_produce_commercial_sauerkraut, fermented_produce_commercial_sour_creamcreme_fraiche, fermented_produce_commercial_tempeh, fermented_produce_commercial_unspecified, fermented_produce_commercial_wine, fermented_produce_commercial_yogurtlassi, fermented_produce_personal, fermented_produce_personal_beer, fermented_produce_personal_chicha, fermented_produce_personal_cider, fermented_produce_personal_cottage_cheese, fermented_produce_personal_fermented_beansmisonatto, fermented_produce_personal_fermented_breadsourdoughinjera, fermented_produce_personal_fermented_fish, fermented_produce_personal_fermented_tofu, fermented_produce_personal_fish_sauce, fermented_produce_personal_kefir_milk, fermented_produce_personal_kefir_water, fermented_produce_personal_kimchi, fermented_produce_personal_kombucha, fermented_produce_personal_mead, fermented_produce_personal_other, fermented_produce_personal_pickled_vegetables, fermented_produce_personal_sauerkraut, fermented_produce_personal_sour_creamcreme_fraiche, fermented_produce_personal_tempeh, fermented_produce_personal_unspecified, fermented_produce_personal_wine, fermented_produce_personal_yogurtlassi, flossing_frequency, flu_vaccine_date, food_source, food_source_human_food, food_source_pet_store_food, food_source_unspecified, food_source_wild_food, food_special, food_special_grain_free, food_special_organic, food_special_unspecified, food_type, frozen_dessert_frequency, fruit_frequency, fungal_overgrowth, geo_loc_name, gluten, has_physical_specimen, height_cm, height_units, high_fat_red_meat_frequency, homecooked_meals_frequency, host, host_common_name, host_subject_id, host_taxid, hours_outside, humans_free_text, ibd, ibd_diagnosis, ibd_diagnosis_refined, ibs, kidney_disease, lactose, last_move, last_travel, latitude, level_of_education, liver_disease, living_status, livingwith, longitude, lowgrain_diet_type, lung_disease, meat_eggs_frequency, mental_illness, mental_illness_type, mental_illness_type_anorexia_nervosa, mental_illness_type_bipolar_disorder, mental_illness_type_bulimia_nervosa, mental_illness_type_depression, mental_illness_type_ptsd_posttraumatic_stress_disorder, mental_illness_type_schizophrenia, mental_illness_type_substance_abuse, mental_illness_type_unspecified, migraine, milk_cheese_frequency, milk_substitute_frequency, multivitamin, nail_biter, name, non_food_allergies, non_food_allergies_beestings, non_food_allergies_drug_eg_penicillin, non_food_allergies_pet_dander, non_food_allergies_poison_ivyoak, non_food_allergies_sun, non_food_allergies_unspecified, olive_oil, one_liter_of_water_a_day_frequency, other_animals_free_text, other_supplement_frequency, pets_other, pets_other_freetext, physical_specimen_location, physical_specimen_remaining, pku, pm_age, pm_concern, pm_education, pm_email, pm_ethnicity, pm_experience_worth_it, pm_gastro_problems, pm_gastro_problems_crohns_disease_or_ulcerative_colitis, pm_gastro_problems_frequent_more_than_once_a_week_constipation, pm_gastro_problems_frequent_more_than_once_a_week_diarrhea, pm_gastro_problems_gastrointestinal_cancer, pm_gastro_problems_i_have_had_surgery_on_my_intestines, pm_gastro_problems_irritable_bowel_syndrome_ibs, pm_gastro_problems_other, pm_gastro_problems_unspecified, pm_gender, pm_health, pm_lifestyle_change, pm_lifestyle_change_how, pm_lifestyle_change_how_change_in_alcohol_or_tobacco_use_ie_starting_stopping_or_changing_amount_consumed, pm_lifestyle_change_how_change_in_diet_ie_taking_a_probiotic, pm_lifestyle_change_how_change_in_exercise, pm_lifestyle_change_how_change_in_physical_environment_ie_adopting_or_getting_rid_of_a_pet_cleaning_more_or_less_often, pm_lifestyle_change_how_change_in_use_of_nutritional_supplements_or_vitamins, pm_lifestyle_change_how_other, pm_lifestyle_change_how_unspecified, pm_name, pm_participation_reason, pm_participation_reason_desire_to_improve_my_health, pm_participation_reason_general_curiosityinterest_in_learning_about_my_microbiome, pm_participation_reason_i_have_gastrointestinal_problems, pm_participation_reason_i_have_other_microbiomerelevant_health_problems, pm_participation_reason_interest_in_contributing_to_science, pm_participation_reason_other, pm_participation_reason_people_in_my_family_or_social_network_have_done_it, pm_participation_reason_professional_interest_in_the_microbiome, pm_participation_reason_the_study_seemed_fun_and_entertaining, pm_participation_reason_unspecified, pm_recontact, pm_shared, pm_shared_pcp, pm_shared_pcp_changes, pm_shared_pcp_changes_what, pm_shared_pcp_changes_what_change_in_behaviorallifestyle_recommendations_eg_start_probiotic, pm_shared_pcp_changes_what_change_in_medication_ie_starting_stopping_or_changing_the_dose_of_a_prescription, pm_shared_pcp_changes_what_ordered_additional_labs_tests_or_procedures, pm_shared_pcp_changes_what_other, pm_shared_pcp_changes_what_referral_to_a_specialist_eg_gastroenterologist, pm_shared_pcp_changes_what_unspecified, pm_shared_who, pm_shared_who_colleagues, pm_shared_who_family_members, pm_shared_who_friends, pm_shared_who_nutritionistdietician, pm_shared_who_other, pm_shared_who_other_medical_or_health_professional, pm_shared_who_posteddiscussed_on_an_online_patienthealth_platform_ie_patientslikeme, pm_shared_who_posteddiscussed_on_data_sharing_platform_ie_open_humans, pm_shared_who_posteddiscussed_on_social_networking_site_ie_facebook, pm_shared_who_primary_care_physician, pm_shared_who_specialty_physician_eg_gastroenterologist, pm_shared_who_unspecified, pm_understand_results, pm_useful, pool_frequency, poultry_frequency, pregnant, prepared_meals_frequency, probiotic_frequency, public, qiita_empo_1, qiita_empo_2, qiita_empo_3, qiita_study_id, race, ready_to_eat_meals_frequency, red_meat_frequency, roommates, roommates_in_study, salted_snacks_frequency, sample_type, scientific_name, seafood_frequency, seasonal_allergies, setting, sex, sibo, skin_condition, sleep_duration, smoking_frequency, softener, specialized_diet, specialized_diet_exclude_dairy, specialized_diet_exclude_nightshades, specialized_diet_exclude_refined_sugars, specialized_diet_fodmap, specialized_diet_halaal, specialized_diet_i_do_not_eat_a_specialized_diet, specialized_diet_kosher, specialized_diet_modified_paleo_diet, specialized_diet_other_restrictions_not_described_here, specialized_diet_paleodiet_or_primal_diet, specialized_diet_raw_food_diet, specialized_diet_unspecified, specialized_diet_westenprice_or_other_lowgrain_low_processed_fo, specialized_diet_westenprice_or_other_lowgrain_low_processed_food_diet, state, subset_age, subset_antibiotic_history, subset_bmi, subset_diabetes, subset_healthy, subset_ibd, sugar_sweetened_drink_frequency, sugary_sweets_frequency, surf_board_type, surf_frequency, surf_loal_break_frequency, surf_local_break, surf_shower_frequency, surf_stance, surf_sunscreen, surf_sunscreen_frequency, surf_travel_distance, surf_travel_frequency, surf_wax, surf_weetsuit, survey_id, taxon_id, teethbrushing_frequency, thyroid, title, toilet_water_access, tonsils_removed, types_of_plants, vegetable_frequency, vioscreen_a_bev, vioscreen_a_cal, vioscreen_acesupot, vioscreen_activity_level, vioscreen_add_sug, vioscreen_addsugar, vioscreen_adsugtot, vioscreen_age, vioscreen_alanine, vioscreen_alcohol, vioscreen_alcohol_servings, vioscreen_alphacar, vioscreen_alphtoce, vioscreen_alphtoco, vioscreen_arginine, vioscreen_ash, vioscreen_aspartam, vioscreen_aspartic, vioscreen_avcarb, vioscreen_bcodeid, vioscreen_betacar, vioscreen_betacryp, vioscreen_betaine, vioscreen_betatoco, vioscreen_biochana, vioscreen_bmi, vioscreen_caffeine, vioscreen_calcium, vioscreen_calcium_avg, vioscreen_calcium_dose, vioscreen_calcium_freq, vioscreen_calcium_from_dairy_servings, vioscreen_calcium_servings, vioscreen_calories, vioscreen_carbo, vioscreen_cholest, vioscreen_choline, vioscreen_clac9t11, vioscreen_clat10c12, vioscreen_copper, vioscreen_coumest, vioscreen_cystine, vioscreen_d_cheese, vioscreen_d_milk, vioscreen_d_tot_soym, vioscreen_d_total, vioscreen_d_yogurt, vioscreen_daidzein, vioscreen_database, vioscreen_delttoco, vioscreen_discfat_oil, vioscreen_discfat_sol, vioscreen_dob, vioscreen_eer, vioscreen_email, vioscreen_erythr, vioscreen_f_citmlb, vioscreen_f_nj_citmlb, vioscreen_f_nj_other, vioscreen_f_nj_total, vioscreen_f_other, vioscreen_f_total, vioscreen_fat, vioscreen_fiber, vioscreen_fibh2o, vioscreen_fibinso, vioscreen_finished, vioscreen_fish_servings, vioscreen_fol_deqv, vioscreen_fol_nat, vioscreen_fol_syn, vioscreen_formontn, vioscreen_fried_fish_servings, vioscreen_fried_food_servings, vioscreen_frt5_day, vioscreen_frtsumm, vioscreen_fructose, vioscreen_fruit_servings, vioscreen_g_nwhl, vioscreen_g_total, vioscreen_g_whl, vioscreen_galactos, vioscreen_gammtoco, vioscreen_gender, vioscreen_genistn, vioscreen_glac, vioscreen_gltc, vioscreen_glucose, vioscreen_glutamic, vioscreen_glycine, vioscreen_glycitn, vioscreen_grams, vioscreen_hei2010_dairy, vioscreen_hei2010_empty_calories, vioscreen_hei2010_fatty_acids, vioscreen_hei2010_fruit, vioscreen_hei2010_greens_beans, vioscreen_hei2010_protien_foods, vioscreen_hei2010_refined_grains, vioscreen_hei2010_score, vioscreen_hei2010_sea_foods_plant_protiens, vioscreen_hei2010_sodium, vioscreen_hei2010_veg, vioscreen_hei2010_whole_fruit, vioscreen_hei2010_whole_grains, vioscreen_hei_drk_g_org_veg_leg, vioscreen_hei_fruit, vioscreen_hei_grains, vioscreen_hei_meat_beans, vioscreen_hei_milk, vioscreen_hei_non_juice_frt, vioscreen_hei_oils, vioscreen_hei_sat_fat, vioscreen_hei_score, vioscreen_hei_sodium, vioscreen_hei_sol_fat_alc_add_sug, vioscreen_hei_veg, vioscreen_hei_whl_grains, vioscreen_height, vioscreen_histidin, vioscreen_inositol, vioscreen_iron, vioscreen_isoleuc, vioscreen_isomalt, vioscreen_joules, vioscreen_juice_servings, vioscreen_lactitol, vioscreen_lactose, vioscreen_legumes, vioscreen_leucine, vioscreen_line_gi, vioscreen_low_fat_dairy_serving, vioscreen_lutzeax, vioscreen_lycopene, vioscreen_lysine, vioscreen_m_egg, vioscreen_m_fish_hi, vioscreen_m_fish_lo, vioscreen_m_frank, vioscreen_m_meat, vioscreen_m_mpf, vioscreen_m_nutsd, vioscreen_m_organ, vioscreen_m_poult, vioscreen_m_soy, vioscreen_magnes, vioscreen_maltitol, vioscreen_maltose, vioscreen_mangan, vioscreen_mannitol, vioscreen_methhis3, vioscreen_methion, vioscreen_mfa141, vioscreen_mfa161, vioscreen_mfa181, vioscreen_mfa201, vioscreen_mfa221, vioscreen_mfatot, vioscreen_multi_calcium_avg, vioscreen_multi_calcium_dose, vioscreen_multivitamin, vioscreen_multivitamin_freq, vioscreen_natoco, vioscreen_nccglbr, vioscreen_nccglgr, vioscreen_niacin, vioscreen_niacineq, vioscreen_nitrogen, vioscreen_non_fried_fish_servings, vioscreen_nutrient_recommendation, vioscreen_omega3, vioscreen_oxalic, vioscreen_oxalicm, vioscreen_pantothe, vioscreen_pectins, vioscreen_pfa182, vioscreen_pfa183, vioscreen_pfa184, vioscreen_pfa204, vioscreen_pfa205, vioscreen_pfa225, vioscreen_pfa226, vioscreen_pfatot, vioscreen_phenylal, vioscreen_phosphor, vioscreen_phytic, vioscreen_pinitol, vioscreen_potass, vioscreen_procdate, vioscreen_proline, vioscreen_protanim, vioscreen_protein, vioscreen_protocol, vioscreen_protveg, vioscreen_questionnaire, vioscreen_recno, vioscreen_retinol, vioscreen_rgrain, vioscreen_ribofla, vioscreen_sacchar, vioscreen_salad_vegetable_servings, vioscreen_satoco, vioscreen_scf, vioscreen_scfv, vioscreen_selenium, vioscreen_serine, vioscreen_sfa100, vioscreen_sfa120, vioscreen_sfa140, vioscreen_sfa160, vioscreen_sfa170, vioscreen_sfa180, vioscreen_sfa200, vioscreen_sfa220, vioscreen_sfa40, vioscreen_sfa60, vioscreen_sfa80, vioscreen_sfatot, vioscreen_sodium, vioscreen_sorbitol, vioscreen_srvid, vioscreen_starch, vioscreen_started, vioscreen_subject_id, vioscreen_sucpoly, vioscreen_sucrlose, vioscreen_sucrose, vioscreen_sweet_servings, vioscreen_tagatose, vioscreen_tfa161t, vioscreen_tfa181t, vioscreen_tfa182t, vioscreen_tgrain, vioscreen_thiamin, vioscreen_threonin, vioscreen_time, vioscreen_totaltfa, vioscreen_totcla, vioscreen_totfolat, vioscreen_totsugar, vioscreen_tryptoph, vioscreen_tyrosine, vioscreen_user_id, vioscreen_v_drkgr, vioscreen_v_orange, vioscreen_v_other, vioscreen_v_potato, vioscreen_v_starcy, vioscreen_v_tomato, vioscreen_v_total, vioscreen_valine, vioscreen_veg5_day, vioscreen_vegetable_servings, vioscreen_vegsumm, vioscreen_visit, vioscreen_vita_iu, vioscreen_vita_rae, vioscreen_vita_re, vioscreen_vitb12, vioscreen_vitb6, vioscreen_vitc, vioscreen_vitd, vioscreen_vitd2, vioscreen_vitd3, vioscreen_vitd_iu, vioscreen_vite_iu, vioscreen_vitk, vioscreen_water, vioscreen_weight, vioscreen_wgrain, vioscreen_whole_grain_servings, vioscreen_xylitol, vioscreen_zinc, vitamin_b_supplement_frequency, vitamin_d_supplement_frequency, vivid_dreams, weight_cat, weight_change, weight_kg, weight_units, whole_eggs, whole_grain_frequency, "
     ]
    }
   ],
   "source": [
    "for column in df.columns:\n",
    "    print(column, end = ', ')"
   ]
  },
  {
   "cell_type": "code",
   "execution_count": 198,
   "metadata": {},
   "outputs": [],
   "source": [
    "def manage_age(ages):\n",
    "    int_ages = list()\n",
    "    for age in ages:\n",
    "        try:\n",
    "            age = int(age)\n",
    "        except:\n",
    "            age\n",
    "            age = -1\n",
    "        int_ages.append(age)\n",
    "    return int_ages"
   ]
  },
  {
   "cell_type": "code",
   "execution_count": 217,
   "metadata": {},
   "outputs": [
    {
     "name": "stdout",
     "output_type": "stream",
     "text": [
      "242\n"
     ]
    }
   ],
   "source": [
    "filt = (df['smoking_frequency'] == 'Never') & (df['alcohol_frequency'] == 'Never') \n",
    "sane = df[filt]\n",
    "\n",
    "filt = (sane['cancer'] == 'I do not have this condition')\n",
    "sane = sane[filt]\n",
    "\n",
    "sane['normal'] = compute_ideal_weight(sane)\n",
    "filt = (sane['normal'] == 1)\n",
    "sane = sane[filt]\n",
    "\n",
    "sane['age_years'] = manage_age(sane['age_years'])\n",
    "filt = (sane['age_years'] >= 20) & (sane['age_years'] <= 40)\n",
    "sane = sane[filt]\n",
    "\n",
    "filt = (sane['sex'] == 'male')\n",
    "sane_man = sane[filt]\n",
    "sane_woman = sane[filt == False]"
   ]
  },
  {
   "cell_type": "code",
   "execution_count": 234,
   "metadata": {},
   "outputs": [],
   "source": [
    "sample_man = set()\n",
    "final_sample = pd.Dataframe(columns=df.columns)\n",
    "for i in range(25):\n",
    "    element = random.randint(0, len(sane_man))\n",
    "    while element in sample_man:\n",
    "        element = random.randint(0, len(sane_man))\n",
    "    sample_man.add(element)\n",
    "    "
   ]
  },
  {
   "cell_type": "code",
   "execution_count": 235,
   "metadata": {},
   "outputs": [
    {
     "data": {
      "text/plain": [
       "{1,\n",
       " 3,\n",
       " 5,\n",
       " 17,\n",
       " 19,\n",
       " 20,\n",
       " 28,\n",
       " 30,\n",
       " 33,\n",
       " 38,\n",
       " 40,\n",
       " 45,\n",
       " 46,\n",
       " 48,\n",
       " 50,\n",
       " 51,\n",
       " 57,\n",
       " 59,\n",
       " 60,\n",
       " 61,\n",
       " 62,\n",
       " 64,\n",
       " 65,\n",
       " 73,\n",
       " 74}"
      ]
     },
     "execution_count": 235,
     "metadata": {},
     "output_type": "execute_result"
    }
   ],
   "source": []
  },
  {
   "cell_type": "code",
   "execution_count": 225,
   "metadata": {},
   "outputs": [
    {
     "data": {
      "text/plain": [
       "242"
      ]
     },
     "execution_count": 225,
     "metadata": {},
     "output_type": "execute_result"
    }
   ],
   "source": [
    "len(sane_woman) + len(sane_man)"
   ]
  },
  {
   "cell_type": "code",
   "execution_count": 218,
   "metadata": {},
   "outputs": [
    {
     "data": {
      "text/plain": [
       "31.550898203592816"
      ]
     },
     "execution_count": 218,
     "metadata": {},
     "output_type": "execute_result"
    }
   ],
   "source": [
    "np.mean(sane_woman['age_years'])\n",
    "\n",
    "# mean man and woman: 31.694214876033058\n",
    "# mean man: 32.013333333333335\n",
    "# mean woman: 31.550898203592816"
   ]
  },
  {
   "cell_type": "code",
   "execution_count": 190,
   "metadata": {},
   "outputs": [
    {
     "data": {
      "text/html": [
       "<div>\n",
       "<style scoped>\n",
       "    .dataframe tbody tr th:only-of-type {\n",
       "        vertical-align: middle;\n",
       "    }\n",
       "\n",
       "    .dataframe tbody tr th {\n",
       "        vertical-align: top;\n",
       "    }\n",
       "\n",
       "    .dataframe thead th {\n",
       "        text-align: right;\n",
       "    }\n",
       "</style>\n",
       "<table border=\"1\" class=\"dataframe\">\n",
       "  <thead>\n",
       "    <tr style=\"text-align: right;\">\n",
       "      <th></th>\n",
       "      <th>sample_name</th>\n",
       "      <th>acid_reflux</th>\n",
       "      <th>acne_medication</th>\n",
       "      <th>acne_medication_otc</th>\n",
       "      <th>add_adhd</th>\n",
       "      <th>age_cat</th>\n",
       "      <th>age_corrected</th>\n",
       "      <th>age_years</th>\n",
       "      <th>alcohol_consumption</th>\n",
       "      <th>alcohol_frequency</th>\n",
       "      <th>...</th>\n",
       "      <th>vitamin_b_supplement_frequency</th>\n",
       "      <th>vitamin_d_supplement_frequency</th>\n",
       "      <th>vivid_dreams</th>\n",
       "      <th>weight_cat</th>\n",
       "      <th>weight_change</th>\n",
       "      <th>weight_kg</th>\n",
       "      <th>weight_units</th>\n",
       "      <th>whole_eggs</th>\n",
       "      <th>whole_grain_frequency</th>\n",
       "      <th>normal</th>\n",
       "    </tr>\n",
       "  </thead>\n",
       "  <tbody>\n",
       "    <tr>\n",
       "      <th>554</th>\n",
       "      <td>10317.000002223</td>\n",
       "      <td>I do not have this condition</td>\n",
       "      <td>No</td>\n",
       "      <td>No</td>\n",
       "      <td>Self-diagnosed</td>\n",
       "      <td>30s</td>\n",
       "      <td>36.0</td>\n",
       "      <td>36</td>\n",
       "      <td>No</td>\n",
       "      <td>Never</td>\n",
       "      <td>...</td>\n",
       "      <td>Rarely (a few times/month)</td>\n",
       "      <td>Never</td>\n",
       "      <td>Never</td>\n",
       "      <td>NaN</td>\n",
       "      <td>Remained stable</td>\n",
       "      <td>69</td>\n",
       "      <td>kilograms</td>\n",
       "      <td>Regularly (3-5 times/week)</td>\n",
       "      <td>Unspecified</td>\n",
       "      <td>1</td>\n",
       "    </tr>\n",
       "    <tr>\n",
       "      <th>555</th>\n",
       "      <td>10317.000002224</td>\n",
       "      <td>I do not have this condition</td>\n",
       "      <td>false</td>\n",
       "      <td>false</td>\n",
       "      <td>Self-diagnosed</td>\n",
       "      <td>30s</td>\n",
       "      <td>36.0</td>\n",
       "      <td>36</td>\n",
       "      <td>false</td>\n",
       "      <td>Never</td>\n",
       "      <td>...</td>\n",
       "      <td>Rarely (a few times/month)</td>\n",
       "      <td>Never</td>\n",
       "      <td>Never</td>\n",
       "      <td>NaN</td>\n",
       "      <td>Remained stable</td>\n",
       "      <td>69</td>\n",
       "      <td>kilograms</td>\n",
       "      <td>Regularly (3-5 times/week)</td>\n",
       "      <td>Not provided</td>\n",
       "      <td>1</td>\n",
       "    </tr>\n",
       "    <tr>\n",
       "      <th>3338</th>\n",
       "      <td>10317.000011356</td>\n",
       "      <td>I do not have this condition</td>\n",
       "      <td>No</td>\n",
       "      <td>No</td>\n",
       "      <td>I do not have this condition</td>\n",
       "      <td>60s</td>\n",
       "      <td>64.0</td>\n",
       "      <td>64</td>\n",
       "      <td>No</td>\n",
       "      <td>Never</td>\n",
       "      <td>...</td>\n",
       "      <td>Never</td>\n",
       "      <td>Never</td>\n",
       "      <td>Never</td>\n",
       "      <td>NaN</td>\n",
       "      <td>Remained stable</td>\n",
       "      <td>60</td>\n",
       "      <td>kilograms</td>\n",
       "      <td>Daily</td>\n",
       "      <td>Regularly (3-5 times/week)</td>\n",
       "      <td>1</td>\n",
       "    </tr>\n",
       "    <tr>\n",
       "      <th>5026</th>\n",
       "      <td>10317.000015938</td>\n",
       "      <td>I do not have this condition</td>\n",
       "      <td>No</td>\n",
       "      <td>No</td>\n",
       "      <td>I do not have this condition</td>\n",
       "      <td>50s</td>\n",
       "      <td>54.0</td>\n",
       "      <td>54</td>\n",
       "      <td>No</td>\n",
       "      <td>Never</td>\n",
       "      <td>...</td>\n",
       "      <td>Occasionally (1-2 times/week)</td>\n",
       "      <td>Occasionally (1-2 times/week)</td>\n",
       "      <td>Occasionally (1-2 times/week)</td>\n",
       "      <td>NaN</td>\n",
       "      <td>Remained stable</td>\n",
       "      <td>58</td>\n",
       "      <td>kilograms</td>\n",
       "      <td>Occasionally (1-2 times/week)</td>\n",
       "      <td>Unspecified</td>\n",
       "      <td>1</td>\n",
       "    </tr>\n",
       "    <tr>\n",
       "      <th>5546</th>\n",
       "      <td>10317</td>\n",
       "      <td>Diagnosed by a medical professional (doctor, p...</td>\n",
       "      <td>No</td>\n",
       "      <td>No</td>\n",
       "      <td>I do not have this condition</td>\n",
       "      <td>30s</td>\n",
       "      <td>33.0</td>\n",
       "      <td>33</td>\n",
       "      <td>No</td>\n",
       "      <td>Never</td>\n",
       "      <td>...</td>\n",
       "      <td>Regularly (3-5 times/week)</td>\n",
       "      <td>Daily</td>\n",
       "      <td>Regularly (3-5 times/week)</td>\n",
       "      <td>NaN</td>\n",
       "      <td>Remained stable</td>\n",
       "      <td>56</td>\n",
       "      <td>kilograms</td>\n",
       "      <td>Regularly (3-5 times/week)</td>\n",
       "      <td>Rarely (less than once/week)</td>\n",
       "      <td>1</td>\n",
       "    </tr>\n",
       "  </tbody>\n",
       "</table>\n",
       "<p>5 rows × 662 columns</p>\n",
       "</div>"
      ],
      "text/plain": [
       "          sample_name                                        acid_reflux  \\\n",
       "554   10317.000002223                       I do not have this condition   \n",
       "555   10317.000002224                       I do not have this condition   \n",
       "3338  10317.000011356                       I do not have this condition   \n",
       "5026  10317.000015938                       I do not have this condition   \n",
       "5546            10317  Diagnosed by a medical professional (doctor, p...   \n",
       "\n",
       "     acne_medication acne_medication_otc                      add_adhd  \\\n",
       "554               No                  No                Self-diagnosed   \n",
       "555            false               false                Self-diagnosed   \n",
       "3338              No                  No  I do not have this condition   \n",
       "5026              No                  No  I do not have this condition   \n",
       "5546              No                  No  I do not have this condition   \n",
       "\n",
       "     age_cat age_corrected age_years alcohol_consumption alcohol_frequency  \\\n",
       "554      30s          36.0        36                  No             Never   \n",
       "555      30s          36.0        36               false             Never   \n",
       "3338     60s          64.0        64                  No             Never   \n",
       "5026     50s          54.0        54                  No             Never   \n",
       "5546     30s          33.0        33                  No             Never   \n",
       "\n",
       "      ... vitamin_b_supplement_frequency vitamin_d_supplement_frequency  \\\n",
       "554   ...     Rarely (a few times/month)                          Never   \n",
       "555   ...     Rarely (a few times/month)                          Never   \n",
       "3338  ...                          Never                          Never   \n",
       "5026  ...  Occasionally (1-2 times/week)  Occasionally (1-2 times/week)   \n",
       "5546  ...     Regularly (3-5 times/week)                          Daily   \n",
       "\n",
       "                       vivid_dreams weight_cat    weight_change weight_kg  \\\n",
       "554                           Never        NaN  Remained stable        69   \n",
       "555                           Never        NaN  Remained stable        69   \n",
       "3338                          Never        NaN  Remained stable        60   \n",
       "5026  Occasionally (1-2 times/week)        NaN  Remained stable        58   \n",
       "5546     Regularly (3-5 times/week)        NaN  Remained stable        56   \n",
       "\n",
       "     weight_units                     whole_eggs  \\\n",
       "554     kilograms     Regularly (3-5 times/week)   \n",
       "555     kilograms     Regularly (3-5 times/week)   \n",
       "3338    kilograms                          Daily   \n",
       "5026    kilograms  Occasionally (1-2 times/week)   \n",
       "5546    kilograms     Regularly (3-5 times/week)   \n",
       "\n",
       "             whole_grain_frequency normal  \n",
       "554                    Unspecified      1  \n",
       "555                   Not provided      1  \n",
       "3338    Regularly (3-5 times/week)      1  \n",
       "5026                   Unspecified      1  \n",
       "5546  Rarely (less than once/week)      1  \n",
       "\n",
       "[5 rows x 662 columns]"
      ]
     },
     "execution_count": 190,
     "metadata": {},
     "output_type": "execute_result"
    }
   ],
   "source": [
    "sane.head()"
   ]
  },
  {
   "cell_type": "code",
   "execution_count": 205,
   "metadata": {},
   "outputs": [
    {
     "data": {
      "text/plain": [
       "117"
      ]
     },
     "execution_count": 205,
     "metadata": {},
     "output_type": "execute_result"
    }
   ],
   "source": [
    "filt = ((df['smoking_frequency'] == 'Regularly (3-5 times/week)') | (df['smoking_frequency'] == 'Daily') & (df['alcohol_frequency'] == 'Regularly (3-5 times/week)') | (df['alcohol_frequency'] == 'Daily'))\n",
    "not_sane = df[filt]\n",
    "\n",
    "filt = (not_sane['cancer'] == 'I do not have this condition')\n",
    "not_sane = not_sane[filt] \n",
    "\n",
    "not_sane['normal'] = compute_ideal_weight(not_sane)\n",
    "filt = (not_sane['normal'] == -1)\n",
    "not_sane = not_sane[filt]\n",
    "\n",
    "not_sane['age_years'] = manage_age(not_sane['age_years'])\n",
    "filt = (not_sane['age_years'] >= 20) & (not_sane['age_years'] <= 40)\n",
    "not_sane = not_sane[filt]\n",
    "\n"
   ]
  },
  {
   "cell_type": "code",
   "execution_count": 208,
   "metadata": {},
   "outputs": [
    {
     "data": {
      "text/plain": [
       "33.162393162393165"
      ]
     },
     "execution_count": 208,
     "metadata": {},
     "output_type": "execute_result"
    }
   ],
   "source": [
    "np.mean(not_sane['age_years'])"
   ]
  },
  {
   "cell_type": "code",
   "execution_count": 211,
   "metadata": {},
   "outputs": [
    {
     "data": {
      "text/plain": [
       "UBERON:feces                       93\n",
       "UBERON:tongue                       6\n",
       "UBERON:skin of trunk                4\n",
       "UBERON:skin of head                 4\n",
       "UBERON:eye                          2\n",
       "UBERON:external auditory meatus     2\n",
       "UBERON:nostril                      2\n",
       "UBERON:skin of leg                  2\n",
       "UBERON:skin of hand                 2\n",
       "Name: body_site, dtype: int64"
      ]
     },
     "execution_count": 211,
     "metadata": {},
     "output_type": "execute_result"
    }
   ],
   "source": [
    "not_sane['body_site'].value_counts()"
   ]
  },
  {
   "cell_type": "code",
   "execution_count": 206,
   "metadata": {},
   "outputs": [
    {
     "data": {
      "text/html": [
       "<div>\n",
       "<style scoped>\n",
       "    .dataframe tbody tr th:only-of-type {\n",
       "        vertical-align: middle;\n",
       "    }\n",
       "\n",
       "    .dataframe tbody tr th {\n",
       "        vertical-align: top;\n",
       "    }\n",
       "\n",
       "    .dataframe thead th {\n",
       "        text-align: right;\n",
       "    }\n",
       "</style>\n",
       "<table border=\"1\" class=\"dataframe\">\n",
       "  <thead>\n",
       "    <tr style=\"text-align: right;\">\n",
       "      <th></th>\n",
       "      <th>sample_name</th>\n",
       "      <th>acid_reflux</th>\n",
       "      <th>acne_medication</th>\n",
       "      <th>acne_medication_otc</th>\n",
       "      <th>add_adhd</th>\n",
       "      <th>age_cat</th>\n",
       "      <th>age_corrected</th>\n",
       "      <th>age_years</th>\n",
       "      <th>alcohol_consumption</th>\n",
       "      <th>alcohol_frequency</th>\n",
       "      <th>...</th>\n",
       "      <th>vitamin_b_supplement_frequency</th>\n",
       "      <th>vitamin_d_supplement_frequency</th>\n",
       "      <th>vivid_dreams</th>\n",
       "      <th>weight_cat</th>\n",
       "      <th>weight_change</th>\n",
       "      <th>weight_kg</th>\n",
       "      <th>weight_units</th>\n",
       "      <th>whole_eggs</th>\n",
       "      <th>whole_grain_frequency</th>\n",
       "      <th>normal</th>\n",
       "    </tr>\n",
       "  </thead>\n",
       "  <tbody>\n",
       "    <tr>\n",
       "      <th>7525</th>\n",
       "      <td>10317</td>\n",
       "      <td>I do not have this condition</td>\n",
       "      <td>No</td>\n",
       "      <td>No</td>\n",
       "      <td>I do not have this condition</td>\n",
       "      <td>30s</td>\n",
       "      <td>33.0</td>\n",
       "      <td>33</td>\n",
       "      <td>Yes</td>\n",
       "      <td>Daily</td>\n",
       "      <td>...</td>\n",
       "      <td>Never</td>\n",
       "      <td>Never</td>\n",
       "      <td>Rarely (a few times/month)</td>\n",
       "      <td>NaN</td>\n",
       "      <td>Remained stable</td>\n",
       "      <td>80</td>\n",
       "      <td>kilograms</td>\n",
       "      <td>Regularly (3-5 times/week)</td>\n",
       "      <td>Regularly (3-5 times/week)</td>\n",
       "      <td>-1</td>\n",
       "    </tr>\n",
       "    <tr>\n",
       "      <th>7780</th>\n",
       "      <td>10317</td>\n",
       "      <td>I do not have this condition</td>\n",
       "      <td>No</td>\n",
       "      <td>No</td>\n",
       "      <td>I do not have this condition</td>\n",
       "      <td>30s</td>\n",
       "      <td>35</td>\n",
       "      <td>35</td>\n",
       "      <td>Yes</td>\n",
       "      <td>Daily</td>\n",
       "      <td>...</td>\n",
       "      <td>Daily</td>\n",
       "      <td>Daily</td>\n",
       "      <td>Rarely (a few times/month)</td>\n",
       "      <td>NaN</td>\n",
       "      <td>Remained stable</td>\n",
       "      <td>71</td>\n",
       "      <td>kilograms</td>\n",
       "      <td>Daily</td>\n",
       "      <td>Occasionally (1-2 times/week)</td>\n",
       "      <td>-1</td>\n",
       "    </tr>\n",
       "    <tr>\n",
       "      <th>8950</th>\n",
       "      <td>10317</td>\n",
       "      <td>I do not have this condition</td>\n",
       "      <td>false</td>\n",
       "      <td>false</td>\n",
       "      <td>I do not have this condition</td>\n",
       "      <td>30s</td>\n",
       "      <td>33.0</td>\n",
       "      <td>33</td>\n",
       "      <td>true</td>\n",
       "      <td>Daily</td>\n",
       "      <td>...</td>\n",
       "      <td>Never</td>\n",
       "      <td>Never</td>\n",
       "      <td>Regularly (3-5 times/week)</td>\n",
       "      <td>NaN</td>\n",
       "      <td>Remained stable</td>\n",
       "      <td>68</td>\n",
       "      <td>kilograms</td>\n",
       "      <td>Occasionally (1-2 times/week)</td>\n",
       "      <td>Occasionally (1-2 times/week)</td>\n",
       "      <td>-1</td>\n",
       "    </tr>\n",
       "    <tr>\n",
       "      <th>9651</th>\n",
       "      <td>10317</td>\n",
       "      <td>I do not have this condition</td>\n",
       "      <td>false</td>\n",
       "      <td>false</td>\n",
       "      <td>Diagnosed by a medical professional (doctor, p...</td>\n",
       "      <td>30s</td>\n",
       "      <td>32.0</td>\n",
       "      <td>32</td>\n",
       "      <td>true</td>\n",
       "      <td>Daily</td>\n",
       "      <td>...</td>\n",
       "      <td>Never</td>\n",
       "      <td>Daily</td>\n",
       "      <td>Never</td>\n",
       "      <td>NaN</td>\n",
       "      <td>Remained stable</td>\n",
       "      <td>81</td>\n",
       "      <td>kilograms</td>\n",
       "      <td>Occasionally (1-2 times/week)</td>\n",
       "      <td>Regularly (3-5 times/week)</td>\n",
       "      <td>-1</td>\n",
       "    </tr>\n",
       "    <tr>\n",
       "      <th>10448</th>\n",
       "      <td>10317.000038160</td>\n",
       "      <td>Not provided</td>\n",
       "      <td>false</td>\n",
       "      <td>false</td>\n",
       "      <td>Not provided</td>\n",
       "      <td>30s</td>\n",
       "      <td>34.0</td>\n",
       "      <td>34</td>\n",
       "      <td>true</td>\n",
       "      <td>Regularly (3-5 times/week)</td>\n",
       "      <td>...</td>\n",
       "      <td>Never</td>\n",
       "      <td>Never</td>\n",
       "      <td>Never</td>\n",
       "      <td>NaN</td>\n",
       "      <td>Remained stable</td>\n",
       "      <td>91</td>\n",
       "      <td>kilograms</td>\n",
       "      <td>Occasionally (1-2 times/week)</td>\n",
       "      <td>Occasionally (1-2 times/week)</td>\n",
       "      <td>-1</td>\n",
       "    </tr>\n",
       "  </tbody>\n",
       "</table>\n",
       "<p>5 rows × 662 columns</p>\n",
       "</div>"
      ],
      "text/plain": [
       "           sample_name                   acid_reflux acne_medication  \\\n",
       "7525             10317  I do not have this condition              No   \n",
       "7780             10317  I do not have this condition              No   \n",
       "8950             10317  I do not have this condition           false   \n",
       "9651             10317  I do not have this condition           false   \n",
       "10448  10317.000038160                  Not provided           false   \n",
       "\n",
       "      acne_medication_otc                                           add_adhd  \\\n",
       "7525                   No                       I do not have this condition   \n",
       "7780                   No                       I do not have this condition   \n",
       "8950                false                       I do not have this condition   \n",
       "9651                false  Diagnosed by a medical professional (doctor, p...   \n",
       "10448               false                                       Not provided   \n",
       "\n",
       "      age_cat age_corrected  age_years alcohol_consumption  \\\n",
       "7525      30s          33.0         33                 Yes   \n",
       "7780      30s            35         35                 Yes   \n",
       "8950      30s          33.0         33                true   \n",
       "9651      30s          32.0         32                true   \n",
       "10448     30s          34.0         34                true   \n",
       "\n",
       "                alcohol_frequency  ... vitamin_b_supplement_frequency  \\\n",
       "7525                        Daily  ...                          Never   \n",
       "7780                        Daily  ...                          Daily   \n",
       "8950                        Daily  ...                          Never   \n",
       "9651                        Daily  ...                          Never   \n",
       "10448  Regularly (3-5 times/week)  ...                          Never   \n",
       "\n",
       "      vitamin_d_supplement_frequency                vivid_dreams weight_cat  \\\n",
       "7525                           Never  Rarely (a few times/month)        NaN   \n",
       "7780                           Daily  Rarely (a few times/month)        NaN   \n",
       "8950                           Never  Regularly (3-5 times/week)        NaN   \n",
       "9651                           Daily                       Never        NaN   \n",
       "10448                          Never                       Never        NaN   \n",
       "\n",
       "         weight_change weight_kg weight_units                     whole_eggs  \\\n",
       "7525   Remained stable        80    kilograms     Regularly (3-5 times/week)   \n",
       "7780   Remained stable        71    kilograms                          Daily   \n",
       "8950   Remained stable        68    kilograms  Occasionally (1-2 times/week)   \n",
       "9651   Remained stable        81    kilograms  Occasionally (1-2 times/week)   \n",
       "10448  Remained stable        91    kilograms  Occasionally (1-2 times/week)   \n",
       "\n",
       "               whole_grain_frequency normal  \n",
       "7525      Regularly (3-5 times/week)     -1  \n",
       "7780   Occasionally (1-2 times/week)     -1  \n",
       "8950   Occasionally (1-2 times/week)     -1  \n",
       "9651      Regularly (3-5 times/week)     -1  \n",
       "10448  Occasionally (1-2 times/week)     -1  \n",
       "\n",
       "[5 rows x 662 columns]"
      ]
     },
     "execution_count": 206,
     "metadata": {},
     "output_type": "execute_result"
    }
   ],
   "source": [
    "not_sane.head()"
   ]
  },
  {
   "cell_type": "code",
   "execution_count": 241,
   "metadata": {},
   "outputs": [
    {
     "data": {
      "text/plain": [
       "Unspecified        9812\n",
       "Not applicable     1339\n",
       "LabControl test     681\n",
       "not applicable      149\n",
       "not collected         3\n",
       "Name: mental_illness_type, dtype: int64"
      ]
     },
     "execution_count": 241,
     "metadata": {},
     "output_type": "execute_result"
    }
   ],
   "source": [
    "df['mental_illness_type'].value_counts()"
   ]
  },
  {
   "cell_type": "code",
   "execution_count": null,
   "metadata": {},
   "outputs": [],
   "source": []
  }
 ],
 "metadata": {
  "kernelspec": {
   "display_name": "final_project_bio",
   "language": "python",
   "name": "final_project_bio"
  },
  "language_info": {
   "codemirror_mode": {
    "name": "ipython",
    "version": 3
   },
   "file_extension": ".py",
   "mimetype": "text/x-python",
   "name": "python",
   "nbconvert_exporter": "python",
   "pygments_lexer": "ipython3",
   "version": "3.6.7"
  }
 },
 "nbformat": 4,
 "nbformat_minor": 4
}
