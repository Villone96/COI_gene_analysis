{
 "cells": [
  {
   "cell_type": "markdown",
   "metadata": {},
   "source": [
    "## Libraries"
   ]
  },
  {
   "cell_type": "code",
   "execution_count": 7,
   "metadata": {},
   "outputs": [],
   "source": [
    "import qiime2\n",
    "from tempfile import mkdtemp\n",
    "from qiime2.plugins import demux, deblur, quality_filter, \\\n",
    "                           metadata, feature_table, alignment, \\\n",
    "                           phylogeny, diversity, emperor, feature_classifier, \\\n",
    "                           taxa, composition\n",
    "import pandas as pd\n",
    "import os"
   ]
  },
  {
   "cell_type": "markdown",
   "metadata": {},
   "source": [
    "## Functions"
   ]
  },
  {
   "cell_type": "code",
   "execution_count": null,
   "metadata": {},
   "outputs": [],
   "source": []
  },
  {
   "cell_type": "markdown",
   "metadata": {},
   "source": [
    "## Main"
   ]
  },
  {
   "cell_type": "code",
   "execution_count": 24,
   "metadata": {},
   "outputs": [],
   "source": [
    "df = pd.read_csv(\"./data/amerinca_gut.txt\", delimiter=\"\\t\", header=0)\n",
    "df.columns = df.columns.str.replace(' ', '_')"
   ]
  },
  {
   "cell_type": "code",
   "execution_count": 32,
   "metadata": {},
   "outputs": [
    {
     "data": {
      "text/plain": [
       "(29960, 661)"
      ]
     },
     "execution_count": 32,
     "metadata": {},
     "output_type": "execute_result"
    }
   ],
   "source": [
    "df.shape"
   ]
  },
  {
   "cell_type": "code",
   "execution_count": 33,
   "metadata": {},
   "outputs": [
    {
     "data": {
      "text/plain": [
       "Index(['sample_name', 'acid_reflux', 'acne_medication', 'acne_medication_otc',\n",
       "       'add_adhd', 'age_cat', 'age_corrected', 'age_years',\n",
       "       'alcohol_consumption', 'alcohol_frequency',\n",
       "       ...\n",
       "       'vioscreen_zinc', 'vitamin_b_supplement_frequency',\n",
       "       'vitamin_d_supplement_frequency', 'vivid_dreams', 'weight_cat',\n",
       "       'weight_change', 'weight_kg', 'weight_units', 'whole_eggs',\n",
       "       'whole_grain_frequency'],\n",
       "      dtype='object', length=661)"
      ]
     },
     "execution_count": 33,
     "metadata": {},
     "output_type": "execute_result"
    }
   ],
   "source": [
    "df.columns"
   ]
  },
  {
   "cell_type": "code",
   "execution_count": 43,
   "metadata": {},
   "outputs": [
    {
     "data": {
      "text/plain": [
       "Rarely (a few times/month)       6106\n",
       "Never                            5992\n",
       "Occasionally (1-2 times/week)    5528\n",
       "Regularly (3-5 times/week)       4759\n",
       "Not applicable                   3598\n",
       "Daily                            2488\n",
       "LabControl test                   681\n",
       "Not provided                      437\n",
       "Unspecified                       281\n",
       "not applicable                     10\n",
       "not collected                       3\n",
       "Name: alcohol_frequency, dtype: int64"
      ]
     },
     "execution_count": 43,
     "metadata": {},
     "output_type": "execute_result"
    }
   ],
   "source": [
    "df['alcohol_frequency'].value_counts()"
   ]
  },
  {
   "cell_type": "code",
   "execution_count": 44,
   "metadata": {},
   "outputs": [
    {
     "data": {
      "text/plain": [
       "0                10317.000001000\n",
       "1                10317.000001001\n",
       "2                10317.000001002\n",
       "3                10317.000001004\n",
       "4                10317.000001008\n",
       "                  ...           \n",
       "29955          10317.blank275.2F\n",
       "29956          10317.blank275.2G\n",
       "29957          10317.blank275.2H\n",
       "29958    10317.blank3.ragOffice1\n",
       "29959    10317.blank4.ragOffice1\n",
       "Name: sample_name, Length: 29960, dtype: object"
      ]
     },
     "execution_count": 44,
     "metadata": {},
     "output_type": "execute_result"
    }
   ],
   "source": [
    "df['sample_name']"
   ]
  },
  {
   "cell_type": "code",
   "execution_count": null,
   "metadata": {},
   "outputs": [],
   "source": []
  }
 ],
 "metadata": {
  "kernelspec": {
   "display_name": "final_project_bio",
   "language": "python",
   "name": "final_project_bio"
  },
  "language_info": {
   "codemirror_mode": {
    "name": "ipython",
    "version": 3
   },
   "file_extension": ".py",
   "mimetype": "text/x-python",
   "name": "python",
   "nbconvert_exporter": "python",
   "pygments_lexer": "ipython3",
   "version": "3.6.7"
  }
 },
 "nbformat": 4,
 "nbformat_minor": 4
}
