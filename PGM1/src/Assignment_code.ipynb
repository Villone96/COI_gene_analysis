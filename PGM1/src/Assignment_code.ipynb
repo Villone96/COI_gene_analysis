{
 "cells": [
  {
   "cell_type": "markdown",
   "metadata": {},
   "source": [
    "# Assignment 2\n",
    "Look for any information about gene 'PGM1' in the NCBI database 'gene' and print the output."
   ]
  },
  {
   "cell_type": "markdown",
   "metadata": {},
   "source": [
    "## Libraries"
   ]
  },
  {
   "cell_type": "code",
   "execution_count": 14,
   "metadata": {},
   "outputs": [],
   "source": [
    "from Bio import Entrez\n",
    "from pprint import pprint\n",
    "import xml.etree.ElementTree as ET"
   ]
  },
  {
   "cell_type": "markdown",
   "metadata": {},
   "source": [
    "## Functions"
   ]
  },
  {
   "cell_type": "code",
   "execution_count": 87,
   "metadata": {},
   "outputs": [],
   "source": [
    "Entrez.email = \"giacomo.villa.mi@gmail.com\"\n",
    "\n",
    "def db_info():\n",
    "    leaf_nodes = './/DbList//'\n",
    "    handle = Entrez.einfo()\n",
    "    result = handle.read()\n",
    "    root = ET.fromstring(result)\n",
    "    list_of_db = root[0]\n",
    "    print(\"Avaible database:\")\n",
    "    for db in list_of_db:\n",
    "        print(db.text)\n",
    "        \n",
    "def good_print(text):\n",
    "    print(pprint(text))\n",
    "        \n",
    "def esearch(db, query, num_max = 20):\n",
    "    handle = Entrez.esearch(db = db, term = query, retmax = num_max)\n",
    "    record = Entrez.read(handle, validate=True)\n",
    "    return record\n",
    "\n",
    "def esummaray(db, id_val):\n",
    "    handle = Entrez.esummary(db = db, id = id_val)\n",
    "    record = Entrez.read(handle, validate = True)\n",
    "    return record\n",
    "\n",
    "def efetch(db, id_val, retmode = 'xml'):\n",
    "    handle = Entrez.efetch(db  = db, id = id_val, retmode = retmode)\n",
    "    \n",
    "    print(handle.read())\n",
    "\n",
    "def get_idList(record):\n",
    "    return record['IdList']\n"
   ]
  },
  {
   "cell_type": "markdown",
   "metadata": {},
   "source": [
    "## Main"
   ]
  },
  {
   "cell_type": "code",
   "execution_count": 88,
   "metadata": {
    "scrolled": true
   },
   "outputs": [
    {
     "name": "stdout",
     "output_type": "stream",
     "text": [
      "{'DocumentSummarySet': DictElement({'DocumentSummary': [DictElement({'Name': 'EN865_RS20350', 'Description': 'alpha-D-glucose phosphate-specific phosphoglucomutase', 'Status': '0', 'CurrentID': '0', 'Chromosome': '', 'GeneticSource': '', 'MapLocation': '', 'OtherAliases': 'EN865_RS20350, EN865_20345', 'OtherDesignations': 'alpha-D-glucose phosphate-specific phosphoglucomutase', 'NomenclatureSymbol': '', 'NomenclatureName': '', 'NomenclatureStatus': '', 'Mim': [], 'GenomicInfo': [], 'GeneWeight': '0', 'Summary': '', 'ChrSort': '~~last', 'ChrStart': '999999999', 'Organism': {'ScientificName': 'bacterium M00.F.Ca.ET.222.01.1.1', 'CommonName': '', 'TaxID': '2563916'}, 'LocationHist': []}, attributes={'uid': '52001918'})], 'DbBuild': 'Build200413-0715m.1'}, attributes={'status': 'OK'})}\n"
     ]
    }
   ],
   "source": [
    "# db_info()\n",
    "ids = get_idList(esearch('gene', 'PGM1'))\n",
    "print(esummaray('gene', ids[0]))\n",
    "# efetch('gene', ids[5])"
   ]
  },
  {
   "cell_type": "code",
   "execution_count": 82,
   "metadata": {},
   "outputs": [
    {
     "data": {
      "text/plain": [
       "['52001918', '51723351', '51715667', '51511800', '51428533', '51044519', '50678066', '50577394', '50127412', '50096963', '50075623', '50072211', '50021514', '49062860', '51044548', '50830822', '50817136', '50766042', '50658199', '50508958']"
      ]
     },
     "execution_count": 82,
     "metadata": {},
     "output_type": "execute_result"
    }
   ],
   "source": [
    "ids"
   ]
  },
  {
   "cell_type": "code",
   "execution_count": null,
   "metadata": {},
   "outputs": [],
   "source": []
  }
 ],
 "metadata": {
  "kernelspec": {
   "display_name": "biosciences",
   "language": "python",
   "name": "biosciences"
  },
  "language_info": {
   "codemirror_mode": {
    "name": "ipython",
    "version": 3
   },
   "file_extension": ".py",
   "mimetype": "text/x-python",
   "name": "python",
   "nbconvert_exporter": "python",
   "pygments_lexer": "ipython3",
   "version": "3.7.7"
  }
 },
 "nbformat": 4,
 "nbformat_minor": 4
}
