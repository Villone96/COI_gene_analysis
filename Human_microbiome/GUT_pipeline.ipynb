{
 "cells": [
  {
   "cell_type": "markdown",
   "metadata": {},
   "source": [
    "## Libraries"
   ]
  },
  {
   "cell_type": "code",
   "execution_count": 1,
   "metadata": {},
   "outputs": [
    {
     "name": "stderr",
     "output_type": "stream",
     "text": [
      "/Users/villons/opt/anaconda3/envs/final_project_bio/lib/python3.6/site-packages/skbio/util/_testing.py:15: FutureWarning: pandas.util.testing is deprecated. Use the functions in the public API at pandas.testing instead.\n",
      "  import pandas.util.testing as pdt\n"
     ]
    }
   ],
   "source": [
    "import qiime2\n",
    "from tempfile import mkdtemp\n",
    "from qiime2.plugins import demux, deblur, quality_filter, \\\n",
    "                           metadata, feature_table, alignment, \\\n",
    "                           phylogeny, diversity, emperor, feature_classifier, \\\n",
    "                           taxa, composition\n",
    "import pandas as pd\n",
    "import os\n",
    "import numpy as np\n",
    "import random\n",
    "import logging\n",
    "from datetime import datetime\n",
    "from Bio import Entrez\n",
    "from pprint import pprint\n",
    "from sklearn.utils import shuffle\n",
    "import xml.etree.ElementTree as ET\n",
    "import os\n",
    "from tqdm.notebook import tqdm\n",
    "from Bio import SeqIO\n",
    "import ast\n",
    "import csv"
   ]
  },
  {
   "cell_type": "markdown",
   "metadata": {},
   "source": [
    "## Functions"
   ]
  },
  {
   "cell_type": "markdown",
   "metadata": {},
   "source": [
    "### Pipeline cleaning"
   ]
  },
  {
   "cell_type": "code",
   "execution_count": 2,
   "metadata": {},
   "outputs": [],
   "source": [
    "# Puliscel a working directory (result_extraction), elimina tutti i file e le cartelle fatta eccezione per il logfile\n",
    "# il quale viene solo svuotato\n",
    "def clean_workspace():\n",
    "    \n",
    "    # ci spostiamo nella working directory\n",
    "    starting_path = os.getcwd()\n",
    "    path = os.path.join(os.getcwd(), f'result_extraction')\n",
    "    os.chdir(path)\n",
    "    \n",
    "    # prendiamo tutti i file contenuti nella working directory e eliminiamo a meno che non sia il log file\n",
    "    files = os.listdir()\n",
    "    for file in files:\n",
    "        if file != 'sra_querying.log':\n",
    "            delete_command = f'rm -r {file}'\n",
    "            os.system(delete_command)\n",
    "            \n",
    "    # puliamo il log file\n",
    "    delete_old_log = 'cat > sra_querying.log'\n",
    "    os.system(delete_old_log)  \n",
    "    \n",
    "    # torniamo nella starting directory ./Human microbiome\n",
    "    os.chdir(starting_path)"
   ]
  },
  {
   "cell_type": "markdown",
   "metadata": {},
   "source": [
    "### NCBI utilities"
   ]
  },
  {
   "cell_type": "code",
   "execution_count": 3,
   "metadata": {},
   "outputs": [],
   "source": [
    "# Funzioni per semplificare l'interrogazioen di NCBI\n",
    "Entrez.email = \"giacomo.villa.mi@gmail.com\"\n",
    "\n",
    "def good_print(text):\n",
    "    print(pprint(text))\n",
    "\n",
    "def esearch(db, query, num_max = 20):\n",
    "    handle = Entrez.esearch(db = db, term = query, retmax = num_max)\n",
    "    record = Entrez.read(handle, validate = True)\n",
    "    return record\n",
    "\n",
    "def esummary(db, id_val):\n",
    "    handle = Entrez.esummary(db = db, id = id_val)\n",
    "    record = Entrez.read(handle, validate = True)\n",
    "    return record"
   ]
  },
  {
   "cell_type": "markdown",
   "metadata": {},
   "source": [
    "### Final Sample generation"
   ]
  },
  {
   "cell_type": "code",
   "execution_count": 4,
   "metadata": {},
   "outputs": [],
   "source": [
    "# Prende in input il dataset completo, data la query, \n",
    "def write_age_mean(total, typology, experiment):\n",
    "    \n",
    "    man = total.query('sex == \"male\"')\n",
    "    woman = total.query('sex == \"female\"')\n",
    "    \n",
    "    mean_age_total = round(np.mean(total['age_years']), 4)\n",
    "    mean_age_man = round(np.mean(man['age_years']), 4)\n",
    "    mean_age_woman = round(np.mean(woman['age_years']), 4)\n",
    "    not_valid_sex = total.query(\"sex != 'female' and sex != 'male'\")\n",
    "    \n",
    "    if typology != 'sample':\n",
    "        logging.info(f'--------------------{typology.upper()}--------------------')\n",
    "    logging.info(f'Total number of {typology} people: {len(total)}')\n",
    "    logging.info(f'Total number of {typology} man: {len(man)}')\n",
    "    logging.info(f'Total number of {typology} woman: {len(woman)}')\n",
    "    logging.info(f'Total number of non valid sex {len(not_valid_sex)}')\n",
    "    \n",
    "    logging.info(f'Mean Age for total: {mean_age_total}')\n",
    "    logging.info(f'Mean Age for man: {mean_age_man}')\n",
    "    logging.info(f'Mean Age for woman: {mean_age_woman}')\n",
    "    logging.info(f'\\n')\n",
    "    \n",
    "    print(f'--------------------{typology.upper()}--------------------')\n",
    "    print(f'Total number of {typology} people: {len(total)}')\n",
    "    print(f'Total number of {typology} man: {len(man)}')\n",
    "    print(f'Total number of {typology} woman: {len(woman)}')\n",
    "    print(f'Total number of non valid sex {len(not_valid_sex)}')\n",
    "    \n",
    "    print(f'Mean Age for total: {mean_age_total}')\n",
    "    print(f'Mean Age for man: {mean_age_man}')\n",
    "    print(f'Mean Age for woman: {mean_age_woman}')\n",
    "    \n",
    "    starting_path = os.getcwd()\n",
    "    path = os.path.join(os.getcwd(), f'result_extraction/')\n",
    "    os.chdir(path)\n",
    "    directories = os.listdir()\n",
    "    if f'{experiment}' not in directories:\n",
    "        os.mkdir(f'{experiment}')\n",
    "        \n",
    "    os.chdir(f'{experiment}')\n",
    "    if typology != 'sample':\n",
    "        total.to_csv(f\"./dataset_query_result_{typology}.csv\", index=False, encoding='utf-8')\n",
    "    \n",
    "    os.chdir(starting_path)\n",
    "\n",
    "# Prende in input il dataset da cui campionare e gli index degli element già presi, finché non campiona qualcosa di \n",
    "# nuovo non termina\n",
    "def generate_single_sample(already_taken, from_df):\n",
    "    element = random.randint(0, len(from_df) - 1)\n",
    "    while (element in already_taken):\n",
    "        element = random.randint(0, len(from_df) - 1)\n",
    "    return element\n",
    "\n",
    "# Dato il dataset di partenza contenente solo elementi effettivamente presenti su NCBI\n",
    "# genera un nuovo dataset composto da n_samples elementi\n",
    "def get_final_sample(started_dataset, n_samples):\n",
    "    taken = set()\n",
    "    final_sample = pd.DataFrame(columns=started_dataset.columns)\n",
    "    for i in tqdm(range(n_samples), desc='Sampling data'):\n",
    "        new_sample = generate_single_sample(taken, started_dataset)\n",
    "        taken.add(new_sample)\n",
    "        final_sample = final_sample.append(started_dataset.iloc[new_sample], ignore_index=True)\n",
    "    return final_sample\n",
    "\n",
    "def write_not_valid_ids(not_valid_names):\n",
    "    files = os.listdir(f'./result_extraction')\n",
    "    \n",
    "    if 'not_valid_sample_names.csv' in files:\n",
    "        all_not_valid_names = pd.read_csv(\"./result_extraction/not_valid_sample_names.csv\", header=0, dtype=str)\n",
    "        elements = [all_not_valid_names, not_valid_names]\n",
    "        final_not_valid = pd.concat(elements, ignore_index=False, sort=False)\n",
    "        final_not_valid.to_csv(f\"./result_extraction/not_valid_sample_names.csv\", index=False)\n",
    "    else:\n",
    "        not_valid_names.to_csv(f\"./result_extraction/not_valid_sample_names.csv\", index=False)\n",
    "    \n",
    "# Dato il dataset di partenza con tutti gli elementi che rispettano la query posta al gut, tiene in considraz\n",
    "def sampling_data(start_dataset, typology, n_samples, experiment):\n",
    "    write_age_mean(start_dataset, typology, experiment)\n",
    "    valid_id = list()\n",
    "    not_valid_id = list()\n",
    "    for try_id in tqdm(start_dataset['sample_name'], desc='NCBI ids validation'):\n",
    "        handleSce = esearch('biosample', try_id)\n",
    "        if len(handleSce['IdList']) != 0:\n",
    "            valid_id.append(try_id)\n",
    "        else:\n",
    "            not_valid_id.append(str(try_id))\n",
    "            print(try_id)\n",
    "            \n",
    "    print(f'Total rows: {len(start_dataset)}')\n",
    "    print(f'Valid rows: {len(valid_id)}')\n",
    "    \n",
    "    not_valid_names = pd.DataFrame(data={\"not_valid_sample_name\": not_valid_id, \"typology\": [typology]*len(not_valid_id)})\n",
    "    print(len(not_valid_names))\n",
    "    write_not_valid_ids(not_valid_names)\n",
    "    \n",
    "    logging.info(f'Total rows: {len(start_dataset)}')\n",
    "    logging.info(f'Valid rows: {len(valid_id)}')\n",
    "            \n",
    "    valid_start_dataset = pd.DataFrame(columns=start_dataset.columns)\n",
    "    index = 0\n",
    "    for _, row in start_dataset.iterrows():\n",
    "        if row['sample_name'] in valid_id:\n",
    "            valid_start_dataset.loc[index] = row\n",
    "            index += 1\n",
    "            \n",
    "    valid_start_dataset = shuffle(valid_start_dataset)\n",
    "    final_sample = get_final_sample(valid_start_dataset, n_samples)\n",
    "    write_sample_info(final_sample, typology, experiment)\n",
    "\n",
    "# Funzione richiamata sul sample finale, traduce in csv il campione finale creando un csv di due colonne: sample_name,\n",
    "# typology (e.g. healthy/not_healthy), richiama write_age_mean per scrivere sul log file l'età media dei soggetti\n",
    "def write_sample_info(sample, typology, experiment):\n",
    "    man = sample.query(\"sex == 'male'\")\n",
    "    woman = sample.query(\"sex == 'female'\")\n",
    "    write_age_mean(sample, 'sample', experiment)\n",
    "    \n",
    "    sample = sample[['sample_name']]\n",
    "    sample['typology'] = [typology]*len(sample)\n",
    "    \n",
    "    files = os.listdir(f'./result_extraction/{experiment}')\n",
    "    \n",
    "    if f'final_sample_{experiment}.csv' in files:\n",
    "        final_sample = pd.read_csv(f\"./result_extraction/{experiment}/final_sample_{experiment}.csv\", header=0, dtype=str)\n",
    "        final_sample = final_sample[['sample_name', 'typology']]\n",
    "        elements = [final_sample, sample]\n",
    "        final_sample = pd.concat(elements, ignore_index=False, sort=False)\n",
    "        final_sample.to_csv(f\"./result_extraction/{experiment}/final_sample_{experiment}.csv\", index=False)\n",
    "    else:\n",
    "        sample.to_csv(f\"./result_extraction/{experiment}/final_sample_{experiment}.csv\", index=False)\n",
    "        \n",
    "    close_dashes = '-'*len(typology.upper())\n",
    "    logging.info(f'--------------------{close_dashes}--------------------')"
   ]
  },
  {
   "cell_type": "markdown",
   "metadata": {},
   "source": [
    "### SRA operation"
   ]
  },
  {
   "cell_type": "code",
   "execution_count": 5,
   "metadata": {},
   "outputs": [],
   "source": [
    "# Funzione controller, prende in input il nome dell'esperimento (eg. healthy vs not_healthy) e le tipologie di campione\n",
    "# (e.g. healthy e not_healty), chiama la funzione che interroga SRA di NCBI, in seguito richiama la funzione per \n",
    "# concatenare i file fasta e infine la funzione per prendere le sequenze che ricorrono più spesso. Infine salva su un\n",
    "# file csv i fasta delle sequenze più popolose aggiungendo il campo che si rifà all'id di Biosample.\n",
    "# Il file csv delle frequenze più popole è l'input per blast\n",
    "def sra_querying(experiment, types):\n",
    "    \n",
    "    # Legge il csv contente i 30 campioni di una tipologia e i 30 campioni dell'altra tipologia dato l'esperimento\n",
    "    # (e.g. esperimento: healthy vs not_healthy estrare il csv che contiene i 30 sample_name degli healthy e i \n",
    "    # 30 sample_name dei not_healthy)\n",
    "    final_sample = pd.read_csv(f\"./result_extraction/{experiment}/final_sample_{experiment}.csv\", header=0, dtype=str)\n",
    "    \n",
    "    # crea una lista che conterrà, dati i record, il corrispettivo id di Biosample\n",
    "    bio_sample_id = list()\n",
    "    \n",
    "    sra_ids = list()\n",
    "    \n",
    "    # per ogni riga del csv dei 30 campioni di una tipologia e i 30 dell'altra tipologia dato l'esperimento\n",
    "    for index, row in final_sample.iterrows():\n",
    "        print(f'File number: {index+1}')\n",
    "        \n",
    "        # Gestione del problema sulla lettura di un sample_name con la concatenazione della stringa '001'\n",
    "        # in generale estrae l'input per la funzione che farà la query su SRA\n",
    "        record_id = str(row[0])[0:15]\n",
    "        record_typology = row[1]\n",
    "        \n",
    "        # data la singola interrogazione, aggiunge alla lista degli id di bio_sample l'id.\n",
    "        query_result = get_sequences(record_id, record_typology, experiment)\n",
    "        bio_sample_id.append(query_result[0])\n",
    "        sra_ids.append(query_result[1])\n",
    "        \n",
    "    # una volta scaricate tutti i file fasta data l'esperimento, per ogni tipologia (e.g healthy/not_healthy) \n",
    "    # crea un unico file con tutte le sequenze e poi prende, da questo file, solo quelle più popolose\n",
    "    for typology in types:\n",
    "        concatenate_fast_file(typology, 'fasta', experiment)\n",
    "        get_top_sequences(typology, experiment)\n",
    "        \n",
    "    # crea una nuova colonna dove, per ogni sample_name, vi sarà l'id di biosample associato e salva il nuovo csv\n",
    "    final_sample['bio_sample_id'] = bio_sample_id\n",
    "    final_sample['runId'] = sra_ids\n",
    "    final_sample.to_csv(f\"./result_extraction/{experiment}/final_sample_{experiment}.csv\", index=False)\n",
    "    \n",
    "    get_sample_top_sequences_count(experiment, types[0])\n",
    "    get_sample_top_sequences_count(experiment, types[1])\n",
    "    \n",
    "# Funzione che interroga SRA, dato il sample_name. Richiede anche la tipologia del campione (e.g. healthy o not_healthy)\n",
    "# e il nome dell'esperimento (e.g. healthy_vs_not_healthy), per andare a salvare correttamente nelle cartelle facenti\n",
    "# riferimento all'esperimento\n",
    "def get_sequences(sample_name, typology, experiment):\n",
    "    \n",
    "    # in funzione della tipologia del campione (e.g. healthy o not_healthy) e dell'esperimento (e.g. healthy_vs_not_healthy)\n",
    "    # definisce il path corretto dove andare a salvare il risultato\n",
    "    path = f'\"./result_extraction/{experiment}/SRA_{typology}\" '\n",
    "    command1 = f'fastq-dump --fasta --readids --outdir {path}'\n",
    "    command2 = f'fastq-dump --readids --outdir {path}'\n",
    "        \n",
    "    # Query su SRA e print utili\n",
    "    print(f'Sample id: {sample_name}')\n",
    "    handleSce = esearch('biosample', sample_name)\n",
    "    biosampleId = handleSce['IdList'][0]\n",
    "    print(f'Biosample ID {biosampleId}')\n",
    "    print(f'Typology: {typology}')\n",
    "    handleSra = Entrez.efetch(db='biosample', id=biosampleId, retmode='xml')\n",
    "    root = ET.fromstring(handleSra.read())\n",
    "    identifier = root.findall('.//BioSample//Ids//Id')\n",
    "    for i in identifier:\n",
    "        if i.attrib['db'] == 'SRA':\n",
    "            sraId = i.text\n",
    "    handleSra = Entrez.esearch(db='sra', term=sraId)\n",
    "    resultsSra = Entrez.read(handleSra)['IdList']\n",
    "    run_ids = list()\n",
    "    for s in resultsSra:\n",
    "        handlesngSraId = Entrez.efetch(db='sra', id=s, retmode='xml')\n",
    "        root = ET.fromstring(handlesngSraId.read())\n",
    "        identifier = root.find('.//EXPERIMENT_PACKAGE//RUN_SET//RUN')\n",
    "        runId = identifier.attrib['accession']\n",
    "        os.system(f'{command1}{runId}')\n",
    "        os.system(f'{command2}{runId}') \n",
    "        print(f'Run ID: {runId}')\n",
    "        run_ids.append(runId)\n",
    "    print()\n",
    "    return [biosampleId, run_ids]\n",
    "        \n",
    "\n",
    "# Dato il risultato delle query su SRA, concatena i file fasta facenti riferimento a una certa tipologia di record\n",
    "# (e.g. healthy o not_healthy) dato un certo esperimento (e.g. healthy_vs_not_healthy)\n",
    "def concatenate_fast_file(typology, file_format, experiment):\n",
    "    \n",
    "    # Prende tutti i file data la tipologia del record (e.g. healthy o not_healthy) contenuti nella cartella dove,\n",
    "    # dato l'esperimento (e.g. healthy_vs_not_healthy), la query su SRA ha riposto i risultati\n",
    "    files = os.listdir(f'./result_extraction/{experiment}/SRA_{typology}')\n",
    "    \n",
    "    # concatenazione file fasta\n",
    "    compact_files = list()\n",
    "    for file in files:\n",
    "        if file_format in file:\n",
    "            f = open(f'./result_extraction/{experiment}/SRA_{typology}/{file}', \"r\")\n",
    "            compact_files.append(f.read())\n",
    "            f.close()\n",
    "    f = open(f'./result_extraction/{experiment}/SRA_{typology}/final_{file_format}_{typology}.{file_format}', 'w')\n",
    "    for file in compact_files:\n",
    "        f.write(file)\n",
    "    f.close()\n",
    "    \n",
    "    # Eliminazione dei \n",
    "    starting_path = os.getcwd()\n",
    "    path = os.path.join(os.getcwd(), f'result_extraction/{experiment}/SRA_{typology}')\n",
    "    os.chdir(path)\n",
    "    command = 'rm *[0-9].fasta'\n",
    "    #os.system(command) \n",
    "    os.chdir(starting_path)\n",
    "        \n",
    "def get_top_sequences(typology, experiment):\n",
    "    records = list(SeqIO.parse(f\"./result_extraction/{experiment}/SRA_{typology}/final_fasta_{typology}.fasta\", format=\"fasta\"))\n",
    "    print(f'Number of sequences for {typology}: {len(records)}')\n",
    "    logging.info(f'Number of sequences for {typology}: {len(records)}')\n",
    "    \n",
    "    sequences = dict()\n",
    "    for record in tqdm(records, desc='Compacting fasta'):\n",
    "        if record.seq in sequences:\n",
    "            sequences[record.seq][0] += 1\n",
    "        else:\n",
    "            sequences[record.seq] = [1, f'>{record.description}']\n",
    "    \n",
    "    print(f'Number of grouped sequences: {len(sequences)}')\n",
    "    logging.info(f'Number of grouped sequences: {len(sequences)}')\n",
    "    \n",
    "    sequences_ord = {k: v for k, v in sorted(sequences.items(), key=lambda item: item[1], reverse=True)}\n",
    "    \n",
    "    cont = 0\n",
    "    f = open(f'./result_extraction/{experiment}/SRA_{typology}/top_sequences_{typology}.fasta', 'w')\n",
    "    \n",
    "    for element in sequences_ord:\n",
    "        if sequences_ord[element][0] >= 100:\n",
    "            f.write(f'{sequences_ord[element][1]} number of reps {sequences_ord[element][0]}')\n",
    "            f.write('\\n')\n",
    "            f.write(str(element))\n",
    "            f.write('\\n')\n",
    "            cont += 1\n",
    "    f.close()\n",
    "    \n",
    "    print(f'Number of taken sequences: {cont}')\n",
    "    logging.info(f'Number of taken sequences: {cont}')\n",
    "    print()\n",
    "    logging.info('\\n')\n",
    "    \n",
    "def get_sample_top_sequences_count(experiment, typology):\n",
    "    top_sequences = list(SeqIO.parse(f\"./result_extraction/{experiment}/SRA_{typology}/top_sequences_{typology}.fasta\", format=\"fasta\"))\n",
    "    os.mkdir(f'./result_extraction/{experiment}/SRA_{typology}/tmp')\n",
    "    \n",
    "    columns = ['sample_name']\n",
    "    for i in range(len(top_sequences)):\n",
    "        columns.append(f'seq {i+1}')\n",
    "    final_summary = pd.DataFrame(columns = columns)\n",
    "    \n",
    "    final_sample = pd.read_csv(f\"./result_extraction/{experiment}/final_sample_{experiment}.csv\", dtype=str)\n",
    "    target_sample = final_sample.query(f\"typology == '{typology}'\")\n",
    "\n",
    "    for index, row in target_sample.iterrows():\n",
    "\n",
    "        print(f'Sample number: {index+1}')\n",
    "        run_ids = ast.literal_eval(row['runId'])\n",
    "        typology = row['typology']\n",
    "        sample_name = row['sample_name']\n",
    "        compact_files = list()\n",
    "        \n",
    "        print(f'Sample name: {sample_name}')\n",
    "\n",
    "        for run_id in run_ids:\n",
    "            f = open(f'./result_extraction/{experiment}/SRA_{typology}/{run_id}.fasta', \"r\")\n",
    "            compact_files.append(f.read())\n",
    "            f.close()\n",
    "            print(f'Run ID: {run_id}')\n",
    "\n",
    "            f = open(f'./result_extraction/{experiment}/SRA_{typology}/tmp/{sample_name}.fasta', 'w')\n",
    "            for file in compact_files:\n",
    "                f.write(file)\n",
    "            f.close()\n",
    "\n",
    "        sample_sequences = list(SeqIO.parse(f\"./result_extraction/{experiment}/SRA_{typology}/tmp/{sample_name}.fasta\", format=\"fasta\"))\n",
    "\n",
    "        top_sequences_in_sample = dict()\n",
    "        for top_sequence in tqdm(top_sequences):\n",
    "            top_sequences_in_sample[top_sequence.description] = 0\n",
    "            for sample_sequence in sample_sequences:\n",
    "                if top_sequence.seq == sample_sequence.seq:\n",
    "                    top_sequences_in_sample[top_sequence.description] += 1\n",
    "        numbers = [sample_name]\n",
    "        for seq in top_sequences_in_sample:\n",
    "            numbers.append(top_sequences_in_sample[seq])\n",
    "        final_summary.loc[len(final_summary)] = numbers\n",
    "\n",
    "    index = 0\n",
    "    for column in final_summary.columns:\n",
    "        if column != 'sample_name':\n",
    "            sum_column = final_summary[column].sum()\n",
    "            real_value = int(top_sequences[index].description.split('number of reps')[1].strip())\n",
    "            if sum_column != real_value:\n",
    "                print(f'Problem to column: {column}')\n",
    "\n",
    "            index += 1    \n",
    "\n",
    "    final_summary.to_csv(f\"./result_extraction/{experiment}/{typology}_top_sequences_distribution.csv\", index=False)"
   ]
  },
  {
   "cell_type": "markdown",
   "metadata": {},
   "source": [
    "### Quiime2 operation"
   ]
  },
  {
   "cell_type": "code",
   "execution_count": 6,
   "metadata": {},
   "outputs": [],
   "source": [
    "def quality_analysis(experiment, types):\n",
    "    files = os.listdir(f'./result_extraction/{experiment}')\n",
    "    \n",
    "    if not(f'seq_artifact_{experiment}.qza' in files):\n",
    "        manifest_operation(experiment, types)\n",
    "        artifact = qiime2.Artifact.import_data('SampleData[SequencesWithQuality]', f'./result_extraction/{experiment}/manifest.tsv',\n",
    "                                        view_type='SingleEndFastqManifestPhred33V2')\n",
    "        artifact.save(f'./result_extraction/{experiment}/seq_artifact_{experiment}.qza')\n",
    "    else:\n",
    "        artifact = qiime2.Artifact.load(f'./result_extraction/{experiment}/seq_artifact_{experiment}.qza')\n",
    "        \n",
    "    return artifact\n",
    "    \n",
    "    #demux_filter_stats = quality_filter.methods.q_score(artifact)\n",
    "    #filter_stats = metadata.visualizers.tabulate(demux_filter_stats.filter_stats.view(qiime2.Metadata))\n",
    "    #filter_stats.visualization\n",
    "\n",
    "\n",
    "\n",
    "# Questa funzione compatta i file dataset_query_result (sostanzialmente ciò che si estreva da GUT) e quindi crea\n",
    "# date le due tipologie (e.g. healthy e not_healthy) dato l'esperimento (not_healthy_vs_healthy) un singolo file\n",
    "# che sarà di fatto la somma dei due dataset di partenza. Ovviamente viene inserito un nuovo campo (nuova colonna)\n",
    "# dove si specifica la tipologia del record (e.g. healthy o not_healthy)\n",
    "def manifest_operation(experiment, typology):\n",
    "    typology_1 = pd.read_csv(f'./result_extraction/{experiment}/dataset_query_result_{typology[0]}.csv', dtype=str)\n",
    "    typology_2 = pd.read_csv(f'./result_extraction/{experiment}/dataset_query_result_{typology[1]}.csv', dtype=str)\n",
    "    \n",
    "    typology_1['typology'] = [typology[0]]*len(typology_1)\n",
    "    typology_2['typology'] = [typology[1]]*len(typology_2)\n",
    "    \n",
    "    frames = [typology_1, typology_2]\n",
    "    final_dataset = pd.concat(frames)\n",
    "    if len(final_dataset) == (len(typology_1) + len(typology_2)):\n",
    "        with open(f'./result_extraction/{experiment}/dataset_query_result_{experiment}.tsv', \"w\", newline='') as dataset_query_result:\n",
    "            tsv_output = csv.writer(dataset_query_result, delimiter='\\t')\n",
    "            \n",
    "            tsv_output.writerow(list(final_dataset.columns))\n",
    "            cont = 0\n",
    "            for _, row in final_dataset.iterrows():\n",
    "                tsv_output.writerow(list(row))\n",
    "                cont += 1\n",
    "        \n",
    "    add_id_sample(experiment)\n",
    "    create_manifest(experiment)\n",
    "\n",
    "# Questa funzione, dato l'experimenti (e.g. healthy_vs_not_healthy) crea il file manifest come mostrato nella pagina \n",
    "# https://docs.qiime2.org/2020.2/tutorials/importing/. \n",
    "def create_manifest(experiment):\n",
    "    \n",
    "    # leggiamo il file che contiene i sample_name campionati (il file con sample_name, typology, biosample_id, sra_id)\n",
    "    final_sample = pd.read_csv(f\"./result_extraction/{experiment}/final_sample_{experiment}.csv\", dtype=str)\n",
    "    manifest = list()\n",
    "    \n",
    "    # per ogni riga andiamo a copiare i file fastq e a inserirli in una nuova cartella con un nuovo nome\n",
    "    # sample_name.fasq, andando a compattare nel caso in cui a un sample_name fossero associati più file \n",
    "    # fastq\n",
    "    for index, row in final_sample.iterrows():\n",
    "        run_ids = ast.literal_eval(row['runId'])\n",
    "        sample_identificator = row['sample_identificator']\n",
    "        sample_name = row['sample_name']\n",
    "        typology = row['typology']\n",
    "        print(f'Sample identificator: {sample_identificator}')\n",
    "        print(f'Sample name: {sample_name}')\n",
    "        print(f'Typology: {typology}')\n",
    "        print(f'Run ids: {run_ids}')\n",
    "        print()\n",
    "        \n",
    "        directories = os.listdir(f'./result_extraction/{experiment}/SRA_{typology}')\n",
    "        if 'tmp_fastq' not in directories:\n",
    "            os.mkdir(f'./result_extraction/{experiment}/SRA_{typology}/tmp_fastq')\n",
    "        \n",
    "        compact_files = list()\n",
    "        for run_id in run_ids:\n",
    "            f = open(f'./result_extraction/{experiment}/SRA_{typology}/{run_id}.fastq', \"r\")\n",
    "            compact_files.append(f.read())\n",
    "            f.close()\n",
    "            \n",
    "            \n",
    "        f = open(f'./result_extraction/{experiment}/SRA_{typology}/tmp_fastq/{sample_identificator}.fastq', 'w')\n",
    "        for file in compact_files:\n",
    "            f.write(file)\n",
    "        f.close()\n",
    "        \n",
    "        # nel manifest appendiamo la riga 'sample_identificator, absolute_path_to_fastq'\n",
    "        manifest.append([sample_identificator, f'/result_extraction/{experiment}/SRA_{typology}/tmp_fastq/{sample_identificator}.fastq'])\n",
    "    \n",
    "    # scriviamo il manifest \n",
    "    with open(f'./result_extraction/{experiment}/manifest.tsv', \"w\",newline='') as manifest_file:\n",
    "        tsv_output = csv.writer(manifest_file, delimiter='\\t')\n",
    "        tsv_output.writerow(['sample-id', 'absolute-filepath'])\n",
    "        for line in manifest:\n",
    "            tsv_output.writerow([line[0], f'{os.getcwd()}{line[1]}'])\n",
    "            \n",
    "            \n",
    "def add_id_sample(experiment):\n",
    "    final_sample = pd.read_csv(f\"./result_extraction/{experiment}/final_sample_{experiment}.csv\", dtype=str)\n",
    "    sample_id = [f'Sample{i}' for i in range(len(final_sample))]\n",
    "    final_sample['sample_identificator'] = sample_id\n",
    "    final_sample.to_csv(f\"./result_extraction/{experiment}/final_sample_{experiment}.csv\", index=False, encoding='utf-8')"
   ]
  },
  {
   "cell_type": "markdown",
   "metadata": {},
   "source": [
    "## Main"
   ]
  },
  {
   "cell_type": "code",
   "execution_count": null,
   "metadata": {},
   "outputs": [],
   "source": [
    "# Carica il dataset gut\n",
    "df = pd.read_csv(\"./data/american_gut.txt\", delimiter=\"\\t\", dtype=str)\n",
    "\n",
    "# Sostituisce con NAN valori non validi\n",
    "df.replace(' ', np.nan, inplace=True)\n",
    "df.replace('Not provided', np.nan, inplace=True)\n",
    "df.replace('Unspecified', np.nan, inplace=True)\n",
    "\n",
    "# Elimina dalla working directory tutti i risultati dello scorso esperimento, ripulisce il logfile\n",
    "# clean_workspace()"
   ]
  },
  {
   "cell_type": "code",
   "execution_count": null,
   "metadata": {},
   "outputs": [],
   "source": [
    "# Inizializza il log file\n",
    "logging.basicConfig(filename='./result_extraction/sra_querying.log', level=logging.INFO, format='%(message)s')\n",
    "today = datetime.now().strftime(\"%d/%m/%Y %H:%M:%S\")\n",
    "logging.info(f'RUN TIME: {today}')"
   ]
  },
  {
   "cell_type": "markdown",
   "metadata": {},
   "source": [
    "## All columns"
   ]
  },
  {
   "cell_type": "code",
   "execution_count": null,
   "metadata": {},
   "outputs": [],
   "source": [
    "for column in df.columns:\n",
    "    print(column, end = ', ')"
   ]
  },
  {
   "cell_type": "markdown",
   "metadata": {},
   "source": [
    "## Healthy vs not healthy study\n",
    "### Healthy extraction"
   ]
  },
  {
   "cell_type": "code",
   "execution_count": null,
   "metadata": {},
   "outputs": [],
   "source": [
    "# Estraiamo dal dataset i dati di interesse\n",
    "healthy = df.query(\"smoking_frequency == 'Never' and alcohol_frequency == 'Never'\")\n",
    "\n",
    "healthy = healthy.query(\"cancer == 'I do not have this condition'\")\n",
    "\n",
    "healthy['bmi'] = healthy['bmi'].apply(lambda x: float(x))\n",
    "healthy = healthy.query(\"bmi >= 18.5 and bmi <= 24.99\")\n",
    "\n",
    "healthy['age_years'] = healthy['age_years'].apply(lambda x: float(x))\n",
    "healthy = healthy.query(\"age_years >= 20 and age_years <= 50\")\n",
    "\n",
    "healthy = healthy.query(\"body_site == 'UBERON:feces'\")"
   ]
  },
  {
   "cell_type": "code",
   "execution_count": null,
   "metadata": {
    "scrolled": true
   },
   "outputs": [],
   "source": [
    "sampling_data(healthy, 'healthy', 40, 'healthy_vs_not_healthy')"
   ]
  },
  {
   "cell_type": "markdown",
   "metadata": {},
   "source": [
    "### Not healthy extraction"
   ]
  },
  {
   "cell_type": "code",
   "execution_count": null,
   "metadata": {},
   "outputs": [],
   "source": [
    "not_healthy = df.query(\"smoking_frequency == 'Occasionally (1-2 times/week)' or smoking_frequency == 'Daily' or smoking_frequency == 'Regularly (3-5 times/week)'\")\n",
    "not_healthy = not_healthy.query(\"alcohol_frequency == 'Occasionally (1-2 times/week)' or alcohol_frequency == 'Daily' or alcohol_frequency == 'Regularly (3-5 times/week)'\")\n",
    "\n",
    "not_healthy = not_healthy.query(\"cancer == 'I do not have this condition'\")\n",
    "\n",
    "not_healthy['bmi'] = not_healthy['bmi'].apply(lambda x: float(x))\n",
    "not_healthy = not_healthy.query(\"bmi < 18.5 or bmi > 24.99\")\n",
    "\n",
    "not_healthy['age_years'] = not_healthy['age_years'].apply(lambda x: float(x))\n",
    "not_healthy = not_healthy.query(\"age_years >= 20 and age_years <= 50\")\n",
    "\n",
    "not_healthy = not_healthy.query(\"body_site == 'UBERON:feces'\")"
   ]
  },
  {
   "cell_type": "code",
   "execution_count": null,
   "metadata": {},
   "outputs": [],
   "source": [
    "sampling_data(not_healthy, 'not_healthy', 40, 'healthy_vs_not_healthy')"
   ]
  },
  {
   "cell_type": "markdown",
   "metadata": {},
   "source": [
    "## Not healthy old vs not healthy young studies\n",
    "### Not healthy old extraction"
   ]
  },
  {
   "cell_type": "code",
   "execution_count": null,
   "metadata": {},
   "outputs": [],
   "source": [
    "not_healthy = df.query(\"smoking_frequency == 'Occasionally (1-2 times/week)' or smoking_frequency == 'Daily' or smoking_frequency == 'Regularly (3-5 times/week)'\")\n",
    "not_healthy = not_healthy.query(\"alcohol_frequency == 'Occasionally (1-2 times/week)' or alcohol_frequency == 'Daily' or alcohol_frequency == 'Regularly (3-5 times/week)'\")\n",
    "\n",
    "not_healthy = not_healthy.query(\"cancer == 'I do not have this condition'\")\n",
    "\n",
    "not_healthy['bmi'] = not_healthy['bmi'].apply(lambda x: float(x))\n",
    "not_healthy = not_healthy.query(\"bmi < 18.5 or bmi > 24.99\")\n",
    "\n",
    "not_healthy['age_years'] = not_healthy['age_years'].apply(lambda x: float(x))\n",
    "not_healthy_old = not_healthy.query(\"age_years >= 40 and age_years <= 50\")\n",
    "\n",
    "not_healthy_old = not_healthy_old.query(\"body_site == 'UBERON:feces'\")"
   ]
  },
  {
   "cell_type": "code",
   "execution_count": null,
   "metadata": {},
   "outputs": [],
   "source": [
    "sampling_data(not_healthy_old, 'not_healthy_old', 17, 'not_healthy_old_vs_not_healthy_young')"
   ]
  },
  {
   "cell_type": "markdown",
   "metadata": {},
   "source": [
    "### Not healthy young extraction"
   ]
  },
  {
   "cell_type": "code",
   "execution_count": null,
   "metadata": {},
   "outputs": [],
   "source": [
    "not_healthy_young = not_healthy.query(\"age_years >= 20 and age_years <= 30\")\n",
    "\n",
    "not_healthy_young = not_healthy_young.query(\"body_site == 'UBERON:feces'\")"
   ]
  },
  {
   "cell_type": "code",
   "execution_count": null,
   "metadata": {},
   "outputs": [],
   "source": [
    "sampling_data(not_healthy_young, 'not_healthy_young', 14, 'not_healthy_old_vs_not_healthy_young')"
   ]
  },
  {
   "cell_type": "markdown",
   "metadata": {},
   "source": [
    "## Mental illness vs food disorders\n",
    "### Mental illness"
   ]
  },
  {
   "cell_type": "code",
   "execution_count": null,
   "metadata": {},
   "outputs": [],
   "source": [
    "mental_illness = df.query(\"country_residence == 'United States'\")\n",
    "\n",
    "mental_illness = mental_illness.query(\"body_site == 'UBERON:feces'\")\n",
    "\n",
    "mental_illness = mental_illness.query(\"mental_illness == 'true' or mental_illness == 'Yes'\")\n",
    "\n",
    "mental_illness['age_years'] = mental_illness['age_years'].apply(lambda x: float(x))"
   ]
  },
  {
   "cell_type": "code",
   "execution_count": null,
   "metadata": {},
   "outputs": [],
   "source": [
    "sampling_data(mental_illness, 'mental_illness', 30, 'mental_ill_vs_food_dis')"
   ]
  },
  {
   "cell_type": "markdown",
   "metadata": {},
   "source": [
    "### Food disorders"
   ]
  },
  {
   "cell_type": "code",
   "execution_count": null,
   "metadata": {},
   "outputs": [],
   "source": [
    "food_disorders = df.query(\"country_residence == 'United States'\")\n",
    "\n",
    "food_disorders = food_disorders.query(\"body_site == 'UBERON:feces'\")\n",
    "\n",
    "food_disorders = food_disorders.query(\"mental_illness == 'false' or mental_illness == 'No'\")\n",
    "\n",
    "food_disorders['bmi'] =  food_disorders['bmi'].apply(lambda x : float(x))\n",
    "food_disorders = food_disorders.query(\"bmi < 18.5 or bmi > 24.99\")\n",
    "\n",
    "food_disorders = food_disorders.query(\"(fruit_frequency == 'Never' or fruit_frequency == 'Rarely (less than once/week)')\")\n",
    "\n",
    "food_disorders = food_disorders.query(\"exercise_frequency=='Rarely (a few times/month)' or exercise_frequency=='Never'\")\n",
    "\n",
    "food_disorders['age_years'] = food_disorders['age_years'].apply(lambda x: float(x))"
   ]
  },
  {
   "cell_type": "code",
   "execution_count": null,
   "metadata": {},
   "outputs": [],
   "source": [
    "sampling_data(food_disorders, 'food_disorders', 30, 'mental_ill_vs_food_dis')"
   ]
  },
  {
   "cell_type": "markdown",
   "metadata": {},
   "source": [
    "## NCBI Quering"
   ]
  },
  {
   "cell_type": "code",
   "execution_count": 7,
   "metadata": {
    "scrolled": true
   },
   "outputs": [
    {
     "name": "stdout",
     "output_type": "stream",
     "text": [
      "File number: 1\n",
      "Sample id: 10317.000066612\n",
      "Biosample ID 7496859\n",
      "Typology: healthy\n",
      "Run ID: ERR2092040\n",
      "\n",
      "File number: 2\n",
      "Sample id: 10317.000051168\n",
      "Biosample ID 6365139\n",
      "Typology: healthy\n",
      "Run ID: ERR1841778\n",
      "Run ID: ERR1843783\n",
      "\n",
      "File number: 3\n",
      "Sample id: 10317.000065770\n",
      "Biosample ID 7354089\n",
      "Typology: healthy\n",
      "Run ID: ERR2032865\n",
      "\n",
      "File number: 4\n",
      "Sample id: 10317.000073253\n",
      "Biosample ID 8577551\n",
      "Typology: healthy\n",
      "Run ID: ERR2314357\n",
      "\n",
      "File number: 5\n",
      "Sample id: 10317.000059984\n",
      "Biosample ID 7439204\n",
      "Typology: healthy\n",
      "Run ID: ERR2239360\n",
      "Run ID: ERR2056948\n",
      "\n",
      "File number: 6\n",
      "Sample id: 10317.000101148\n",
      "Biosample ID 14621644\n",
      "Typology: healthy\n",
      "Run ID: ERR4020623\n",
      "\n",
      "File number: 7\n",
      "Sample id: 10317.000047064\n",
      "Biosample ID 5462573\n",
      "Typology: healthy\n",
      "Run ID: ERR1551686\n",
      "\n",
      "File number: 8\n",
      "Sample id: 10317.000069794\n",
      "Biosample ID 14618495\n",
      "Typology: healthy\n",
      "Run ID: ERR4018981\n",
      "\n",
      "File number: 9\n",
      "Sample id: 10317.000033260\n",
      "Biosample ID 5709843\n",
      "Typology: healthy\n",
      "Run ID: ERR1597017\n",
      "\n",
      "File number: 10\n",
      "Sample id: 10317.000092700\n",
      "Biosample ID 9657584\n",
      "Typology: healthy\n",
      "Run ID: ERR2697719\n",
      "\n",
      "File number: 11\n",
      "Sample id: 10317.000069303\n",
      "Biosample ID 7496925\n",
      "Typology: healthy\n",
      "Run ID: ERR2092106\n",
      "\n",
      "File number: 12\n",
      "Sample id: 10317.000041330\n",
      "Biosample ID 4565284\n",
      "Typology: healthy\n",
      "Run ID: ERR1316217\n",
      "\n",
      "File number: 13\n",
      "Sample id: 10317.000074674\n",
      "Biosample ID 8577112\n",
      "Typology: healthy\n",
      "Run ID: ERR2309379\n",
      "\n",
      "File number: 14\n",
      "Sample id: 10317.000039729\n",
      "Biosample ID 9541116\n",
      "Typology: healthy\n",
      "Run ID: ERR2579655\n",
      "\n",
      "File number: 15\n",
      "Sample id: 10317.000042712\n",
      "Biosample ID 5709885\n",
      "Typology: healthy\n",
      "Run ID: ERR1597059\n",
      "\n",
      "File number: 16\n",
      "Sample id: 10317.000101145\n",
      "Biosample ID 14621641\n",
      "Typology: healthy\n",
      "Run ID: ERR4020620\n",
      "\n",
      "File number: 17\n",
      "Sample id: 10317.000075930\n",
      "Biosample ID 9653497\n",
      "Typology: healthy\n",
      "Run ID: ERR2696890\n",
      "\n",
      "File number: 18\n",
      "Sample id: 10317.000069640\n",
      "Biosample ID 7439381\n",
      "Typology: healthy\n",
      "Run ID: ERR2242527\n",
      "Run ID: ERR2057131\n",
      "\n",
      "File number: 19\n",
      "Sample id: 10317.000044559\n",
      "Biosample ID 8728561\n",
      "Typology: healthy\n",
      "Run ID: ERR2579667\n",
      "Run ID: ERR2404919\n",
      "\n",
      "File number: 20\n",
      "Sample id: 10317.000098180\n",
      "Biosample ID 9653346\n",
      "Typology: healthy\n",
      "Run ID: ERR2696729\n",
      "\n",
      "File number: 21\n",
      "Sample id: 10317.000072387\n",
      "Biosample ID 8569060\n",
      "Typology: healthy\n",
      "Run ID: ERR2304009\n",
      "\n",
      "File number: 22\n",
      "Sample id: 10317.000094722\n",
      "Biosample ID 14618700\n",
      "Typology: healthy\n",
      "Run ID: ERR4019216\n",
      "\n",
      "File number: 23\n",
      "Sample id: 10317.000043083\n",
      "Biosample ID 4916368\n",
      "Typology: healthy\n",
      "Run ID: ERR1389989\n",
      "\n",
      "File number: 24\n",
      "Sample id: 10317.000073364\n",
      "Biosample ID 9541426\n",
      "Typology: healthy\n",
      "Run ID: ERR2579972\n",
      "\n",
      "File number: 25\n",
      "Sample id: 10317.000106821\n",
      "Biosample ID 14618774\n",
      "Typology: healthy\n",
      "Run ID: ERR4019290\n",
      "\n",
      "File number: 26\n",
      "Sample id: 10317.000100395\n",
      "Biosample ID 14618715\n",
      "Typology: healthy\n",
      "Run ID: ERR4019231\n",
      "\n",
      "File number: 27\n",
      "Sample id: 10317.000069702\n",
      "Biosample ID 7439397\n",
      "Typology: healthy\n",
      "Run ID: ERR2057147\n",
      "\n",
      "File number: 28\n",
      "Sample id: 10317.000058525\n",
      "Biosample ID 6445722\n",
      "Typology: healthy\n",
      "Run ID: ERR2319347\n",
      "Run ID: ERR1854734\n",
      "\n",
      "File number: 29\n",
      "Sample id: 10317.000072118\n",
      "Biosample ID 8728604\n",
      "Typology: healthy\n",
      "Run ID: ERR2404965\n",
      "\n",
      "File number: 30\n",
      "Sample id: 10317.000075872\n",
      "Biosample ID 8945512\n",
      "Typology: healthy\n",
      "Run ID: ERR2523922\n",
      "\n",
      "File number: 31\n",
      "Sample id: 10317.000097102\n",
      "Biosample ID 9653687\n",
      "Typology: healthy\n",
      "Run ID: ERR2697076\n",
      "\n",
      "File number: 32\n",
      "Sample id: 10317.000071471\n",
      "Biosample ID 14618513\n",
      "Typology: healthy\n",
      "Run ID: ERR4018999\n",
      "\n",
      "File number: 33\n",
      "Sample id: 10317.000046285\n",
      "Biosample ID 7353843\n",
      "Typology: healthy\n",
      "Run ID: ERR2032618\n",
      "\n",
      "File number: 34\n",
      "Sample id: 10317.000058423\n",
      "Biosample ID 6445700\n",
      "Typology: healthy\n",
      "Run ID: ERR1854712\n",
      "\n",
      "File number: 35\n",
      "Sample id: 10317.000087299\n",
      "Biosample ID 9653136\n",
      "Typology: healthy\n",
      "Run ID: ERR2696520\n",
      "\n",
      "File number: 36\n",
      "Sample id: 10317.000058421\n",
      "Biosample ID 6445698\n",
      "Typology: healthy\n",
      "Run ID: ERR1854710\n",
      "\n",
      "File number: 37\n",
      "Sample id: 10317.000058955\n",
      "Biosample ID 6445726\n",
      "Typology: healthy\n",
      "Run ID: ERR1854738\n",
      "\n",
      "File number: 38\n",
      "Sample id: 10317.000072431\n",
      "Biosample ID 8576500\n",
      "Typology: healthy\n",
      "Run ID: ERR2308673\n",
      "\n",
      "File number: 39\n",
      "Sample id: 10317.000083010\n",
      "Biosample ID 8729171\n",
      "Typology: healthy\n",
      "Run ID: ERR2405201\n",
      "\n",
      "File number: 40\n",
      "Sample id: 10317.000052325\n",
      "Biosample ID 8945355\n",
      "Typology: healthy\n",
      "Run ID: ERR2523873\n",
      "\n",
      "File number: 41\n",
      "Sample id: 10317.000058971\n",
      "Biosample ID 9653062\n",
      "Typology: not_healthy\n",
      "Run ID: ERR2696443\n",
      "\n",
      "File number: 42\n",
      "Sample id: 10317.000047222\n",
      "Biosample ID 6366062\n",
      "Typology: not_healthy\n",
      "Run ID: ERR1842761\n",
      "\n",
      "File number: 43\n",
      "Sample id: 10317.000068173\n",
      "Biosample ID 8614775\n",
      "Typology: not_healthy\n",
      "Run ID: ERR2319482\n",
      "\n",
      "File number: 44\n",
      "Sample id: 10317.000070708\n",
      "Biosample ID 8728589\n",
      "Typology: not_healthy\n",
      "Run ID: ERR2404950\n",
      "\n",
      "File number: 45\n",
      "Sample id: 10317.000093103\n",
      "Biosample ID 9653610\n",
      "Typology: not_healthy\n",
      "Run ID: ERR2696999\n",
      "\n",
      "File number: 46\n",
      "Sample id: 10317.000059959\n",
      "Biosample ID 8568914\n",
      "Typology: not_healthy\n",
      "Run ID: ERR2303862\n",
      "\n",
      "File number: 47\n",
      "Sample id: 10317.000092754\n",
      "Biosample ID 9653207\n",
      "Typology: not_healthy\n",
      "Run ID: ERR2696591\n",
      "\n",
      "File number: 48\n",
      "Sample id: 10317.000105371\n",
      "Biosample ID 14618763\n",
      "Typology: not_healthy\n",
      "Run ID: ERR4019279\n",
      "\n",
      "File number: 49\n",
      "Sample id: 10317.000038305\n",
      "Biosample ID 4916250\n",
      "Typology: not_healthy\n",
      "Run ID: ERR1389836\n",
      "\n",
      "File number: 50\n",
      "Sample id: 10317.000069002\n",
      "Biosample ID 8577415\n",
      "Typology: not_healthy\n",
      "Run ID: ERR2314217\n",
      "\n",
      "File number: 51\n",
      "Sample id: 10317.000037933\n",
      "Biosample ID 6365537\n",
      "Typology: not_healthy\n",
      "Run ID: ERR1842199\n",
      "Run ID: ERR2056801\n",
      "\n",
      "File number: 52\n",
      "Sample id: 10317.000033728\n",
      "Biosample ID 4565109\n",
      "Typology: not_healthy\n",
      "Run ID: ERR1315996\n",
      "\n",
      "File number: 53\n",
      "Sample id: 10317.000101067\n",
      "Biosample ID 14621574\n",
      "Typology: not_healthy\n",
      "Run ID: ERR4020553\n",
      "\n",
      "File number: 54\n",
      "Sample id: 10317.000074586\n",
      "Biosample ID 14618583\n",
      "Typology: not_healthy\n",
      "Run ID: ERR4019071\n",
      "\n",
      "File number: 55\n",
      "Sample id: 10317.000038160\n",
      "Biosample ID 8577206\n",
      "Typology: not_healthy\n",
      "Run ID: ERR2313969\n",
      "\n",
      "File number: 56\n",
      "Sample id: 10317.000075909\n",
      "Biosample ID 8945523\n",
      "Typology: not_healthy\n",
      "Run ID: ERR2523933\n",
      "\n",
      "File number: 57\n",
      "Sample id: 10317.000097663\n",
      "Biosample ID 9657767\n",
      "Typology: not_healthy\n",
      "Run ID: ERR2697902\n",
      "\n",
      "File number: 58\n",
      "Sample id: 10317.000098679\n",
      "Biosample ID 9657858\n",
      "Typology: not_healthy\n",
      "Run ID: ERR2697993\n",
      "\n",
      "File number: 59\n",
      "Sample id: 10317.000097473\n",
      "Biosample ID 9657747\n",
      "Typology: not_healthy\n",
      "Run ID: ERR2697882\n",
      "\n",
      "File number: 60\n",
      "Sample id: 10317.000107269\n",
      "Biosample ID 14618796\n",
      "Typology: not_healthy\n",
      "Run ID: ERR4019312\n",
      "\n",
      "File number: 61\n",
      "Sample id: 10317.000065320\n",
      "Biosample ID 6445740\n",
      "Typology: not_healthy\n",
      "Run ID: ERR1854752\n",
      "\n",
      "File number: 62\n",
      "Sample id: 10317.000079833\n",
      "Biosample ID 8569150\n",
      "Typology: not_healthy\n",
      "Run ID: ERR2304099\n",
      "\n",
      "File number: 63\n",
      "Sample id: 10317.000068175\n",
      "Biosample ID 7354470\n",
      "Typology: not_healthy\n",
      "Run ID: ERR2033470\n",
      "\n",
      "File number: 64\n",
      "Sample id: 10317.000076672\n",
      "Biosample ID 8945554\n",
      "Typology: not_healthy\n",
      "Run ID: ERR2523964\n",
      "\n",
      "File number: 65\n",
      "Sample id: 10317.000105372\n",
      "Biosample ID 14618764\n",
      "Typology: not_healthy\n",
      "Run ID: ERR4019280\n",
      "\n",
      "File number: 66\n",
      "Sample id: 10317.000062086\n",
      "Biosample ID 6365939\n",
      "Typology: not_healthy\n",
      "Run ID: ERR1842637\n",
      "\n",
      "File number: 67\n",
      "Sample id: 10317.000069651\n",
      "Biosample ID 8577446\n",
      "Typology: not_healthy\n",
      "Run ID: ERR2314251\n",
      "\n",
      "File number: 68\n",
      "Sample id: 10317.000093400\n",
      "Biosample ID 9541016\n",
      "Typology: not_healthy\n",
      "Run ID: ERR2579553\n",
      "\n",
      "File number: 69\n",
      "Sample id: 10317.000069197\n",
      "Biosample ID 14618489\n",
      "Typology: not_healthy\n",
      "Run ID: ERR4018975\n",
      "\n",
      "File number: 70\n",
      "Sample id: 10317.000054208\n",
      "Biosample ID 6365889\n",
      "Typology: not_healthy\n",
      "Run ID: ERR1842587\n",
      "\n",
      "File number: 71\n",
      "Sample id: 10317.000033063\n",
      "Biosample ID 5158638\n",
      "Typology: not_healthy\n",
      "Run ID: ERR1417508\n",
      "\n",
      "File number: 72\n",
      "Sample id: 10317.000068233\n",
      "Biosample ID 7497277\n",
      "Typology: not_healthy\n",
      "Run ID: ERR2092459\n",
      "\n",
      "File number: 73\n",
      "Sample id: 10317.000042630\n",
      "Biosample ID 5709882\n",
      "Typology: not_healthy\n",
      "Run ID: ERR1597056\n",
      "\n",
      "File number: 74\n",
      "Sample id: 10317.000047463\n",
      "Biosample ID 7353923\n",
      "Typology: not_healthy\n",
      "Run ID: ERR2032698\n",
      "\n",
      "File number: 75\n",
      "Sample id: 10317.000054289\n",
      "Biosample ID 8614662\n",
      "Typology: not_healthy\n",
      "Run ID: ERR2319344\n",
      "\n",
      "File number: 76\n",
      "Sample id: 10317.000042631\n",
      "Biosample ID 5709883\n",
      "Typology: not_healthy\n",
      "Run ID: ERR1597057\n",
      "\n",
      "File number: 77\n",
      "Sample id: 10317.000069001\n",
      "Biosample ID 7354544\n",
      "Typology: not_healthy\n",
      "Run ID: ERR2033544\n",
      "\n",
      "File number: 78\n",
      "Sample id: 10317.000068174\n",
      "Biosample ID 7354469\n",
      "Typology: not_healthy\n"
     ]
    },
    {
     "name": "stdout",
     "output_type": "stream",
     "text": [
      "Run ID: ERR2033469\n",
      "\n",
      "File number: 79\n",
      "Sample id: 10317.000050274\n",
      "Biosample ID 6366103\n",
      "Typology: not_healthy\n",
      "Run ID: ERR1842802\n",
      "\n",
      "File number: 80\n",
      "Sample id: 10317.000075933\n",
      "Biosample ID 9653092\n",
      "Typology: not_healthy\n",
      "Run ID: ERR2696475\n",
      "\n",
      "Number of sequences for healthy: 4658723\n"
     ]
    },
    {
     "data": {
      "application/vnd.jupyter.widget-view+json": {
       "model_id": "2ffc1586eeea41b2b69b3e929ad33883",
       "version_major": 2,
       "version_minor": 0
      },
      "text/plain": [
       "HBox(children=(FloatProgress(value=0.0, description='Compacting fasta', max=4658723.0, style=ProgressStyle(des…"
      ]
     },
     "metadata": {},
     "output_type": "display_data"
    },
    {
     "name": "stdout",
     "output_type": "stream",
     "text": [
      "\n",
      "Number of grouped sequences: 3296480\n",
      "Number of taken sequences: 731\n",
      "\n",
      "Number of sequences for not_healthy: 978740\n"
     ]
    },
    {
     "data": {
      "application/vnd.jupyter.widget-view+json": {
       "model_id": "ed9173320653451a8021aa7a5d5f74d6",
       "version_major": 2,
       "version_minor": 0
      },
      "text/plain": [
       "HBox(children=(FloatProgress(value=0.0, description='Compacting fasta', max=978740.0, style=ProgressStyle(desc…"
      ]
     },
     "metadata": {},
     "output_type": "display_data"
    },
    {
     "name": "stdout",
     "output_type": "stream",
     "text": [
      "\n",
      "Number of grouped sequences: 249806\n",
      "Number of taken sequences: 588\n",
      "\n",
      "Sample number: 1\n",
      "Sample name: 10317.000066612\n",
      "Run ID: ERR2092040\n"
     ]
    },
    {
     "data": {
      "application/vnd.jupyter.widget-view+json": {
       "model_id": "f8af419b477f4fb79f942a6ae552c4e0",
       "version_major": 2,
       "version_minor": 0
      },
      "text/plain": [
       "HBox(children=(FloatProgress(value=0.0, max=731.0), HTML(value='')))"
      ]
     },
     "metadata": {},
     "output_type": "display_data"
    },
    {
     "name": "stdout",
     "output_type": "stream",
     "text": [
      "\n",
      "Sample number: 2\n",
      "Sample name: 10317.000051168\n",
      "Run ID: ERR1841778\n",
      "Run ID: ERR1843783\n"
     ]
    },
    {
     "data": {
      "application/vnd.jupyter.widget-view+json": {
       "model_id": "8a00da1337bb416787c56584fc6df817",
       "version_major": 2,
       "version_minor": 0
      },
      "text/plain": [
       "HBox(children=(FloatProgress(value=0.0, max=731.0), HTML(value='')))"
      ]
     },
     "metadata": {},
     "output_type": "display_data"
    },
    {
     "name": "stdout",
     "output_type": "stream",
     "text": [
      "\n",
      "Sample number: 3\n",
      "Sample name: 10317.000065770\n",
      "Run ID: ERR2032865\n"
     ]
    },
    {
     "data": {
      "application/vnd.jupyter.widget-view+json": {
       "model_id": "d7b0ac52349b4bd59934272240c62417",
       "version_major": 2,
       "version_minor": 0
      },
      "text/plain": [
       "HBox(children=(FloatProgress(value=0.0, max=731.0), HTML(value='')))"
      ]
     },
     "metadata": {},
     "output_type": "display_data"
    },
    {
     "name": "stdout",
     "output_type": "stream",
     "text": [
      "\n",
      "Sample number: 4\n",
      "Sample name: 10317.000073253\n",
      "Run ID: ERR2314357\n"
     ]
    },
    {
     "data": {
      "application/vnd.jupyter.widget-view+json": {
       "model_id": "9f6f288540144e028f47f62e6a21c223",
       "version_major": 2,
       "version_minor": 0
      },
      "text/plain": [
       "HBox(children=(FloatProgress(value=0.0, max=731.0), HTML(value='')))"
      ]
     },
     "metadata": {},
     "output_type": "display_data"
    },
    {
     "name": "stdout",
     "output_type": "stream",
     "text": [
      "\n",
      "Sample number: 5\n",
      "Sample name: 10317.000059984\n",
      "Run ID: ERR2239360\n",
      "Run ID: ERR2056948\n"
     ]
    },
    {
     "data": {
      "application/vnd.jupyter.widget-view+json": {
       "model_id": "6aff092d665d46ed9ac1525c39715426",
       "version_major": 2,
       "version_minor": 0
      },
      "text/plain": [
       "HBox(children=(FloatProgress(value=0.0, max=731.0), HTML(value='')))"
      ]
     },
     "metadata": {},
     "output_type": "display_data"
    },
    {
     "name": "stdout",
     "output_type": "stream",
     "text": [
      "\n",
      "Sample number: 6\n",
      "Sample name: 10317.000101148\n",
      "Run ID: ERR4020623\n"
     ]
    },
    {
     "data": {
      "application/vnd.jupyter.widget-view+json": {
       "model_id": "590ff3817d95401a88cedc9c5b24a6bb",
       "version_major": 2,
       "version_minor": 0
      },
      "text/plain": [
       "HBox(children=(FloatProgress(value=0.0, max=731.0), HTML(value='')))"
      ]
     },
     "metadata": {},
     "output_type": "display_data"
    },
    {
     "name": "stdout",
     "output_type": "stream",
     "text": [
      "\n",
      "Sample number: 7\n",
      "Sample name: 10317.000047064\n",
      "Run ID: ERR1551686\n"
     ]
    },
    {
     "data": {
      "application/vnd.jupyter.widget-view+json": {
       "model_id": "ff0d0d6c4b32438f80f4851ada84ae70",
       "version_major": 2,
       "version_minor": 0
      },
      "text/plain": [
       "HBox(children=(FloatProgress(value=0.0, max=731.0), HTML(value='')))"
      ]
     },
     "metadata": {},
     "output_type": "display_data"
    },
    {
     "name": "stdout",
     "output_type": "stream",
     "text": [
      "\n",
      "Sample number: 8\n",
      "Sample name: 10317.000069794\n",
      "Run ID: ERR4018981\n"
     ]
    },
    {
     "data": {
      "application/vnd.jupyter.widget-view+json": {
       "model_id": "b2696b7f0cde4658ba6964570cda8db8",
       "version_major": 2,
       "version_minor": 0
      },
      "text/plain": [
       "HBox(children=(FloatProgress(value=0.0, max=731.0), HTML(value='')))"
      ]
     },
     "metadata": {},
     "output_type": "display_data"
    },
    {
     "name": "stdout",
     "output_type": "stream",
     "text": [
      "\n",
      "Sample number: 9\n",
      "Sample name: 10317.000033260\n",
      "Run ID: ERR1597017\n"
     ]
    },
    {
     "data": {
      "application/vnd.jupyter.widget-view+json": {
       "model_id": "f2029e4284e949d2a75a2119fe0dc51a",
       "version_major": 2,
       "version_minor": 0
      },
      "text/plain": [
       "HBox(children=(FloatProgress(value=0.0, max=731.0), HTML(value='')))"
      ]
     },
     "metadata": {},
     "output_type": "display_data"
    },
    {
     "name": "stdout",
     "output_type": "stream",
     "text": [
      "\n",
      "Sample number: 10\n",
      "Sample name: 10317.000092700\n",
      "Run ID: ERR2697719\n"
     ]
    },
    {
     "data": {
      "application/vnd.jupyter.widget-view+json": {
       "model_id": "46d4a913796348b7a7b757acf4af9faa",
       "version_major": 2,
       "version_minor": 0
      },
      "text/plain": [
       "HBox(children=(FloatProgress(value=0.0, max=731.0), HTML(value='')))"
      ]
     },
     "metadata": {},
     "output_type": "display_data"
    },
    {
     "name": "stdout",
     "output_type": "stream",
     "text": [
      "\n",
      "Sample number: 11\n",
      "Sample name: 10317.000069303\n",
      "Run ID: ERR2092106\n"
     ]
    },
    {
     "data": {
      "application/vnd.jupyter.widget-view+json": {
       "model_id": "bf2849ffcba74ae5ab500af0d7ea9cff",
       "version_major": 2,
       "version_minor": 0
      },
      "text/plain": [
       "HBox(children=(FloatProgress(value=0.0, max=731.0), HTML(value='')))"
      ]
     },
     "metadata": {},
     "output_type": "display_data"
    },
    {
     "name": "stdout",
     "output_type": "stream",
     "text": [
      "\n",
      "Sample number: 12\n",
      "Sample name: 10317.000041330\n",
      "Run ID: ERR1316217\n"
     ]
    },
    {
     "data": {
      "application/vnd.jupyter.widget-view+json": {
       "model_id": "3c8f2c5e2f5c46329b49955831b7e073",
       "version_major": 2,
       "version_minor": 0
      },
      "text/plain": [
       "HBox(children=(FloatProgress(value=0.0, max=731.0), HTML(value='')))"
      ]
     },
     "metadata": {},
     "output_type": "display_data"
    },
    {
     "name": "stdout",
     "output_type": "stream",
     "text": [
      "\n",
      "Sample number: 13\n",
      "Sample name: 10317.000074674\n",
      "Run ID: ERR2309379\n"
     ]
    },
    {
     "data": {
      "application/vnd.jupyter.widget-view+json": {
       "model_id": "5341963c94a14c7f80aceb55ba2850d8",
       "version_major": 2,
       "version_minor": 0
      },
      "text/plain": [
       "HBox(children=(FloatProgress(value=0.0, max=731.0), HTML(value='')))"
      ]
     },
     "metadata": {},
     "output_type": "display_data"
    },
    {
     "name": "stdout",
     "output_type": "stream",
     "text": [
      "\n",
      "Sample number: 14\n",
      "Sample name: 10317.000039729\n",
      "Run ID: ERR2579655\n"
     ]
    },
    {
     "data": {
      "application/vnd.jupyter.widget-view+json": {
       "model_id": "1428021f4256447fbd48a2ac14ded756",
       "version_major": 2,
       "version_minor": 0
      },
      "text/plain": [
       "HBox(children=(FloatProgress(value=0.0, max=731.0), HTML(value='')))"
      ]
     },
     "metadata": {},
     "output_type": "display_data"
    },
    {
     "name": "stdout",
     "output_type": "stream",
     "text": [
      "\n",
      "Sample number: 15\n",
      "Sample name: 10317.000042712\n",
      "Run ID: ERR1597059\n"
     ]
    },
    {
     "data": {
      "application/vnd.jupyter.widget-view+json": {
       "model_id": "8d72d27718754a878fcbddef04afb80f",
       "version_major": 2,
       "version_minor": 0
      },
      "text/plain": [
       "HBox(children=(FloatProgress(value=0.0, max=731.0), HTML(value='')))"
      ]
     },
     "metadata": {},
     "output_type": "display_data"
    },
    {
     "name": "stdout",
     "output_type": "stream",
     "text": [
      "\n",
      "Sample number: 16\n",
      "Sample name: 10317.000101145\n",
      "Run ID: ERR4020620\n"
     ]
    },
    {
     "data": {
      "application/vnd.jupyter.widget-view+json": {
       "model_id": "07819f7f2c1b4477a1a109a008a2502b",
       "version_major": 2,
       "version_minor": 0
      },
      "text/plain": [
       "HBox(children=(FloatProgress(value=0.0, max=731.0), HTML(value='')))"
      ]
     },
     "metadata": {},
     "output_type": "display_data"
    },
    {
     "name": "stdout",
     "output_type": "stream",
     "text": [
      "\n",
      "Sample number: 17\n",
      "Sample name: 10317.000075930\n",
      "Run ID: ERR2696890\n"
     ]
    },
    {
     "data": {
      "application/vnd.jupyter.widget-view+json": {
       "model_id": "8df930953eec4363beb8fa79c7f904ea",
       "version_major": 2,
       "version_minor": 0
      },
      "text/plain": [
       "HBox(children=(FloatProgress(value=0.0, max=731.0), HTML(value='')))"
      ]
     },
     "metadata": {},
     "output_type": "display_data"
    },
    {
     "name": "stdout",
     "output_type": "stream",
     "text": [
      "\n",
      "Sample number: 18\n",
      "Sample name: 10317.000069640\n",
      "Run ID: ERR2242527\n",
      "Run ID: ERR2057131\n"
     ]
    },
    {
     "data": {
      "application/vnd.jupyter.widget-view+json": {
       "model_id": "6d879ea6119b456cbf73b7084a4e253c",
       "version_major": 2,
       "version_minor": 0
      },
      "text/plain": [
       "HBox(children=(FloatProgress(value=0.0, max=731.0), HTML(value='')))"
      ]
     },
     "metadata": {},
     "output_type": "display_data"
    },
    {
     "name": "stdout",
     "output_type": "stream",
     "text": [
      "\n",
      "Sample number: 19\n",
      "Sample name: 10317.000044559\n",
      "Run ID: ERR2579667\n",
      "Run ID: ERR2404919\n"
     ]
    },
    {
     "data": {
      "application/vnd.jupyter.widget-view+json": {
       "model_id": "39bd19bc47274a90a3a425b00e80bad5",
       "version_major": 2,
       "version_minor": 0
      },
      "text/plain": [
       "HBox(children=(FloatProgress(value=0.0, max=731.0), HTML(value='')))"
      ]
     },
     "metadata": {},
     "output_type": "display_data"
    },
    {
     "name": "stdout",
     "output_type": "stream",
     "text": [
      "\n",
      "Sample number: 20\n",
      "Sample name: 10317.000098180\n",
      "Run ID: ERR2696729\n"
     ]
    },
    {
     "data": {
      "application/vnd.jupyter.widget-view+json": {
       "model_id": "4b19d2f8906c4a8aba45c63526bc997d",
       "version_major": 2,
       "version_minor": 0
      },
      "text/plain": [
       "HBox(children=(FloatProgress(value=0.0, max=731.0), HTML(value='')))"
      ]
     },
     "metadata": {},
     "output_type": "display_data"
    },
    {
     "name": "stdout",
     "output_type": "stream",
     "text": [
      "\n",
      "Sample number: 21\n",
      "Sample name: 10317.000072387\n",
      "Run ID: ERR2304009\n"
     ]
    },
    {
     "data": {
      "application/vnd.jupyter.widget-view+json": {
       "model_id": "59bafa29ae3144779e428b748b4a3418",
       "version_major": 2,
       "version_minor": 0
      },
      "text/plain": [
       "HBox(children=(FloatProgress(value=0.0, max=731.0), HTML(value='')))"
      ]
     },
     "metadata": {},
     "output_type": "display_data"
    },
    {
     "name": "stdout",
     "output_type": "stream",
     "text": [
      "\n",
      "Sample number: 22\n",
      "Sample name: 10317.000094722\n",
      "Run ID: ERR4019216\n"
     ]
    },
    {
     "data": {
      "application/vnd.jupyter.widget-view+json": {
       "model_id": "7243d98bc1874deb941b7dd54ed230ad",
       "version_major": 2,
       "version_minor": 0
      },
      "text/plain": [
       "HBox(children=(FloatProgress(value=0.0, max=731.0), HTML(value='')))"
      ]
     },
     "metadata": {},
     "output_type": "display_data"
    },
    {
     "name": "stdout",
     "output_type": "stream",
     "text": [
      "\n",
      "Sample number: 23\n",
      "Sample name: 10317.000043083\n",
      "Run ID: ERR1389989\n"
     ]
    },
    {
     "data": {
      "application/vnd.jupyter.widget-view+json": {
       "model_id": "f9000db1b844466eb761f37f8455258d",
       "version_major": 2,
       "version_minor": 0
      },
      "text/plain": [
       "HBox(children=(FloatProgress(value=0.0, max=731.0), HTML(value='')))"
      ]
     },
     "metadata": {},
     "output_type": "display_data"
    },
    {
     "name": "stdout",
     "output_type": "stream",
     "text": [
      "\n",
      "Sample number: 24\n",
      "Sample name: 10317.000073364\n",
      "Run ID: ERR2579972\n"
     ]
    },
    {
     "data": {
      "application/vnd.jupyter.widget-view+json": {
       "model_id": "450bcf47d059476dafc5eb3cd8899ad6",
       "version_major": 2,
       "version_minor": 0
      },
      "text/plain": [
       "HBox(children=(FloatProgress(value=0.0, max=731.0), HTML(value='')))"
      ]
     },
     "metadata": {},
     "output_type": "display_data"
    },
    {
     "name": "stdout",
     "output_type": "stream",
     "text": [
      "\n",
      "Sample number: 25\n",
      "Sample name: 10317.000106821\n",
      "Run ID: ERR4019290\n"
     ]
    },
    {
     "data": {
      "application/vnd.jupyter.widget-view+json": {
       "model_id": "9be9f466e9fe4e92af805683cb2616d9",
       "version_major": 2,
       "version_minor": 0
      },
      "text/plain": [
       "HBox(children=(FloatProgress(value=0.0, max=731.0), HTML(value='')))"
      ]
     },
     "metadata": {},
     "output_type": "display_data"
    },
    {
     "name": "stdout",
     "output_type": "stream",
     "text": [
      "\n",
      "Sample number: 26\n",
      "Sample name: 10317.000100395\n",
      "Run ID: ERR4019231\n"
     ]
    },
    {
     "data": {
      "application/vnd.jupyter.widget-view+json": {
       "model_id": "079ad1947dd245c8814be0001cb9020f",
       "version_major": 2,
       "version_minor": 0
      },
      "text/plain": [
       "HBox(children=(FloatProgress(value=0.0, max=731.0), HTML(value='')))"
      ]
     },
     "metadata": {},
     "output_type": "display_data"
    },
    {
     "name": "stdout",
     "output_type": "stream",
     "text": [
      "\n",
      "Sample number: 27\n",
      "Sample name: 10317.000069702\n",
      "Run ID: ERR2057147\n"
     ]
    },
    {
     "data": {
      "application/vnd.jupyter.widget-view+json": {
       "model_id": "cff793d3a3eb4b7b93e4ee3828f0e288",
       "version_major": 2,
       "version_minor": 0
      },
      "text/plain": [
       "HBox(children=(FloatProgress(value=0.0, max=731.0), HTML(value='')))"
      ]
     },
     "metadata": {},
     "output_type": "display_data"
    },
    {
     "name": "stdout",
     "output_type": "stream",
     "text": [
      "\n",
      "Sample number: 28\n",
      "Sample name: 10317.000058525\n",
      "Run ID: ERR2319347\n",
      "Run ID: ERR1854734\n"
     ]
    },
    {
     "data": {
      "application/vnd.jupyter.widget-view+json": {
       "model_id": "ec17c4f566f249bdb48b02b19a8ae2a2",
       "version_major": 2,
       "version_minor": 0
      },
      "text/plain": [
       "HBox(children=(FloatProgress(value=0.0, max=731.0), HTML(value='')))"
      ]
     },
     "metadata": {},
     "output_type": "display_data"
    },
    {
     "name": "stdout",
     "output_type": "stream",
     "text": [
      "\n",
      "Sample number: 29\n",
      "Sample name: 10317.000072118\n",
      "Run ID: ERR2404965\n"
     ]
    },
    {
     "data": {
      "application/vnd.jupyter.widget-view+json": {
       "model_id": "1a569cc4f9014dcf9485dfeae833d68b",
       "version_major": 2,
       "version_minor": 0
      },
      "text/plain": [
       "HBox(children=(FloatProgress(value=0.0, max=731.0), HTML(value='')))"
      ]
     },
     "metadata": {},
     "output_type": "display_data"
    },
    {
     "name": "stdout",
     "output_type": "stream",
     "text": [
      "\n",
      "Sample number: 30\n",
      "Sample name: 10317.000075872\n",
      "Run ID: ERR2523922\n"
     ]
    },
    {
     "data": {
      "application/vnd.jupyter.widget-view+json": {
       "model_id": "90c0ee83d5124f53a7aa31da0588d24f",
       "version_major": 2,
       "version_minor": 0
      },
      "text/plain": [
       "HBox(children=(FloatProgress(value=0.0, max=731.0), HTML(value='')))"
      ]
     },
     "metadata": {},
     "output_type": "display_data"
    },
    {
     "name": "stdout",
     "output_type": "stream",
     "text": [
      "\n",
      "Sample number: 31\n",
      "Sample name: 10317.000097102\n",
      "Run ID: ERR2697076\n"
     ]
    },
    {
     "data": {
      "application/vnd.jupyter.widget-view+json": {
       "model_id": "98396db1fcb846e8a19541b7303d3ba4",
       "version_major": 2,
       "version_minor": 0
      },
      "text/plain": [
       "HBox(children=(FloatProgress(value=0.0, max=731.0), HTML(value='')))"
      ]
     },
     "metadata": {},
     "output_type": "display_data"
    },
    {
     "name": "stdout",
     "output_type": "stream",
     "text": [
      "\n",
      "Sample number: 32\n",
      "Sample name: 10317.000071471\n",
      "Run ID: ERR4018999\n"
     ]
    },
    {
     "data": {
      "application/vnd.jupyter.widget-view+json": {
       "model_id": "8dc9cc86e78e47d4a85c10aceb25155d",
       "version_major": 2,
       "version_minor": 0
      },
      "text/plain": [
       "HBox(children=(FloatProgress(value=0.0, max=731.0), HTML(value='')))"
      ]
     },
     "metadata": {},
     "output_type": "display_data"
    },
    {
     "name": "stdout",
     "output_type": "stream",
     "text": [
      "\n",
      "Sample number: 33\n",
      "Sample name: 10317.000046285\n",
      "Run ID: ERR2032618\n"
     ]
    },
    {
     "data": {
      "application/vnd.jupyter.widget-view+json": {
       "model_id": "b9e4ff9899fd4de284ad90421f81c7b9",
       "version_major": 2,
       "version_minor": 0
      },
      "text/plain": [
       "HBox(children=(FloatProgress(value=0.0, max=731.0), HTML(value='')))"
      ]
     },
     "metadata": {},
     "output_type": "display_data"
    },
    {
     "name": "stdout",
     "output_type": "stream",
     "text": [
      "\n",
      "Sample number: 34\n",
      "Sample name: 10317.000058423\n",
      "Run ID: ERR1854712\n"
     ]
    },
    {
     "data": {
      "application/vnd.jupyter.widget-view+json": {
       "model_id": "b684dc5548344cbd92979ec137846b60",
       "version_major": 2,
       "version_minor": 0
      },
      "text/plain": [
       "HBox(children=(FloatProgress(value=0.0, max=731.0), HTML(value='')))"
      ]
     },
     "metadata": {},
     "output_type": "display_data"
    },
    {
     "name": "stdout",
     "output_type": "stream",
     "text": [
      "\n",
      "Sample number: 35\n",
      "Sample name: 10317.000087299\n",
      "Run ID: ERR2696520\n"
     ]
    },
    {
     "data": {
      "application/vnd.jupyter.widget-view+json": {
       "model_id": "6955abb924ef42cf9c6d7e78d4329666",
       "version_major": 2,
       "version_minor": 0
      },
      "text/plain": [
       "HBox(children=(FloatProgress(value=0.0, max=731.0), HTML(value='')))"
      ]
     },
     "metadata": {},
     "output_type": "display_data"
    },
    {
     "name": "stdout",
     "output_type": "stream",
     "text": [
      "\n",
      "Sample number: 36\n",
      "Sample name: 10317.000058421\n",
      "Run ID: ERR1854710\n"
     ]
    },
    {
     "data": {
      "application/vnd.jupyter.widget-view+json": {
       "model_id": "ff8ac42fbbc84617bba698d506916414",
       "version_major": 2,
       "version_minor": 0
      },
      "text/plain": [
       "HBox(children=(FloatProgress(value=0.0, max=731.0), HTML(value='')))"
      ]
     },
     "metadata": {},
     "output_type": "display_data"
    },
    {
     "name": "stdout",
     "output_type": "stream",
     "text": [
      "\n",
      "Sample number: 37\n",
      "Sample name: 10317.000058955\n",
      "Run ID: ERR1854738\n"
     ]
    },
    {
     "data": {
      "application/vnd.jupyter.widget-view+json": {
       "model_id": "1a0d4e2059784807b576b63ecf621187",
       "version_major": 2,
       "version_minor": 0
      },
      "text/plain": [
       "HBox(children=(FloatProgress(value=0.0, max=731.0), HTML(value='')))"
      ]
     },
     "metadata": {},
     "output_type": "display_data"
    },
    {
     "name": "stdout",
     "output_type": "stream",
     "text": [
      "\n",
      "Sample number: 38\n",
      "Sample name: 10317.000072431\n",
      "Run ID: ERR2308673\n"
     ]
    },
    {
     "data": {
      "application/vnd.jupyter.widget-view+json": {
       "model_id": "958cbdc38bc04fd9a5ba73fa329da542",
       "version_major": 2,
       "version_minor": 0
      },
      "text/plain": [
       "HBox(children=(FloatProgress(value=0.0, max=731.0), HTML(value='')))"
      ]
     },
     "metadata": {},
     "output_type": "display_data"
    },
    {
     "name": "stdout",
     "output_type": "stream",
     "text": [
      "\n",
      "Sample number: 39\n",
      "Sample name: 10317.000083010\n",
      "Run ID: ERR2405201\n"
     ]
    },
    {
     "data": {
      "application/vnd.jupyter.widget-view+json": {
       "model_id": "f43f31bb55f249f1b8920b5009d56480",
       "version_major": 2,
       "version_minor": 0
      },
      "text/plain": [
       "HBox(children=(FloatProgress(value=0.0, max=731.0), HTML(value='')))"
      ]
     },
     "metadata": {},
     "output_type": "display_data"
    },
    {
     "name": "stdout",
     "output_type": "stream",
     "text": [
      "\n",
      "Sample number: 40\n",
      "Sample name: 10317.000052325\n",
      "Run ID: ERR2523873\n"
     ]
    },
    {
     "data": {
      "application/vnd.jupyter.widget-view+json": {
       "model_id": "f615fef4f1f44f30b938d94d0c79741d",
       "version_major": 2,
       "version_minor": 0
      },
      "text/plain": [
       "HBox(children=(FloatProgress(value=0.0, max=731.0), HTML(value='')))"
      ]
     },
     "metadata": {},
     "output_type": "display_data"
    },
    {
     "name": "stdout",
     "output_type": "stream",
     "text": [
      "\n",
      "Sample number: 41\n",
      "Sample name: 10317.000058971\n",
      "Run ID: ERR2696443\n"
     ]
    },
    {
     "data": {
      "application/vnd.jupyter.widget-view+json": {
       "model_id": "a2f0ca5f8c1541378a3c61db9cccd2e9",
       "version_major": 2,
       "version_minor": 0
      },
      "text/plain": [
       "HBox(children=(FloatProgress(value=0.0, max=588.0), HTML(value='')))"
      ]
     },
     "metadata": {},
     "output_type": "display_data"
    },
    {
     "name": "stdout",
     "output_type": "stream",
     "text": [
      "\n",
      "Sample number: 42\n",
      "Sample name: 10317.000047222\n",
      "Run ID: ERR1842761\n"
     ]
    },
    {
     "data": {
      "application/vnd.jupyter.widget-view+json": {
       "model_id": "f5f84a7715e14ee2a67b2db8b6390486",
       "version_major": 2,
       "version_minor": 0
      },
      "text/plain": [
       "HBox(children=(FloatProgress(value=0.0, max=588.0), HTML(value='')))"
      ]
     },
     "metadata": {},
     "output_type": "display_data"
    },
    {
     "name": "stdout",
     "output_type": "stream",
     "text": [
      "\n",
      "Sample number: 43\n",
      "Sample name: 10317.000068173\n",
      "Run ID: ERR2319482\n"
     ]
    },
    {
     "data": {
      "application/vnd.jupyter.widget-view+json": {
       "model_id": "b001ed4d978a431782244e0a868faa96",
       "version_major": 2,
       "version_minor": 0
      },
      "text/plain": [
       "HBox(children=(FloatProgress(value=0.0, max=588.0), HTML(value='')))"
      ]
     },
     "metadata": {},
     "output_type": "display_data"
    },
    {
     "name": "stdout",
     "output_type": "stream",
     "text": [
      "\n",
      "Sample number: 44\n",
      "Sample name: 10317.000070708\n",
      "Run ID: ERR2404950\n"
     ]
    },
    {
     "data": {
      "application/vnd.jupyter.widget-view+json": {
       "model_id": "9729079229194cb1b01bc46010aa2ce9",
       "version_major": 2,
       "version_minor": 0
      },
      "text/plain": [
       "HBox(children=(FloatProgress(value=0.0, max=588.0), HTML(value='')))"
      ]
     },
     "metadata": {},
     "output_type": "display_data"
    },
    {
     "name": "stdout",
     "output_type": "stream",
     "text": [
      "\n",
      "Sample number: 45\n",
      "Sample name: 10317.000093103\n",
      "Run ID: ERR2696999\n"
     ]
    },
    {
     "data": {
      "application/vnd.jupyter.widget-view+json": {
       "model_id": "d3861f58685f41c2b1dcee22fac1979e",
       "version_major": 2,
       "version_minor": 0
      },
      "text/plain": [
       "HBox(children=(FloatProgress(value=0.0, max=588.0), HTML(value='')))"
      ]
     },
     "metadata": {},
     "output_type": "display_data"
    },
    {
     "name": "stdout",
     "output_type": "stream",
     "text": [
      "\n",
      "Sample number: 46\n",
      "Sample name: 10317.000059959\n",
      "Run ID: ERR2303862\n"
     ]
    },
    {
     "data": {
      "application/vnd.jupyter.widget-view+json": {
       "model_id": "c3a091986e1f4d28a842f431c024ace0",
       "version_major": 2,
       "version_minor": 0
      },
      "text/plain": [
       "HBox(children=(FloatProgress(value=0.0, max=588.0), HTML(value='')))"
      ]
     },
     "metadata": {},
     "output_type": "display_data"
    },
    {
     "name": "stdout",
     "output_type": "stream",
     "text": [
      "\n",
      "Sample number: 47\n",
      "Sample name: 10317.000092754\n",
      "Run ID: ERR2696591\n"
     ]
    },
    {
     "data": {
      "application/vnd.jupyter.widget-view+json": {
       "model_id": "4662f7b7483e404e92adf472e6a19cfc",
       "version_major": 2,
       "version_minor": 0
      },
      "text/plain": [
       "HBox(children=(FloatProgress(value=0.0, max=588.0), HTML(value='')))"
      ]
     },
     "metadata": {},
     "output_type": "display_data"
    },
    {
     "name": "stdout",
     "output_type": "stream",
     "text": [
      "\n",
      "Sample number: 48\n",
      "Sample name: 10317.000105371\n",
      "Run ID: ERR4019279\n"
     ]
    },
    {
     "data": {
      "application/vnd.jupyter.widget-view+json": {
       "model_id": "49ec68d28688405a970a22cff2944a9b",
       "version_major": 2,
       "version_minor": 0
      },
      "text/plain": [
       "HBox(children=(FloatProgress(value=0.0, max=588.0), HTML(value='')))"
      ]
     },
     "metadata": {},
     "output_type": "display_data"
    },
    {
     "name": "stdout",
     "output_type": "stream",
     "text": [
      "\n",
      "Sample number: 49\n",
      "Sample name: 10317.000038305\n",
      "Run ID: ERR1389836\n"
     ]
    },
    {
     "data": {
      "application/vnd.jupyter.widget-view+json": {
       "model_id": "ab473dbdb1b547c2ad02eb55994d20e2",
       "version_major": 2,
       "version_minor": 0
      },
      "text/plain": [
       "HBox(children=(FloatProgress(value=0.0, max=588.0), HTML(value='')))"
      ]
     },
     "metadata": {},
     "output_type": "display_data"
    },
    {
     "name": "stdout",
     "output_type": "stream",
     "text": [
      "\n",
      "Sample number: 50\n",
      "Sample name: 10317.000069002\n",
      "Run ID: ERR2314217\n"
     ]
    },
    {
     "data": {
      "application/vnd.jupyter.widget-view+json": {
       "model_id": "2783e0bb1a724bc892633acacb679af4",
       "version_major": 2,
       "version_minor": 0
      },
      "text/plain": [
       "HBox(children=(FloatProgress(value=0.0, max=588.0), HTML(value='')))"
      ]
     },
     "metadata": {},
     "output_type": "display_data"
    },
    {
     "name": "stdout",
     "output_type": "stream",
     "text": [
      "\n",
      "Sample number: 51\n",
      "Sample name: 10317.000037933\n",
      "Run ID: ERR1842199\n",
      "Run ID: ERR2056801\n"
     ]
    },
    {
     "data": {
      "application/vnd.jupyter.widget-view+json": {
       "model_id": "01d394c47c0d44fabb69d05948cb93fe",
       "version_major": 2,
       "version_minor": 0
      },
      "text/plain": [
       "HBox(children=(FloatProgress(value=0.0, max=588.0), HTML(value='')))"
      ]
     },
     "metadata": {},
     "output_type": "display_data"
    },
    {
     "name": "stdout",
     "output_type": "stream",
     "text": [
      "\n",
      "Sample number: 52\n",
      "Sample name: 10317.000033728\n",
      "Run ID: ERR1315996\n"
     ]
    },
    {
     "data": {
      "application/vnd.jupyter.widget-view+json": {
       "model_id": "6875315de17d4ad9872149e20e2ceb70",
       "version_major": 2,
       "version_minor": 0
      },
      "text/plain": [
       "HBox(children=(FloatProgress(value=0.0, max=588.0), HTML(value='')))"
      ]
     },
     "metadata": {},
     "output_type": "display_data"
    },
    {
     "name": "stdout",
     "output_type": "stream",
     "text": [
      "\n",
      "Sample number: 53\n",
      "Sample name: 10317.000101067\n",
      "Run ID: ERR4020553\n"
     ]
    },
    {
     "data": {
      "application/vnd.jupyter.widget-view+json": {
       "model_id": "9242cf0cd6e44c2cb1d97472730c6894",
       "version_major": 2,
       "version_minor": 0
      },
      "text/plain": [
       "HBox(children=(FloatProgress(value=0.0, max=588.0), HTML(value='')))"
      ]
     },
     "metadata": {},
     "output_type": "display_data"
    },
    {
     "name": "stdout",
     "output_type": "stream",
     "text": [
      "\n",
      "Sample number: 54\n",
      "Sample name: 10317.000074586\n",
      "Run ID: ERR4019071\n"
     ]
    },
    {
     "data": {
      "application/vnd.jupyter.widget-view+json": {
       "model_id": "27c82c37e980481592188093293dd3a6",
       "version_major": 2,
       "version_minor": 0
      },
      "text/plain": [
       "HBox(children=(FloatProgress(value=0.0, max=588.0), HTML(value='')))"
      ]
     },
     "metadata": {},
     "output_type": "display_data"
    },
    {
     "name": "stdout",
     "output_type": "stream",
     "text": [
      "\n",
      "Sample number: 55\n",
      "Sample name: 10317.000038160\n",
      "Run ID: ERR2313969\n"
     ]
    },
    {
     "data": {
      "application/vnd.jupyter.widget-view+json": {
       "model_id": "2b69c50ed792476a940db4a66e7a729e",
       "version_major": 2,
       "version_minor": 0
      },
      "text/plain": [
       "HBox(children=(FloatProgress(value=0.0, max=588.0), HTML(value='')))"
      ]
     },
     "metadata": {},
     "output_type": "display_data"
    },
    {
     "name": "stdout",
     "output_type": "stream",
     "text": [
      "\n",
      "Sample number: 56\n",
      "Sample name: 10317.000075909\n",
      "Run ID: ERR2523933\n"
     ]
    },
    {
     "data": {
      "application/vnd.jupyter.widget-view+json": {
       "model_id": "8a8a4cb9efae4781ba22d386837ee1d4",
       "version_major": 2,
       "version_minor": 0
      },
      "text/plain": [
       "HBox(children=(FloatProgress(value=0.0, max=588.0), HTML(value='')))"
      ]
     },
     "metadata": {},
     "output_type": "display_data"
    },
    {
     "name": "stdout",
     "output_type": "stream",
     "text": [
      "\n",
      "Sample number: 57\n",
      "Sample name: 10317.000097663\n",
      "Run ID: ERR2697902\n"
     ]
    },
    {
     "data": {
      "application/vnd.jupyter.widget-view+json": {
       "model_id": "d9425041811e45d9849d52499c0294aa",
       "version_major": 2,
       "version_minor": 0
      },
      "text/plain": [
       "HBox(children=(FloatProgress(value=0.0, max=588.0), HTML(value='')))"
      ]
     },
     "metadata": {},
     "output_type": "display_data"
    },
    {
     "name": "stdout",
     "output_type": "stream",
     "text": [
      "\n",
      "Sample number: 58\n",
      "Sample name: 10317.000098679\n",
      "Run ID: ERR2697993\n"
     ]
    },
    {
     "data": {
      "application/vnd.jupyter.widget-view+json": {
       "model_id": "aa5ea22cd94144cea6e3e61e097e3f59",
       "version_major": 2,
       "version_minor": 0
      },
      "text/plain": [
       "HBox(children=(FloatProgress(value=0.0, max=588.0), HTML(value='')))"
      ]
     },
     "metadata": {},
     "output_type": "display_data"
    },
    {
     "name": "stdout",
     "output_type": "stream",
     "text": [
      "\n",
      "Sample number: 59\n",
      "Sample name: 10317.000097473\n",
      "Run ID: ERR2697882\n"
     ]
    },
    {
     "data": {
      "application/vnd.jupyter.widget-view+json": {
       "model_id": "bf8e44bba627435aa45428277664da32",
       "version_major": 2,
       "version_minor": 0
      },
      "text/plain": [
       "HBox(children=(FloatProgress(value=0.0, max=588.0), HTML(value='')))"
      ]
     },
     "metadata": {},
     "output_type": "display_data"
    },
    {
     "name": "stdout",
     "output_type": "stream",
     "text": [
      "\n",
      "Sample number: 60\n",
      "Sample name: 10317.000107269\n",
      "Run ID: ERR4019312\n"
     ]
    },
    {
     "data": {
      "application/vnd.jupyter.widget-view+json": {
       "model_id": "608e67fa14ef4224b7c5fe3ada63257b",
       "version_major": 2,
       "version_minor": 0
      },
      "text/plain": [
       "HBox(children=(FloatProgress(value=0.0, max=588.0), HTML(value='')))"
      ]
     },
     "metadata": {},
     "output_type": "display_data"
    },
    {
     "name": "stdout",
     "output_type": "stream",
     "text": [
      "\n",
      "Sample number: 61\n",
      "Sample name: 10317.000065320\n",
      "Run ID: ERR1854752\n"
     ]
    },
    {
     "data": {
      "application/vnd.jupyter.widget-view+json": {
       "model_id": "c2a8008432dc4e91bce07432b3d3ce3e",
       "version_major": 2,
       "version_minor": 0
      },
      "text/plain": [
       "HBox(children=(FloatProgress(value=0.0, max=588.0), HTML(value='')))"
      ]
     },
     "metadata": {},
     "output_type": "display_data"
    },
    {
     "name": "stdout",
     "output_type": "stream",
     "text": [
      "\n",
      "Sample number: 62\n",
      "Sample name: 10317.000079833\n",
      "Run ID: ERR2304099\n"
     ]
    },
    {
     "data": {
      "application/vnd.jupyter.widget-view+json": {
       "model_id": "356d5bbcdcc0487e830215b343447664",
       "version_major": 2,
       "version_minor": 0
      },
      "text/plain": [
       "HBox(children=(FloatProgress(value=0.0, max=588.0), HTML(value='')))"
      ]
     },
     "metadata": {},
     "output_type": "display_data"
    },
    {
     "name": "stdout",
     "output_type": "stream",
     "text": [
      "\n",
      "Sample number: 63\n",
      "Sample name: 10317.000068175\n",
      "Run ID: ERR2033470\n"
     ]
    },
    {
     "data": {
      "application/vnd.jupyter.widget-view+json": {
       "model_id": "e3716097f64444c28f7a805a6b3c1f27",
       "version_major": 2,
       "version_minor": 0
      },
      "text/plain": [
       "HBox(children=(FloatProgress(value=0.0, max=588.0), HTML(value='')))"
      ]
     },
     "metadata": {},
     "output_type": "display_data"
    },
    {
     "name": "stdout",
     "output_type": "stream",
     "text": [
      "\n",
      "Sample number: 64\n",
      "Sample name: 10317.000076672\n",
      "Run ID: ERR2523964\n"
     ]
    },
    {
     "data": {
      "application/vnd.jupyter.widget-view+json": {
       "model_id": "63eccd7c43314f8eb2c03d0ad62f3b65",
       "version_major": 2,
       "version_minor": 0
      },
      "text/plain": [
       "HBox(children=(FloatProgress(value=0.0, max=588.0), HTML(value='')))"
      ]
     },
     "metadata": {},
     "output_type": "display_data"
    },
    {
     "name": "stdout",
     "output_type": "stream",
     "text": [
      "\n",
      "Sample number: 65\n",
      "Sample name: 10317.000105372\n",
      "Run ID: ERR4019280\n"
     ]
    },
    {
     "data": {
      "application/vnd.jupyter.widget-view+json": {
       "model_id": "672a05f087dc477088e0e675d0a3489d",
       "version_major": 2,
       "version_minor": 0
      },
      "text/plain": [
       "HBox(children=(FloatProgress(value=0.0, max=588.0), HTML(value='')))"
      ]
     },
     "metadata": {},
     "output_type": "display_data"
    },
    {
     "name": "stdout",
     "output_type": "stream",
     "text": [
      "\n",
      "Sample number: 66\n",
      "Sample name: 10317.000062086\n",
      "Run ID: ERR1842637\n"
     ]
    },
    {
     "data": {
      "application/vnd.jupyter.widget-view+json": {
       "model_id": "8fc84dd6698f41328890213ecc131f85",
       "version_major": 2,
       "version_minor": 0
      },
      "text/plain": [
       "HBox(children=(FloatProgress(value=0.0, max=588.0), HTML(value='')))"
      ]
     },
     "metadata": {},
     "output_type": "display_data"
    },
    {
     "name": "stdout",
     "output_type": "stream",
     "text": [
      "\n",
      "Sample number: 67\n",
      "Sample name: 10317.000069651\n",
      "Run ID: ERR2314251\n"
     ]
    },
    {
     "data": {
      "application/vnd.jupyter.widget-view+json": {
       "model_id": "a1924bf289ae4c0fa1514fa20e4eb589",
       "version_major": 2,
       "version_minor": 0
      },
      "text/plain": [
       "HBox(children=(FloatProgress(value=0.0, max=588.0), HTML(value='')))"
      ]
     },
     "metadata": {},
     "output_type": "display_data"
    },
    {
     "name": "stdout",
     "output_type": "stream",
     "text": [
      "\n",
      "Sample number: 68\n",
      "Sample name: 10317.000093400\n",
      "Run ID: ERR2579553\n"
     ]
    },
    {
     "data": {
      "application/vnd.jupyter.widget-view+json": {
       "model_id": "1510fec943c44be7982bc0e51371bcc9",
       "version_major": 2,
       "version_minor": 0
      },
      "text/plain": [
       "HBox(children=(FloatProgress(value=0.0, max=588.0), HTML(value='')))"
      ]
     },
     "metadata": {},
     "output_type": "display_data"
    },
    {
     "name": "stdout",
     "output_type": "stream",
     "text": [
      "\n",
      "Sample number: 69\n",
      "Sample name: 10317.000069197\n",
      "Run ID: ERR4018975\n"
     ]
    },
    {
     "data": {
      "application/vnd.jupyter.widget-view+json": {
       "model_id": "ccd8266d0ec9408cb75234fd4cba804f",
       "version_major": 2,
       "version_minor": 0
      },
      "text/plain": [
       "HBox(children=(FloatProgress(value=0.0, max=588.0), HTML(value='')))"
      ]
     },
     "metadata": {},
     "output_type": "display_data"
    },
    {
     "name": "stdout",
     "output_type": "stream",
     "text": [
      "\n",
      "Sample number: 70\n",
      "Sample name: 10317.000054208\n",
      "Run ID: ERR1842587\n"
     ]
    },
    {
     "data": {
      "application/vnd.jupyter.widget-view+json": {
       "model_id": "f2bf59dc4d9043b7a0669d6f721001f8",
       "version_major": 2,
       "version_minor": 0
      },
      "text/plain": [
       "HBox(children=(FloatProgress(value=0.0, max=588.0), HTML(value='')))"
      ]
     },
     "metadata": {},
     "output_type": "display_data"
    },
    {
     "name": "stdout",
     "output_type": "stream",
     "text": [
      "\n",
      "Sample number: 71\n",
      "Sample name: 10317.000033063\n",
      "Run ID: ERR1417508\n"
     ]
    },
    {
     "data": {
      "application/vnd.jupyter.widget-view+json": {
       "model_id": "f99dac98efd84fe2a49c1c7e2a94c3af",
       "version_major": 2,
       "version_minor": 0
      },
      "text/plain": [
       "HBox(children=(FloatProgress(value=0.0, max=588.0), HTML(value='')))"
      ]
     },
     "metadata": {},
     "output_type": "display_data"
    },
    {
     "name": "stdout",
     "output_type": "stream",
     "text": [
      "\n",
      "Sample number: 72\n",
      "Sample name: 10317.000068233\n",
      "Run ID: ERR2092459\n"
     ]
    },
    {
     "data": {
      "application/vnd.jupyter.widget-view+json": {
       "model_id": "9487c1804e5843e3a30599ccf25d820b",
       "version_major": 2,
       "version_minor": 0
      },
      "text/plain": [
       "HBox(children=(FloatProgress(value=0.0, max=588.0), HTML(value='')))"
      ]
     },
     "metadata": {},
     "output_type": "display_data"
    },
    {
     "name": "stdout",
     "output_type": "stream",
     "text": [
      "\n",
      "Sample number: 73\n",
      "Sample name: 10317.000042630\n",
      "Run ID: ERR1597056\n"
     ]
    },
    {
     "data": {
      "application/vnd.jupyter.widget-view+json": {
       "model_id": "501a7bfbb1ec4369b020ab897f4a14ed",
       "version_major": 2,
       "version_minor": 0
      },
      "text/plain": [
       "HBox(children=(FloatProgress(value=0.0, max=588.0), HTML(value='')))"
      ]
     },
     "metadata": {},
     "output_type": "display_data"
    },
    {
     "name": "stdout",
     "output_type": "stream",
     "text": [
      "\n",
      "Sample number: 74\n",
      "Sample name: 10317.000047463\n",
      "Run ID: ERR2032698\n"
     ]
    },
    {
     "data": {
      "application/vnd.jupyter.widget-view+json": {
       "model_id": "d2d3b1a89cb34f60a63bcaa25b2332a1",
       "version_major": 2,
       "version_minor": 0
      },
      "text/plain": [
       "HBox(children=(FloatProgress(value=0.0, max=588.0), HTML(value='')))"
      ]
     },
     "metadata": {},
     "output_type": "display_data"
    },
    {
     "name": "stdout",
     "output_type": "stream",
     "text": [
      "\n",
      "Sample number: 75\n",
      "Sample name: 10317.000054289\n",
      "Run ID: ERR2319344\n"
     ]
    },
    {
     "data": {
      "application/vnd.jupyter.widget-view+json": {
       "model_id": "3c0fd57c874947db892861b361cd068f",
       "version_major": 2,
       "version_minor": 0
      },
      "text/plain": [
       "HBox(children=(FloatProgress(value=0.0, max=588.0), HTML(value='')))"
      ]
     },
     "metadata": {},
     "output_type": "display_data"
    },
    {
     "name": "stdout",
     "output_type": "stream",
     "text": [
      "\n",
      "Sample number: 76\n",
      "Sample name: 10317.000042631\n",
      "Run ID: ERR1597057\n"
     ]
    },
    {
     "data": {
      "application/vnd.jupyter.widget-view+json": {
       "model_id": "89ba28ab34724d03aaef10b1daf90378",
       "version_major": 2,
       "version_minor": 0
      },
      "text/plain": [
       "HBox(children=(FloatProgress(value=0.0, max=588.0), HTML(value='')))"
      ]
     },
     "metadata": {},
     "output_type": "display_data"
    },
    {
     "name": "stdout",
     "output_type": "stream",
     "text": [
      "\n",
      "Sample number: 77\n",
      "Sample name: 10317.000069001\n",
      "Run ID: ERR2033544\n"
     ]
    },
    {
     "data": {
      "application/vnd.jupyter.widget-view+json": {
       "model_id": "e393be93eccf4831a0e3d030679f7d47",
       "version_major": 2,
       "version_minor": 0
      },
      "text/plain": [
       "HBox(children=(FloatProgress(value=0.0, max=588.0), HTML(value='')))"
      ]
     },
     "metadata": {},
     "output_type": "display_data"
    },
    {
     "name": "stdout",
     "output_type": "stream",
     "text": [
      "\n",
      "Sample number: 78\n",
      "Sample name: 10317.000068174\n",
      "Run ID: ERR2033469\n"
     ]
    },
    {
     "data": {
      "application/vnd.jupyter.widget-view+json": {
       "model_id": "c22a0e80ab4642e5b5217e0a5d0782a1",
       "version_major": 2,
       "version_minor": 0
      },
      "text/plain": [
       "HBox(children=(FloatProgress(value=0.0, max=588.0), HTML(value='')))"
      ]
     },
     "metadata": {},
     "output_type": "display_data"
    },
    {
     "name": "stdout",
     "output_type": "stream",
     "text": [
      "\n",
      "Sample number: 79\n",
      "Sample name: 10317.000050274\n",
      "Run ID: ERR1842802\n"
     ]
    },
    {
     "data": {
      "application/vnd.jupyter.widget-view+json": {
       "model_id": "c282a528ac5a412c9853af0ad7814312",
       "version_major": 2,
       "version_minor": 0
      },
      "text/plain": [
       "HBox(children=(FloatProgress(value=0.0, max=588.0), HTML(value='')))"
      ]
     },
     "metadata": {},
     "output_type": "display_data"
    },
    {
     "name": "stdout",
     "output_type": "stream",
     "text": [
      "\n",
      "Sample number: 80\n",
      "Sample name: 10317.000075933\n",
      "Run ID: ERR2696475\n"
     ]
    },
    {
     "data": {
      "application/vnd.jupyter.widget-view+json": {
       "model_id": "11683594527345abb52149f14dfeb145",
       "version_major": 2,
       "version_minor": 0
      },
      "text/plain": [
       "HBox(children=(FloatProgress(value=0.0, max=588.0), HTML(value='')))"
      ]
     },
     "metadata": {},
     "output_type": "display_data"
    },
    {
     "name": "stdout",
     "output_type": "stream",
     "text": [
      "\n"
     ]
    }
   ],
   "source": [
    "sra_querying('healthy_vs_not_healthy', ['healthy', 'not_healthy'])"
   ]
  },
  {
   "cell_type": "code",
   "execution_count": null,
   "metadata": {
    "scrolled": true
   },
   "outputs": [],
   "source": [
    "sra_querying('not_healthy_old_vs_not_healthy_young', ['not_healthy_old', 'not_healthy_young'])"
   ]
  },
  {
   "cell_type": "code",
   "execution_count": null,
   "metadata": {
    "scrolled": true
   },
   "outputs": [],
   "source": [
    "sra_querying('mental_ill_vs_food_dis', ['mental_illness', 'food_disorders'])"
   ]
  },
  {
   "cell_type": "code",
   "execution_count": 10,
   "metadata": {
    "scrolled": true
   },
   "outputs": [
    {
     "name": "stdout",
     "output_type": "stream",
     "text": [
      "File number: 1\n",
      "Sample id: 10317.000068682\n",
      "Biosample ID 8568993\n",
      "Typology: cancer\n",
      "Run ID: ERR2303942\n",
      "\n",
      "File number: 2\n",
      "Sample id: 10317.000074849\n",
      "Biosample ID 8569573\n",
      "Typology: cancer\n",
      "Run ID: ERR2306239\n",
      "\n",
      "File number: 3\n",
      "Sample id: 10317.000093401\n",
      "Biosample ID 9653618\n",
      "Typology: cancer\n",
      "Run ID: ERR2697007\n",
      "\n",
      "File number: 4\n",
      "Sample id: 10317.000046446\n",
      "Biosample ID 7353903\n",
      "Typology: cancer\n",
      "Run ID: ERR2032678\n",
      "\n",
      "File number: 5\n",
      "Sample id: 10317.000046444\n",
      "Biosample ID 7353901\n",
      "Typology: cancer\n",
      "Run ID: ERR2032676\n",
      "\n",
      "File number: 6\n",
      "Sample id: 10317.000102894\n",
      "Biosample ID 14618726\n",
      "Typology: cancer\n",
      "Run ID: ERR4019242\n",
      "\n",
      "File number: 7\n",
      "Sample id: 10317.000046431\n",
      "Biosample ID 7353888\n",
      "Typology: cancer\n",
      "Run ID: ERR2032663\n",
      "\n",
      "File number: 8\n",
      "Sample id: 10317.000042649\n",
      "Biosample ID 6367575\n",
      "Typology: cancer\n",
      "Run ID: ERR1845970\n",
      "\n",
      "File number: 9\n",
      "Sample id: 10317.000093587\n",
      "Biosample ID 9653264\n",
      "Typology: cancer\n",
      "Run ID: ERR2696648\n",
      "\n",
      "File number: 10\n",
      "Sample id: 10317.000040121\n",
      "Biosample ID 7353392\n",
      "Typology: cancer\n",
      "Run ID: ERR2313986\n",
      "Run ID: ERR2032153\n",
      "\n",
      "File number: 11\n",
      "Sample id: 10317.000046434\n",
      "Biosample ID 7353891\n",
      "Typology: cancer\n",
      "Run ID: ERR2032666\n",
      "\n",
      "File number: 12\n",
      "Sample id: 10317.000051244\n",
      "Biosample ID 6365763\n",
      "Typology: cancer\n",
      "Run ID: ERR1842459\n",
      "\n",
      "File number: 13\n",
      "Sample id: 10317.000037493\n",
      "Biosample ID 8614205\n",
      "Typology: cancer\n",
      "Run ID: ERR2318004\n",
      "\n",
      "File number: 14\n",
      "Sample id: 10317.000046440\n",
      "Biosample ID 7353897\n",
      "Typology: cancer\n",
      "Run ID: ERR2032672\n",
      "\n",
      "File number: 15\n",
      "Sample id: 10317.000076643\n",
      "Biosample ID 8728682\n",
      "Typology: cancer\n",
      "Run ID: ERR2405043\n",
      "\n",
      "File number: 16\n",
      "Sample id: 10317.000065565\n",
      "Biosample ID 7439267\n",
      "Typology: cancer\n",
      "Run ID: ERR2242102\n",
      "Run ID: ERR2239382\n",
      "Run ID: ERR2238686\n",
      "Run ID: ERR2057011\n",
      "\n",
      "File number: 17\n",
      "Sample id: 10317.000046420\n",
      "Biosample ID 7353877\n",
      "Typology: cancer\n",
      "Run ID: ERR2032652\n",
      "\n",
      "File number: 18\n",
      "Sample id: 10317.000046441\n",
      "Biosample ID 7353898\n",
      "Typology: cancer\n",
      "Run ID: ERR2032673\n",
      "\n",
      "File number: 19\n",
      "Sample id: 10317.000047140\n",
      "Biosample ID 6365609\n",
      "Typology: cancer\n",
      "Run ID: ERR1842292\n",
      "\n",
      "File number: 20\n",
      "Sample id: 10317.000051560\n",
      "Biosample ID 6365772\n",
      "Typology: cancer\n",
      "Run ID: ERR1842469\n",
      "\n",
      "File number: 21\n",
      "Sample id: 10317.000046445\n",
      "Biosample ID 7353902\n",
      "Typology: cancer\n",
      "Run ID: ERR2032677\n",
      "\n",
      "File number: 22\n",
      "Sample id: 10317.000040351\n",
      "Biosample ID 4449749\n",
      "Typology: cancer\n",
      "Run ID: ERR1233446\n",
      "\n",
      "File number: 23\n",
      "Sample id: 10317.000051573\n",
      "Biosample ID 6365143\n",
      "Typology: cancer\n",
      "Run ID: ERR1841787\n",
      "Run ID: ERR1843792\n",
      "\n",
      "File number: 24\n",
      "Sample id: 10317.000046447\n",
      "Biosample ID 7353904\n",
      "Typology: cancer\n",
      "Run ID: ERR2032679\n",
      "\n",
      "File number: 25\n",
      "Sample id: 10317.000092706\n",
      "Biosample ID 9653194\n",
      "Typology: cancer\n",
      "Run ID: ERR2696578\n",
      "\n",
      "File number: 26\n",
      "Sample id: 10317.000076358\n",
      "Biosample ID 9653116\n",
      "Typology: cardiovascular\n",
      "Run ID: ERR2696499\n",
      "\n",
      "File number: 27\n",
      "Sample id: 10317.000087039\n",
      "Biosample ID 8569199\n",
      "Typology: cardiovascular\n",
      "Run ID: ERR2304148\n",
      "\n",
      "File number: 28\n",
      "Sample id: 10317.000053460\n",
      "Biosample ID 6366136\n",
      "Typology: cardiovascular\n",
      "Run ID: ERR1842835\n",
      "\n",
      "File number: 29\n",
      "Sample id: 10317.000054273\n",
      "Biosample ID 8577254\n",
      "Typology: cardiovascular\n",
      "Run ID: ERR2314040\n",
      "\n",
      "File number: 30\n",
      "Sample id: 10317.000050653\n",
      "Biosample ID 8615137\n",
      "Typology: cardiovascular\n",
      "Run ID: ERR2319851\n",
      "\n",
      "File number: 31\n",
      "Sample id: 10317.000050525\n",
      "Biosample ID 8615064\n",
      "Typology: cardiovascular\n",
      "Run ID: ERR2319778\n",
      "\n",
      "File number: 32\n",
      "Sample id: 10317.000023590\n",
      "Biosample ID 6367416\n",
      "Typology: cardiovascular\n",
      "Run ID: ERR1845804\n",
      "\n",
      "File number: 33\n",
      "Sample id: 10317.000013105\n",
      "Biosample ID 4200541\n",
      "Typology: cardiovascular\n",
      "Run ID: ERR1079964\n",
      "\n",
      "File number: 34\n",
      "Sample id: 10317.000028806\n",
      "Biosample ID 4564974\n",
      "Typology: cardiovascular\n",
      "Run ID: ERR1458766\n",
      "Run ID: ERR1315860\n",
      "\n",
      "File number: 35\n",
      "Sample id: 10317.000044555\n",
      "Biosample ID 6365579\n",
      "Typology: cardiovascular\n",
      "Run ID: ERR1842255\n",
      "\n",
      "File number: 36\n",
      "Sample id: 10317.000082872\n",
      "Biosample ID 8729105\n",
      "Typology: cardiovascular\n",
      "Run ID: ERR2405133\n",
      "\n",
      "File number: 37\n",
      "Sample id: 10317.000039806\n",
      "Biosample ID 4565165\n",
      "Typology: cardiovascular\n",
      "Run ID: ERR1316052\n",
      "\n",
      "File number: 38\n",
      "Sample id: 10317.000062081\n",
      "Biosample ID 6365934\n",
      "Typology: cardiovascular\n",
      "Run ID: ERR1842632\n",
      "\n",
      "File number: 39\n",
      "Sample id: 10317.000031332\n",
      "Biosample ID 4916092\n",
      "Typology: cardiovascular\n",
      "Run ID: ERR1389678\n",
      "\n",
      "File number: 40\n",
      "Sample id: 10317.000097233\n",
      "Biosample ID 9657699\n",
      "Typology: cardiovascular\n",
      "Run ID: ERR2697834\n",
      "\n",
      "File number: 41\n",
      "Sample id: 10317.000040396\n",
      "Biosample ID 6364886\n",
      "Typology: cardiovascular\n",
      "Run ID: ERR1841615\n",
      "Run ID: ERR1843602\n",
      "\n",
      "File number: 42\n",
      "Sample id: 10317.000050475\n",
      "Biosample ID 8615031\n",
      "Typology: cardiovascular\n",
      "Run ID: ERR2319745\n",
      "\n",
      "File number: 43\n",
      "Sample id: 10317.000029157\n",
      "Biosample ID 6365984\n",
      "Typology: cardiovascular\n",
      "Run ID: ERR1842682\n",
      "\n",
      "File number: 44\n",
      "Sample id: 10317.000032795\n",
      "Biosample ID 4318005\n",
      "Typology: cardiovascular\n",
      "Run ID: ERR1160658\n",
      "\n",
      "File number: 45\n",
      "Sample id: 10317.000082870\n",
      "Biosample ID 8729103\n",
      "Typology: cardiovascular\n",
      "Run ID: ERR2405131\n",
      "\n",
      "File number: 46\n",
      "Sample id: 10317.000082871\n",
      "Biosample ID 8729104\n",
      "Typology: cardiovascular\n",
      "Run ID: ERR2405132\n",
      "\n",
      "File number: 47\n",
      "Sample id: 10317.000101088\n",
      "Biosample ID 14619475\n",
      "Typology: cardiovascular\n",
      "Run ID: ERR4019696\n",
      "\n",
      "File number: 48\n",
      "Sample id: 10317.000050498\n",
      "Biosample ID 8615047\n",
      "Typology: cardiovascular\n",
      "Run ID: ERR2319761\n",
      "\n",
      "File number: 49\n",
      "Sample id: 10317.000021280\n",
      "Biosample ID 4200879\n",
      "Typology: cardiovascular\n",
      "Run ID: ERR1080303\n",
      "\n",
      "File number: 50\n",
      "Sample id: 10317.000004800\n",
      "Biosample ID 4200507\n",
      "Typology: cardiovascular\n",
      "Run ID: ERR1079930\n",
      "\n",
      "Number of sequences for cancer: 4014332\n"
     ]
    },
    {
     "data": {
      "application/vnd.jupyter.widget-view+json": {
       "model_id": "0265d7ea63204bd8838a72c9d3e62a53",
       "version_major": 2,
       "version_minor": 0
      },
      "text/plain": [
       "HBox(children=(FloatProgress(value=0.0, description='Compacting fasta', max=4014332.0, style=ProgressStyle(des…"
      ]
     },
     "metadata": {},
     "output_type": "display_data"
    },
    {
     "name": "stdout",
     "output_type": "stream",
     "text": [
      "\n",
      "Number of grouped sequences: 1868460\n",
      "Number of taken sequences: 464\n",
      "\n",
      "Number of sequences for cardiovascular: 718076\n"
     ]
    },
    {
     "data": {
      "application/vnd.jupyter.widget-view+json": {
       "model_id": "a4be93b1e1a847518646ded790779166",
       "version_major": 2,
       "version_minor": 0
      },
      "text/plain": [
       "HBox(children=(FloatProgress(value=0.0, description='Compacting fasta', max=718076.0, style=ProgressStyle(desc…"
      ]
     },
     "metadata": {},
     "output_type": "display_data"
    },
    {
     "name": "stdout",
     "output_type": "stream",
     "text": [
      "\n",
      "Number of grouped sequences: 201889\n",
      "Number of taken sequences: 392\n",
      "\n",
      "Sample number: 1\n",
      "Sample name: 10317.000068682\n",
      "Run ID: ERR2303942\n"
     ]
    },
    {
     "data": {
      "application/vnd.jupyter.widget-view+json": {
       "model_id": "4b46cf52dfcc4e26ba6bbe665ae07154",
       "version_major": 2,
       "version_minor": 0
      },
      "text/plain": [
       "HBox(children=(FloatProgress(value=0.0, max=464.0), HTML(value='')))"
      ]
     },
     "metadata": {},
     "output_type": "display_data"
    },
    {
     "name": "stdout",
     "output_type": "stream",
     "text": [
      "\n",
      "Sample number: 2\n",
      "Sample name: 10317.000074849\n",
      "Run ID: ERR2306239\n"
     ]
    },
    {
     "data": {
      "application/vnd.jupyter.widget-view+json": {
       "model_id": "a9d3ad2d970d44bc8ddf228a11833e59",
       "version_major": 2,
       "version_minor": 0
      },
      "text/plain": [
       "HBox(children=(FloatProgress(value=0.0, max=464.0), HTML(value='')))"
      ]
     },
     "metadata": {},
     "output_type": "display_data"
    },
    {
     "name": "stdout",
     "output_type": "stream",
     "text": [
      "\n",
      "Sample number: 3\n",
      "Sample name: 10317.000093401\n",
      "Run ID: ERR2697007\n"
     ]
    },
    {
     "data": {
      "application/vnd.jupyter.widget-view+json": {
       "model_id": "68504ff5e40343928e39ea226a490b56",
       "version_major": 2,
       "version_minor": 0
      },
      "text/plain": [
       "HBox(children=(FloatProgress(value=0.0, max=464.0), HTML(value='')))"
      ]
     },
     "metadata": {},
     "output_type": "display_data"
    },
    {
     "name": "stdout",
     "output_type": "stream",
     "text": [
      "\n",
      "Sample number: 4\n",
      "Sample name: 10317.000046446\n",
      "Run ID: ERR2032678\n"
     ]
    },
    {
     "data": {
      "application/vnd.jupyter.widget-view+json": {
       "model_id": "944e3df200ad49e0b9e8f6563d4a2db7",
       "version_major": 2,
       "version_minor": 0
      },
      "text/plain": [
       "HBox(children=(FloatProgress(value=0.0, max=464.0), HTML(value='')))"
      ]
     },
     "metadata": {},
     "output_type": "display_data"
    },
    {
     "name": "stdout",
     "output_type": "stream",
     "text": [
      "\n",
      "Sample number: 5\n",
      "Sample name: 10317.000046444\n",
      "Run ID: ERR2032676\n"
     ]
    },
    {
     "data": {
      "application/vnd.jupyter.widget-view+json": {
       "model_id": "862cab1a9f254253a53559452c3e6e25",
       "version_major": 2,
       "version_minor": 0
      },
      "text/plain": [
       "HBox(children=(FloatProgress(value=0.0, max=464.0), HTML(value='')))"
      ]
     },
     "metadata": {},
     "output_type": "display_data"
    },
    {
     "name": "stdout",
     "output_type": "stream",
     "text": [
      "\n",
      "Sample number: 6\n",
      "Sample name: 10317.000102894\n",
      "Run ID: ERR4019242\n"
     ]
    },
    {
     "data": {
      "application/vnd.jupyter.widget-view+json": {
       "model_id": "307245be4db841e69db3b343677802b3",
       "version_major": 2,
       "version_minor": 0
      },
      "text/plain": [
       "HBox(children=(FloatProgress(value=0.0, max=464.0), HTML(value='')))"
      ]
     },
     "metadata": {},
     "output_type": "display_data"
    },
    {
     "name": "stdout",
     "output_type": "stream",
     "text": [
      "\n",
      "Sample number: 7\n",
      "Sample name: 10317.000046431\n",
      "Run ID: ERR2032663\n"
     ]
    },
    {
     "data": {
      "application/vnd.jupyter.widget-view+json": {
       "model_id": "169e4f19e5cf433ca57b8d848cb667e4",
       "version_major": 2,
       "version_minor": 0
      },
      "text/plain": [
       "HBox(children=(FloatProgress(value=0.0, max=464.0), HTML(value='')))"
      ]
     },
     "metadata": {},
     "output_type": "display_data"
    },
    {
     "name": "stdout",
     "output_type": "stream",
     "text": [
      "\n",
      "Sample number: 8\n",
      "Sample name: 10317.000042649\n",
      "Run ID: ERR1845970\n"
     ]
    },
    {
     "data": {
      "application/vnd.jupyter.widget-view+json": {
       "model_id": "626bff024f5441309055fccdec6a9485",
       "version_major": 2,
       "version_minor": 0
      },
      "text/plain": [
       "HBox(children=(FloatProgress(value=0.0, max=464.0), HTML(value='')))"
      ]
     },
     "metadata": {},
     "output_type": "display_data"
    },
    {
     "name": "stdout",
     "output_type": "stream",
     "text": [
      "\n",
      "Sample number: 9\n",
      "Sample name: 10317.000093587\n",
      "Run ID: ERR2696648\n"
     ]
    },
    {
     "data": {
      "application/vnd.jupyter.widget-view+json": {
       "model_id": "bbb9f8144caa49759f9cb0aaf90b3da8",
       "version_major": 2,
       "version_minor": 0
      },
      "text/plain": [
       "HBox(children=(FloatProgress(value=0.0, max=464.0), HTML(value='')))"
      ]
     },
     "metadata": {},
     "output_type": "display_data"
    },
    {
     "name": "stdout",
     "output_type": "stream",
     "text": [
      "\n",
      "Sample number: 10\n",
      "Sample name: 10317.000040121\n",
      "Run ID: ERR2313986\n",
      "Run ID: ERR2032153\n"
     ]
    },
    {
     "data": {
      "application/vnd.jupyter.widget-view+json": {
       "model_id": "46fe700f2d424cbebc864032c9e93bd0",
       "version_major": 2,
       "version_minor": 0
      },
      "text/plain": [
       "HBox(children=(FloatProgress(value=0.0, max=464.0), HTML(value='')))"
      ]
     },
     "metadata": {},
     "output_type": "display_data"
    },
    {
     "name": "stdout",
     "output_type": "stream",
     "text": [
      "\n",
      "Sample number: 11\n",
      "Sample name: 10317.000046434\n",
      "Run ID: ERR2032666\n"
     ]
    },
    {
     "data": {
      "application/vnd.jupyter.widget-view+json": {
       "model_id": "ef6032c77ba443fa915a9cbace2a92f1",
       "version_major": 2,
       "version_minor": 0
      },
      "text/plain": [
       "HBox(children=(FloatProgress(value=0.0, max=464.0), HTML(value='')))"
      ]
     },
     "metadata": {},
     "output_type": "display_data"
    },
    {
     "name": "stdout",
     "output_type": "stream",
     "text": [
      "\n",
      "Sample number: 12\n",
      "Sample name: 10317.000051244\n",
      "Run ID: ERR1842459\n"
     ]
    },
    {
     "data": {
      "application/vnd.jupyter.widget-view+json": {
       "model_id": "0bf4c60d28a047cba0e08ef7022376e7",
       "version_major": 2,
       "version_minor": 0
      },
      "text/plain": [
       "HBox(children=(FloatProgress(value=0.0, max=464.0), HTML(value='')))"
      ]
     },
     "metadata": {},
     "output_type": "display_data"
    },
    {
     "name": "stdout",
     "output_type": "stream",
     "text": [
      "\n",
      "Sample number: 13\n",
      "Sample name: 10317.000037493\n",
      "Run ID: ERR2318004\n"
     ]
    },
    {
     "data": {
      "application/vnd.jupyter.widget-view+json": {
       "model_id": "266b63d5ffd1401893679fe1dd2d29ab",
       "version_major": 2,
       "version_minor": 0
      },
      "text/plain": [
       "HBox(children=(FloatProgress(value=0.0, max=464.0), HTML(value='')))"
      ]
     },
     "metadata": {},
     "output_type": "display_data"
    },
    {
     "name": "stdout",
     "output_type": "stream",
     "text": [
      "\n",
      "Sample number: 14\n",
      "Sample name: 10317.000046440\n",
      "Run ID: ERR2032672\n"
     ]
    },
    {
     "data": {
      "application/vnd.jupyter.widget-view+json": {
       "model_id": "fa594c75634f4a958dbb25c23679a181",
       "version_major": 2,
       "version_minor": 0
      },
      "text/plain": [
       "HBox(children=(FloatProgress(value=0.0, max=464.0), HTML(value='')))"
      ]
     },
     "metadata": {},
     "output_type": "display_data"
    },
    {
     "name": "stdout",
     "output_type": "stream",
     "text": [
      "\n",
      "Sample number: 15\n",
      "Sample name: 10317.000076643\n",
      "Run ID: ERR2405043\n"
     ]
    },
    {
     "data": {
      "application/vnd.jupyter.widget-view+json": {
       "model_id": "f9343f8b92f64ca6a8c3698ff7129cf8",
       "version_major": 2,
       "version_minor": 0
      },
      "text/plain": [
       "HBox(children=(FloatProgress(value=0.0, max=464.0), HTML(value='')))"
      ]
     },
     "metadata": {},
     "output_type": "display_data"
    },
    {
     "name": "stdout",
     "output_type": "stream",
     "text": [
      "\n",
      "Sample number: 16\n",
      "Sample name: 10317.000065565\n",
      "Run ID: ERR2242102\n",
      "Run ID: ERR2239382\n",
      "Run ID: ERR2238686\n",
      "Run ID: ERR2057011\n"
     ]
    },
    {
     "data": {
      "application/vnd.jupyter.widget-view+json": {
       "model_id": "59daff8a571a4722a6fda7ef99cbdf1d",
       "version_major": 2,
       "version_minor": 0
      },
      "text/plain": [
       "HBox(children=(FloatProgress(value=0.0, max=464.0), HTML(value='')))"
      ]
     },
     "metadata": {},
     "output_type": "display_data"
    },
    {
     "name": "stdout",
     "output_type": "stream",
     "text": [
      "\n",
      "Sample number: 17\n",
      "Sample name: 10317.000046420\n",
      "Run ID: ERR2032652\n"
     ]
    },
    {
     "data": {
      "application/vnd.jupyter.widget-view+json": {
       "model_id": "4c67ce865ddf4947a0faa210984a1a7e",
       "version_major": 2,
       "version_minor": 0
      },
      "text/plain": [
       "HBox(children=(FloatProgress(value=0.0, max=464.0), HTML(value='')))"
      ]
     },
     "metadata": {},
     "output_type": "display_data"
    },
    {
     "name": "stdout",
     "output_type": "stream",
     "text": [
      "\n",
      "Sample number: 18\n",
      "Sample name: 10317.000046441\n",
      "Run ID: ERR2032673\n"
     ]
    },
    {
     "data": {
      "application/vnd.jupyter.widget-view+json": {
       "model_id": "5f99cb5491614bba8900108b64774f03",
       "version_major": 2,
       "version_minor": 0
      },
      "text/plain": [
       "HBox(children=(FloatProgress(value=0.0, max=464.0), HTML(value='')))"
      ]
     },
     "metadata": {},
     "output_type": "display_data"
    },
    {
     "name": "stdout",
     "output_type": "stream",
     "text": [
      "\n",
      "Sample number: 19\n",
      "Sample name: 10317.000047140\n",
      "Run ID: ERR1842292\n"
     ]
    },
    {
     "data": {
      "application/vnd.jupyter.widget-view+json": {
       "model_id": "8fe7997d1c004e69b670e1eb69bcb872",
       "version_major": 2,
       "version_minor": 0
      },
      "text/plain": [
       "HBox(children=(FloatProgress(value=0.0, max=464.0), HTML(value='')))"
      ]
     },
     "metadata": {},
     "output_type": "display_data"
    },
    {
     "name": "stdout",
     "output_type": "stream",
     "text": [
      "\n",
      "Sample number: 20\n",
      "Sample name: 10317.000051560\n",
      "Run ID: ERR1842469\n"
     ]
    },
    {
     "data": {
      "application/vnd.jupyter.widget-view+json": {
       "model_id": "f6e7f8a89de3421b9088ce5449e9d908",
       "version_major": 2,
       "version_minor": 0
      },
      "text/plain": [
       "HBox(children=(FloatProgress(value=0.0, max=464.0), HTML(value='')))"
      ]
     },
     "metadata": {},
     "output_type": "display_data"
    },
    {
     "name": "stdout",
     "output_type": "stream",
     "text": [
      "\n",
      "Sample number: 21\n",
      "Sample name: 10317.000046445\n",
      "Run ID: ERR2032677\n"
     ]
    },
    {
     "data": {
      "application/vnd.jupyter.widget-view+json": {
       "model_id": "717a496c9be640758f822987e5de49da",
       "version_major": 2,
       "version_minor": 0
      },
      "text/plain": [
       "HBox(children=(FloatProgress(value=0.0, max=464.0), HTML(value='')))"
      ]
     },
     "metadata": {},
     "output_type": "display_data"
    },
    {
     "name": "stdout",
     "output_type": "stream",
     "text": [
      "\n",
      "Sample number: 22\n",
      "Sample name: 10317.000040351\n",
      "Run ID: ERR1233446\n"
     ]
    },
    {
     "data": {
      "application/vnd.jupyter.widget-view+json": {
       "model_id": "c2d023a257464d9ab608c250618a2252",
       "version_major": 2,
       "version_minor": 0
      },
      "text/plain": [
       "HBox(children=(FloatProgress(value=0.0, max=464.0), HTML(value='')))"
      ]
     },
     "metadata": {},
     "output_type": "display_data"
    },
    {
     "name": "stdout",
     "output_type": "stream",
     "text": [
      "\n",
      "Sample number: 23\n",
      "Sample name: 10317.000051573\n",
      "Run ID: ERR1841787\n",
      "Run ID: ERR1843792\n"
     ]
    },
    {
     "data": {
      "application/vnd.jupyter.widget-view+json": {
       "model_id": "024df62c3336454f8c727de79468d010",
       "version_major": 2,
       "version_minor": 0
      },
      "text/plain": [
       "HBox(children=(FloatProgress(value=0.0, max=464.0), HTML(value='')))"
      ]
     },
     "metadata": {},
     "output_type": "display_data"
    },
    {
     "name": "stdout",
     "output_type": "stream",
     "text": [
      "\n",
      "Sample number: 24\n",
      "Sample name: 10317.000046447\n",
      "Run ID: ERR2032679\n"
     ]
    },
    {
     "data": {
      "application/vnd.jupyter.widget-view+json": {
       "model_id": "97544d3aae1c4a3abcc64e10e29ccd0a",
       "version_major": 2,
       "version_minor": 0
      },
      "text/plain": [
       "HBox(children=(FloatProgress(value=0.0, max=464.0), HTML(value='')))"
      ]
     },
     "metadata": {},
     "output_type": "display_data"
    },
    {
     "name": "stdout",
     "output_type": "stream",
     "text": [
      "\n",
      "Sample number: 25\n",
      "Sample name: 10317.000092706\n",
      "Run ID: ERR2696578\n"
     ]
    },
    {
     "data": {
      "application/vnd.jupyter.widget-view+json": {
       "model_id": "0688572e4daa41b39fe18add444e4870",
       "version_major": 2,
       "version_minor": 0
      },
      "text/plain": [
       "HBox(children=(FloatProgress(value=0.0, max=464.0), HTML(value='')))"
      ]
     },
     "metadata": {},
     "output_type": "display_data"
    },
    {
     "name": "stdout",
     "output_type": "stream",
     "text": [
      "\n",
      "Sample number: 26\n",
      "Sample name: 10317.000076358\n",
      "Run ID: ERR2696499\n"
     ]
    },
    {
     "data": {
      "application/vnd.jupyter.widget-view+json": {
       "model_id": "89e080689c5047a1b8142b297b38ba02",
       "version_major": 2,
       "version_minor": 0
      },
      "text/plain": [
       "HBox(children=(FloatProgress(value=0.0, max=392.0), HTML(value='')))"
      ]
     },
     "metadata": {},
     "output_type": "display_data"
    },
    {
     "name": "stdout",
     "output_type": "stream",
     "text": [
      "\n",
      "Sample number: 27\n",
      "Sample name: 10317.000087039\n",
      "Run ID: ERR2304148\n"
     ]
    },
    {
     "data": {
      "application/vnd.jupyter.widget-view+json": {
       "model_id": "fa5ec97fd8d943d8b439be5f3a642e53",
       "version_major": 2,
       "version_minor": 0
      },
      "text/plain": [
       "HBox(children=(FloatProgress(value=0.0, max=392.0), HTML(value='')))"
      ]
     },
     "metadata": {},
     "output_type": "display_data"
    },
    {
     "name": "stdout",
     "output_type": "stream",
     "text": [
      "\n",
      "Sample number: 28\n",
      "Sample name: 10317.000053460\n",
      "Run ID: ERR1842835\n"
     ]
    },
    {
     "data": {
      "application/vnd.jupyter.widget-view+json": {
       "model_id": "348150eb719845139efa13a8249a8cf0",
       "version_major": 2,
       "version_minor": 0
      },
      "text/plain": [
       "HBox(children=(FloatProgress(value=0.0, max=392.0), HTML(value='')))"
      ]
     },
     "metadata": {},
     "output_type": "display_data"
    },
    {
     "name": "stdout",
     "output_type": "stream",
     "text": [
      "\n",
      "Sample number: 29\n",
      "Sample name: 10317.000054273\n",
      "Run ID: ERR2314040\n"
     ]
    },
    {
     "data": {
      "application/vnd.jupyter.widget-view+json": {
       "model_id": "da4128c6684b491e8834df3b6d91d916",
       "version_major": 2,
       "version_minor": 0
      },
      "text/plain": [
       "HBox(children=(FloatProgress(value=0.0, max=392.0), HTML(value='')))"
      ]
     },
     "metadata": {},
     "output_type": "display_data"
    },
    {
     "name": "stdout",
     "output_type": "stream",
     "text": [
      "\n",
      "Sample number: 30\n",
      "Sample name: 10317.000050653\n",
      "Run ID: ERR2319851\n"
     ]
    },
    {
     "data": {
      "application/vnd.jupyter.widget-view+json": {
       "model_id": "b59ad2a8d9bb4104be7aef7514955c31",
       "version_major": 2,
       "version_minor": 0
      },
      "text/plain": [
       "HBox(children=(FloatProgress(value=0.0, max=392.0), HTML(value='')))"
      ]
     },
     "metadata": {},
     "output_type": "display_data"
    },
    {
     "name": "stdout",
     "output_type": "stream",
     "text": [
      "\n",
      "Sample number: 31\n",
      "Sample name: 10317.000050525\n",
      "Run ID: ERR2319778\n"
     ]
    },
    {
     "data": {
      "application/vnd.jupyter.widget-view+json": {
       "model_id": "d415f51a66d847dabe12c07c99edc6ef",
       "version_major": 2,
       "version_minor": 0
      },
      "text/plain": [
       "HBox(children=(FloatProgress(value=0.0, max=392.0), HTML(value='')))"
      ]
     },
     "metadata": {},
     "output_type": "display_data"
    },
    {
     "name": "stdout",
     "output_type": "stream",
     "text": [
      "\n",
      "Sample number: 32\n",
      "Sample name: 10317.000023590\n",
      "Run ID: ERR1845804\n"
     ]
    },
    {
     "data": {
      "application/vnd.jupyter.widget-view+json": {
       "model_id": "d243d34b2c3b4fb19be9aee47a5d57be",
       "version_major": 2,
       "version_minor": 0
      },
      "text/plain": [
       "HBox(children=(FloatProgress(value=0.0, max=392.0), HTML(value='')))"
      ]
     },
     "metadata": {},
     "output_type": "display_data"
    },
    {
     "name": "stdout",
     "output_type": "stream",
     "text": [
      "\n",
      "Sample number: 33\n",
      "Sample name: 10317.000013105\n",
      "Run ID: ERR1079964\n"
     ]
    },
    {
     "data": {
      "application/vnd.jupyter.widget-view+json": {
       "model_id": "2a5d153162b841b1b4d0e64ce7097314",
       "version_major": 2,
       "version_minor": 0
      },
      "text/plain": [
       "HBox(children=(FloatProgress(value=0.0, max=392.0), HTML(value='')))"
      ]
     },
     "metadata": {},
     "output_type": "display_data"
    },
    {
     "name": "stdout",
     "output_type": "stream",
     "text": [
      "\n",
      "Sample number: 34\n",
      "Sample name: 10317.000028806\n",
      "Run ID: ERR1458766\n",
      "Run ID: ERR1315860\n"
     ]
    },
    {
     "data": {
      "application/vnd.jupyter.widget-view+json": {
       "model_id": "df4c4156a3434e5aae151bcc3dfb0564",
       "version_major": 2,
       "version_minor": 0
      },
      "text/plain": [
       "HBox(children=(FloatProgress(value=0.0, max=392.0), HTML(value='')))"
      ]
     },
     "metadata": {},
     "output_type": "display_data"
    },
    {
     "name": "stdout",
     "output_type": "stream",
     "text": [
      "\n",
      "Sample number: 35\n",
      "Sample name: 10317.000044555\n",
      "Run ID: ERR1842255\n"
     ]
    },
    {
     "data": {
      "application/vnd.jupyter.widget-view+json": {
       "model_id": "3d21fe2e88184470aa4b350b065eeed7",
       "version_major": 2,
       "version_minor": 0
      },
      "text/plain": [
       "HBox(children=(FloatProgress(value=0.0, max=392.0), HTML(value='')))"
      ]
     },
     "metadata": {},
     "output_type": "display_data"
    },
    {
     "name": "stdout",
     "output_type": "stream",
     "text": [
      "\n",
      "Sample number: 36\n",
      "Sample name: 10317.000082872\n",
      "Run ID: ERR2405133\n"
     ]
    },
    {
     "data": {
      "application/vnd.jupyter.widget-view+json": {
       "model_id": "efe125c3cd8c425f9e10690aab93c59e",
       "version_major": 2,
       "version_minor": 0
      },
      "text/plain": [
       "HBox(children=(FloatProgress(value=0.0, max=392.0), HTML(value='')))"
      ]
     },
     "metadata": {},
     "output_type": "display_data"
    },
    {
     "name": "stdout",
     "output_type": "stream",
     "text": [
      "\n",
      "Sample number: 37\n",
      "Sample name: 10317.000039806\n",
      "Run ID: ERR1316052\n"
     ]
    },
    {
     "data": {
      "application/vnd.jupyter.widget-view+json": {
       "model_id": "b4cadf5be2d04027b90918db848d19d8",
       "version_major": 2,
       "version_minor": 0
      },
      "text/plain": [
       "HBox(children=(FloatProgress(value=0.0, max=392.0), HTML(value='')))"
      ]
     },
     "metadata": {},
     "output_type": "display_data"
    },
    {
     "name": "stdout",
     "output_type": "stream",
     "text": [
      "\n",
      "Sample number: 38\n",
      "Sample name: 10317.000062081\n",
      "Run ID: ERR1842632\n"
     ]
    },
    {
     "data": {
      "application/vnd.jupyter.widget-view+json": {
       "model_id": "537d08fee004463698799de3b6c3a1fe",
       "version_major": 2,
       "version_minor": 0
      },
      "text/plain": [
       "HBox(children=(FloatProgress(value=0.0, max=392.0), HTML(value='')))"
      ]
     },
     "metadata": {},
     "output_type": "display_data"
    },
    {
     "name": "stdout",
     "output_type": "stream",
     "text": [
      "\n",
      "Sample number: 39\n",
      "Sample name: 10317.000031332\n",
      "Run ID: ERR1389678\n"
     ]
    },
    {
     "data": {
      "application/vnd.jupyter.widget-view+json": {
       "model_id": "94c22d3d786b496785353ab7e0f9e7e4",
       "version_major": 2,
       "version_minor": 0
      },
      "text/plain": [
       "HBox(children=(FloatProgress(value=0.0, max=392.0), HTML(value='')))"
      ]
     },
     "metadata": {},
     "output_type": "display_data"
    },
    {
     "name": "stdout",
     "output_type": "stream",
     "text": [
      "\n",
      "Sample number: 40\n",
      "Sample name: 10317.000097233\n",
      "Run ID: ERR2697834\n"
     ]
    },
    {
     "data": {
      "application/vnd.jupyter.widget-view+json": {
       "model_id": "57f20b6b48514ee79717dac437143c6f",
       "version_major": 2,
       "version_minor": 0
      },
      "text/plain": [
       "HBox(children=(FloatProgress(value=0.0, max=392.0), HTML(value='')))"
      ]
     },
     "metadata": {},
     "output_type": "display_data"
    },
    {
     "name": "stdout",
     "output_type": "stream",
     "text": [
      "\n",
      "Sample number: 41\n",
      "Sample name: 10317.000040396\n",
      "Run ID: ERR1841615\n",
      "Run ID: ERR1843602\n"
     ]
    },
    {
     "data": {
      "application/vnd.jupyter.widget-view+json": {
       "model_id": "7118483254304b3da0d1e0009d48c0f6",
       "version_major": 2,
       "version_minor": 0
      },
      "text/plain": [
       "HBox(children=(FloatProgress(value=0.0, max=392.0), HTML(value='')))"
      ]
     },
     "metadata": {},
     "output_type": "display_data"
    },
    {
     "name": "stdout",
     "output_type": "stream",
     "text": [
      "\n",
      "Sample number: 42\n",
      "Sample name: 10317.000050475\n",
      "Run ID: ERR2319745\n"
     ]
    },
    {
     "data": {
      "application/vnd.jupyter.widget-view+json": {
       "model_id": "94c10e54ed984811af439c3b9931b143",
       "version_major": 2,
       "version_minor": 0
      },
      "text/plain": [
       "HBox(children=(FloatProgress(value=0.0, max=392.0), HTML(value='')))"
      ]
     },
     "metadata": {},
     "output_type": "display_data"
    },
    {
     "name": "stdout",
     "output_type": "stream",
     "text": [
      "\n",
      "Sample number: 43\n",
      "Sample name: 10317.000029157\n",
      "Run ID: ERR1842682\n"
     ]
    },
    {
     "data": {
      "application/vnd.jupyter.widget-view+json": {
       "model_id": "057ace83589f488b8cd8f7afacdee26e",
       "version_major": 2,
       "version_minor": 0
      },
      "text/plain": [
       "HBox(children=(FloatProgress(value=0.0, max=392.0), HTML(value='')))"
      ]
     },
     "metadata": {},
     "output_type": "display_data"
    },
    {
     "name": "stdout",
     "output_type": "stream",
     "text": [
      "\n",
      "Sample number: 44\n",
      "Sample name: 10317.000032795\n",
      "Run ID: ERR1160658\n"
     ]
    },
    {
     "data": {
      "application/vnd.jupyter.widget-view+json": {
       "model_id": "c5b092ce690044a0a400c6c5d7d5b835",
       "version_major": 2,
       "version_minor": 0
      },
      "text/plain": [
       "HBox(children=(FloatProgress(value=0.0, max=392.0), HTML(value='')))"
      ]
     },
     "metadata": {},
     "output_type": "display_data"
    },
    {
     "name": "stdout",
     "output_type": "stream",
     "text": [
      "\n",
      "Sample number: 45\n",
      "Sample name: 10317.000082870\n",
      "Run ID: ERR2405131\n"
     ]
    },
    {
     "data": {
      "application/vnd.jupyter.widget-view+json": {
       "model_id": "fb55c29758184783aab5c6a97009ecfa",
       "version_major": 2,
       "version_minor": 0
      },
      "text/plain": [
       "HBox(children=(FloatProgress(value=0.0, max=392.0), HTML(value='')))"
      ]
     },
     "metadata": {},
     "output_type": "display_data"
    },
    {
     "name": "stdout",
     "output_type": "stream",
     "text": [
      "\n",
      "Sample number: 46\n",
      "Sample name: 10317.000082871\n",
      "Run ID: ERR2405132\n"
     ]
    },
    {
     "data": {
      "application/vnd.jupyter.widget-view+json": {
       "model_id": "ccbfbc4d218e4e6880683c7dd58360a9",
       "version_major": 2,
       "version_minor": 0
      },
      "text/plain": [
       "HBox(children=(FloatProgress(value=0.0, max=392.0), HTML(value='')))"
      ]
     },
     "metadata": {},
     "output_type": "display_data"
    },
    {
     "name": "stdout",
     "output_type": "stream",
     "text": [
      "\n",
      "Sample number: 47\n",
      "Sample name: 10317.000101088\n",
      "Run ID: ERR4019696\n"
     ]
    },
    {
     "data": {
      "application/vnd.jupyter.widget-view+json": {
       "model_id": "e07b37e786f249e8b5a4ee6ba7b35e71",
       "version_major": 2,
       "version_minor": 0
      },
      "text/plain": [
       "HBox(children=(FloatProgress(value=0.0, max=392.0), HTML(value='')))"
      ]
     },
     "metadata": {},
     "output_type": "display_data"
    },
    {
     "name": "stdout",
     "output_type": "stream",
     "text": [
      "\n",
      "Sample number: 48\n",
      "Sample name: 10317.000050498\n",
      "Run ID: ERR2319761\n"
     ]
    },
    {
     "data": {
      "application/vnd.jupyter.widget-view+json": {
       "model_id": "328ec41b2ba84a65be7f0501edf3ba35",
       "version_major": 2,
       "version_minor": 0
      },
      "text/plain": [
       "HBox(children=(FloatProgress(value=0.0, max=392.0), HTML(value='')))"
      ]
     },
     "metadata": {},
     "output_type": "display_data"
    },
    {
     "name": "stdout",
     "output_type": "stream",
     "text": [
      "\n",
      "Sample number: 49\n",
      "Sample name: 10317.000021280\n",
      "Run ID: ERR1080303\n"
     ]
    },
    {
     "data": {
      "application/vnd.jupyter.widget-view+json": {
       "model_id": "af9d01aa81e143cdb7b25e54c2ae71c6",
       "version_major": 2,
       "version_minor": 0
      },
      "text/plain": [
       "HBox(children=(FloatProgress(value=0.0, max=392.0), HTML(value='')))"
      ]
     },
     "metadata": {},
     "output_type": "display_data"
    },
    {
     "name": "stdout",
     "output_type": "stream",
     "text": [
      "\n",
      "Sample number: 50\n",
      "Sample name: 10317.000004800\n",
      "Run ID: ERR1079930\n"
     ]
    },
    {
     "data": {
      "application/vnd.jupyter.widget-view+json": {
       "model_id": "77097ebdbc6248e198aa2caf2ddc2bc9",
       "version_major": 2,
       "version_minor": 0
      },
      "text/plain": [
       "HBox(children=(FloatProgress(value=0.0, max=392.0), HTML(value='')))"
      ]
     },
     "metadata": {},
     "output_type": "display_data"
    },
    {
     "name": "stdout",
     "output_type": "stream",
     "text": [
      "\n"
     ]
    }
   ],
   "source": [
    "sra_querying('cancer_and_cardiovascular', ['cancer', 'cardiovascular'])"
   ]
  },
  {
   "cell_type": "markdown",
   "metadata": {},
   "source": [
    "## Quiime2"
   ]
  },
  {
   "cell_type": "code",
   "execution_count": 9,
   "metadata": {},
   "outputs": [],
   "source": [
    "artifact = quality_analysis('mental_ill_vs_food_dis', ['mental_illness', 'food_disorders'])"
   ]
  },
  {
   "cell_type": "code",
   "execution_count": 10,
   "metadata": {},
   "outputs": [
    {
     "data": {
      "text/html": [
       "<div><img onload=\"(function(div, url){\n",
       "if (typeof require !== 'undefined') {\n",
       "    var baseURL = require.toUrl('').split('/').slice(0, -2).join('/');\n",
       "} else {\n",
       "    var baseURL = JSON.parse(\n",
       "        document.getElementById('jupyter-config-data').innerHTML\n",
       "    ).baseUrl.slice(0, -1);\n",
       "}\n",
       "url = baseURL + url;\n",
       "fetch(url).then(function(res) {\n",
       "    if (res.status === 404) {\n",
       "        div.innerHTML = 'Install QIIME 2 Jupyter extension with:<br />' +\n",
       "                        '<code>jupyter serverextension enable --py qiime2' +\n",
       "                        ' --sys-prefix</code><br />then restart your server.' +\n",
       "                        '<br /><br />(Interactive output not available on ' +\n",
       "                        'static notebook viewer services like nbviewer.)';\n",
       "    } else if (res.status === 409) {\n",
       "        div.innerHTML = 'Visualization no longer in scope. Re-run this cell' +\n",
       "                        ' to see the visualization.';\n",
       "    } else if (res.ok) {\n",
       "        url = res.url;\n",
       "        div.innerHTML = '<iframe src=\\'' + url + '\\' style=\\'' +\n",
       "                        'width: 100%; height: 700px; border: 0;\\'>' +\n",
       "                        '</iframe><hr />Open in a: <a href=\\'' + url + '\\'' +\n",
       "                        ' target=\\'_blank\\'>new window</a>'\n",
       "    } else {\n",
       "        div.innerHTML = 'Something has gone wrong. Check notebook server for' +\n",
       "                        ' errors.';\n",
       "    }\n",
       "});\n",
       "})(this.parentElement, '/qiime2/redirect?location=/var/folders/8q/f5jck5j90bqf9z_lvdhp4b0r0000gn/T/qiime2-archive-33d87tft')\" src=\"data:image/gif;base64,R0lGODlhAQABAIAAAP///wAAACH5BAEAAAAALAAAAAABAAEAAAICRAEAOw==\" /></div>"
      ],
      "text/plain": [
       "<visualization: Visualization uuid: 1a11c886-ad52-495f-8e63-1f3dee9ac7eb>"
      ]
     },
     "execution_count": 10,
     "metadata": {},
     "output_type": "execute_result"
    }
   ],
   "source": [
    "demux_sequences = demux.visualizers.summarize(artifact)\n",
    "demux_sequences.visualization"
   ]
  },
  {
   "cell_type": "code",
   "execution_count": 7,
   "metadata": {},
   "outputs": [],
   "source": [
    "artifact = quality_analysis('healthy_vs_not_healthy', ['healthy', 'not_healthy'])"
   ]
  },
  {
   "cell_type": "code",
   "execution_count": 8,
   "metadata": {},
   "outputs": [
    {
     "data": {
      "text/html": [
       "<div><img onload=\"(function(div, url){\n",
       "if (typeof require !== 'undefined') {\n",
       "    var baseURL = require.toUrl('').split('/').slice(0, -2).join('/');\n",
       "} else {\n",
       "    var baseURL = JSON.parse(\n",
       "        document.getElementById('jupyter-config-data').innerHTML\n",
       "    ).baseUrl.slice(0, -1);\n",
       "}\n",
       "url = baseURL + url;\n",
       "fetch(url).then(function(res) {\n",
       "    if (res.status === 404) {\n",
       "        div.innerHTML = 'Install QIIME 2 Jupyter extension with:<br />' +\n",
       "                        '<code>jupyter serverextension enable --py qiime2' +\n",
       "                        ' --sys-prefix</code><br />then restart your server.' +\n",
       "                        '<br /><br />(Interactive output not available on ' +\n",
       "                        'static notebook viewer services like nbviewer.)';\n",
       "    } else if (res.status === 409) {\n",
       "        div.innerHTML = 'Visualization no longer in scope. Re-run this cell' +\n",
       "                        ' to see the visualization.';\n",
       "    } else if (res.ok) {\n",
       "        url = res.url;\n",
       "        div.innerHTML = '<iframe src=\\'' + url + '\\' style=\\'' +\n",
       "                        'width: 100%; height: 700px; border: 0;\\'>' +\n",
       "                        '</iframe><hr />Open in a: <a href=\\'' + url + '\\'' +\n",
       "                        ' target=\\'_blank\\'>new window</a>'\n",
       "    } else {\n",
       "        div.innerHTML = 'Something has gone wrong. Check notebook server for' +\n",
       "                        ' errors.';\n",
       "    }\n",
       "});\n",
       "})(this.parentElement, '/qiime2/redirect?location=/var/folders/8q/f5jck5j90bqf9z_lvdhp4b0r0000gn/T/qiime2-archive-_9yfisih')\" src=\"data:image/gif;base64,R0lGODlhAQABAIAAAP///wAAACH5BAEAAAAALAAAAAABAAEAAAICRAEAOw==\" /></div>"
      ],
      "text/plain": [
       "<visualization: Visualization uuid: 9b56ab1f-9339-485c-97c7-adf21730ea8c>"
      ]
     },
     "execution_count": 8,
     "metadata": {},
     "output_type": "execute_result"
    }
   ],
   "source": [
    "demux_sequences = demux.visualizers.summarize(artifact)\n",
    "demux_sequences.visualization"
   ]
  },
  {
   "cell_type": "code",
   "execution_count": null,
   "metadata": {},
   "outputs": [],
   "source": [
    "artifact = quality_analysis('not_healthy_old_vs_not_healthy_young', ['not_healthy_old', 'not_healthy_young'])"
   ]
  },
  {
   "cell_type": "code",
   "execution_count": null,
   "metadata": {},
   "outputs": [],
   "source": [
    "demux_sequences = demux.visualizers.summarize(artifact)\n",
    "demux_sequences.visualization"
   ]
  },
  {
   "cell_type": "code",
   "execution_count": 11,
   "metadata": {
    "scrolled": true
   },
   "outputs": [
    {
     "name": "stdout",
     "output_type": "stream",
     "text": [
      "Sample identificator: Sample0\n",
      "Sample name: 10317.000068682\n",
      "Typology: cancer\n",
      "Run ids: ['ERR2303942']\n",
      "\n",
      "Sample identificator: Sample1\n",
      "Sample name: 10317.000074849\n",
      "Typology: cancer\n",
      "Run ids: ['ERR2306239']\n",
      "\n",
      "Sample identificator: Sample2\n",
      "Sample name: 10317.000093401\n",
      "Typology: cancer\n",
      "Run ids: ['ERR2697007']\n",
      "\n",
      "Sample identificator: Sample3\n",
      "Sample name: 10317.000046446\n",
      "Typology: cancer\n",
      "Run ids: ['ERR2032678']\n",
      "\n",
      "Sample identificator: Sample4\n",
      "Sample name: 10317.000046444\n",
      "Typology: cancer\n",
      "Run ids: ['ERR2032676']\n",
      "\n",
      "Sample identificator: Sample5\n",
      "Sample name: 10317.000102894\n",
      "Typology: cancer\n",
      "Run ids: ['ERR4019242']\n",
      "\n",
      "Sample identificator: Sample6\n",
      "Sample name: 10317.000046431\n",
      "Typology: cancer\n",
      "Run ids: ['ERR2032663']\n",
      "\n",
      "Sample identificator: Sample7\n",
      "Sample name: 10317.000042649\n",
      "Typology: cancer\n",
      "Run ids: ['ERR1845970']\n",
      "\n",
      "Sample identificator: Sample8\n",
      "Sample name: 10317.000093587\n",
      "Typology: cancer\n",
      "Run ids: ['ERR2696648']\n",
      "\n",
      "Sample identificator: Sample9\n",
      "Sample name: 10317.000040121\n",
      "Typology: cancer\n",
      "Run ids: ['ERR2313986', 'ERR2032153']\n",
      "\n",
      "Sample identificator: Sample10\n",
      "Sample name: 10317.000046434\n",
      "Typology: cancer\n",
      "Run ids: ['ERR2032666']\n",
      "\n",
      "Sample identificator: Sample11\n",
      "Sample name: 10317.000051244\n",
      "Typology: cancer\n",
      "Run ids: ['ERR1842459']\n",
      "\n",
      "Sample identificator: Sample12\n",
      "Sample name: 10317.000037493\n",
      "Typology: cancer\n",
      "Run ids: ['ERR2318004']\n",
      "\n",
      "Sample identificator: Sample13\n",
      "Sample name: 10317.000046440\n",
      "Typology: cancer\n",
      "Run ids: ['ERR2032672']\n",
      "\n",
      "Sample identificator: Sample14\n",
      "Sample name: 10317.000076643\n",
      "Typology: cancer\n",
      "Run ids: ['ERR2405043']\n",
      "\n",
      "Sample identificator: Sample15\n",
      "Sample name: 10317.000065565\n",
      "Typology: cancer\n",
      "Run ids: ['ERR2242102', 'ERR2239382', 'ERR2238686', 'ERR2057011']\n",
      "\n",
      "Sample identificator: Sample16\n",
      "Sample name: 10317.000046420\n",
      "Typology: cancer\n",
      "Run ids: ['ERR2032652']\n",
      "\n",
      "Sample identificator: Sample17\n",
      "Sample name: 10317.000046441\n",
      "Typology: cancer\n",
      "Run ids: ['ERR2032673']\n",
      "\n",
      "Sample identificator: Sample18\n",
      "Sample name: 10317.000047140\n",
      "Typology: cancer\n",
      "Run ids: ['ERR1842292']\n",
      "\n",
      "Sample identificator: Sample19\n",
      "Sample name: 10317.000051560\n",
      "Typology: cancer\n",
      "Run ids: ['ERR1842469']\n",
      "\n",
      "Sample identificator: Sample20\n",
      "Sample name: 10317.000046445\n",
      "Typology: cancer\n",
      "Run ids: ['ERR2032677']\n",
      "\n",
      "Sample identificator: Sample21\n",
      "Sample name: 10317.000040351\n",
      "Typology: cancer\n",
      "Run ids: ['ERR1233446']\n",
      "\n",
      "Sample identificator: Sample22\n",
      "Sample name: 10317.000051573\n",
      "Typology: cancer\n",
      "Run ids: ['ERR1841787', 'ERR1843792']\n",
      "\n",
      "Sample identificator: Sample23\n",
      "Sample name: 10317.000046447\n",
      "Typology: cancer\n",
      "Run ids: ['ERR2032679']\n",
      "\n",
      "Sample identificator: Sample24\n",
      "Sample name: 10317.000092706\n",
      "Typology: cancer\n",
      "Run ids: ['ERR2696578']\n",
      "\n",
      "Sample identificator: Sample25\n",
      "Sample name: 10317.000076358\n",
      "Typology: cardiovascular\n",
      "Run ids: ['ERR2696499']\n",
      "\n",
      "Sample identificator: Sample26\n",
      "Sample name: 10317.000087039\n",
      "Typology: cardiovascular\n",
      "Run ids: ['ERR2304148']\n",
      "\n",
      "Sample identificator: Sample27\n",
      "Sample name: 10317.000053460\n",
      "Typology: cardiovascular\n",
      "Run ids: ['ERR1842835']\n",
      "\n",
      "Sample identificator: Sample28\n",
      "Sample name: 10317.000054273\n",
      "Typology: cardiovascular\n",
      "Run ids: ['ERR2314040']\n",
      "\n",
      "Sample identificator: Sample29\n",
      "Sample name: 10317.000050653\n",
      "Typology: cardiovascular\n",
      "Run ids: ['ERR2319851']\n",
      "\n",
      "Sample identificator: Sample30\n",
      "Sample name: 10317.000050525\n",
      "Typology: cardiovascular\n",
      "Run ids: ['ERR2319778']\n",
      "\n",
      "Sample identificator: Sample31\n",
      "Sample name: 10317.000023590\n",
      "Typology: cardiovascular\n",
      "Run ids: ['ERR1845804']\n",
      "\n",
      "Sample identificator: Sample32\n",
      "Sample name: 10317.000013105\n",
      "Typology: cardiovascular\n",
      "Run ids: ['ERR1079964']\n",
      "\n",
      "Sample identificator: Sample33\n",
      "Sample name: 10317.000028806\n",
      "Typology: cardiovascular\n",
      "Run ids: ['ERR1458766', 'ERR1315860']\n",
      "\n",
      "Sample identificator: Sample34\n",
      "Sample name: 10317.000044555\n",
      "Typology: cardiovascular\n",
      "Run ids: ['ERR1842255']\n",
      "\n",
      "Sample identificator: Sample35\n",
      "Sample name: 10317.000082872\n",
      "Typology: cardiovascular\n",
      "Run ids: ['ERR2405133']\n",
      "\n",
      "Sample identificator: Sample36\n",
      "Sample name: 10317.000039806\n",
      "Typology: cardiovascular\n",
      "Run ids: ['ERR1316052']\n",
      "\n",
      "Sample identificator: Sample37\n",
      "Sample name: 10317.000062081\n",
      "Typology: cardiovascular\n",
      "Run ids: ['ERR1842632']\n",
      "\n",
      "Sample identificator: Sample38\n",
      "Sample name: 10317.000031332\n",
      "Typology: cardiovascular\n",
      "Run ids: ['ERR1389678']\n",
      "\n",
      "Sample identificator: Sample39\n",
      "Sample name: 10317.000097233\n",
      "Typology: cardiovascular\n",
      "Run ids: ['ERR2697834']\n",
      "\n",
      "Sample identificator: Sample40\n",
      "Sample name: 10317.000040396\n",
      "Typology: cardiovascular\n",
      "Run ids: ['ERR1841615', 'ERR1843602']\n",
      "\n",
      "Sample identificator: Sample41\n",
      "Sample name: 10317.000050475\n",
      "Typology: cardiovascular\n",
      "Run ids: ['ERR2319745']\n",
      "\n",
      "Sample identificator: Sample42\n",
      "Sample name: 10317.000029157\n",
      "Typology: cardiovascular\n",
      "Run ids: ['ERR1842682']\n",
      "\n",
      "Sample identificator: Sample43\n",
      "Sample name: 10317.000032795\n",
      "Typology: cardiovascular\n",
      "Run ids: ['ERR1160658']\n",
      "\n",
      "Sample identificator: Sample44\n",
      "Sample name: 10317.000082870\n",
      "Typology: cardiovascular\n",
      "Run ids: ['ERR2405131']\n",
      "\n",
      "Sample identificator: Sample45\n",
      "Sample name: 10317.000082871\n",
      "Typology: cardiovascular\n",
      "Run ids: ['ERR2405132']\n",
      "\n",
      "Sample identificator: Sample46\n",
      "Sample name: 10317.000101088\n",
      "Typology: cardiovascular\n",
      "Run ids: ['ERR4019696']\n",
      "\n",
      "Sample identificator: Sample47\n",
      "Sample name: 10317.000050498\n",
      "Typology: cardiovascular\n",
      "Run ids: ['ERR2319761']\n",
      "\n",
      "Sample identificator: Sample48\n",
      "Sample name: 10317.000021280\n",
      "Typology: cardiovascular\n",
      "Run ids: ['ERR1080303']\n",
      "\n",
      "Sample identificator: Sample49\n",
      "Sample name: 10317.000004800\n",
      "Typology: cardiovascular\n",
      "Run ids: ['ERR1079930']\n",
      "\n"
     ]
    }
   ],
   "source": [
    "artifact = quality_analysis('cancer_and_cardiovascular', ['cancer', 'cardiovascular'])"
   ]
  },
  {
   "cell_type": "code",
   "execution_count": 12,
   "metadata": {},
   "outputs": [
    {
     "data": {
      "text/html": [
       "<div><img onload=\"(function(div, url){\n",
       "if (typeof require !== 'undefined') {\n",
       "    var baseURL = require.toUrl('').split('/').slice(0, -2).join('/');\n",
       "} else {\n",
       "    var baseURL = JSON.parse(\n",
       "        document.getElementById('jupyter-config-data').innerHTML\n",
       "    ).baseUrl.slice(0, -1);\n",
       "}\n",
       "url = baseURL + url;\n",
       "fetch(url).then(function(res) {\n",
       "    if (res.status === 404) {\n",
       "        div.innerHTML = 'Install QIIME 2 Jupyter extension with:<br />' +\n",
       "                        '<code>jupyter serverextension enable --py qiime2' +\n",
       "                        ' --sys-prefix</code><br />then restart your server.' +\n",
       "                        '<br /><br />(Interactive output not available on ' +\n",
       "                        'static notebook viewer services like nbviewer.)';\n",
       "    } else if (res.status === 409) {\n",
       "        div.innerHTML = 'Visualization no longer in scope. Re-run this cell' +\n",
       "                        ' to see the visualization.';\n",
       "    } else if (res.ok) {\n",
       "        url = res.url;\n",
       "        div.innerHTML = '<iframe src=\\'' + url + '\\' style=\\'' +\n",
       "                        'width: 100%; height: 700px; border: 0;\\'>' +\n",
       "                        '</iframe><hr />Open in a: <a href=\\'' + url + '\\'' +\n",
       "                        ' target=\\'_blank\\'>new window</a>'\n",
       "    } else {\n",
       "        div.innerHTML = 'Something has gone wrong. Check notebook server for' +\n",
       "                        ' errors.';\n",
       "    }\n",
       "});\n",
       "})(this.parentElement, '/qiime2/redirect?location=/var/folders/8q/f5jck5j90bqf9z_lvdhp4b0r0000gn/T/qiime2-archive-0bxf7vge')\" src=\"data:image/gif;base64,R0lGODlhAQABAIAAAP///wAAACH5BAEAAAAALAAAAAABAAEAAAICRAEAOw==\" /></div>"
      ],
      "text/plain": [
       "<visualization: Visualization uuid: c63d2d91-e633-489c-9c78-978c0e8d2814>"
      ]
     },
     "execution_count": 12,
     "metadata": {},
     "output_type": "execute_result"
    }
   ],
   "source": [
    "demux_sequences = demux.visualizers.summarize(artifact)\n",
    "demux_sequences.visualization"
   ]
  },
  {
   "cell_type": "code",
   "execution_count": null,
   "metadata": {},
   "outputs": [],
   "source": []
  }
 ],
 "metadata": {
  "kernelspec": {
   "display_name": "final_project_bio",
   "language": "python",
   "name": "final_project_bio"
  },
  "language_info": {
   "codemirror_mode": {
    "name": "ipython",
    "version": 3
   },
   "file_extension": ".py",
   "mimetype": "text/x-python",
   "name": "python",
   "nbconvert_exporter": "python",
   "pygments_lexer": "ipython3",
   "version": "3.6.7"
  }
 },
 "nbformat": 4,
 "nbformat_minor": 4
}
