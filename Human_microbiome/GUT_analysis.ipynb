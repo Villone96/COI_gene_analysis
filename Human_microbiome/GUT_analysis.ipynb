{
 "cells": [
  {
   "cell_type": "markdown",
   "metadata": {},
   "source": [
    "## Libraries"
   ]
  },
  {
   "cell_type": "code",
   "execution_count": 1,
   "metadata": {},
   "outputs": [],
   "source": [
    "import pandas as pd\n",
    "import numpy as np\n",
    "import os\n",
    "import seaborn as sns\n",
    "import matplotlib.pyplot as plt\n",
    "import re\n",
    "import ast\n",
    "\n",
    "%matplotlib inline\n",
    "plt.style.use('seaborn')\n",
    "\n",
    "plt.rcParams[\"patch.force_edgecolor\"] = True\n",
    "pd.set_option('display.max_rows', 200)\n",
    "pd.options.mode.chained_assignment = None"
   ]
  },
  {
   "cell_type": "markdown",
   "metadata": {},
   "source": [
    "## Functions"
   ]
  },
  {
   "cell_type": "code",
   "execution_count": 29,
   "metadata": {},
   "outputs": [],
   "source": [
    "def load_dataset(experiment, types):\n",
    "    dataset_one = pd.read_csv(f'./result_extraction/{experiment}/dataset_query_result_{types[0]}.csv', dtype=str)\n",
    "    dataset_two = pd.read_csv(f'./result_extraction/{experiment}/dataset_query_result_{types[1]}.csv', dtype=str)\n",
    "    \n",
    "    files = os.listdir(f'./result_extraction/{experiment}')\n",
    "    if not('analysis_images' in files):\n",
    "        os.mkdir(f'./result_extraction/{experiment}/analysis_images')\n",
    "    \n",
    "    dataset_one['type'] = [types[0]]*len(dataset_one)\n",
    "    dataset_two['type'] = [types[1]]*len(dataset_two)\n",
    "    \n",
    "    frames = [dataset_one, dataset_two]\n",
    "    final_dataset = pd.concat(frames)\n",
    "    \n",
    "    if len(final_dataset) == (len(dataset_one) + len(dataset_two)):\n",
    "        return final_dataset\n",
    "    else:\n",
    "        print('THERE IS A PROBLEMS...')\n",
    "        return -1\n",
    "    \n",
    "def plot_pie_chart(dictionary_values, typology, experiment, field):\n",
    "    dictionary_values = dict(sorted(dictionary_values.items()))\n",
    "    title = f'{field} for: {typology}'\n",
    "    bins = list(dictionary_values.keys())\n",
    "    values = list(dictionary_values.values())\n",
    "    colors = ['#4287f5', '#f56942', '#8a5151', '#518a5e', '#6f649c', '#a4a6b0', '#63c1d4']\n",
    "    colors = colors[0:len(values)]\n",
    "    fig, ax = plt.subplots()\n",
    "    ax.pie(values, labels = bins, shadow=True, startangle = 90, colors = colors,\n",
    "           wedgeprops={'edgecolor': 'black'}, autopct='%1.1f%%')\n",
    "\n",
    "    ax.set_title(title)\n",
    "    save_img(title, experiment)\n",
    "    plt.show() \n",
    "\n",
    "def pie_chart(query_result, types, field, experiment):\n",
    "    grp = query_result.groupby(['type'])\n",
    "    dict_0 = dict(grp[field].value_counts(normalize = True).loc[types[0]])\n",
    "    dict_1 = dict(grp[field].value_counts(normalize = True).loc[types[1]])\n",
    "    \n",
    "    if len(dict_0.keys()) < len(dict_1.keys()):\n",
    "        miss_values = set(dict_1.keys()) - set(dict_0.keys())\n",
    "        for miss_value in miss_values:\n",
    "            dict_0[miss_value] = 0\n",
    "    elif len(dict_1.keys()) > len(dict_0.keys()):\n",
    "        miss_values = set(dict_0.keys()) - set(dict_1.keys())\n",
    "        for miss_value in miss_values:\n",
    "            dict_1[miss_value] = 0\n",
    "    \n",
    "    plot_pie_chart(dict_0, types[0], experiment, field)\n",
    "    plot_pie_chart(dict_1, types[1], experiment, field)\n",
    "    \n",
    "    \n",
    "def save_img(title, experiment):\n",
    "    plt.savefig(f'./result_extraction/{experiment}/analysis_images/{title}.png', \n",
    "                dpi = 300, quality = 95, format = 'png', pad_inches = 1000)\n",
    "    \n",
    "def violin(query_result, types, field, experiment):\n",
    "    df = pd.DataFrame(columns=[f'{field}', 'type', 'placeholder'])\n",
    "    for _, row in query_result.iterrows():\n",
    "        df.loc[len(df)] = [row[f'{field}'], row['type'], '']\n",
    "    \n",
    "    df[field] = df[field].apply(lambda x: float(x))\n",
    "    \n",
    "    plot_violin(df, types, field, experiment)\n",
    "    \n",
    "def plot_violin(df, types, field, experiment):\n",
    "    \n",
    "    fig, ax = plt.subplots()\n",
    "    ax = sns.violinplot(x='placeholder', y=field, hue='type', data=df, split=True, inner='quartile', bw=0.2)\n",
    "    title = f'{field.capitalize()} distribution'\n",
    "    ax.set_title(title)\n",
    "    ax.set_xlabel('')\n",
    "    ax.set_ylabel(field)\n",
    "    ax.legend()\n",
    "    save_img(title, experiment)\n",
    "    plt.show()\n",
    "    \n",
    "def distplot(query_result, types, field, experiment):\n",
    "    df = pd.DataFrame(columns=[f'{field}', 'type'])\n",
    "    for _, row in query_result.iterrows():\n",
    "        df.loc[len(df)] = [row[f'{field}'], row['type']]\n",
    "    \n",
    "    df[field] = df[field].apply(lambda x: float(x))\n",
    "\n",
    "    \n",
    "    plot_distplot(df, types, field, experiment)\n",
    "    \n",
    "def plot_distplot(df, types, field, experiment):\n",
    "    \n",
    "    title = f'Distribution plot on {field}'\n",
    "    type0 = df.query(f'type == \"{types[0]}\"')\n",
    "    type1 = df.query(f'type == \"{types[1]}\"')\n",
    "    fig, ax = plt.subplots()\n",
    "    ax = sns.distplot(type0[f'{field}'], hist=False, label=f'{field} on {types[0]}')\n",
    "    ax = sns.distplot(type1[f'{field}'], hist=False, label=f'{field} on {types[1]}')\n",
    "    ax.set_title(title)\n",
    "    ax.set_xlabel(f'{field}')\n",
    "    ax.set_ylabel('Distribution')\n",
    "    ax.legend()\n",
    "    save_img(title, experiment)\n",
    "    plt.show()\n",
    "'''    \n",
    "def load_data(path_food_dis, path_mental_ill):\n",
    "    food_dis = pd.read_csv(path_food_dis, sep='\\t', dtype=str)\n",
    "    mental_ill = pd.read_csv(path_mental_ill, sep='\\t', dtype=str)\n",
    "    food_dis = food_dis.query(\"sciname != 'bacterium'\")\n",
    "    mental_ill = mental_ill.query(\"sciname != 'bacterium'\")\n",
    "    food_dis = food_dis[~food_dis[\"sciname\"].str.contains(\"uncultured\")]\n",
    "    mental_ill = mental_ill[~mental_ill[\"sciname\"].str.contains(\"uncultured\")]\n",
    "    food_dis['sciname'] = food_dis['sciname'].apply(lambda x: re.sub('[\\[|\\]]', '', x))\n",
    "    mental_ill['sciname'] = mental_ill['sciname'].apply(lambda x: re.sub('[\\[|\\]]', '', x))\n",
    "    \n",
    "    #top 10 food illness\n",
    "    sciname_f = food_dis.groupby('sciname').count()[['accession']].index\n",
    "    count_f = food_dis.groupby('sciname').count()['accession'].values\n",
    "    dict_sciname_f = {'sciname':sciname_f, 'accession':count_f}\n",
    "    top_food_ill = pd.DataFrame(dict_sciname_f, columns = ['sciname','accession'])\n",
    "    top_food_ill = top_food_ill.sort_values(by='accession', ascending=False).head(10)\n",
    "    top_food_ill = top_food_ill.sort_values(by='accession')\n",
    "    \n",
    "    #top 10 mental illness\n",
    "    sciname_i = mental_ill.groupby('sciname').count()[['accession']].index\n",
    "    count_i = mental_ill.groupby('sciname').count()['accession'].values\n",
    "    dict_sciname_i = {'sciname':sciname_i, 'accession':count_i}\n",
    "    top_mental_ill = pd.DataFrame(dict_sciname_i, columns = ['sciname','accession'])\n",
    "    top_mental_ill = top_mental_ill.sort_values(by='accession', ascending=False).head(10)\n",
    "    top_mental_ill = top_mental_ill.sort_values(by='accession')\n",
    "    \n",
    "    #organism unique\n",
    "    food_dis_sciname = set(food_dis['sciname'].values)\n",
    "    mental_ill_sciname = set(mental_ill['sciname'].values)\n",
    "    \n",
    "    #operazioni insiemistiche\n",
    "    intersection_organism = mental_ill_sciname.intersection(food_dis_sciname)\n",
    "    organism_only_ill = mental_ill_sciname - food_dis_sciname\n",
    "    organism_only_fd = food_dis_sciname - mental_ill_sciname\n",
    "    \n",
    "    return top_food_ill, top_mental_ill, intersection_organism, organism_only_ill, organism_only_fd\n",
    "'''\n",
    "\n",
    "def load_data(path_blast):\n",
    "    blast = pd.read_csv(path_blast, sep='\\t', dtype=str)\n",
    "\n",
    "    blast['sciname'] = blast['sciname'].apply(lambda x: re.sub('[\\[|\\]]', '', x))\n",
    "    \n",
    "    blast = blast[['sciname', 'taxonomy']]\n",
    "    \n",
    "    blast['seqnumber'] = [f'seq {i+1}' for i in range(len(blast))]\n",
    "    \n",
    "    return blast\n",
    "    \n",
    "\n",
    "def get_sample_with_top_bacteria(experiment, types):\n",
    "    blast1 = load_data(f'./result_extraction/{experiment}/final_blast_top_sequences_{types[0]}.tsv')\n",
    "    blast2 = load_data(f'./result_extraction/{experiment}/final_blast_top_sequences_{types[1]}.tsv')\n",
    "    \n",
    "    freq_table1 = pd.read_csv(f'./result_extraction/{experiment}/{types[0]}_top_sequences_distribution.csv', dtype=str)\n",
    "    freq_table2 = pd.read_csv(f'./result_extraction/{experiment}/{types[1]}_top_sequences_distribution.csv', dtype=str)\n",
    "    \n",
    "    blast1['total_sample'] = [len(freq_table1)]*len(blast1)\n",
    "    blast2['total_sample'] = [len(freq_table2)]*len(blast2)\n",
    "    \n",
    "    blast1 = count_on_sample(blast1, freq_table1)\n",
    "    blast2 = count_on_sample(blast2, freq_table2)\n",
    "    \n",
    "    blast1 = clean_final_frequency(blast1)\n",
    "    blast2 = clean_final_frequency(blast2)\n",
    "    \n",
    "    blast1.to_csv(f'./result_extraction/{experiment}/rich_blast_{types[0]}.csv', index=True, encoding='utf-8')\n",
    "    blast2.to_csv(f'./result_extraction/{experiment}/rich_blast_{types[1]}.csv', index=True, encoding='utf-8')\n",
    "    \n",
    "    return blast1, blast2\n",
    "\n",
    "# elimina i doppioni\n",
    "def clean_final_frequency(df):\n",
    "    clean_df = pd.DataFrame(columns=df.columns)\n",
    "    clean_df.set_index(clean_df.columns[0], inplace = True)\n",
    "    already_taken = list()\n",
    "    for _, row in df.iterrows():\n",
    "        if not('uncultured' in row['sciname']):\n",
    "            if not(row['sciname'] in already_taken):\n",
    "                already_taken.append(row['sciname'])\n",
    "                clean_df.loc[row['sciname']] = [row['taxonomy'], row['seqnumber'], row['total_sample'], row['sample_with']]\n",
    "            elif row['sciname'] in already_taken:\n",
    "                clean_df.loc[row['sciname']]['sample_with'] = clean_df.loc[row['sciname']]['sample_with'].union(row['sample_with'])\n",
    "                clean_df.loc[row['sciname']]['seqnumber'] = clean_df.loc[row['sciname']]['seqnumber'] + ', ' + row['seqnumber']\n",
    "        \n",
    "    len_sample_with = list()\n",
    "    for _, row in clean_df.iterrows():\n",
    "        len_sample_with.append(len(row['sample_with']))\n",
    "        \n",
    "    clean_df['len_sample_with'] = len_sample_with\n",
    "            \n",
    "    clean_df.sort_values(by=['len_sample_with'], ascending=False, inplace=True)\n",
    "    return clean_df\n",
    "        \n",
    "    \n",
    "# aggiunge una colonna con un insieme dati i sample che presentano la sequenza \n",
    "def count_on_sample(blast_rich, freq_table):\n",
    "    sample_with = list()\n",
    "    for _, row in blast_rich.iterrows():\n",
    "        set_sample_with = set()\n",
    "        presence_numbers = list(freq_table[row['seqnumber']])\n",
    "        index = 0\n",
    "        for number in presence_numbers:\n",
    "            if int(number) != 0:\n",
    "                set_sample_with.add(index)\n",
    "            index += 1\n",
    "        sample_with.append(set_sample_with)\n",
    "    blast_rich['sample_with'] = sample_with\n",
    "    return blast_rich\n",
    "    \n",
    "def plot_presence_on_total(typology, bact, bact_total_df, experiment):\n",
    "    bact_df = bact_total_df.query(f'sciname == \"{bact}\"')\n",
    "    total_sample = int(bact_df['total_sample'])\n",
    "    sample_with = int(bact_df['len_sample_with'])\n",
    "    no_presence = total_sample - sample_with\n",
    "    title = f'{bact} for: {typology}'\n",
    "    bins = ['Present', 'Not present']\n",
    "    values = [sample_with, no_presence]\n",
    "    \n",
    "    fig, ax = plt.subplots()\n",
    "    ax.pie(values, labels = bins, shadow=True, startangle = 90,\n",
    "           wedgeprops={'edgecolor': 'black'}, autopct='%1.1f%%')\n",
    "\n",
    "    ax.set_title(title)\n",
    "    save_img(title, experiment)\n",
    "    plt.show() \n",
    "    "
   ]
  },
  {
   "cell_type": "markdown",
   "metadata": {},
   "source": [
    "## Main"
   ]
  },
  {
   "cell_type": "markdown",
   "metadata": {},
   "source": [
    "### Healthy vs not healthy"
   ]
  },
  {
   "cell_type": "code",
   "execution_count": null,
   "metadata": {},
   "outputs": [],
   "source": [
    "list(query_result_healthy_vs_not.columns)"
   ]
  },
  {
   "cell_type": "code",
   "execution_count": 3,
   "metadata": {},
   "outputs": [],
   "source": [
    "query_result_healthy_vs_not = load_dataset('healthy_vs_not_healthy', ['healthy', 'not_healthy'])"
   ]
  },
  {
   "cell_type": "code",
   "execution_count": null,
   "metadata": {},
   "outputs": [],
   "source": [
    "pie_chart(query_result_healthy_vs_not, ['healthy', 'not_healthy'], 'bowel_movement_frequency', 'healthy_vs_not_healthy')"
   ]
  },
  {
   "cell_type": "code",
   "execution_count": 14,
   "metadata": {},
   "outputs": [],
   "source": [
    "healthy, not_healthy = get_sample_with_top_bacteria('healthy_vs_not_healthy', ['healthy', 'not_healthy'])"
   ]
  },
  {
   "cell_type": "code",
   "execution_count": 59,
   "metadata": {},
   "outputs": [
    {
     "data": {
      "image/png": "[encoded data removed]",
      "text/plain": [
       "<Figure size 576x396 with 1 Axes>"
      ]
     },
     "metadata": {},
     "output_type": "display_data"
    }
   ],
   "source": [
    "plot_presence_on_total('healthy', 'Akkermansia muciniphila', healthy, 'healthy_vs_not_healthy')"
   ]
  },
  {
   "cell_type": "markdown",
   "metadata": {},
   "source": [
    "### Not healthy young vs not healthy old"
   ]
  },
  {
   "cell_type": "code",
   "execution_count": 45,
   "metadata": {},
   "outputs": [],
   "source": [
    "query_result_not_healthy_young_old = load_dataset('not_healthy_old_vs_not_healthy_young', ['not_healthy_young', 'not_healthy_old'])"
   ]
  },
  {
   "cell_type": "code",
   "execution_count": null,
   "metadata": {},
   "outputs": [],
   "source": [
    "pie_chart(query_result_not_healthy_young_old, ['not_healthy_young', 'not_healthy_old'], 'fruit_frequency', 'not_healthy_old_vs_not_healthy_young')"
   ]
  },
  {
   "cell_type": "code",
   "execution_count": null,
   "metadata": {},
   "outputs": [],
   "source": [
    "violin(query_result_not_healthy_young_old, ['not_healthy_young', 'not_healthy_old'], 'weight_kg', 'not_healthy_old_vs_not_healthy_young')"
   ]
  },
  {
   "cell_type": "code",
   "execution_count": 46,
   "metadata": {},
   "outputs": [],
   "source": [
    "young, old = get_sample_with_top_bacteria('not_healthy_old_vs_not_healthy_young', ['not_healthy_young', 'not_healthy_old'])"
   ]
  },
  {
   "cell_type": "code",
   "execution_count": 54,
   "metadata": {},
   "outputs": [
    {
     "data": {
      "image/png": "[encoded data removed]",
      "text/plain": [
       "<Figure size 576x396 with 1 Axes>"
      ]
     },
     "metadata": {},
     "output_type": "display_data"
    }
   ],
   "source": [
    "plot_presence_on_total('Not_healthy_young', 'Streptococcus salivarius', young, 'not_healthy_old_vs_not_healthy_young')"
   ]
  },
  {
   "cell_type": "markdown",
   "metadata": {},
   "source": [
    "### Mental illness vs food disease"
   ]
  },
  {
   "cell_type": "code",
   "execution_count": null,
   "metadata": {},
   "outputs": [],
   "source": [
    "query_result_mental_food = load_dataset('mental_ill_vs_food_dis', ['food_disorders', 'mental_illness'])"
   ]
  },
  {
   "cell_type": "code",
   "execution_count": null,
   "metadata": {},
   "outputs": [],
   "source": [
    "pie_chart(query_result_mental_food, ['food_disorders', 'mental_illness'], 'bowel_movement_frequency', 'mental_ill_vs_food_dis')"
   ]
  },
  {
   "cell_type": "code",
   "execution_count": null,
   "metadata": {},
   "outputs": [],
   "source": [
    "violin(query_result_mental_food, ['food_disorders', 'mental_illness'], 'age_years', 'mental_ill_vs_food_dis')"
   ]
  },
  {
   "cell_type": "code",
   "execution_count": null,
   "metadata": {},
   "outputs": [],
   "source": [
    "mental, food = get_sample_with_top_bacteria('mental_ill_vs_food_dis', ['mental_illness', 'food_disorders'])"
   ]
  },
  {
   "cell_type": "markdown",
   "metadata": {},
   "source": [
    "### Cancer and cardiovascular"
   ]
  },
  {
   "cell_type": "code",
   "execution_count": null,
   "metadata": {},
   "outputs": [],
   "source": [
    "query_result_cancer_cardio = load_dataset('cancer_and_cardiovascular', ['cancer', 'cardiovascular'])"
   ]
  },
  {
   "cell_type": "code",
   "execution_count": null,
   "metadata": {},
   "outputs": [],
   "source": [
    "pie_chart(query_result_cancer_cardio, ['cancer', 'cardiovascular'], 'diabetes', 'mental_ill_vs_food_dis')"
   ]
  },
  {
   "cell_type": "code",
   "execution_count": null,
   "metadata": {},
   "outputs": [],
   "source": [
    "violin(query_result_cancer_cardio, ['cancer', 'cardiovascular'], 'bmi', 'cancer_and_cardiovascular')"
   ]
  },
  {
   "cell_type": "code",
   "execution_count": null,
   "metadata": {},
   "outputs": [],
   "source": [
    "cancer, cardio = get_sample_with_top_bacteria('cancer_and_cardiovascular', ['cancer', 'cardiovascular'])"
   ]
  },
  {
   "cell_type": "code",
   "execution_count": null,
   "metadata": {},
   "outputs": [],
   "source": []
  }
 ],
 "metadata": {
  "kernelspec": {
   "display_name": "final_project_bio",
   "language": "python",
   "name": "final_project_bio"
  },
  "language_info": {
   "codemirror_mode": {
    "name": "ipython",
    "version": 3
   },
   "file_extension": ".py",
   "mimetype": "text/x-python",
   "name": "python",
   "nbconvert_exporter": "python",
   "pygments_lexer": "ipython3",
   "version": "3.6.7"
  }
 },
 "nbformat": 4,
 "nbformat_minor": 4
}
