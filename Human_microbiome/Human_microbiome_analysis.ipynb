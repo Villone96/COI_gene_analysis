{
 "cells": [
  {
   "cell_type": "markdown",
   "metadata": {},
   "source": [
    "## Libraries"
   ]
  },
  {
   "cell_type": "code",
   "execution_count": 1,
   "metadata": {},
   "outputs": [
    {
     "name": "stderr",
     "output_type": "stream",
     "text": [
      "/Users/villons/opt/anaconda3/envs/final_project_bio/lib/python3.6/site-packages/skbio/util/_testing.py:15: FutureWarning: pandas.util.testing is deprecated. Use the functions in the public API at pandas.testing instead.\n",
      "  import pandas.util.testing as pdt\n"
     ]
    }
   ],
   "source": [
    "import qiime2\n",
    "from tempfile import mkdtemp\n",
    "from qiime2.plugins import demux, deblur, quality_filter, \\\n",
    "                           metadata, feature_table, alignment, \\\n",
    "                           phylogeny, diversity, emperor, feature_classifier, \\\n",
    "                           taxa, composition\n",
    "import pandas as pd\n",
    "import os\n",
    "import numpy as np\n",
    "import random\n",
    "import logging\n",
    "from datetime import datetime\n",
    "from Bio import Entrez\n",
    "from pprint import pprint\n",
    "from sklearn.utils import shuffle\n",
    "import xml.etree.ElementTree as ET\n",
    "import os\n",
    "from tqdm.notebook import tqdm\n",
    "from Bio import SeqIO\n",
    "import ast\n",
    "import csv"
   ]
  },
  {
   "cell_type": "markdown",
   "metadata": {},
   "source": [
    "#### Studies\n",
    "* exercise_frequency\n",
    "* flossing_frequency\n",
    "* vitamin_d_supplement_frequency\n",
    "* weight_change\n",
    "* fruit_frequency"
   ]
  },
  {
   "cell_type": "markdown",
   "metadata": {},
   "source": [
    "## Functions"
   ]
  },
  {
   "cell_type": "markdown",
   "metadata": {},
   "source": [
    "### Pipeline cleaning"
   ]
  },
  {
   "cell_type": "code",
   "execution_count": 77,
   "metadata": {},
   "outputs": [],
   "source": [
    "# Puliscel a working directory (result_extraction), elimina tutti i file e le cartelle fatta eccezione per il logfile\n",
    "# il quale viene solo svuotato\n",
    "def clean_workspace():\n",
    "    \n",
    "    # ci spostiamo nella working directory\n",
    "    starting_path = os.getcwd()\n",
    "    path = os.path.join(os.getcwd(), f'result_extraction')\n",
    "    os.chdir(path)\n",
    "    \n",
    "    # prendiamo tutti i file contenuti nella working directory e eliminiamo a meno che non sia il log file\n",
    "    files = os.listdir()\n",
    "    for file in files:\n",
    "        if file != 'sra_querying.log':\n",
    "            delete_command = f'rm -r {file}'\n",
    "            os.system(delete_command)\n",
    "            \n",
    "    # puliamo il log file\n",
    "    delete_old_log = 'cat > sra_querying.log'\n",
    "    os.system(delete_old_log)  \n",
    "    \n",
    "    # torniamo nella starting directory ./Human microbiome\n",
    "    os.chdir(starting_path)"
   ]
  },
  {
   "cell_type": "markdown",
   "metadata": {},
   "source": [
    "### NCBI utilities"
   ]
  },
  {
   "cell_type": "code",
   "execution_count": 78,
   "metadata": {},
   "outputs": [],
   "source": [
    "# Funzioni per semplificare l'interrogazioen di NCBI\n",
    "Entrez.email = \"giacomo.villa.mi@gmail.com\"\n",
    "\n",
    "def good_print(text):\n",
    "    print(pprint(text))\n",
    "\n",
    "def esearch(db, query, num_max = 20):\n",
    "    handle = Entrez.esearch(db = db, term = query, retmax = num_max)\n",
    "    record = Entrez.read(handle, validate = True)\n",
    "    return record\n",
    "\n",
    "def esummary(db, id_val):\n",
    "    handle = Entrez.esummary(db = db, id = id_val)\n",
    "    record = Entrez.read(handle, validate = True)\n",
    "    return record"
   ]
  },
  {
   "cell_type": "markdown",
   "metadata": {},
   "source": [
    "### Final Sample generation"
   ]
  },
  {
   "cell_type": "code",
   "execution_count": 79,
   "metadata": {},
   "outputs": [],
   "source": [
    "# Prende in input il dataset completo, data la query, \n",
    "def write_age_mean(total, typology, experiment):\n",
    "    \n",
    "    man = total.query('sex == \"male\"')\n",
    "    woman = total.query('sex == \"female\"')\n",
    "    \n",
    "    mean_age_total = round(np.mean(total['age_years']), 4)\n",
    "    mean_age_man = round(np.mean(man['age_years']), 4)\n",
    "    mean_age_woman = round(np.mean(woman['age_years']), 4)\n",
    "    not_valid_sex = total.query(\"sex != 'female' and sex != 'male'\")\n",
    "    \n",
    "    if typology != 'sample':\n",
    "        logging.info(f'--------------------{typology.upper()}--------------------')\n",
    "    logging.info(f'Total number of {typology} people: {len(total)}')\n",
    "    logging.info(f'Total number of {typology} man: {len(man)}')\n",
    "    logging.info(f'Total number of {typology} woman: {len(woman)}')\n",
    "    logging.info(f'Total number of non valid sex {len(not_valid_sex)}')\n",
    "    \n",
    "    logging.info(f'Mean Age for total: {mean_age_total}')\n",
    "    logging.info(f'Mean Age for man: {mean_age_man}')\n",
    "    logging.info(f'Mean Age for woman: {mean_age_woman}')\n",
    "    logging.info(f'\\n')\n",
    "    \n",
    "    print(f'--------------------{typology.upper()}--------------------')\n",
    "    print(f'Total number of {typology} people: {len(total)}')\n",
    "    print(f'Total number of {typology} man: {len(man)}')\n",
    "    print(f'Total number of {typology} woman: {len(woman)}')\n",
    "    print(f'Total number of non valid sex {len(not_valid_sex)}')\n",
    "    \n",
    "    print(f'Mean Age for total: {mean_age_total}')\n",
    "    print(f'Mean Age for man: {mean_age_man}')\n",
    "    print(f'Mean Age for woman: {mean_age_woman}')\n",
    "    \n",
    "    starting_path = os.getcwd()\n",
    "    path = os.path.join(os.getcwd(), f'result_extraction/')\n",
    "    os.chdir(path)\n",
    "    directories = os.listdir()\n",
    "    if f'{experiment}' not in directories:\n",
    "        os.mkdir(f'{experiment}')\n",
    "        \n",
    "    os.chdir(f'{experiment}')\n",
    "    if typology != 'sample':\n",
    "        total.to_csv(f\"./dataset_query_result_{typology}.csv\", index=False, encoding='utf-8')\n",
    "    \n",
    "    os.chdir(starting_path)\n",
    "\n",
    "# Prende in input il dataset da cui campionare e gli index degli element già presi, finché non campiona qualcosa di \n",
    "# nuovo non termina\n",
    "def generate_single_sample(already_taken, from_df):\n",
    "    element = random.randint(0, len(from_df) - 1)\n",
    "    while (element in already_taken):\n",
    "        element = random.randint(0, len(from_df) - 1)\n",
    "    return element\n",
    "\n",
    "# Dato il dataset di partenza contenente solo elementi effettivamente presenti su NCBI\n",
    "# genera un nuovo dataset composto da n_samples elementi\n",
    "def get_final_sample(started_dataset, n_samples):\n",
    "    taken = set()\n",
    "    final_sample = pd.DataFrame(columns=started_dataset.columns)\n",
    "    for i in tqdm(range(n_samples), desc='Sampling data'):\n",
    "        new_sample = generate_single_sample(taken, started_dataset)\n",
    "        taken.add(new_sample)\n",
    "        final_sample = final_sample.append(started_dataset.iloc[new_sample], ignore_index=True)\n",
    "    return final_sample\n",
    "\n",
    "def write_not_valid_ids(not_valid_names):\n",
    "    files = os.listdir(f'./result_extraction')\n",
    "    \n",
    "    if 'not_valid_sample_names.csv' in files:\n",
    "        all_not_valid_names = pd.read_csv(\"./result_extraction/not_valid_sample_names.csv\", header=0, dtype=str)\n",
    "        elements = [all_not_valid_names, not_valid_names]\n",
    "        final_not_valid = pd.concat(elements, ignore_index=False, sort=False)\n",
    "        final_not_valid.to_csv(f\"./result_extraction/not_valid_sample_names.csv\", index=False)\n",
    "    else:\n",
    "        not_valid_names.to_csv(f\"./result_extraction/not_valid_sample_names.csv\", index=False)\n",
    "    \n",
    "# Dato il dataset di partenza con tutti gli elementi che rispettano la query posta al gut, tiene in considraz\n",
    "def sampling_data(start_dataset, typology, n_samples, experiment):\n",
    "    write_age_mean(start_dataset, typology, experiment)\n",
    "    valid_id = list()\n",
    "    not_valid_id = list()\n",
    "    for try_id in tqdm(start_dataset['sample_name'], desc='NCBI ids validation'):\n",
    "        handleSce = esearch('biosample', try_id)\n",
    "        if len(handleSce['IdList']) != 0:\n",
    "            valid_id.append(try_id)\n",
    "        else:\n",
    "            not_valid_id.append(str(try_id))\n",
    "            print(try_id)\n",
    "            \n",
    "    print(f'Total rows: {len(start_dataset)}')\n",
    "    print(f'Valid rows: {len(valid_id)}')\n",
    "    \n",
    "    not_valid_names = pd.DataFrame(data={\"not_valid_sample_name\": not_valid_id, \"typology\": [typology]*len(not_valid_id)})\n",
    "    print(len(not_valid_names))\n",
    "    write_not_valid_ids(not_valid_names)\n",
    "    \n",
    "    logging.info(f'Total rows: {len(start_dataset)}')\n",
    "    logging.info(f'Valid rows: {len(valid_id)}')\n",
    "            \n",
    "    valid_start_dataset = pd.DataFrame(columns=start_dataset.columns)\n",
    "    index = 0\n",
    "    for _, row in start_dataset.iterrows():\n",
    "        if row['sample_name'] in valid_id:\n",
    "            valid_start_dataset.loc[index] = row\n",
    "            index += 1\n",
    "            \n",
    "    valid_start_dataset = shuffle(valid_start_dataset)\n",
    "    final_sample = get_final_sample(valid_start_dataset, n_samples)\n",
    "    write_sample_info(final_sample, typology, experiment)\n",
    "\n",
    "# Funzione richiamata sul sample finale, traduce in csv il campione finale creando un csv di due colonne: sample_name,\n",
    "# typology (e.g. healthy/not_healthy), richiama write_age_mean per scrivere sul log file l'età media dei soggetti\n",
    "def write_sample_info(sample, typology, experiment):\n",
    "    man = sample.query(\"sex == 'male'\")\n",
    "    woman = sample.query(\"sex == 'female'\")\n",
    "    write_age_mean(sample, 'sample', experiment)\n",
    "    \n",
    "    sample = sample[['sample_name']]\n",
    "    sample['typology'] = [typology]*len(sample)\n",
    "    \n",
    "    files = os.listdir(f'./result_extraction/{experiment}')\n",
    "    \n",
    "    if f'final_sample_{experiment}.csv' in files:\n",
    "        final_sample = pd.read_csv(f\"./result_extraction/{experiment}/final_sample_{experiment}.csv\", header=0, dtype=str)\n",
    "        final_sample = final_sample[['sample_name', 'typology']]\n",
    "        elements = [final_sample, sample]\n",
    "        final_sample = pd.concat(elements, ignore_index=False, sort=False)\n",
    "        final_sample.to_csv(f\"./result_extraction/{experiment}/final_sample_{experiment}.csv\", index=False)\n",
    "    else:\n",
    "        sample.to_csv(f\"./result_extraction/{experiment}/final_sample_{experiment}.csv\", index=False)\n",
    "        \n",
    "    close_dashes = '-'*len(typology.upper())\n",
    "    logging.info(f'--------------------{close_dashes}--------------------')"
   ]
  },
  {
   "cell_type": "markdown",
   "metadata": {},
   "source": [
    "### SRA operation"
   ]
  },
  {
   "cell_type": "code",
   "execution_count": 80,
   "metadata": {},
   "outputs": [],
   "source": [
    "# Funzione controller, prende in input il nome dell'esperimento (eg. healthy vs not_healthy) e le tipologie di campione\n",
    "# (e.g. healthy e not_healty), chiama la funzione che interroga SRA di NCBI, in seguito richiama la funzione per \n",
    "# concatenare i file fasta e infine la funzione per prendere le sequenze che ricorrono più spesso. Infine salva su un\n",
    "# file csv i fasta delle sequenze più popolose aggiungendo il campo che si rifà all'id di Biosample.\n",
    "# Il file csv delle frequenze più popole è l'input per blast\n",
    "def sra_querying(experiment, types):\n",
    "    \n",
    "    # Legge il csv contente i 30 campioni di una tipologia e i 30 campioni dell'altra tipologia dato l'esperimento\n",
    "    # (e.g. esperimento: healthy vs not_healthy estrare il csv che contiene i 30 sample_name degli healthy e i \n",
    "    # 30 sample_name dei not_healthy)\n",
    "    final_sample = pd.read_csv(f\"./result_extraction/{experiment}/final_sample_{experiment}.csv\", header=0, dtype=str)\n",
    "    \n",
    "    # crea una lista che conterrà, dati i record, il corrispettivo id di Biosample\n",
    "    bio_sample_id = list()\n",
    "    \n",
    "    sra_ids = list()\n",
    "    \n",
    "    # per ogni riga del csv dei 30 campioni di una tipologia e i 30 dell'altra tipologia dato l'esperimento\n",
    "    for index, row in final_sample.iterrows():\n",
    "        print(f'File number: {index+1}')\n",
    "        \n",
    "        # Gestione del problema sulla lettura di un sample_name con la concatenazione della stringa '001'\n",
    "        # in generale estrae l'input per la funzione che farà la query su SRA\n",
    "        record_id = str(row[0])[0:15]\n",
    "        record_typology = row[1]\n",
    "        \n",
    "        # data la singola interrogazione, aggiunge alla lista degli id di bio_sample l'id.\n",
    "        query_result = get_sequences(record_id, record_typology, experiment)\n",
    "        bio_sample_id.append(query_result[0])\n",
    "        sra_ids.append(query_result[1])\n",
    "        \n",
    "    # una volta scaricate tutti i file fasta data l'esperimento, per ogni tipologia (e.g healthy/not_healthy) \n",
    "    # crea un unico file con tutte le sequenze e poi prende, da questo file, solo quelle più popolose\n",
    "    for typology in types:\n",
    "        concatenate_fast_file(typology, 'fasta', experiment)\n",
    "        get_top_sequences(typology, experiment)\n",
    "        \n",
    "    # crea una nuova colonna dove, per ogni sample_name, vi sarà l'id di biosample associato e salva il nuovo csv\n",
    "    final_sample['bio_sample_id'] = bio_sample_id\n",
    "    final_sample['runId'] = sra_ids\n",
    "    final_sample.to_csv(f\"./result_extraction/{experiment}/final_sample_{experiment}.csv\", index=False)\n",
    "    \n",
    "    get_sample_top_sequences_count(experiment, types[0])\n",
    "    get_sample_top_sequences_count(experiment, types[1])\n",
    "    \n",
    "# Funzione che interroga SRA, dato il sample_name. Richiede anche la tipologia del campione (e.g. healthy o not_healthy)\n",
    "# e il nome dell'esperimento (e.g. healthy_vs_not_healthy), per andare a salvare correttamente nelle cartelle facenti\n",
    "# riferimento all'esperimento\n",
    "def get_sequences(sample_name, typology, experiment):\n",
    "    \n",
    "    # in funzione della tipologia del campione (e.g. healthy o not_healthy) e dell'esperimento (e.g. healthy_vs_not_healthy)\n",
    "    # definisce il path corretto dove andare a salvare il risultato\n",
    "    path = f'\"./result_extraction/{experiment}/SRA_{typology}\" '\n",
    "    command1 = f'fastq-dump --fasta --readids --outdir {path}'\n",
    "    command2 = f'fastq-dump --readids --outdir {path}'\n",
    "        \n",
    "    # Query su SRA e print utili\n",
    "    print(f'Sample id: {sample_name}')\n",
    "    handleSce = esearch('biosample', sample_name)\n",
    "    biosampleId = handleSce['IdList'][0]\n",
    "    print(f'Biosample ID {biosampleId}')\n",
    "    print(f'Typology: {typology}')\n",
    "    handleSra = Entrez.efetch(db='biosample', id=biosampleId, retmode='xml')\n",
    "    root = ET.fromstring(handleSra.read())\n",
    "    identifier = root.findall('.//BioSample//Ids//Id')\n",
    "    for i in identifier:\n",
    "        if i.attrib['db'] == 'SRA':\n",
    "            sraId = i.text\n",
    "    handleSra = Entrez.esearch(db='sra', term=sraId)\n",
    "    resultsSra = Entrez.read(handleSra)['IdList']\n",
    "    run_ids = list()\n",
    "    for s in resultsSra:\n",
    "        handlesngSraId = Entrez.efetch(db='sra', id=s, retmode='xml')\n",
    "        root = ET.fromstring(handlesngSraId.read())\n",
    "        identifier = root.find('.//EXPERIMENT_PACKAGE//RUN_SET//RUN')\n",
    "        runId = identifier.attrib['accession']\n",
    "        os.system(f'{command1}{runId}')\n",
    "        os.system(f'{command2}{runId}') \n",
    "        print(f'Run ID: {runId}')\n",
    "        run_ids.append(runId)\n",
    "    print()\n",
    "    return [biosampleId, run_ids]\n",
    "        \n",
    "\n",
    "# Dato il risultato delle query su SRA, concatena i file fasta facenti riferimento a una certa tipologia di record\n",
    "# (e.g. healthy o not_healthy) dato un certo esperimento (e.g. healthy_vs_not_healthy)\n",
    "def concatenate_fast_file(typology, file_format, experiment):\n",
    "    \n",
    "    # Prende tutti i file data la tipologia del record (e.g. healthy o not_healthy) contenuti nella cartella dove,\n",
    "    # dato l'esperimento (e.g. healthy_vs_not_healthy), la query su SRA ha riposto i risultati\n",
    "    files = os.listdir(f'./result_extraction/{experiment}/SRA_{typology}')\n",
    "    \n",
    "    # concatenazione file fasta\n",
    "    compact_files = list()\n",
    "    for file in files:\n",
    "        if file_format in file:\n",
    "            f = open(f'./result_extraction/{experiment}/SRA_{typology}/{file}', \"r\")\n",
    "            compact_files.append(f.read())\n",
    "            f.close()\n",
    "    f = open(f'./result_extraction/{experiment}/SRA_{typology}/final_{file_format}_{typology}.{file_format}', 'w')\n",
    "    for file in compact_files:\n",
    "        f.write(file)\n",
    "    f.close()\n",
    "    \n",
    "    # Eliminazione dei \n",
    "    starting_path = os.getcwd()\n",
    "    path = os.path.join(os.getcwd(), f'result_extraction/{experiment}/SRA_{typology}')\n",
    "    os.chdir(path)\n",
    "    command = 'rm *[0-9].fasta'\n",
    "    #os.system(command) \n",
    "    os.chdir(starting_path)\n",
    "        \n",
    "def get_top_sequences(typology, experiment):\n",
    "    records = list(SeqIO.parse(f\"./result_extraction/{experiment}/SRA_{typology}/final_fasta_{typology}.fasta\", format=\"fasta\"))\n",
    "    print(f'Number of sequences for {typology}: {len(records)}')\n",
    "    logging.info(f'Number of sequences for {typology}: {len(records)}')\n",
    "    \n",
    "    sequences = dict()\n",
    "    for record in tqdm(records, desc='Compacting fasta'):\n",
    "        if record.seq in sequences:\n",
    "            sequences[record.seq][0] += 1\n",
    "        else:\n",
    "            sequences[record.seq] = [1, f'>{record.description}']\n",
    "    \n",
    "    print(f'Number of grouped sequences: {len(sequences)}')\n",
    "    logging.info(f'Number of grouped sequences: {len(sequences)}')\n",
    "    \n",
    "    sequences_ord = {k: v for k, v in sorted(sequences.items(), key=lambda item: item[1], reverse=True)}\n",
    "    \n",
    "    cont = 0\n",
    "    f = open(f'./result_extraction/{experiment}/SRA_{typology}/top_sequences_{typology}.fasta', 'w')\n",
    "    \n",
    "    for element in sequences_ord:\n",
    "        if sequences_ord[element][0] >= 100:\n",
    "            f.write(f'{sequences_ord[element][1]} number of reps {sequences_ord[element][0]}')\n",
    "            f.write('\\n')\n",
    "            f.write(str(element))\n",
    "            f.write('\\n')\n",
    "            cont += 1\n",
    "    f.close()\n",
    "    \n",
    "    print(f'Number of taken sequences: {cont}')\n",
    "    logging.info(f'Number of taken sequences: {cont}')\n",
    "    print()\n",
    "    logging.info('\\n')\n",
    "    \n",
    "def get_sample_top_sequences_count(experiment, typology):\n",
    "    top_sequences = list(SeqIO.parse(f\"./result_extraction/{experiment}/SRA_{typology}/top_sequences_{typology}.fasta\", format=\"fasta\"))\n",
    "    os.mkdir(f'./result_extraction/{experiment}/SRA_{typology}/tmp')\n",
    "    \n",
    "    columns = ['sample_name']\n",
    "    for i in range(len(top_sequences)):\n",
    "        columns.append(f'seq {i+1}')\n",
    "    final_summary = pd.DataFrame(columns = columns)\n",
    "    \n",
    "    final_sample = pd.read_csv(f\"./result_extraction/{experiment}/final_sample_{experiment}.csv\", dtype=str)\n",
    "    target_sample = final_sample.query(f\"typology == '{typology}'\")\n",
    "\n",
    "    for index, row in target_sample.iterrows():\n",
    "\n",
    "        print(f'Sample number: {index+1}')\n",
    "        run_ids = ast.literal_eval(row['runId'])\n",
    "        typology = row['typology']\n",
    "        sample_name = row['sample_name']\n",
    "        compact_files = list()\n",
    "        \n",
    "        print(f'Sample name: {sample_name}')\n",
    "\n",
    "        for run_id in run_ids:\n",
    "            f = open(f'./result_extraction/{experiment}/SRA_{typology}/{run_id}.fasta', \"r\")\n",
    "            compact_files.append(f.read())\n",
    "            f.close()\n",
    "            print(f'Run ID: {run_id}')\n",
    "\n",
    "            f = open(f'./result_extraction/{experiment}/SRA_{typology}/tmp/{sample_name}.fasta', 'w')\n",
    "            for file in compact_files:\n",
    "                f.write(file)\n",
    "            f.close()\n",
    "\n",
    "        sample_sequences = list(SeqIO.parse(f\"./result_extraction/{experiment}/SRA_{typology}/tmp/{sample_name}.fasta\", format=\"fasta\"))\n",
    "\n",
    "        top_sequences_in_sample = dict()\n",
    "        for top_sequence in tqdm(top_sequences):\n",
    "            top_sequences_in_sample[top_sequence.description] = 0\n",
    "            for sample_sequence in sample_sequences:\n",
    "                if top_sequence.seq == sample_sequence.seq:\n",
    "                    top_sequences_in_sample[top_sequence.description] += 1\n",
    "        numbers = [sample_name]\n",
    "        for seq in top_sequences_in_sample:\n",
    "            numbers.append(top_sequences_in_sample[seq])\n",
    "        final_summary.loc[len(final_summary)] = numbers\n",
    "\n",
    "    index = 0\n",
    "    for column in final_summary.columns:\n",
    "        if column != 'sample_name':\n",
    "            sum_column = final_summary[column].sum()\n",
    "            real_value = int(top_sequences[index].description.split('number of reps')[1].strip())\n",
    "            if sum_column != real_value:\n",
    "                print(f'Problem to column: {column}')\n",
    "\n",
    "            index += 1    \n",
    "\n",
    "    final_summary.to_csv(f\"./result_extraction/{experiment}/{typology}_top_sequences_distribution.csv\", index=False)"
   ]
  },
  {
   "cell_type": "markdown",
   "metadata": {},
   "source": [
    "### Quiime2 operation"
   ]
  },
  {
   "cell_type": "code",
   "execution_count": 81,
   "metadata": {},
   "outputs": [],
   "source": [
    "def quality_analysis(experiment, types):\n",
    "    files = os.listdir(f'./result_extraction/{experiment}')\n",
    "    \n",
    "    if not(f'seq_artifact_{experiment}.qza' in files):\n",
    "        manifest_operation(experiment, types)\n",
    "        artifact = qiime2.Artifact.import_data('SampleData[SequencesWithQuality]', f'./result_extraction/{experiment}/manifest.tsv',\n",
    "                                        view_type='SingleEndFastqManifestPhred33V2')\n",
    "        artifact.save(f'./result_extraction/{experiment}/seq_artifact_{experiment}.qza')\n",
    "    else:\n",
    "        artifact = qiime2.Artifact.load(f'./result_extraction/{experiment}/seq_artifact_{experiment}.qza')\n",
    "        \n",
    "    return artifact\n",
    "    \n",
    "    #demux_filter_stats = quality_filter.methods.q_score(artifact)\n",
    "    #filter_stats = metadata.visualizers.tabulate(demux_filter_stats.filter_stats.view(qiime2.Metadata))\n",
    "    #filter_stats.visualization\n",
    "\n",
    "\n",
    "\n",
    "# Questa funzione compatta i file dataset_query_result (sostanzialmente ciò che si estreva da GUT) e quindi crea\n",
    "# date le due tipologie (e.g. healthy e not_healthy) dato l'esperimento (not_healthy_vs_healthy) un singolo file\n",
    "# che sarà di fatto la somma dei due dataset di partenza. Ovviamente viene inserito un nuovo campo (nuova colonna)\n",
    "# dove si specifica la tipologia del record (e.g. healthy o not_healthy)\n",
    "def manifest_operation(experiment, typology):\n",
    "    typology_1 = pd.read_csv(f'./result_extraction/{experiment}/dataset_query_result_{typology[0]}.csv', dtype=str)\n",
    "    typology_2 = pd.read_csv(f'./result_extraction/{experiment}/dataset_query_result_{typology[1]}.csv', dtype=str)\n",
    "    \n",
    "    typology_1['typology'] = [typology[0]]*len(typology_1)\n",
    "    typology_2['typology'] = [typology[1]]*len(typology_2)\n",
    "    \n",
    "    frames = [typology_1, typology_2]\n",
    "    final_dataset = pd.concat(frames)\n",
    "    if len(final_dataset) == (len(typology_1) + len(typology_2)):\n",
    "        with open(f'./result_extraction/{experiment}/dataset_query_result_{experiment}.tsv', \"w\", newline='') as dataset_query_result:\n",
    "            tsv_output = csv.writer(dataset_query_result, delimiter='\\t')\n",
    "            \n",
    "            tsv_output.writerow(list(final_dataset.columns))\n",
    "            cont = 0\n",
    "            for _, row in final_dataset.iterrows():\n",
    "                tsv_output.writerow(list(row))\n",
    "                cont += 1\n",
    "        \n",
    "    add_id_sample(experiment)\n",
    "    create_manifest(experiment)\n",
    "\n",
    "# Questa funzione, dato l'experimenti (e.g. healthy_vs_not_healthy) crea il file manifest come mostrato nella pagina \n",
    "# https://docs.qiime2.org/2020.2/tutorials/importing/. \n",
    "def create_manifest(experiment):\n",
    "    \n",
    "    # leggiamo il file che contiene i sample_name campionati (il file con sample_name, typology, biosample_id, sra_id)\n",
    "    final_sample = pd.read_csv(f\"./result_extraction/{experiment}/final_sample_{experiment}.csv\", dtype=str)\n",
    "    manifest = list()\n",
    "    \n",
    "    # per ogni riga andiamo a copiare i file fastq e a inserirli in una nuova cartella con un nuovo nome\n",
    "    # sample_name.fasq, andando a compattare nel caso in cui a un sample_name fossero associati più file \n",
    "    # fastq\n",
    "    for index, row in final_sample.iterrows():\n",
    "        run_ids = ast.literal_eval(row['runId'])\n",
    "        sample_identificator = row['sample_identificator']\n",
    "        sample_name = row['sample_name']\n",
    "        typology = row['typology']\n",
    "        print(f'Sample identificator: {sample_identificator}')\n",
    "        print(f'Sample name: {sample_name}')\n",
    "        print(f'Typology: {typology}')\n",
    "        print(f'Run ids: {run_ids}')\n",
    "        print()\n",
    "        \n",
    "        directories = os.listdir(f'./result_extraction/{experiment}/SRA_{typology}')\n",
    "        if 'tmp_fastq' not in directories:\n",
    "            os.mkdir(f'./result_extraction/{experiment}/SRA_{typology}/tmp_fastq')\n",
    "        \n",
    "        compact_files = list()\n",
    "        for run_id in run_ids:\n",
    "            f = open(f'./result_extraction/{experiment}/SRA_{typology}/{run_id}.fastq', \"r\")\n",
    "            compact_files.append(f.read())\n",
    "            f.close()\n",
    "            \n",
    "            \n",
    "        f = open(f'./result_extraction/{experiment}/SRA_{typology}/tmp_fastq/{sample_identificator}.fastq', 'w')\n",
    "        for file in compact_files:\n",
    "            f.write(file)\n",
    "        f.close()\n",
    "        \n",
    "        # nel manifest appendiamo la riga 'sample_identificator, absolute_path_to_fastq'\n",
    "        manifest.append([sample_identificator, f'/result_extraction/{experiment}/SRA_{typology}/tmp_fastq/{sample_identificator}.fastq'])\n",
    "    \n",
    "    # scriviamo il manifest \n",
    "    with open(f'./result_extraction/{experiment}/manifest.tsv', \"w\",newline='') as manifest_file:\n",
    "        tsv_output = csv.writer(manifest_file, delimiter='\\t')\n",
    "        tsv_output.writerow(['sample-id', 'absolute-filepath'])\n",
    "        for line in manifest:\n",
    "            tsv_output.writerow([line[0], f'{os.getcwd()}{line[1]}'])\n",
    "            \n",
    "            \n",
    "def add_id_sample(experiment):\n",
    "    final_sample = pd.read_csv(f\"./result_extraction/{experiment}/final_sample_{experiment}.csv\", dtype=str)\n",
    "    sample_id = [f'Sample{i}' for i in range(len(final_sample))]\n",
    "    final_sample['sample_identificator'] = sample_id\n",
    "    final_sample.to_csv(f\"./result_extraction/{experiment}/final_sample_{experiment}.csv\", index=False, encoding='utf-8')"
   ]
  },
  {
   "cell_type": "markdown",
   "metadata": {},
   "source": [
    "## Main"
   ]
  },
  {
   "cell_type": "code",
   "execution_count": 58,
   "metadata": {},
   "outputs": [],
   "source": [
    "# Carica il dataset gut\n",
    "df = pd.read_csv(\"./data/american_gut.txt\", delimiter=\"\\t\", dtype=str)\n",
    "\n",
    "# Sostituisce con NAN valori non validi\n",
    "df.replace(' ', np.nan, inplace=True)\n",
    "df.replace('Not provided', np.nan, inplace=True)\n",
    "df.replace('Unspecified', np.nan, inplace=True)\n",
    "\n",
    "# Elimina dalla working directory tutti i risultati dello scorso esperimento, ripulisce il logfile\n",
    "# clean_workspace()"
   ]
  },
  {
   "cell_type": "code",
   "execution_count": null,
   "metadata": {},
   "outputs": [],
   "source": [
    "# Inizializza il log file\n",
    "logging.basicConfig(filename='./result_extraction/sra_querying.log', level=logging.INFO, format='%(message)s')\n",
    "today = datetime.now().strftime(\"%d/%m/%Y %H:%M:%S\")\n",
    "logging.info(f'RUN TIME: {today}')"
   ]
  },
  {
   "cell_type": "markdown",
   "metadata": {},
   "source": [
    "## All columns"
   ]
  },
  {
   "cell_type": "code",
   "execution_count": null,
   "metadata": {},
   "outputs": [],
   "source": [
    "for column in df.columns:\n",
    "    print(column, end = ', ')"
   ]
  },
  {
   "cell_type": "markdown",
   "metadata": {},
   "source": [
    "## Healthy vs not healthy study\n",
    "### Healthy extraction"
   ]
  },
  {
   "cell_type": "code",
   "execution_count": null,
   "metadata": {},
   "outputs": [],
   "source": [
    "# Estraiamo dal dataset i dati di interesse\n",
    "healthy = df.query(\"smoking_frequency == 'Never' and alcohol_frequency == 'Never'\")\n",
    "\n",
    "healthy = healthy.query(\"cancer == 'I do not have this condition'\")\n",
    "\n",
    "healthy['bmi'] = healthy['bmi'].apply(lambda x: float(x))\n",
    "healthy = healthy.query(\"bmi >= 18.5 and bmi <= 24.99\")\n",
    "\n",
    "healthy['age_years'] = healthy['age_years'].apply(lambda x: float(x))\n",
    "healthy = healthy.query(\"age_years >= 20 and age_years <= 50\")\n",
    "\n",
    "healthy = healthy.query(\"body_site == 'UBERON:feces'\")"
   ]
  },
  {
   "cell_type": "code",
   "execution_count": null,
   "metadata": {
    "scrolled": true
   },
   "outputs": [],
   "source": [
    "sampling_data(healthy, 'healthy', 30, 'healthy_vs_not_healthy')"
   ]
  },
  {
   "cell_type": "markdown",
   "metadata": {},
   "source": [
    "### Not healthy extraction"
   ]
  },
  {
   "cell_type": "code",
   "execution_count": null,
   "metadata": {},
   "outputs": [],
   "source": [
    "not_healthy = df.query(\"smoking_frequency == 'Occasionally (1-2 times/week)' or smoking_frequency == 'Daily' or smoking_frequency == 'Regularly (3-5 times/week)'\")\n",
    "not_healthy = not_healthy.query(\"alcohol_frequency == 'Occasionally (1-2 times/week)' or alcohol_frequency == 'Daily' or alcohol_frequency == 'Regularly (3-5 times/week)'\")\n",
    "\n",
    "not_healthy = not_healthy.query(\"cancer == 'I do not have this condition'\")\n",
    "\n",
    "not_healthy['bmi'] = not_healthy['bmi'].apply(lambda x: float(x))\n",
    "not_healthy = not_healthy.query(\"bmi < 18.5 or bmi > 24.99\")\n",
    "\n",
    "not_healthy['age_years'] = not_healthy['age_years'].apply(lambda x: float(x))\n",
    "not_healthy = not_healthy.query(\"age_years >= 20 and age_years <= 50\")\n",
    "\n",
    "not_healthy = not_healthy.query(\"body_site == 'UBERON:feces'\")"
   ]
  },
  {
   "cell_type": "code",
   "execution_count": null,
   "metadata": {},
   "outputs": [],
   "source": [
    "sampling_data(not_healthy, 'not_healthy', 30, 'healthy_vs_not_healthy')"
   ]
  },
  {
   "cell_type": "markdown",
   "metadata": {},
   "source": [
    "## Not healthy old vs not healthy young studies\n",
    "### Not healthy old extraction"
   ]
  },
  {
   "cell_type": "code",
   "execution_count": 93,
   "metadata": {},
   "outputs": [],
   "source": [
    "not_healthy = df.query(\"smoking_frequency == 'Occasionally (1-2 times/week)' or smoking_frequency == 'Daily' or smoking_frequency == 'Regularly (3-5 times/week)'\")\n",
    "not_healthy = not_healthy.query(\"alcohol_frequency == 'Occasionally (1-2 times/week)' or alcohol_frequency == 'Daily' or alcohol_frequency == 'Regularly (3-5 times/week)'\")\n",
    "\n",
    "not_healthy = not_healthy.query(\"cancer == 'I do not have this condition'\")\n",
    "\n",
    "not_healthy['bmi'] = not_healthy['bmi'].apply(lambda x: float(x))\n",
    "not_healthy = not_healthy.query(\"bmi < 18.5 or bmi > 24.99\")\n",
    "\n",
    "not_healthy['age_years'] = not_healthy['age_years'].apply(lambda x: float(x))\n",
    "not_healthy_old = not_healthy.query(\"age_years >= 40 and age_years <= 50\")\n",
    "\n",
    "not_healthy_old = not_healthy_old.query(\"body_site == 'UBERON:feces'\")"
   ]
  },
  {
   "cell_type": "code",
   "execution_count": 94,
   "metadata": {},
   "outputs": [
    {
     "name": "stdout",
     "output_type": "stream",
     "text": [
      "--------------------NOT_HEALTHY_OLD--------------------\n",
      "Total number of not_healthy_old people: 26\n",
      "Total number of not_healthy_old man: 17\n",
      "Total number of not_healthy_old woman: 9\n",
      "Total number of non valid sex 0\n",
      "Mean Age for total: 46.3077\n",
      "Mean Age for man: 46.2941\n",
      "Mean Age for woman: 46.3333\n"
     ]
    },
    {
     "data": {
      "application/vnd.jupyter.widget-view+json": {
       "model_id": "581054e9846e447f9877953962e34c35",
       "version_major": 2,
       "version_minor": 0
      },
      "text/plain": [
       "HBox(children=(FloatProgress(value=0.0, description='NCBI ids validation', max=26.0, style=ProgressStyle(descr…"
      ]
     },
     "metadata": {},
     "output_type": "display_data"
    },
    {
     "name": "stdout",
     "output_type": "stream",
     "text": [
      "10317.000032727\n",
      "10317.000052110\n",
      "10317.000102626\n",
      "10317.000103722\n",
      "10317.000108087\n",
      "10317.000109110\n",
      "10317.000113732\n",
      "10317.000114513\n",
      "10317.000114522\n",
      "\n",
      "Total rows: 26\n",
      "Valid rows: 17\n",
      "9\n"
     ]
    },
    {
     "data": {
      "application/vnd.jupyter.widget-view+json": {
       "model_id": "b45ebd19fa5b4f6389b3cfb6e15c71fa",
       "version_major": 2,
       "version_minor": 0
      },
      "text/plain": [
       "HBox(children=(FloatProgress(value=0.0, description='Sampling data', max=17.0, style=ProgressStyle(description…"
      ]
     },
     "metadata": {},
     "output_type": "display_data"
    },
    {
     "name": "stdout",
     "output_type": "stream",
     "text": [
      "\n",
      "--------------------SAMPLE--------------------\n",
      "Total number of sample people: 17\n",
      "Total number of sample man: 12\n",
      "Total number of sample woman: 5\n",
      "Total number of non valid sex 0\n",
      "Mean Age for total: 46.2941\n",
      "Mean Age for man: 46.25\n",
      "Mean Age for woman: 46.4\n"
     ]
    },
    {
     "name": "stderr",
     "output_type": "stream",
     "text": [
      "/Users/villons/opt/anaconda3/envs/final_project_bio/lib/python3.6/site-packages/ipykernel_launcher.py:119: SettingWithCopyWarning: \n",
      "A value is trying to be set on a copy of a slice from a DataFrame.\n",
      "Try using .loc[row_indexer,col_indexer] = value instead\n",
      "\n",
      "See the caveats in the documentation: https://pandas.pydata.org/pandas-docs/stable/user_guide/indexing.html#returning-a-view-versus-a-copy\n"
     ]
    }
   ],
   "source": [
    "sampling_data(not_healthy_old, 'not_healthy_old', 17, 'not_healthy_old_vs_not_healthy_young')"
   ]
  },
  {
   "cell_type": "markdown",
   "metadata": {},
   "source": [
    "### Not healthy young extraction"
   ]
  },
  {
   "cell_type": "code",
   "execution_count": 95,
   "metadata": {},
   "outputs": [],
   "source": [
    "not_healthy_young = not_healthy.query(\"age_years >= 20 and age_years <= 30\")\n",
    "\n",
    "not_healthy_young = not_healthy_young.query(\"body_site == 'UBERON:feces'\")"
   ]
  },
  {
   "cell_type": "code",
   "execution_count": 96,
   "metadata": {},
   "outputs": [
    {
     "name": "stdout",
     "output_type": "stream",
     "text": [
      "--------------------NOT_HEALTHY_YOUNG--------------------\n",
      "Total number of not_healthy_young people: 19\n",
      "Total number of not_healthy_young man: 11\n",
      "Total number of not_healthy_young woman: 6\n",
      "Total number of non valid sex 2\n",
      "Mean Age for total: 25.7368\n",
      "Mean Age for man: 26.2727\n",
      "Mean Age for woman: 23.8333\n"
     ]
    },
    {
     "data": {
      "application/vnd.jupyter.widget-view+json": {
       "model_id": "3b2a455fdfde48c9ba2d7a7586c9a93e",
       "version_major": 2,
       "version_minor": 0
      },
      "text/plain": [
       "HBox(children=(FloatProgress(value=0.0, description='NCBI ids validation', max=19.0, style=ProgressStyle(descr…"
      ]
     },
     "metadata": {},
     "output_type": "display_data"
    },
    {
     "name": "stdout",
     "output_type": "stream",
     "text": [
      "10317.000033511\n",
      "10317.000108111\n",
      "10317.000108185\n",
      "10317.000108626\n",
      "10317.000110036\n",
      "\n",
      "Total rows: 19\n",
      "Valid rows: 14\n",
      "5\n"
     ]
    },
    {
     "data": {
      "application/vnd.jupyter.widget-view+json": {
       "model_id": "0cbb48ecf5ea4d349cce283a1c778533",
       "version_major": 2,
       "version_minor": 0
      },
      "text/plain": [
       "HBox(children=(FloatProgress(value=0.0, description='Sampling data', max=14.0, style=ProgressStyle(description…"
      ]
     },
     "metadata": {},
     "output_type": "display_data"
    },
    {
     "name": "stdout",
     "output_type": "stream",
     "text": [
      "\n",
      "--------------------SAMPLE--------------------\n",
      "Total number of sample people: 14\n",
      "Total number of sample man: 10\n",
      "Total number of sample woman: 2\n",
      "Total number of non valid sex 2\n",
      "Mean Age for total: 25.9286\n",
      "Mean Age for man: 26.1\n",
      "Mean Age for woman: 22.5\n"
     ]
    },
    {
     "name": "stderr",
     "output_type": "stream",
     "text": [
      "/Users/villons/opt/anaconda3/envs/final_project_bio/lib/python3.6/site-packages/ipykernel_launcher.py:119: SettingWithCopyWarning: \n",
      "A value is trying to be set on a copy of a slice from a DataFrame.\n",
      "Try using .loc[row_indexer,col_indexer] = value instead\n",
      "\n",
      "See the caveats in the documentation: https://pandas.pydata.org/pandas-docs/stable/user_guide/indexing.html#returning-a-view-versus-a-copy\n"
     ]
    }
   ],
   "source": [
    "sampling_data(not_healthy_young, 'not_healthy_young', 14, 'not_healthy_old_vs_not_healthy_young')"
   ]
  },
  {
   "cell_type": "markdown",
   "metadata": {},
   "source": [
    "## Mental illness vs food disorders\n",
    "### Mental illness"
   ]
  },
  {
   "cell_type": "code",
   "execution_count": null,
   "metadata": {},
   "outputs": [],
   "source": [
    "mental_illness = df.query(\"country_residence == 'United States'\")\n",
    "\n",
    "mental_illness = mental_illness.query(\"body_site == 'UBERON:feces'\")\n",
    "\n",
    "mental_illness = mental_illness.query(\"mental_illness == 'true' or mental_illness == 'Yes'\")\n",
    "\n",
    "mental_illness['age_years'] = mental_illness['age_years'].apply(lambda x: float(x))"
   ]
  },
  {
   "cell_type": "code",
   "execution_count": null,
   "metadata": {},
   "outputs": [],
   "source": [
    "sampling_data(mental_illness, 'mental_illness', 30, 'mental_ill_vs_food_dis')"
   ]
  },
  {
   "cell_type": "markdown",
   "metadata": {},
   "source": [
    "### Food disorders"
   ]
  },
  {
   "cell_type": "code",
   "execution_count": null,
   "metadata": {},
   "outputs": [],
   "source": [
    "food_disorders = df.query(\"country_residence == 'United States'\")\n",
    "\n",
    "food_disorders = food_disorders.query(\"body_site == 'UBERON:feces'\")\n",
    "\n",
    "food_disorders = food_disorders.query(\"mental_illness == 'false' or mental_illness == 'No'\")\n",
    "\n",
    "food_disorders['bmi'] =  food_disorders['bmi'].apply(lambda x : float(x))\n",
    "food_disorders = food_disorders.query(\"bmi < 18.5 or bmi > 24.99\")\n",
    "\n",
    "food_disorders = food_disorders.query(\"(fruit_frequency == 'Never' or fruit_frequency == 'Rarely (less than once/week)')\")\n",
    "\n",
    "food_disorders = food_disorders.query(\"exercise_frequency=='Rarely (a few times/month)' or exercise_frequency=='Never'\")\n",
    "\n",
    "food_disorders['age_years'] = food_disorders['age_years'].apply(lambda x: float(x))"
   ]
  },
  {
   "cell_type": "code",
   "execution_count": null,
   "metadata": {},
   "outputs": [],
   "source": [
    "sampling_data(food_disorders, 'food_disorders', 30, 'mental_ill_vs_food_dis')"
   ]
  },
  {
   "cell_type": "markdown",
   "metadata": {},
   "source": [
    "## NCBI Quering"
   ]
  },
  {
   "cell_type": "code",
   "execution_count": null,
   "metadata": {
    "scrolled": true
   },
   "outputs": [],
   "source": [
    "sra_querying('mental_ill_vs_food_dis', ['mental_illness', 'food_disorders'])"
   ]
  },
  {
   "cell_type": "code",
   "execution_count": null,
   "metadata": {
    "scrolled": true
   },
   "outputs": [],
   "source": [
    "sra_querying('healthy_vs_not_healthy', ['healthy', 'not_healthy'])"
   ]
  },
  {
   "cell_type": "code",
   "execution_count": 97,
   "metadata": {
    "scrolled": true
   },
   "outputs": [
    {
     "name": "stdout",
     "output_type": "stream",
     "text": [
      "File number: 1\n",
      "Sample id: 10317.000093400\n",
      "Biosample ID 9541016\n",
      "Typology: not_healthy_old\n",
      "Run ID: ERR2579553\n",
      "\n",
      "File number: 2\n",
      "Sample id: 10317.000059040\n",
      "Biosample ID 6366200\n",
      "Typology: not_healthy_old\n",
      "Run ID: ERR1842899\n",
      "\n",
      "File number: 3\n",
      "Sample id: 10317.000070708\n",
      "Biosample ID 8728589\n",
      "Typology: not_healthy_old\n",
      "Run ID: ERR2404950\n",
      "\n",
      "File number: 4\n",
      "Sample id: 10317.000047151\n",
      "Biosample ID 6365612\n",
      "Typology: not_healthy_old\n",
      "Run ID: ERR1842295\n",
      "\n",
      "File number: 5\n",
      "Sample id: 10317.000097663\n",
      "Biosample ID 9657767\n",
      "Typology: not_healthy_old\n",
      "Run ID: ERR2697902\n",
      "\n",
      "File number: 6\n",
      "Sample id: 10317.000033063\n",
      "Biosample ID 5158638\n",
      "Typology: not_healthy_old\n",
      "Run ID: ERR1417508\n",
      "\n",
      "File number: 7\n",
      "Sample id: 10317.000050274\n",
      "Biosample ID 6366103\n",
      "Typology: not_healthy_old\n",
      "Run ID: ERR1842802\n",
      "\n",
      "File number: 8\n",
      "Sample id: 10317.000038305\n",
      "Biosample ID 4916250\n",
      "Typology: not_healthy_old\n",
      "Run ID: ERR1389836\n",
      "\n",
      "File number: 9\n",
      "Sample id: 10317.000076672\n",
      "Biosample ID 8945554\n",
      "Typology: not_healthy_old\n",
      "Run ID: ERR2523964\n",
      "\n",
      "File number: 10\n",
      "Sample id: 10317.000092754\n",
      "Biosample ID 9653207\n",
      "Typology: not_healthy_old\n",
      "Run ID: ERR2696591\n",
      "\n",
      "File number: 11\n",
      "Sample id: 10317.000060228\n",
      "Biosample ID 8614699\n",
      "Typology: not_healthy_old\n",
      "Run ID: ERR2319389\n",
      "\n",
      "File number: 12\n",
      "Sample id: 10317.000075933\n",
      "Biosample ID 9653092\n",
      "Typology: not_healthy_old\n",
      "Run ID: ERR2696475\n",
      "\n",
      "File number: 13\n",
      "Sample id: 10317.000074586\n",
      "Biosample ID 14618583\n",
      "Typology: not_healthy_old\n",
      "Run ID: ERR4019071\n",
      "\n",
      "File number: 14\n",
      "Sample id: 10317.000065320\n",
      "Biosample ID 6445740\n",
      "Typology: not_healthy_old\n",
      "Run ID: ERR1854752\n",
      "\n",
      "File number: 15\n",
      "Sample id: 10317.000058971\n",
      "Biosample ID 9653062\n",
      "Typology: not_healthy_old\n",
      "Run ID: ERR2696443\n",
      "\n",
      "File number: 16\n",
      "Sample id: 10317.000066629\n",
      "Biosample ID 7439309\n",
      "Typology: not_healthy_old\n",
      "Run ID: ERR2242120\n",
      "Run ID: ERR2239395\n",
      "Run ID: ERR2057058\n",
      "\n",
      "File number: 17\n",
      "Sample id: 10317.000042631\n",
      "Biosample ID 5709883\n",
      "Typology: not_healthy_old\n",
      "Run ID: ERR1597057\n",
      "\n",
      "File number: 18\n",
      "Sample id: 10317.000069001\n",
      "Biosample ID 7354544\n",
      "Typology: not_healthy_young\n",
      "Run ID: ERR2033544\n",
      "\n",
      "File number: 19\n",
      "Sample id: 10317.000054289\n",
      "Biosample ID 8614662\n",
      "Typology: not_healthy_young\n",
      "Run ID: ERR2319344\n",
      "\n",
      "File number: 20\n",
      "Sample id: 10317.000069002\n",
      "Biosample ID 8577415\n",
      "Typology: not_healthy_young\n",
      "Run ID: ERR2314217\n",
      "\n",
      "File number: 21\n",
      "Sample id: 10317.000068657\n",
      "Biosample ID 8569476\n",
      "Typology: not_healthy_young\n",
      "Run ID: ERR2306142\n",
      "\n",
      "File number: 22\n",
      "Sample id: 10317.000093103\n",
      "Biosample ID 9653610\n",
      "Typology: not_healthy_young\n",
      "Run ID: ERR2696999\n",
      "\n",
      "File number: 23\n",
      "Sample id: 10317.000062086\n",
      "Biosample ID 6365939\n",
      "Typology: not_healthy_young\n",
      "Run ID: ERR1842637\n",
      "\n",
      "File number: 24\n",
      "Sample id: 10317.000059959\n",
      "Biosample ID 8568914\n",
      "Typology: not_healthy_young\n",
      "Run ID: ERR2303862\n",
      "\n",
      "File number: 25\n",
      "Sample id: 10317.000037933\n",
      "Biosample ID 6365537\n",
      "Typology: not_healthy_young\n",
      "Run ID: ERR1842199\n",
      "Run ID: ERR2056801\n",
      "\n",
      "File number: 26\n",
      "Sample id: 10317.000075909\n",
      "Biosample ID 8945523\n",
      "Typology: not_healthy_young\n",
      "Run ID: ERR2523933\n",
      "\n",
      "File number: 27\n",
      "Sample id: 10317.000101067\n",
      "Biosample ID 14621574\n",
      "Typology: not_healthy_young\n",
      "Run ID: ERR4020553\n",
      "\n",
      "File number: 28\n",
      "Sample id: 10317.000047222\n",
      "Biosample ID 6366062\n",
      "Typology: not_healthy_young\n",
      "Run ID: ERR1842761\n",
      "\n",
      "File number: 29\n",
      "Sample id: 10317.000041832\n",
      "Biosample ID 6366029\n",
      "Typology: not_healthy_young\n",
      "Run ID: ERR1842728\n",
      "\n",
      "File number: 30\n",
      "Sample id: 10317.000094611\n",
      "Biosample ID 9653284\n",
      "Typology: not_healthy_young\n",
      "Run ID: ERR2696668\n",
      "\n",
      "File number: 31\n",
      "Sample id: 10317.000097473\n",
      "Biosample ID 9657747\n",
      "Typology: not_healthy_young\n",
      "Run ID: ERR2697882\n",
      "\n",
      "Number of sequences for not_healthy_old: 1330267\n"
     ]
    },
    {
     "data": {
      "application/vnd.jupyter.widget-view+json": {
       "model_id": "c61405a873e842f8b841faf7c287b112",
       "version_major": 2,
       "version_minor": 0
      },
      "text/plain": [
       "HBox(children=(FloatProgress(value=0.0, description='Compacting fasta', max=1330267.0, style=ProgressStyle(des…"
      ]
     },
     "metadata": {},
     "output_type": "display_data"
    },
    {
     "name": "stdout",
     "output_type": "stream",
     "text": [
      "\n",
      "Number of grouped sequences: 999335\n",
      "Number of taken sequences: 263\n",
      "\n",
      "Number of sequences for not_healthy_young: 425553\n"
     ]
    },
    {
     "data": {
      "application/vnd.jupyter.widget-view+json": {
       "model_id": "d32e6ca0f9b94583b28ba02b312b6b3d",
       "version_major": 2,
       "version_minor": 0
      },
      "text/plain": [
       "HBox(children=(FloatProgress(value=0.0, description='Compacting fasta', max=425553.0, style=ProgressStyle(desc…"
      ]
     },
     "metadata": {},
     "output_type": "display_data"
    },
    {
     "name": "stdout",
     "output_type": "stream",
     "text": [
      "\n",
      "Number of grouped sequences: 141336\n",
      "Number of taken sequences: 247\n",
      "\n",
      "Sample number: 1\n",
      "Sample name: 10317.000093400\n",
      "Run ID: ERR2579553\n"
     ]
    },
    {
     "data": {
      "application/vnd.jupyter.widget-view+json": {
       "model_id": "2b99715fb38749abba18750a052da2e3",
       "version_major": 2,
       "version_minor": 0
      },
      "text/plain": [
       "HBox(children=(FloatProgress(value=0.0, max=263.0), HTML(value='')))"
      ]
     },
     "metadata": {},
     "output_type": "display_data"
    },
    {
     "name": "stdout",
     "output_type": "stream",
     "text": [
      "\n",
      "Sample number: 2\n",
      "Sample name: 10317.000059040\n",
      "Run ID: ERR1842899\n"
     ]
    },
    {
     "data": {
      "application/vnd.jupyter.widget-view+json": {
       "model_id": "6354f20b0a1a4342950d0999e169b165",
       "version_major": 2,
       "version_minor": 0
      },
      "text/plain": [
       "HBox(children=(FloatProgress(value=0.0, max=263.0), HTML(value='')))"
      ]
     },
     "metadata": {},
     "output_type": "display_data"
    },
    {
     "name": "stdout",
     "output_type": "stream",
     "text": [
      "\n",
      "Sample number: 3\n",
      "Sample name: 10317.000070708\n",
      "Run ID: ERR2404950\n"
     ]
    },
    {
     "data": {
      "application/vnd.jupyter.widget-view+json": {
       "model_id": "89e4293a93c64f09b5f43457143cac08",
       "version_major": 2,
       "version_minor": 0
      },
      "text/plain": [
       "HBox(children=(FloatProgress(value=0.0, max=263.0), HTML(value='')))"
      ]
     },
     "metadata": {},
     "output_type": "display_data"
    },
    {
     "name": "stdout",
     "output_type": "stream",
     "text": [
      "\n",
      "Sample number: 4\n",
      "Sample name: 10317.000047151\n",
      "Run ID: ERR1842295\n"
     ]
    },
    {
     "data": {
      "application/vnd.jupyter.widget-view+json": {
       "model_id": "e3d431d440814279b57bae27eb5b9a0f",
       "version_major": 2,
       "version_minor": 0
      },
      "text/plain": [
       "HBox(children=(FloatProgress(value=0.0, max=263.0), HTML(value='')))"
      ]
     },
     "metadata": {},
     "output_type": "display_data"
    },
    {
     "name": "stdout",
     "output_type": "stream",
     "text": [
      "\n",
      "Sample number: 5\n",
      "Sample name: 10317.000097663\n",
      "Run ID: ERR2697902\n"
     ]
    },
    {
     "data": {
      "application/vnd.jupyter.widget-view+json": {
       "model_id": "80e879c057d540ce83bb77f7c0faccec",
       "version_major": 2,
       "version_minor": 0
      },
      "text/plain": [
       "HBox(children=(FloatProgress(value=0.0, max=263.0), HTML(value='')))"
      ]
     },
     "metadata": {},
     "output_type": "display_data"
    },
    {
     "name": "stdout",
     "output_type": "stream",
     "text": [
      "\n",
      "Sample number: 6\n",
      "Sample name: 10317.000033063\n",
      "Run ID: ERR1417508\n"
     ]
    },
    {
     "data": {
      "application/vnd.jupyter.widget-view+json": {
       "model_id": "ae01405540d448f2a52a2fe699935a1a",
       "version_major": 2,
       "version_minor": 0
      },
      "text/plain": [
       "HBox(children=(FloatProgress(value=0.0, max=263.0), HTML(value='')))"
      ]
     },
     "metadata": {},
     "output_type": "display_data"
    },
    {
     "name": "stdout",
     "output_type": "stream",
     "text": [
      "\n",
      "Sample number: 7\n",
      "Sample name: 10317.000050274\n",
      "Run ID: ERR1842802\n"
     ]
    },
    {
     "data": {
      "application/vnd.jupyter.widget-view+json": {
       "model_id": "7b3b1afee62243c697563b159a6dc39b",
       "version_major": 2,
       "version_minor": 0
      },
      "text/plain": [
       "HBox(children=(FloatProgress(value=0.0, max=263.0), HTML(value='')))"
      ]
     },
     "metadata": {},
     "output_type": "display_data"
    },
    {
     "name": "stdout",
     "output_type": "stream",
     "text": [
      "\n",
      "Sample number: 8\n",
      "Sample name: 10317.000038305\n",
      "Run ID: ERR1389836\n"
     ]
    },
    {
     "data": {
      "application/vnd.jupyter.widget-view+json": {
       "model_id": "54b3ed94c82c4f92bab8e6c00a7a4e4a",
       "version_major": 2,
       "version_minor": 0
      },
      "text/plain": [
       "HBox(children=(FloatProgress(value=0.0, max=263.0), HTML(value='')))"
      ]
     },
     "metadata": {},
     "output_type": "display_data"
    },
    {
     "name": "stdout",
     "output_type": "stream",
     "text": [
      "\n",
      "Sample number: 9\n",
      "Sample name: 10317.000076672\n",
      "Run ID: ERR2523964\n"
     ]
    },
    {
     "data": {
      "application/vnd.jupyter.widget-view+json": {
       "model_id": "597f1e2d713c49689bfff6d3190324d6",
       "version_major": 2,
       "version_minor": 0
      },
      "text/plain": [
       "HBox(children=(FloatProgress(value=0.0, max=263.0), HTML(value='')))"
      ]
     },
     "metadata": {},
     "output_type": "display_data"
    },
    {
     "name": "stdout",
     "output_type": "stream",
     "text": [
      "\n",
      "Sample number: 10\n",
      "Sample name: 10317.000092754\n",
      "Run ID: ERR2696591\n"
     ]
    },
    {
     "data": {
      "application/vnd.jupyter.widget-view+json": {
       "model_id": "6615f218789c4fe09bae2ce08cee2236",
       "version_major": 2,
       "version_minor": 0
      },
      "text/plain": [
       "HBox(children=(FloatProgress(value=0.0, max=263.0), HTML(value='')))"
      ]
     },
     "metadata": {},
     "output_type": "display_data"
    },
    {
     "name": "stdout",
     "output_type": "stream",
     "text": [
      "\n",
      "Sample number: 11\n",
      "Sample name: 10317.000060228\n",
      "Run ID: ERR2319389\n"
     ]
    },
    {
     "data": {
      "application/vnd.jupyter.widget-view+json": {
       "model_id": "3d71aab424e541c2b7b0e0331f6d8640",
       "version_major": 2,
       "version_minor": 0
      },
      "text/plain": [
       "HBox(children=(FloatProgress(value=0.0, max=263.0), HTML(value='')))"
      ]
     },
     "metadata": {},
     "output_type": "display_data"
    },
    {
     "name": "stdout",
     "output_type": "stream",
     "text": [
      "\n",
      "Sample number: 12\n",
      "Sample name: 10317.000075933\n",
      "Run ID: ERR2696475\n"
     ]
    },
    {
     "data": {
      "application/vnd.jupyter.widget-view+json": {
       "model_id": "c9cb44547ab849f1a8b5a10cbe65f339",
       "version_major": 2,
       "version_minor": 0
      },
      "text/plain": [
       "HBox(children=(FloatProgress(value=0.0, max=263.0), HTML(value='')))"
      ]
     },
     "metadata": {},
     "output_type": "display_data"
    },
    {
     "name": "stdout",
     "output_type": "stream",
     "text": [
      "\n",
      "Sample number: 13\n",
      "Sample name: 10317.000074586\n",
      "Run ID: ERR4019071\n"
     ]
    },
    {
     "data": {
      "application/vnd.jupyter.widget-view+json": {
       "model_id": "22f23fa6613c457eae87ca42a5462a9f",
       "version_major": 2,
       "version_minor": 0
      },
      "text/plain": [
       "HBox(children=(FloatProgress(value=0.0, max=263.0), HTML(value='')))"
      ]
     },
     "metadata": {},
     "output_type": "display_data"
    },
    {
     "name": "stdout",
     "output_type": "stream",
     "text": [
      "\n",
      "Sample number: 14\n",
      "Sample name: 10317.000065320\n",
      "Run ID: ERR1854752\n"
     ]
    },
    {
     "data": {
      "application/vnd.jupyter.widget-view+json": {
       "model_id": "6631f1eaa59a4461be7f824c2de563bc",
       "version_major": 2,
       "version_minor": 0
      },
      "text/plain": [
       "HBox(children=(FloatProgress(value=0.0, max=263.0), HTML(value='')))"
      ]
     },
     "metadata": {},
     "output_type": "display_data"
    },
    {
     "name": "stdout",
     "output_type": "stream",
     "text": [
      "\n",
      "Sample number: 15\n",
      "Sample name: 10317.000058971\n",
      "Run ID: ERR2696443\n"
     ]
    },
    {
     "data": {
      "application/vnd.jupyter.widget-view+json": {
       "model_id": "82ba025e5de04939b5f93e6c5fb73f17",
       "version_major": 2,
       "version_minor": 0
      },
      "text/plain": [
       "HBox(children=(FloatProgress(value=0.0, max=263.0), HTML(value='')))"
      ]
     },
     "metadata": {},
     "output_type": "display_data"
    },
    {
     "name": "stdout",
     "output_type": "stream",
     "text": [
      "\n",
      "Sample number: 16\n",
      "Sample name: 10317.000066629\n",
      "Run ID: ERR2242120\n",
      "Run ID: ERR2239395\n",
      "Run ID: ERR2057058\n"
     ]
    },
    {
     "data": {
      "application/vnd.jupyter.widget-view+json": {
       "model_id": "8af9e340d54341da965db1f1bebdfde0",
       "version_major": 2,
       "version_minor": 0
      },
      "text/plain": [
       "HBox(children=(FloatProgress(value=0.0, max=263.0), HTML(value='')))"
      ]
     },
     "metadata": {},
     "output_type": "display_data"
    },
    {
     "name": "stdout",
     "output_type": "stream",
     "text": [
      "\n",
      "Sample number: 17\n",
      "Sample name: 10317.000042631\n",
      "Run ID: ERR1597057\n"
     ]
    },
    {
     "data": {
      "application/vnd.jupyter.widget-view+json": {
       "model_id": "92c545a2fc6f48e4b418dc35618d4463",
       "version_major": 2,
       "version_minor": 0
      },
      "text/plain": [
       "HBox(children=(FloatProgress(value=0.0, max=263.0), HTML(value='')))"
      ]
     },
     "metadata": {},
     "output_type": "display_data"
    },
    {
     "name": "stdout",
     "output_type": "stream",
     "text": [
      "\n",
      "Sample number: 18\n",
      "Sample name: 10317.000069001\n",
      "Run ID: ERR2033544\n"
     ]
    },
    {
     "data": {
      "application/vnd.jupyter.widget-view+json": {
       "model_id": "a43d07a982884df9aa2efe8284abb458",
       "version_major": 2,
       "version_minor": 0
      },
      "text/plain": [
       "HBox(children=(FloatProgress(value=0.0, max=247.0), HTML(value='')))"
      ]
     },
     "metadata": {},
     "output_type": "display_data"
    },
    {
     "name": "stdout",
     "output_type": "stream",
     "text": [
      "\n",
      "Sample number: 19\n",
      "Sample name: 10317.000054289\n",
      "Run ID: ERR2319344\n"
     ]
    },
    {
     "data": {
      "application/vnd.jupyter.widget-view+json": {
       "model_id": "a651fa201fd746dcac9d61d5577d8872",
       "version_major": 2,
       "version_minor": 0
      },
      "text/plain": [
       "HBox(children=(FloatProgress(value=0.0, max=247.0), HTML(value='')))"
      ]
     },
     "metadata": {},
     "output_type": "display_data"
    },
    {
     "name": "stdout",
     "output_type": "stream",
     "text": [
      "\n",
      "Sample number: 20\n",
      "Sample name: 10317.000069002\n",
      "Run ID: ERR2314217\n"
     ]
    },
    {
     "data": {
      "application/vnd.jupyter.widget-view+json": {
       "model_id": "9aad6ae2979a42269e66cf34e18d02f8",
       "version_major": 2,
       "version_minor": 0
      },
      "text/plain": [
       "HBox(children=(FloatProgress(value=0.0, max=247.0), HTML(value='')))"
      ]
     },
     "metadata": {},
     "output_type": "display_data"
    },
    {
     "name": "stdout",
     "output_type": "stream",
     "text": [
      "\n",
      "Sample number: 21\n",
      "Sample name: 10317.000068657\n",
      "Run ID: ERR2306142\n"
     ]
    },
    {
     "data": {
      "application/vnd.jupyter.widget-view+json": {
       "model_id": "529c9e7f9708428b8f7ea4efe75bea59",
       "version_major": 2,
       "version_minor": 0
      },
      "text/plain": [
       "HBox(children=(FloatProgress(value=0.0, max=247.0), HTML(value='')))"
      ]
     },
     "metadata": {},
     "output_type": "display_data"
    },
    {
     "name": "stdout",
     "output_type": "stream",
     "text": [
      "\n",
      "Sample number: 22\n",
      "Sample name: 10317.000093103\n",
      "Run ID: ERR2696999\n"
     ]
    },
    {
     "data": {
      "application/vnd.jupyter.widget-view+json": {
       "model_id": "609bd41676f942a6875daca68703ae8e",
       "version_major": 2,
       "version_minor": 0
      },
      "text/plain": [
       "HBox(children=(FloatProgress(value=0.0, max=247.0), HTML(value='')))"
      ]
     },
     "metadata": {},
     "output_type": "display_data"
    },
    {
     "name": "stdout",
     "output_type": "stream",
     "text": [
      "\n",
      "Sample number: 23\n",
      "Sample name: 10317.000062086\n",
      "Run ID: ERR1842637\n"
     ]
    },
    {
     "data": {
      "application/vnd.jupyter.widget-view+json": {
       "model_id": "4b55a9e8492548fcb3973722657225e1",
       "version_major": 2,
       "version_minor": 0
      },
      "text/plain": [
       "HBox(children=(FloatProgress(value=0.0, max=247.0), HTML(value='')))"
      ]
     },
     "metadata": {},
     "output_type": "display_data"
    },
    {
     "name": "stdout",
     "output_type": "stream",
     "text": [
      "\n",
      "Sample number: 24\n",
      "Sample name: 10317.000059959\n",
      "Run ID: ERR2303862\n"
     ]
    },
    {
     "data": {
      "application/vnd.jupyter.widget-view+json": {
       "model_id": "3dd29e643f3844ae85b2189bfa0fc933",
       "version_major": 2,
       "version_minor": 0
      },
      "text/plain": [
       "HBox(children=(FloatProgress(value=0.0, max=247.0), HTML(value='')))"
      ]
     },
     "metadata": {},
     "output_type": "display_data"
    },
    {
     "name": "stdout",
     "output_type": "stream",
     "text": [
      "\n",
      "Sample number: 25\n",
      "Sample name: 10317.000037933\n",
      "Run ID: ERR1842199\n",
      "Run ID: ERR2056801\n"
     ]
    },
    {
     "data": {
      "application/vnd.jupyter.widget-view+json": {
       "model_id": "928b762f3d804f318be4fb159adbb80d",
       "version_major": 2,
       "version_minor": 0
      },
      "text/plain": [
       "HBox(children=(FloatProgress(value=0.0, max=247.0), HTML(value='')))"
      ]
     },
     "metadata": {},
     "output_type": "display_data"
    },
    {
     "name": "stdout",
     "output_type": "stream",
     "text": [
      "\n",
      "Sample number: 26\n",
      "Sample name: 10317.000075909\n",
      "Run ID: ERR2523933\n"
     ]
    },
    {
     "data": {
      "application/vnd.jupyter.widget-view+json": {
       "model_id": "c765fcfcc4404a3bb1b9b170785a27e9",
       "version_major": 2,
       "version_minor": 0
      },
      "text/plain": [
       "HBox(children=(FloatProgress(value=0.0, max=247.0), HTML(value='')))"
      ]
     },
     "metadata": {},
     "output_type": "display_data"
    },
    {
     "name": "stdout",
     "output_type": "stream",
     "text": [
      "\n",
      "Sample number: 27\n",
      "Sample name: 10317.000101067\n",
      "Run ID: ERR4020553\n"
     ]
    },
    {
     "data": {
      "application/vnd.jupyter.widget-view+json": {
       "model_id": "6ae88b9c91034c419b107805c3c00f95",
       "version_major": 2,
       "version_minor": 0
      },
      "text/plain": [
       "HBox(children=(FloatProgress(value=0.0, max=247.0), HTML(value='')))"
      ]
     },
     "metadata": {},
     "output_type": "display_data"
    },
    {
     "name": "stdout",
     "output_type": "stream",
     "text": [
      "\n",
      "Sample number: 28\n",
      "Sample name: 10317.000047222\n",
      "Run ID: ERR1842761\n"
     ]
    },
    {
     "data": {
      "application/vnd.jupyter.widget-view+json": {
       "model_id": "b8f3aa0ead8f43f9b9aff7dfb711d8a8",
       "version_major": 2,
       "version_minor": 0
      },
      "text/plain": [
       "HBox(children=(FloatProgress(value=0.0, max=247.0), HTML(value='')))"
      ]
     },
     "metadata": {},
     "output_type": "display_data"
    },
    {
     "name": "stdout",
     "output_type": "stream",
     "text": [
      "\n",
      "Sample number: 29\n",
      "Sample name: 10317.000041832\n",
      "Run ID: ERR1842728\n"
     ]
    },
    {
     "data": {
      "application/vnd.jupyter.widget-view+json": {
       "model_id": "8a388f5b59744b1db6f84efab3e5791b",
       "version_major": 2,
       "version_minor": 0
      },
      "text/plain": [
       "HBox(children=(FloatProgress(value=0.0, max=247.0), HTML(value='')))"
      ]
     },
     "metadata": {},
     "output_type": "display_data"
    },
    {
     "name": "stdout",
     "output_type": "stream",
     "text": [
      "\n",
      "Sample number: 30\n",
      "Sample name: 10317.000094611\n",
      "Run ID: ERR2696668\n"
     ]
    },
    {
     "data": {
      "application/vnd.jupyter.widget-view+json": {
       "model_id": "f7d8660de6d6408db7d4ce777bfe96b3",
       "version_major": 2,
       "version_minor": 0
      },
      "text/plain": [
       "HBox(children=(FloatProgress(value=0.0, max=247.0), HTML(value='')))"
      ]
     },
     "metadata": {},
     "output_type": "display_data"
    },
    {
     "name": "stdout",
     "output_type": "stream",
     "text": [
      "\n",
      "Sample number: 31\n",
      "Sample name: 10317.000097473\n",
      "Run ID: ERR2697882\n"
     ]
    },
    {
     "data": {
      "application/vnd.jupyter.widget-view+json": {
       "model_id": "a4ef3bd78d9d48bd962fb083fe16a78e",
       "version_major": 2,
       "version_minor": 0
      },
      "text/plain": [
       "HBox(children=(FloatProgress(value=0.0, max=247.0), HTML(value='')))"
      ]
     },
     "metadata": {},
     "output_type": "display_data"
    },
    {
     "name": "stdout",
     "output_type": "stream",
     "text": [
      "\n"
     ]
    }
   ],
   "source": [
    "sra_querying('not_healthy_old_vs_not_healthy_young', ['not_healthy_old', 'not_healthy_young'])"
   ]
  },
  {
   "cell_type": "markdown",
   "metadata": {},
   "source": [
    "## Quiime2"
   ]
  },
  {
   "cell_type": "code",
   "execution_count": 54,
   "metadata": {},
   "outputs": [],
   "source": [
    "artifact = quality_analysis('mental_ill_vs_food_dis', ['mental_illness', 'food_disorders'])"
   ]
  },
  {
   "cell_type": "code",
   "execution_count": 55,
   "metadata": {},
   "outputs": [
    {
     "data": {
      "text/html": [
       "<div><img onload=\"(function(div, url){\n",
       "if (typeof require !== 'undefined') {\n",
       "    var baseURL = require.toUrl('').split('/').slice(0, -2).join('/');\n",
       "} else {\n",
       "    var baseURL = JSON.parse(\n",
       "        document.getElementById('jupyter-config-data').innerHTML\n",
       "    ).baseUrl.slice(0, -1);\n",
       "}\n",
       "url = baseURL + url;\n",
       "fetch(url).then(function(res) {\n",
       "    if (res.status === 404) {\n",
       "        div.innerHTML = 'Install QIIME 2 Jupyter extension with:<br />' +\n",
       "                        '<code>jupyter serverextension enable --py qiime2' +\n",
       "                        ' --sys-prefix</code><br />then restart your server.' +\n",
       "                        '<br /><br />(Interactive output not available on ' +\n",
       "                        'static notebook viewer services like nbviewer.)';\n",
       "    } else if (res.status === 409) {\n",
       "        div.innerHTML = 'Visualization no longer in scope. Re-run this cell' +\n",
       "                        ' to see the visualization.';\n",
       "    } else if (res.ok) {\n",
       "        url = res.url;\n",
       "        div.innerHTML = '<iframe src=\\'' + url + '\\' style=\\'' +\n",
       "                        'width: 100%; height: 700px; border: 0;\\'>' +\n",
       "                        '</iframe><hr />Open in a: <a href=\\'' + url + '\\'' +\n",
       "                        ' target=\\'_blank\\'>new window</a>'\n",
       "    } else {\n",
       "        div.innerHTML = 'Something has gone wrong. Check notebook server for' +\n",
       "                        ' errors.';\n",
       "    }\n",
       "});\n",
       "})(this.parentElement, '/qiime2/redirect?location=/var/folders/8q/f5jck5j90bqf9z_lvdhp4b0r0000gn/T/qiime2-archive-2a1sa1r6')\" src=\"data:image/gif;base64,R0lGODlhAQABAIAAAP///wAAACH5BAEAAAAALAAAAAABAAEAAAICRAEAOw==\" /></div>"
      ],
      "text/plain": [
       "<visualization: Visualization uuid: 516570b2-995c-4daa-9a85-987d7e24a880>"
      ]
     },
     "execution_count": 55,
     "metadata": {},
     "output_type": "execute_result"
    }
   ],
   "source": [
    "demux_sequences = demux.visualizers.summarize(artifact)\n",
    "demux_sequences.visualization"
   ]
  },
  {
   "cell_type": "code",
   "execution_count": 56,
   "metadata": {},
   "outputs": [
    {
     "name": "stdout",
     "output_type": "stream",
     "text": [
      "Sample identificator: Sample0\n",
      "Sample name: 10317.000093022\n",
      "Typology: healthy\n",
      "Run ids: ['ERR2696639']\n",
      "\n",
      "Sample identificator: Sample1\n",
      "Sample name: 10317.000058340\n",
      "Typology: healthy\n",
      "Run ids: ['ERR1846087']\n",
      "\n",
      "Sample identificator: Sample2\n",
      "Sample name: 10317.000107254\n",
      "Typology: healthy\n",
      "Run ids: ['ERR4019307']\n",
      "\n",
      "Sample identificator: Sample3\n",
      "Sample name: 10317.000032796\n",
      "Typology: healthy\n",
      "Run ids: ['ERR2239612', 'ERR1417466']\n",
      "\n",
      "Sample identificator: Sample4\n",
      "Sample name: 10317.000046476\n",
      "Typology: healthy\n",
      "Run ids: ['ERR2032691']\n",
      "\n",
      "Sample identificator: Sample5\n",
      "Sample name: 10317.000079781\n",
      "Typology: healthy\n",
      "Run ids: ['ERR2304091']\n",
      "\n",
      "Sample identificator: Sample6\n",
      "Sample name: 10317.000040396\n",
      "Typology: healthy\n",
      "Run ids: ['ERR1841615', 'ERR1843602']\n",
      "\n",
      "Sample identificator: Sample7\n",
      "Sample name: 10317.000069615\n",
      "Typology: healthy\n",
      "Run ids: ['ERR2319529']\n",
      "\n",
      "Sample identificator: Sample8\n",
      "Sample name: 10317.000050243\n",
      "Typology: healthy\n",
      "Run ids: ['ERR1841757', 'ERR1843760']\n",
      "\n",
      "Sample identificator: Sample9\n",
      "Sample name: 10317.000092617\n",
      "Typology: healthy\n",
      "Run ids: ['ERR2696987']\n",
      "\n",
      "Sample identificator: Sample10\n",
      "Sample name: 10317.000043083\n",
      "Typology: healthy\n",
      "Run ids: ['ERR1389989']\n",
      "\n",
      "Sample identificator: Sample11\n",
      "Sample name: 10317.000058882\n",
      "Typology: healthy\n",
      "Run ids: ['ERR2318042']\n",
      "\n",
      "Sample identificator: Sample12\n",
      "Sample name: 10317.000039907\n",
      "Typology: healthy\n",
      "Run ids: ['ERR1316071']\n",
      "\n",
      "Sample identificator: Sample13\n",
      "Sample name: 10317.000029546\n",
      "Typology: healthy\n",
      "Run ids: ['ERR1417421']\n",
      "\n",
      "Sample identificator: Sample14\n",
      "Sample name: 10317.000068197\n",
      "Typology: healthy\n",
      "Run ids: ['ERR2319486']\n",
      "\n",
      "Sample identificator: Sample15\n",
      "Sample name: 10317.000072168\n",
      "Typology: healthy\n",
      "Run ids: ['ERR2579904']\n",
      "\n",
      "Sample identificator: Sample16\n",
      "Sample name: 10317.000072038\n",
      "Typology: healthy\n",
      "Run ids: ['ERR2523900']\n",
      "\n",
      "Sample identificator: Sample17\n",
      "Sample name: 10317.000065690\n",
      "Typology: healthy\n",
      "Run ids: ['ERR2032849']\n",
      "\n",
      "Sample identificator: Sample18\n",
      "Sample name: 10317.000067863\n",
      "Typology: healthy\n",
      "Run ids: ['ERR2032373']\n",
      "\n",
      "Sample identificator: Sample19\n",
      "Sample name: 10317.000046475\n",
      "Typology: healthy\n",
      "Run ids: ['ERR2032690']\n",
      "\n",
      "Sample identificator: Sample20\n",
      "Sample name: 10317.000058379\n",
      "Typology: healthy\n",
      "Run ids: ['ERR1846096']\n",
      "\n",
      "Sample identificator: Sample21\n",
      "Sample name: 10317.000068199\n",
      "Typology: healthy\n",
      "Run ids: ['ERR2033474']\n",
      "\n",
      "Sample identificator: Sample22\n",
      "Sample name: 10317.000087274\n",
      "Typology: healthy\n",
      "Run ids: ['ERR2579440']\n",
      "\n",
      "Sample identificator: Sample23\n",
      "Sample name: 10317.000074433\n",
      "Typology: healthy\n",
      "Run ids: ['ERR2580084']\n",
      "\n",
      "Sample identificator: Sample24\n",
      "Sample name: 10317.000041681\n",
      "Typology: healthy\n",
      "Run ids: ['ERR1458999']\n",
      "\n",
      "Sample identificator: Sample25\n",
      "Sample name: 10317.000097633\n",
      "Typology: healthy\n",
      "Run ids: ['ERR2697896']\n",
      "\n",
      "Sample identificator: Sample26\n",
      "Sample name: 10317.000100377\n",
      "Typology: healthy\n",
      "Run ids: ['ERR2696765']\n",
      "\n",
      "Sample identificator: Sample27\n",
      "Sample name: 10317.000097102\n",
      "Typology: healthy\n",
      "Run ids: ['ERR2697076']\n",
      "\n",
      "Sample identificator: Sample28\n",
      "Sample name: 10317.000065672\n",
      "Typology: healthy\n",
      "Run ids: ['ERR2032836']\n",
      "\n",
      "Sample identificator: Sample29\n",
      "Sample name: 10317.000058955\n",
      "Typology: healthy\n",
      "Run ids: ['ERR1854738']\n",
      "\n",
      "Sample identificator: Sample30\n",
      "Sample name: 10317.000054208\n",
      "Typology: not_healthy\n",
      "Run ids: ['ERR1842587']\n",
      "\n",
      "Sample identificator: Sample31\n",
      "Sample name: 10317.000070659\n",
      "Typology: not_healthy\n",
      "Run ids: ['ERR2318188']\n",
      "\n",
      "Sample identificator: Sample32\n",
      "Sample name: 10317.000050274\n",
      "Typology: not_healthy\n",
      "Run ids: ['ERR1842802']\n",
      "\n",
      "Sample identificator: Sample33\n",
      "Sample name: 10317.000042630\n",
      "Typology: not_healthy\n",
      "Run ids: ['ERR1597056']\n",
      "\n",
      "Sample identificator: Sample34\n",
      "Sample name: 10317.000093103\n",
      "Typology: not_healthy\n",
      "Run ids: ['ERR2696999']\n",
      "\n",
      "Sample identificator: Sample35\n",
      "Sample name: 10317.000059040\n",
      "Typology: not_healthy\n",
      "Run ids: ['ERR1842899']\n",
      "\n",
      "Sample identificator: Sample36\n",
      "Sample name: 10317.000068175\n",
      "Typology: not_healthy\n",
      "Run ids: ['ERR2033470']\n",
      "\n",
      "Sample identificator: Sample37\n",
      "Sample name: 10317.000047222\n",
      "Typology: not_healthy\n",
      "Run ids: ['ERR1842761']\n",
      "\n",
      "Sample identificator: Sample38\n",
      "Sample name: 10317.000093400\n",
      "Typology: not_healthy\n",
      "Run ids: ['ERR2579553']\n",
      "\n",
      "Sample identificator: Sample39\n",
      "Sample name: 10317.000075909\n",
      "Typology: not_healthy\n",
      "Run ids: ['ERR2523933']\n",
      "\n",
      "Sample identificator: Sample40\n",
      "Sample name: 10317.000037933\n",
      "Typology: not_healthy\n",
      "Run ids: ['ERR1842199', 'ERR2056801']\n",
      "\n",
      "Sample identificator: Sample41\n",
      "Sample name: 10317.000038160\n",
      "Typology: not_healthy\n",
      "Run ids: ['ERR2313969']\n",
      "\n",
      "Sample identificator: Sample42\n",
      "Sample name: 10317.000058971\n",
      "Typology: not_healthy\n",
      "Run ids: ['ERR2696443']\n",
      "\n",
      "Sample identificator: Sample43\n",
      "Sample name: 10317.000105372\n",
      "Typology: not_healthy\n",
      "Run ids: ['ERR4019280']\n",
      "\n",
      "Sample identificator: Sample44\n",
      "Sample name: 10317.000047151\n",
      "Typology: not_healthy\n",
      "Run ids: ['ERR1842295']\n",
      "\n",
      "Sample identificator: Sample45\n",
      "Sample name: 10317.000070708\n",
      "Typology: not_healthy\n",
      "Run ids: ['ERR2404950']\n",
      "\n",
      "Sample identificator: Sample46\n",
      "Sample name: 10317.000107269\n",
      "Typology: not_healthy\n",
      "Run ids: ['ERR4019312']\n",
      "\n",
      "Sample identificator: Sample47\n",
      "Sample name: 10317.000068174\n",
      "Typology: not_healthy\n",
      "Run ids: ['ERR2033469']\n",
      "\n",
      "Sample identificator: Sample48\n",
      "Sample name: 10317.000041832\n",
      "Typology: not_healthy\n",
      "Run ids: ['ERR1842728']\n",
      "\n",
      "Sample identificator: Sample49\n",
      "Sample name: 10317.000065320\n",
      "Typology: not_healthy\n",
      "Run ids: ['ERR1854752']\n",
      "\n",
      "Sample identificator: Sample50\n",
      "Sample name: 10317.000047463\n",
      "Typology: not_healthy\n",
      "Run ids: ['ERR2032698']\n",
      "\n",
      "Sample identificator: Sample51\n",
      "Sample name: 10317.000093404\n",
      "Typology: not_healthy\n",
      "Run ids: ['ERR2579554']\n",
      "\n",
      "Sample identificator: Sample52\n",
      "Sample name: 10317.000060228\n",
      "Typology: not_healthy\n",
      "Run ids: ['ERR2319389']\n",
      "\n",
      "Sample identificator: Sample53\n",
      "Sample name: 10317.000069197\n",
      "Typology: not_healthy\n",
      "Run ids: ['ERR4018975']\n",
      "\n",
      "Sample identificator: Sample54\n",
      "Sample name: 10317.000068657\n",
      "Typology: not_healthy\n",
      "Run ids: ['ERR2306142']\n",
      "\n",
      "Sample identificator: Sample55\n",
      "Sample name: 10317.000105371\n",
      "Typology: not_healthy\n",
      "Run ids: ['ERR4019279']\n",
      "\n",
      "Sample identificator: Sample56\n",
      "Sample name: 10317.000075933\n",
      "Typology: not_healthy\n",
      "Run ids: ['ERR2696475']\n",
      "\n",
      "Sample identificator: Sample57\n",
      "Sample name: 10317.000062086\n",
      "Typology: not_healthy\n",
      "Run ids: ['ERR1842637']\n",
      "\n",
      "Sample identificator: Sample58\n",
      "Sample name: 10317.000101067\n",
      "Typology: not_healthy\n",
      "Run ids: ['ERR4020553']\n",
      "\n",
      "Sample identificator: Sample59\n",
      "Sample name: 10317.000038305\n",
      "Typology: not_healthy\n",
      "Run ids: ['ERR1389836']\n",
      "\n"
     ]
    }
   ],
   "source": [
    "artifact = quality_analysis('healthy_vs_not_healthy', ['healthy', 'not_healthy'])"
   ]
  },
  {
   "cell_type": "code",
   "execution_count": 57,
   "metadata": {},
   "outputs": [
    {
     "data": {
      "text/html": [
       "<div><img onload=\"(function(div, url){\n",
       "if (typeof require !== 'undefined') {\n",
       "    var baseURL = require.toUrl('').split('/').slice(0, -2).join('/');\n",
       "} else {\n",
       "    var baseURL = JSON.parse(\n",
       "        document.getElementById('jupyter-config-data').innerHTML\n",
       "    ).baseUrl.slice(0, -1);\n",
       "}\n",
       "url = baseURL + url;\n",
       "fetch(url).then(function(res) {\n",
       "    if (res.status === 404) {\n",
       "        div.innerHTML = 'Install QIIME 2 Jupyter extension with:<br />' +\n",
       "                        '<code>jupyter serverextension enable --py qiime2' +\n",
       "                        ' --sys-prefix</code><br />then restart your server.' +\n",
       "                        '<br /><br />(Interactive output not available on ' +\n",
       "                        'static notebook viewer services like nbviewer.)';\n",
       "    } else if (res.status === 409) {\n",
       "        div.innerHTML = 'Visualization no longer in scope. Re-run this cell' +\n",
       "                        ' to see the visualization.';\n",
       "    } else if (res.ok) {\n",
       "        url = res.url;\n",
       "        div.innerHTML = '<iframe src=\\'' + url + '\\' style=\\'' +\n",
       "                        'width: 100%; height: 700px; border: 0;\\'>' +\n",
       "                        '</iframe><hr />Open in a: <a href=\\'' + url + '\\'' +\n",
       "                        ' target=\\'_blank\\'>new window</a>'\n",
       "    } else {\n",
       "        div.innerHTML = 'Something has gone wrong. Check notebook server for' +\n",
       "                        ' errors.';\n",
       "    }\n",
       "});\n",
       "})(this.parentElement, '/qiime2/redirect?location=/var/folders/8q/f5jck5j90bqf9z_lvdhp4b0r0000gn/T/qiime2-archive-6kkpgeqr')\" src=\"data:image/gif;base64,R0lGODlhAQABAIAAAP///wAAACH5BAEAAAAALAAAAAABAAEAAAICRAEAOw==\" /></div>"
      ],
      "text/plain": [
       "<visualization: Visualization uuid: 5b8ff907-42d1-4a4f-955d-f406489ed321>"
      ]
     },
     "execution_count": 57,
     "metadata": {},
     "output_type": "execute_result"
    }
   ],
   "source": [
    "demux_sequences = demux.visualizers.summarize(artifact)\n",
    "demux_sequences.visualization"
   ]
  },
  {
   "cell_type": "code",
   "execution_count": 98,
   "metadata": {},
   "outputs": [
    {
     "name": "stdout",
     "output_type": "stream",
     "text": [
      "Sample identificator: Sample0\n",
      "Sample name: 10317.000093400\n",
      "Typology: not_healthy_old\n",
      "Run ids: ['ERR2579553']\n",
      "\n",
      "Sample identificator: Sample1\n",
      "Sample name: 10317.000059040\n",
      "Typology: not_healthy_old\n",
      "Run ids: ['ERR1842899']\n",
      "\n",
      "Sample identificator: Sample2\n",
      "Sample name: 10317.000070708\n",
      "Typology: not_healthy_old\n",
      "Run ids: ['ERR2404950']\n",
      "\n",
      "Sample identificator: Sample3\n",
      "Sample name: 10317.000047151\n",
      "Typology: not_healthy_old\n",
      "Run ids: ['ERR1842295']\n",
      "\n",
      "Sample identificator: Sample4\n",
      "Sample name: 10317.000097663\n",
      "Typology: not_healthy_old\n",
      "Run ids: ['ERR2697902']\n",
      "\n",
      "Sample identificator: Sample5\n",
      "Sample name: 10317.000033063\n",
      "Typology: not_healthy_old\n",
      "Run ids: ['ERR1417508']\n",
      "\n",
      "Sample identificator: Sample6\n",
      "Sample name: 10317.000050274\n",
      "Typology: not_healthy_old\n",
      "Run ids: ['ERR1842802']\n",
      "\n",
      "Sample identificator: Sample7\n",
      "Sample name: 10317.000038305\n",
      "Typology: not_healthy_old\n",
      "Run ids: ['ERR1389836']\n",
      "\n",
      "Sample identificator: Sample8\n",
      "Sample name: 10317.000076672\n",
      "Typology: not_healthy_old\n",
      "Run ids: ['ERR2523964']\n",
      "\n",
      "Sample identificator: Sample9\n",
      "Sample name: 10317.000092754\n",
      "Typology: not_healthy_old\n",
      "Run ids: ['ERR2696591']\n",
      "\n",
      "Sample identificator: Sample10\n",
      "Sample name: 10317.000060228\n",
      "Typology: not_healthy_old\n",
      "Run ids: ['ERR2319389']\n",
      "\n",
      "Sample identificator: Sample11\n",
      "Sample name: 10317.000075933\n",
      "Typology: not_healthy_old\n",
      "Run ids: ['ERR2696475']\n",
      "\n",
      "Sample identificator: Sample12\n",
      "Sample name: 10317.000074586\n",
      "Typology: not_healthy_old\n",
      "Run ids: ['ERR4019071']\n",
      "\n",
      "Sample identificator: Sample13\n",
      "Sample name: 10317.000065320\n",
      "Typology: not_healthy_old\n",
      "Run ids: ['ERR1854752']\n",
      "\n",
      "Sample identificator: Sample14\n",
      "Sample name: 10317.000058971\n",
      "Typology: not_healthy_old\n",
      "Run ids: ['ERR2696443']\n",
      "\n",
      "Sample identificator: Sample15\n",
      "Sample name: 10317.000066629\n",
      "Typology: not_healthy_old\n",
      "Run ids: ['ERR2242120', 'ERR2239395', 'ERR2057058']\n",
      "\n",
      "Sample identificator: Sample16\n",
      "Sample name: 10317.000042631\n",
      "Typology: not_healthy_old\n",
      "Run ids: ['ERR1597057']\n",
      "\n",
      "Sample identificator: Sample17\n",
      "Sample name: 10317.000069001\n",
      "Typology: not_healthy_young\n",
      "Run ids: ['ERR2033544']\n",
      "\n",
      "Sample identificator: Sample18\n",
      "Sample name: 10317.000054289\n",
      "Typology: not_healthy_young\n",
      "Run ids: ['ERR2319344']\n",
      "\n",
      "Sample identificator: Sample19\n",
      "Sample name: 10317.000069002\n",
      "Typology: not_healthy_young\n",
      "Run ids: ['ERR2314217']\n",
      "\n",
      "Sample identificator: Sample20\n",
      "Sample name: 10317.000068657\n",
      "Typology: not_healthy_young\n",
      "Run ids: ['ERR2306142']\n",
      "\n",
      "Sample identificator: Sample21\n",
      "Sample name: 10317.000093103\n",
      "Typology: not_healthy_young\n",
      "Run ids: ['ERR2696999']\n",
      "\n",
      "Sample identificator: Sample22\n",
      "Sample name: 10317.000062086\n",
      "Typology: not_healthy_young\n",
      "Run ids: ['ERR1842637']\n",
      "\n",
      "Sample identificator: Sample23\n",
      "Sample name: 10317.000059959\n",
      "Typology: not_healthy_young\n",
      "Run ids: ['ERR2303862']\n",
      "\n",
      "Sample identificator: Sample24\n",
      "Sample name: 10317.000037933\n",
      "Typology: not_healthy_young\n",
      "Run ids: ['ERR1842199', 'ERR2056801']\n",
      "\n",
      "Sample identificator: Sample25\n",
      "Sample name: 10317.000075909\n",
      "Typology: not_healthy_young\n",
      "Run ids: ['ERR2523933']\n",
      "\n",
      "Sample identificator: Sample26\n",
      "Sample name: 10317.000101067\n",
      "Typology: not_healthy_young\n",
      "Run ids: ['ERR4020553']\n",
      "\n",
      "Sample identificator: Sample27\n",
      "Sample name: 10317.000047222\n",
      "Typology: not_healthy_young\n",
      "Run ids: ['ERR1842761']\n",
      "\n",
      "Sample identificator: Sample28\n",
      "Sample name: 10317.000041832\n",
      "Typology: not_healthy_young\n",
      "Run ids: ['ERR1842728']\n",
      "\n",
      "Sample identificator: Sample29\n",
      "Sample name: 10317.000094611\n",
      "Typology: not_healthy_young\n",
      "Run ids: ['ERR2696668']\n",
      "\n",
      "Sample identificator: Sample30\n",
      "Sample name: 10317.000097473\n",
      "Typology: not_healthy_young\n",
      "Run ids: ['ERR2697882']\n",
      "\n"
     ]
    }
   ],
   "source": [
    "artifact = quality_analysis('not_healthy_old_vs_not_healthy_young', ['not_healthy_old', 'not_healthy_young'])"
   ]
  },
  {
   "cell_type": "code",
   "execution_count": 99,
   "metadata": {},
   "outputs": [
    {
     "data": {
      "text/html": [
       "<div><img onload=\"(function(div, url){\n",
       "if (typeof require !== 'undefined') {\n",
       "    var baseURL = require.toUrl('').split('/').slice(0, -2).join('/');\n",
       "} else {\n",
       "    var baseURL = JSON.parse(\n",
       "        document.getElementById('jupyter-config-data').innerHTML\n",
       "    ).baseUrl.slice(0, -1);\n",
       "}\n",
       "url = baseURL + url;\n",
       "fetch(url).then(function(res) {\n",
       "    if (res.status === 404) {\n",
       "        div.innerHTML = 'Install QIIME 2 Jupyter extension with:<br />' +\n",
       "                        '<code>jupyter serverextension enable --py qiime2' +\n",
       "                        ' --sys-prefix</code><br />then restart your server.' +\n",
       "                        '<br /><br />(Interactive output not available on ' +\n",
       "                        'static notebook viewer services like nbviewer.)';\n",
       "    } else if (res.status === 409) {\n",
       "        div.innerHTML = 'Visualization no longer in scope. Re-run this cell' +\n",
       "                        ' to see the visualization.';\n",
       "    } else if (res.ok) {\n",
       "        url = res.url;\n",
       "        div.innerHTML = '<iframe src=\\'' + url + '\\' style=\\'' +\n",
       "                        'width: 100%; height: 700px; border: 0;\\'>' +\n",
       "                        '</iframe><hr />Open in a: <a href=\\'' + url + '\\'' +\n",
       "                        ' target=\\'_blank\\'>new window</a>'\n",
       "    } else {\n",
       "        div.innerHTML = 'Something has gone wrong. Check notebook server for' +\n",
       "                        ' errors.';\n",
       "    }\n",
       "});\n",
       "})(this.parentElement, '/qiime2/redirect?location=/var/folders/8q/f5jck5j90bqf9z_lvdhp4b0r0000gn/T/qiime2-archive-m3ff7wdc')\" src=\"data:image/gif;base64,R0lGODlhAQABAIAAAP///wAAACH5BAEAAAAALAAAAAABAAEAAAICRAEAOw==\" /></div>"
      ],
      "text/plain": [
       "<visualization: Visualization uuid: b8f41c47-2048-4831-8dd4-4ccd093f773f>"
      ]
     },
     "execution_count": 99,
     "metadata": {},
     "output_type": "execute_result"
    }
   ],
   "source": [
    "demux_sequences = demux.visualizers.summarize(artifact)\n",
    "demux_sequences.visualization"
   ]
  },
  {
   "cell_type": "code",
   "execution_count": null,
   "metadata": {},
   "outputs": [],
   "source": []
  }
 ],
 "metadata": {
  "kernelspec": {
   "display_name": "final_project_bio",
   "language": "python",
   "name": "final_project_bio"
  },
  "language_info": {
   "codemirror_mode": {
    "name": "ipython",
    "version": 3
   },
   "file_extension": ".py",
   "mimetype": "text/x-python",
   "name": "python",
   "nbconvert_exporter": "python",
   "pygments_lexer": "ipython3",
   "version": "3.6.7"
  }
 },
 "nbformat": 4,
 "nbformat_minor": 4
}
